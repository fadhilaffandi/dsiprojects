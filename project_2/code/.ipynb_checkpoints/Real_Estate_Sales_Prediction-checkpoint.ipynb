{
 "cells": [
  {
   "cell_type": "code",
   "execution_count": 1,
   "metadata": {},
   "outputs": [],
   "source": [
    "#import all necessary Libraries\n",
    "import numpy as np\n",
    "import pandas as pd\n",
    "import seaborn as sns\n",
    "import matplotlib.pyplot as plt\n",
    "from scipy import stats\n",
    "\n",
    "from sklearn.preprocessing import StandardScaler, PolynomialFeatures, LabelEncoder\n",
    "from sklearn.model_selection import train_test_split, cross_val_score\n",
    "from sklearn.linear_model import LinearRegression, Ridge, RidgeCV, Lasso, LassoCV\n",
    "from sklearn.metrics import mean_squared_error, r2_score\n",
    "\n",
    "%matplotlib inline"
   ]
  },
  {
   "cell_type": "markdown",
   "metadata": {},
   "source": [
    "# Data import and cleaning"
   ]
  },
  {
   "cell_type": "code",
   "execution_count": 2,
   "metadata": {},
   "outputs": [],
   "source": [
    "#reading out test data\n",
    "pd.set_option('display.max_rows', None)\n",
    "pd.set_option('display.max_columns', None)\n",
    "df_test = pd.read_csv('../datasets/test.csv', keep_default_na=False)\n",
    "df_train = pd.read_csv('../datasets/train.csv', keep_default_na=False)"
   ]
  },
  {
   "cell_type": "markdown",
   "metadata": {},
   "source": [
    "## Train data cleaning"
   ]
  },
  {
   "cell_type": "code",
   "execution_count": 3,
   "metadata": {},
   "outputs": [],
   "source": [
    "#replacing '' and 'None' with None\n",
    "df_train = df_train.replace({'':None, 'None':None})"
   ]
  },
  {
   "cell_type": "code",
   "execution_count": 4,
   "metadata": {},
   "outputs": [
    {
     "data": {
      "text/plain": [
       "Id                0\n",
       "PID               0\n",
       "MS SubClass       0\n",
       "MS Zoning         0\n",
       "Lot Frontage    330\n",
       "dtype: int64"
      ]
     },
     "execution_count": 4,
     "metadata": {},
     "output_type": "execute_result"
    }
   ],
   "source": [
    "df_train.isnull().sum().head()"
   ]
  },
  {
   "cell_type": "code",
   "execution_count": 5,
   "metadata": {},
   "outputs": [],
   "source": [
    "#converting supposed numeric from object to numeric for those with nulls we want to focus on\n",
    "obj_to_num= ['Lot Frontage',   #list of objects that should be int\n",
    "            'Mas Vnr Area',\n",
    "            'BsmtFin SF 1',\n",
    "            'BsmtFin SF 2',\n",
    "            'Bsmt Unf SF',\n",
    "            'Total Bsmt SF',\n",
    "            'Bsmt Full Bath',\n",
    "            'Bsmt Half Bath',\n",
    "            'Garage Yr Blt',\n",
    "            'Garage Area',\n",
    "            'Garage Cars']\n",
    "\n",
    "df_train['Lot Frontage'] = pd.to_numeric(df_train['Lot Frontage'], errors='ignore')\n",
    "df_train['Mas Vnr Area'] = pd.to_numeric(df_train['Mas Vnr Area'], errors='ignore')\n",
    "df_train['Garage Yr Blt'] = pd.to_numeric(df_train['Garage Yr Blt'], errors='ignore')"
   ]
  },
  {
   "cell_type": "code",
   "execution_count": 6,
   "metadata": {},
   "outputs": [],
   "source": [
    "df_train['Central Air'] = (df_train['Central Air']== 'Y')*1 #masking and convert to binary"
   ]
  },
  {
   "cell_type": "code",
   "execution_count": 7,
   "metadata": {},
   "outputs": [
    {
     "data": {
      "text/plain": [
       "(2051, 81)"
      ]
     },
     "execution_count": 7,
     "metadata": {},
     "output_type": "execute_result"
    }
   ],
   "source": [
    "df_train.shape"
   ]
  },
  {
   "cell_type": "code",
   "execution_count": 8,
   "metadata": {},
   "outputs": [
    {
     "data": {
      "text/plain": [
       "Index(['Id', 'PID', 'MS SubClass', 'MS Zoning', 'Lot Frontage', 'Lot Area',\n",
       "       'Street', 'Alley', 'Lot Shape', 'Land Contour', 'Utilities',\n",
       "       'Lot Config', 'Land Slope', 'Neighborhood', 'Condition 1',\n",
       "       'Condition 2', 'Bldg Type', 'House Style', 'Overall Qual',\n",
       "       'Overall Cond', 'Year Built', 'Year Remod/Add', 'Roof Style',\n",
       "       'Roof Matl', 'Exterior 1st', 'Exterior 2nd', 'Mas Vnr Type',\n",
       "       'Mas Vnr Area', 'Exter Qual', 'Exter Cond', 'Foundation', 'Bsmt Qual',\n",
       "       'Bsmt Cond', 'Bsmt Exposure', 'BsmtFin Type 1', 'BsmtFin SF 1',\n",
       "       'BsmtFin Type 2', 'BsmtFin SF 2', 'Bsmt Unf SF', 'Total Bsmt SF',\n",
       "       'Heating', 'Heating QC', 'Central Air', 'Electrical', '1st Flr SF',\n",
       "       '2nd Flr SF', 'Low Qual Fin SF', 'Gr Liv Area', 'Bsmt Full Bath',\n",
       "       'Bsmt Half Bath', 'Full Bath', 'Half Bath', 'Bedroom AbvGr',\n",
       "       'Kitchen AbvGr', 'Kitchen Qual', 'TotRms AbvGrd', 'Functional',\n",
       "       'Fireplaces', 'Fireplace Qu', 'Garage Type', 'Garage Yr Blt',\n",
       "       'Garage Finish', 'Garage Cars', 'Garage Area', 'Garage Qual',\n",
       "       'Garage Cond', 'Paved Drive', 'Wood Deck SF', 'Open Porch SF',\n",
       "       'Enclosed Porch', '3Ssn Porch', 'Screen Porch', 'Pool Area', 'Pool QC',\n",
       "       'Fence', 'Misc Feature', 'Misc Val', 'Mo Sold', 'Yr Sold', 'Sale Type',\n",
       "       'SalePrice'],\n",
       "      dtype='object')"
      ]
     },
     "execution_count": 8,
     "metadata": {},
     "output_type": "execute_result"
    }
   ],
   "source": [
    "df_train.columns"
   ]
  },
  {
   "cell_type": "code",
   "execution_count": 9,
   "metadata": {},
   "outputs": [
    {
     "data": {
      "text/plain": [
       "Id                0\n",
       "PID               0\n",
       "MS SubClass       0\n",
       "MS Zoning         0\n",
       "Lot Frontage    330\n",
       "dtype: int64"
      ]
     },
     "execution_count": 9,
     "metadata": {},
     "output_type": "execute_result"
    }
   ],
   "source": [
    "df_train.isnull().sum().head()"
   ]
  },
  {
   "cell_type": "markdown",
   "metadata": {},
   "source": [
    "### Null valued columns\n",
    "Lot Frontage(int) = *16.09%*  \n",
    "Mas Vnr Tpe(obj) = *60.45%*  - **can be dropped**   \n",
    "Mas Vnr Area(int) = *1.07%*  \n",
    "Garage Yr Blt(obj) = *5.55%*  \n",
    "Garage Finish(obj) = 1  \n",
    "Garage Cars(obj) = 1  \n",
    "Garage Area(float) = 1  \n",
    "Garage Qual(obj) = 1  \n",
    "Garage Cond(obj) = 1  \n",
    "Bsmt Full Bath(float) = 2  \n",
    "Bsmt Half Bath(float) = 2  \n",
    "Bsmt Qual(obj) = 1  \n",
    "Bsmt Cond(obj) = 1  \n",
    "Bsmt Exposure(obj) = 4  \n",
    "BsmtFin Type 1(obj) = 1  \n",
    "BsmtFin SF 1(float) = 1  \n",
    "BsmtFin Type 2(obj) = 2  \n",
    "BsmtFin SF 2(float) = 1  \n",
    "Bsmt Unf SF(float) = 1  \n",
    "Total Bsmt SF(float) = 1  "
   ]
  },
  {
   "cell_type": "code",
   "execution_count": 10,
   "metadata": {},
   "outputs": [],
   "source": [
    "#drop the Mas Vnr Type column\n",
    "df_train.drop(columns='Mas Vnr Type', inplace=True)"
   ]
  },
  {
   "cell_type": "code",
   "execution_count": 11,
   "metadata": {},
   "outputs": [],
   "source": [
    "#replace Garage Yr Blt Null values with the mean\n",
    "df_train['Garage Yr Blt'] = df_train['Garage Yr Blt'].replace({None:df_train['Garage Yr Blt'].mean()})"
   ]
  },
  {
   "cell_type": "code",
   "execution_count": 12,
   "metadata": {},
   "outputs": [],
   "source": [
    "#replacing Lot Frontage Null values with the mean\n",
    "df_train['Lot Frontage'] = df_train['Lot Frontage'].replace({None:df_train['Lot Frontage'].mean()})"
   ]
  },
  {
   "cell_type": "code",
   "execution_count": 13,
   "metadata": {},
   "outputs": [],
   "source": [
    "#replace Mas Vnr Area Null values with the mean\n",
    "df_train['Mas Vnr Area'] = df_train['Mas Vnr Area'].replace({None:df_train['Mas Vnr Area'].mean()})"
   ]
  },
  {
   "cell_type": "code",
   "execution_count": 14,
   "metadata": {},
   "outputs": [],
   "source": [
    "# the rest with single digit null values are relatively negligible due to the scale of the data and as such shall just be dropped\n",
    "df_train.dropna(inplace=True)"
   ]
  },
  {
   "cell_type": "code",
   "execution_count": 15,
   "metadata": {},
   "outputs": [],
   "source": [
    "#converting the floats and obj to int, we dont want decimals\n",
    "def convert_int(x):\n",
    "    for i in x:\n",
    "        df_train[x] = df_train[x].astype(int)\n",
    "convert_int(obj_to_num)"
   ]
  },
  {
   "cell_type": "code",
   "execution_count": 16,
   "metadata": {},
   "outputs": [
    {
     "data": {
      "text/plain": [
       "Id               int64\n",
       "PID              int64\n",
       "MS SubClass      int64\n",
       "MS Zoning       object\n",
       "Lot Frontage     int32\n",
       "dtype: object"
      ]
     },
     "execution_count": 16,
     "metadata": {},
     "output_type": "execute_result"
    }
   ],
   "source": [
    "df_train.dtypes.head()"
   ]
  },
  {
   "cell_type": "code",
   "execution_count": 17,
   "metadata": {},
   "outputs": [
    {
     "data": {
      "text/plain": [
       "(2044, 80)"
      ]
     },
     "execution_count": 17,
     "metadata": {},
     "output_type": "execute_result"
    }
   ],
   "source": [
    "df_train.shape"
   ]
  },
  {
   "cell_type": "markdown",
   "metadata": {},
   "source": [
    "## Test data cleaning"
   ]
  },
  {
   "cell_type": "code",
   "execution_count": 18,
   "metadata": {},
   "outputs": [
    {
     "data": {
      "text/plain": [
       "(879, 80)"
      ]
     },
     "execution_count": 18,
     "metadata": {},
     "output_type": "execute_result"
    }
   ],
   "source": [
    "df_test.shape"
   ]
  },
  {
   "cell_type": "code",
   "execution_count": 19,
   "metadata": {},
   "outputs": [
    {
     "data": {
      "text/plain": [
       "Index(['Id', 'PID', 'MS SubClass', 'MS Zoning', 'Lot Frontage', 'Lot Area',\n",
       "       'Street', 'Alley', 'Lot Shape', 'Land Contour', 'Utilities',\n",
       "       'Lot Config', 'Land Slope', 'Neighborhood', 'Condition 1',\n",
       "       'Condition 2', 'Bldg Type', 'House Style', 'Overall Qual',\n",
       "       'Overall Cond', 'Year Built', 'Year Remod/Add', 'Roof Style',\n",
       "       'Roof Matl', 'Exterior 1st', 'Exterior 2nd', 'Mas Vnr Type',\n",
       "       'Mas Vnr Area', 'Exter Qual', 'Exter Cond', 'Foundation', 'Bsmt Qual',\n",
       "       'Bsmt Cond', 'Bsmt Exposure', 'BsmtFin Type 1', 'BsmtFin SF 1',\n",
       "       'BsmtFin Type 2', 'BsmtFin SF 2', 'Bsmt Unf SF', 'Total Bsmt SF',\n",
       "       'Heating', 'Heating QC', 'Central Air', 'Electrical', '1st Flr SF',\n",
       "       '2nd Flr SF', 'Low Qual Fin SF', 'Gr Liv Area', 'Bsmt Full Bath',\n",
       "       'Bsmt Half Bath', 'Full Bath', 'Half Bath', 'Bedroom AbvGr',\n",
       "       'Kitchen AbvGr', 'Kitchen Qual', 'TotRms AbvGrd', 'Functional',\n",
       "       'Fireplaces', 'Fireplace Qu', 'Garage Type', 'Garage Yr Blt',\n",
       "       'Garage Finish', 'Garage Cars', 'Garage Area', 'Garage Qual',\n",
       "       'Garage Cond', 'Paved Drive', 'Wood Deck SF', 'Open Porch SF',\n",
       "       'Enclosed Porch', '3Ssn Porch', 'Screen Porch', 'Pool Area', 'Pool QC',\n",
       "       'Fence', 'Misc Feature', 'Misc Val', 'Mo Sold', 'Yr Sold', 'Sale Type'],\n",
       "      dtype='object')"
      ]
     },
     "execution_count": 19,
     "metadata": {},
     "output_type": "execute_result"
    }
   ],
   "source": [
    "df_test.columns"
   ]
  },
  {
   "cell_type": "code",
   "execution_count": 20,
   "metadata": {},
   "outputs": [],
   "source": [
    "#replacing '' and 'None' with None\n",
    "df_test = df_test.replace({'':None, 'None':None})"
   ]
  },
  {
   "cell_type": "code",
   "execution_count": 21,
   "metadata": {},
   "outputs": [],
   "source": [
    "#changed type from object to float\n",
    "df_test['Lot Frontage'] = pd.to_numeric(df_test['Lot Frontage'], errors='ignore') \n",
    "df_test['Garage Yr Blt'] = pd.to_numeric(df_test['Garage Yr Blt'], errors='ignore')"
   ]
  },
  {
   "cell_type": "code",
   "execution_count": 22,
   "metadata": {},
   "outputs": [],
   "source": [
    "df_test['Central Air'] = (df_test['Central Air']== 'Y')*1 #masking and convert to binary"
   ]
  },
  {
   "cell_type": "code",
   "execution_count": 23,
   "metadata": {
    "scrolled": true
   },
   "outputs": [
    {
     "data": {
      "text/html": [
       "<div>\n",
       "<style scoped>\n",
       "    .dataframe tbody tr th:only-of-type {\n",
       "        vertical-align: middle;\n",
       "    }\n",
       "\n",
       "    .dataframe tbody tr th {\n",
       "        vertical-align: top;\n",
       "    }\n",
       "\n",
       "    .dataframe thead th {\n",
       "        text-align: right;\n",
       "    }\n",
       "</style>\n",
       "<table border=\"1\" class=\"dataframe\">\n",
       "  <thead>\n",
       "    <tr style=\"text-align: right;\">\n",
       "      <th></th>\n",
       "      <th>Id</th>\n",
       "      <th>PID</th>\n",
       "      <th>MS SubClass</th>\n",
       "      <th>MS Zoning</th>\n",
       "      <th>Lot Frontage</th>\n",
       "      <th>Lot Area</th>\n",
       "      <th>Street</th>\n",
       "      <th>Alley</th>\n",
       "      <th>Lot Shape</th>\n",
       "      <th>Land Contour</th>\n",
       "      <th>Utilities</th>\n",
       "      <th>Lot Config</th>\n",
       "      <th>Land Slope</th>\n",
       "      <th>Neighborhood</th>\n",
       "      <th>Condition 1</th>\n",
       "      <th>Condition 2</th>\n",
       "      <th>Bldg Type</th>\n",
       "      <th>House Style</th>\n",
       "      <th>Overall Qual</th>\n",
       "      <th>Overall Cond</th>\n",
       "      <th>Year Built</th>\n",
       "      <th>Year Remod/Add</th>\n",
       "      <th>Roof Style</th>\n",
       "      <th>Roof Matl</th>\n",
       "      <th>Exterior 1st</th>\n",
       "      <th>Exterior 2nd</th>\n",
       "      <th>Mas Vnr Type</th>\n",
       "      <th>Mas Vnr Area</th>\n",
       "      <th>Exter Qual</th>\n",
       "      <th>Exter Cond</th>\n",
       "      <th>Foundation</th>\n",
       "      <th>Bsmt Qual</th>\n",
       "      <th>Bsmt Cond</th>\n",
       "      <th>Bsmt Exposure</th>\n",
       "      <th>BsmtFin Type 1</th>\n",
       "      <th>BsmtFin SF 1</th>\n",
       "      <th>BsmtFin Type 2</th>\n",
       "      <th>BsmtFin SF 2</th>\n",
       "      <th>Bsmt Unf SF</th>\n",
       "      <th>Total Bsmt SF</th>\n",
       "      <th>Heating</th>\n",
       "      <th>Heating QC</th>\n",
       "      <th>Central Air</th>\n",
       "      <th>Electrical</th>\n",
       "      <th>1st Flr SF</th>\n",
       "      <th>2nd Flr SF</th>\n",
       "      <th>Low Qual Fin SF</th>\n",
       "      <th>Gr Liv Area</th>\n",
       "      <th>Bsmt Full Bath</th>\n",
       "      <th>Bsmt Half Bath</th>\n",
       "      <th>Full Bath</th>\n",
       "      <th>Half Bath</th>\n",
       "      <th>Bedroom AbvGr</th>\n",
       "      <th>Kitchen AbvGr</th>\n",
       "      <th>Kitchen Qual</th>\n",
       "      <th>TotRms AbvGrd</th>\n",
       "      <th>Functional</th>\n",
       "      <th>Fireplaces</th>\n",
       "      <th>Fireplace Qu</th>\n",
       "      <th>Garage Type</th>\n",
       "      <th>Garage Yr Blt</th>\n",
       "      <th>Garage Finish</th>\n",
       "      <th>Garage Cars</th>\n",
       "      <th>Garage Area</th>\n",
       "      <th>Garage Qual</th>\n",
       "      <th>Garage Cond</th>\n",
       "      <th>Paved Drive</th>\n",
       "      <th>Wood Deck SF</th>\n",
       "      <th>Open Porch SF</th>\n",
       "      <th>Enclosed Porch</th>\n",
       "      <th>3Ssn Porch</th>\n",
       "      <th>Screen Porch</th>\n",
       "      <th>Pool Area</th>\n",
       "      <th>Pool QC</th>\n",
       "      <th>Fence</th>\n",
       "      <th>Misc Feature</th>\n",
       "      <th>Misc Val</th>\n",
       "      <th>Mo Sold</th>\n",
       "      <th>Yr Sold</th>\n",
       "      <th>Sale Type</th>\n",
       "    </tr>\n",
       "  </thead>\n",
       "  <tbody>\n",
       "    <tr>\n",
       "      <th>0</th>\n",
       "      <td>2658</td>\n",
       "      <td>902301120</td>\n",
       "      <td>190</td>\n",
       "      <td>RM</td>\n",
       "      <td>69.0</td>\n",
       "      <td>9142</td>\n",
       "      <td>Pave</td>\n",
       "      <td>Grvl</td>\n",
       "      <td>Reg</td>\n",
       "      <td>Lvl</td>\n",
       "      <td>AllPub</td>\n",
       "      <td>Inside</td>\n",
       "      <td>Gtl</td>\n",
       "      <td>OldTown</td>\n",
       "      <td>Norm</td>\n",
       "      <td>Norm</td>\n",
       "      <td>2fmCon</td>\n",
       "      <td>2Story</td>\n",
       "      <td>6</td>\n",
       "      <td>8</td>\n",
       "      <td>1910</td>\n",
       "      <td>1950</td>\n",
       "      <td>Gable</td>\n",
       "      <td>CompShg</td>\n",
       "      <td>AsbShng</td>\n",
       "      <td>AsbShng</td>\n",
       "      <td>None</td>\n",
       "      <td>0</td>\n",
       "      <td>TA</td>\n",
       "      <td>Fa</td>\n",
       "      <td>Stone</td>\n",
       "      <td>Fa</td>\n",
       "      <td>TA</td>\n",
       "      <td>No</td>\n",
       "      <td>Unf</td>\n",
       "      <td>0</td>\n",
       "      <td>Unf</td>\n",
       "      <td>0</td>\n",
       "      <td>1020</td>\n",
       "      <td>1020</td>\n",
       "      <td>GasA</td>\n",
       "      <td>Gd</td>\n",
       "      <td>0</td>\n",
       "      <td>FuseP</td>\n",
       "      <td>908</td>\n",
       "      <td>1020</td>\n",
       "      <td>0</td>\n",
       "      <td>1928</td>\n",
       "      <td>0</td>\n",
       "      <td>0</td>\n",
       "      <td>2</td>\n",
       "      <td>0</td>\n",
       "      <td>4</td>\n",
       "      <td>2</td>\n",
       "      <td>Fa</td>\n",
       "      <td>9</td>\n",
       "      <td>Typ</td>\n",
       "      <td>0</td>\n",
       "      <td>NA</td>\n",
       "      <td>Detchd</td>\n",
       "      <td>1910.0</td>\n",
       "      <td>Unf</td>\n",
       "      <td>1</td>\n",
       "      <td>440</td>\n",
       "      <td>Po</td>\n",
       "      <td>Po</td>\n",
       "      <td>Y</td>\n",
       "      <td>0</td>\n",
       "      <td>60</td>\n",
       "      <td>112</td>\n",
       "      <td>0</td>\n",
       "      <td>0</td>\n",
       "      <td>0</td>\n",
       "      <td>NA</td>\n",
       "      <td>NA</td>\n",
       "      <td>NA</td>\n",
       "      <td>0</td>\n",
       "      <td>4</td>\n",
       "      <td>2006</td>\n",
       "      <td>WD</td>\n",
       "    </tr>\n",
       "    <tr>\n",
       "      <th>1</th>\n",
       "      <td>2718</td>\n",
       "      <td>905108090</td>\n",
       "      <td>90</td>\n",
       "      <td>RL</td>\n",
       "      <td>NaN</td>\n",
       "      <td>9662</td>\n",
       "      <td>Pave</td>\n",
       "      <td>NA</td>\n",
       "      <td>IR1</td>\n",
       "      <td>Lvl</td>\n",
       "      <td>AllPub</td>\n",
       "      <td>Inside</td>\n",
       "      <td>Gtl</td>\n",
       "      <td>Sawyer</td>\n",
       "      <td>Norm</td>\n",
       "      <td>Norm</td>\n",
       "      <td>Duplex</td>\n",
       "      <td>1Story</td>\n",
       "      <td>5</td>\n",
       "      <td>4</td>\n",
       "      <td>1977</td>\n",
       "      <td>1977</td>\n",
       "      <td>Gable</td>\n",
       "      <td>CompShg</td>\n",
       "      <td>Plywood</td>\n",
       "      <td>Plywood</td>\n",
       "      <td>None</td>\n",
       "      <td>0</td>\n",
       "      <td>TA</td>\n",
       "      <td>TA</td>\n",
       "      <td>CBlock</td>\n",
       "      <td>Gd</td>\n",
       "      <td>TA</td>\n",
       "      <td>No</td>\n",
       "      <td>Unf</td>\n",
       "      <td>0</td>\n",
       "      <td>Unf</td>\n",
       "      <td>0</td>\n",
       "      <td>1967</td>\n",
       "      <td>1967</td>\n",
       "      <td>GasA</td>\n",
       "      <td>TA</td>\n",
       "      <td>1</td>\n",
       "      <td>SBrkr</td>\n",
       "      <td>1967</td>\n",
       "      <td>0</td>\n",
       "      <td>0</td>\n",
       "      <td>1967</td>\n",
       "      <td>0</td>\n",
       "      <td>0</td>\n",
       "      <td>2</td>\n",
       "      <td>0</td>\n",
       "      <td>6</td>\n",
       "      <td>2</td>\n",
       "      <td>TA</td>\n",
       "      <td>10</td>\n",
       "      <td>Typ</td>\n",
       "      <td>0</td>\n",
       "      <td>NA</td>\n",
       "      <td>Attchd</td>\n",
       "      <td>1977.0</td>\n",
       "      <td>Fin</td>\n",
       "      <td>2</td>\n",
       "      <td>580</td>\n",
       "      <td>TA</td>\n",
       "      <td>TA</td>\n",
       "      <td>Y</td>\n",
       "      <td>170</td>\n",
       "      <td>0</td>\n",
       "      <td>0</td>\n",
       "      <td>0</td>\n",
       "      <td>0</td>\n",
       "      <td>0</td>\n",
       "      <td>NA</td>\n",
       "      <td>NA</td>\n",
       "      <td>NA</td>\n",
       "      <td>0</td>\n",
       "      <td>8</td>\n",
       "      <td>2006</td>\n",
       "      <td>WD</td>\n",
       "    </tr>\n",
       "    <tr>\n",
       "      <th>2</th>\n",
       "      <td>2414</td>\n",
       "      <td>528218130</td>\n",
       "      <td>60</td>\n",
       "      <td>RL</td>\n",
       "      <td>58.0</td>\n",
       "      <td>17104</td>\n",
       "      <td>Pave</td>\n",
       "      <td>NA</td>\n",
       "      <td>IR1</td>\n",
       "      <td>Lvl</td>\n",
       "      <td>AllPub</td>\n",
       "      <td>Inside</td>\n",
       "      <td>Gtl</td>\n",
       "      <td>Gilbert</td>\n",
       "      <td>Norm</td>\n",
       "      <td>Norm</td>\n",
       "      <td>1Fam</td>\n",
       "      <td>2Story</td>\n",
       "      <td>7</td>\n",
       "      <td>5</td>\n",
       "      <td>2006</td>\n",
       "      <td>2006</td>\n",
       "      <td>Gable</td>\n",
       "      <td>CompShg</td>\n",
       "      <td>VinylSd</td>\n",
       "      <td>VinylSd</td>\n",
       "      <td>None</td>\n",
       "      <td>0</td>\n",
       "      <td>Gd</td>\n",
       "      <td>TA</td>\n",
       "      <td>PConc</td>\n",
       "      <td>Gd</td>\n",
       "      <td>Gd</td>\n",
       "      <td>Av</td>\n",
       "      <td>GLQ</td>\n",
       "      <td>554</td>\n",
       "      <td>Unf</td>\n",
       "      <td>0</td>\n",
       "      <td>100</td>\n",
       "      <td>654</td>\n",
       "      <td>GasA</td>\n",
       "      <td>Ex</td>\n",
       "      <td>1</td>\n",
       "      <td>SBrkr</td>\n",
       "      <td>664</td>\n",
       "      <td>832</td>\n",
       "      <td>0</td>\n",
       "      <td>1496</td>\n",
       "      <td>1</td>\n",
       "      <td>0</td>\n",
       "      <td>2</td>\n",
       "      <td>1</td>\n",
       "      <td>3</td>\n",
       "      <td>1</td>\n",
       "      <td>Gd</td>\n",
       "      <td>7</td>\n",
       "      <td>Typ</td>\n",
       "      <td>1</td>\n",
       "      <td>Gd</td>\n",
       "      <td>Attchd</td>\n",
       "      <td>2006.0</td>\n",
       "      <td>RFn</td>\n",
       "      <td>2</td>\n",
       "      <td>426</td>\n",
       "      <td>TA</td>\n",
       "      <td>TA</td>\n",
       "      <td>Y</td>\n",
       "      <td>100</td>\n",
       "      <td>24</td>\n",
       "      <td>0</td>\n",
       "      <td>0</td>\n",
       "      <td>0</td>\n",
       "      <td>0</td>\n",
       "      <td>NA</td>\n",
       "      <td>NA</td>\n",
       "      <td>NA</td>\n",
       "      <td>0</td>\n",
       "      <td>9</td>\n",
       "      <td>2006</td>\n",
       "      <td>New</td>\n",
       "    </tr>\n",
       "    <tr>\n",
       "      <th>3</th>\n",
       "      <td>1989</td>\n",
       "      <td>902207150</td>\n",
       "      <td>30</td>\n",
       "      <td>RM</td>\n",
       "      <td>60.0</td>\n",
       "      <td>8520</td>\n",
       "      <td>Pave</td>\n",
       "      <td>NA</td>\n",
       "      <td>Reg</td>\n",
       "      <td>Lvl</td>\n",
       "      <td>AllPub</td>\n",
       "      <td>Inside</td>\n",
       "      <td>Gtl</td>\n",
       "      <td>OldTown</td>\n",
       "      <td>Norm</td>\n",
       "      <td>Norm</td>\n",
       "      <td>1Fam</td>\n",
       "      <td>1Story</td>\n",
       "      <td>5</td>\n",
       "      <td>6</td>\n",
       "      <td>1923</td>\n",
       "      <td>2006</td>\n",
       "      <td>Gable</td>\n",
       "      <td>CompShg</td>\n",
       "      <td>Wd Sdng</td>\n",
       "      <td>Wd Sdng</td>\n",
       "      <td>None</td>\n",
       "      <td>0</td>\n",
       "      <td>Gd</td>\n",
       "      <td>TA</td>\n",
       "      <td>CBlock</td>\n",
       "      <td>TA</td>\n",
       "      <td>TA</td>\n",
       "      <td>No</td>\n",
       "      <td>Unf</td>\n",
       "      <td>0</td>\n",
       "      <td>Unf</td>\n",
       "      <td>0</td>\n",
       "      <td>968</td>\n",
       "      <td>968</td>\n",
       "      <td>GasA</td>\n",
       "      <td>TA</td>\n",
       "      <td>1</td>\n",
       "      <td>SBrkr</td>\n",
       "      <td>968</td>\n",
       "      <td>0</td>\n",
       "      <td>0</td>\n",
       "      <td>968</td>\n",
       "      <td>0</td>\n",
       "      <td>0</td>\n",
       "      <td>1</td>\n",
       "      <td>0</td>\n",
       "      <td>2</td>\n",
       "      <td>1</td>\n",
       "      <td>TA</td>\n",
       "      <td>5</td>\n",
       "      <td>Typ</td>\n",
       "      <td>0</td>\n",
       "      <td>NA</td>\n",
       "      <td>Detchd</td>\n",
       "      <td>1935.0</td>\n",
       "      <td>Unf</td>\n",
       "      <td>2</td>\n",
       "      <td>480</td>\n",
       "      <td>Fa</td>\n",
       "      <td>TA</td>\n",
       "      <td>N</td>\n",
       "      <td>0</td>\n",
       "      <td>0</td>\n",
       "      <td>184</td>\n",
       "      <td>0</td>\n",
       "      <td>0</td>\n",
       "      <td>0</td>\n",
       "      <td>NA</td>\n",
       "      <td>NA</td>\n",
       "      <td>NA</td>\n",
       "      <td>0</td>\n",
       "      <td>7</td>\n",
       "      <td>2007</td>\n",
       "      <td>WD</td>\n",
       "    </tr>\n",
       "    <tr>\n",
       "      <th>4</th>\n",
       "      <td>625</td>\n",
       "      <td>535105100</td>\n",
       "      <td>20</td>\n",
       "      <td>RL</td>\n",
       "      <td>NaN</td>\n",
       "      <td>9500</td>\n",
       "      <td>Pave</td>\n",
       "      <td>NA</td>\n",
       "      <td>IR1</td>\n",
       "      <td>Lvl</td>\n",
       "      <td>AllPub</td>\n",
       "      <td>Inside</td>\n",
       "      <td>Gtl</td>\n",
       "      <td>NAmes</td>\n",
       "      <td>Norm</td>\n",
       "      <td>Norm</td>\n",
       "      <td>1Fam</td>\n",
       "      <td>1Story</td>\n",
       "      <td>6</td>\n",
       "      <td>5</td>\n",
       "      <td>1963</td>\n",
       "      <td>1963</td>\n",
       "      <td>Gable</td>\n",
       "      <td>CompShg</td>\n",
       "      <td>Plywood</td>\n",
       "      <td>Plywood</td>\n",
       "      <td>BrkFace</td>\n",
       "      <td>247</td>\n",
       "      <td>TA</td>\n",
       "      <td>TA</td>\n",
       "      <td>CBlock</td>\n",
       "      <td>Gd</td>\n",
       "      <td>TA</td>\n",
       "      <td>No</td>\n",
       "      <td>BLQ</td>\n",
       "      <td>609</td>\n",
       "      <td>Unf</td>\n",
       "      <td>0</td>\n",
       "      <td>785</td>\n",
       "      <td>1394</td>\n",
       "      <td>GasA</td>\n",
       "      <td>Gd</td>\n",
       "      <td>1</td>\n",
       "      <td>SBrkr</td>\n",
       "      <td>1394</td>\n",
       "      <td>0</td>\n",
       "      <td>0</td>\n",
       "      <td>1394</td>\n",
       "      <td>1</td>\n",
       "      <td>0</td>\n",
       "      <td>1</td>\n",
       "      <td>1</td>\n",
       "      <td>3</td>\n",
       "      <td>1</td>\n",
       "      <td>TA</td>\n",
       "      <td>6</td>\n",
       "      <td>Typ</td>\n",
       "      <td>2</td>\n",
       "      <td>Gd</td>\n",
       "      <td>Attchd</td>\n",
       "      <td>1963.0</td>\n",
       "      <td>RFn</td>\n",
       "      <td>2</td>\n",
       "      <td>514</td>\n",
       "      <td>TA</td>\n",
       "      <td>TA</td>\n",
       "      <td>Y</td>\n",
       "      <td>0</td>\n",
       "      <td>76</td>\n",
       "      <td>0</td>\n",
       "      <td>0</td>\n",
       "      <td>185</td>\n",
       "      <td>0</td>\n",
       "      <td>NA</td>\n",
       "      <td>NA</td>\n",
       "      <td>NA</td>\n",
       "      <td>0</td>\n",
       "      <td>7</td>\n",
       "      <td>2009</td>\n",
       "      <td>WD</td>\n",
       "    </tr>\n",
       "  </tbody>\n",
       "</table>\n",
       "</div>"
      ],
      "text/plain": [
       "     Id        PID  MS SubClass MS Zoning  Lot Frontage  Lot Area Street  \\\n",
       "0  2658  902301120          190        RM          69.0      9142   Pave   \n",
       "1  2718  905108090           90        RL           NaN      9662   Pave   \n",
       "2  2414  528218130           60        RL          58.0     17104   Pave   \n",
       "3  1989  902207150           30        RM          60.0      8520   Pave   \n",
       "4   625  535105100           20        RL           NaN      9500   Pave   \n",
       "\n",
       "  Alley Lot Shape Land Contour Utilities Lot Config Land Slope Neighborhood  \\\n",
       "0  Grvl       Reg          Lvl    AllPub     Inside        Gtl      OldTown   \n",
       "1    NA       IR1          Lvl    AllPub     Inside        Gtl       Sawyer   \n",
       "2    NA       IR1          Lvl    AllPub     Inside        Gtl      Gilbert   \n",
       "3    NA       Reg          Lvl    AllPub     Inside        Gtl      OldTown   \n",
       "4    NA       IR1          Lvl    AllPub     Inside        Gtl        NAmes   \n",
       "\n",
       "  Condition 1 Condition 2 Bldg Type House Style  Overall Qual  Overall Cond  \\\n",
       "0        Norm        Norm    2fmCon      2Story             6             8   \n",
       "1        Norm        Norm    Duplex      1Story             5             4   \n",
       "2        Norm        Norm      1Fam      2Story             7             5   \n",
       "3        Norm        Norm      1Fam      1Story             5             6   \n",
       "4        Norm        Norm      1Fam      1Story             6             5   \n",
       "\n",
       "   Year Built  Year Remod/Add Roof Style Roof Matl Exterior 1st Exterior 2nd  \\\n",
       "0        1910            1950      Gable   CompShg      AsbShng      AsbShng   \n",
       "1        1977            1977      Gable   CompShg      Plywood      Plywood   \n",
       "2        2006            2006      Gable   CompShg      VinylSd      VinylSd   \n",
       "3        1923            2006      Gable   CompShg      Wd Sdng      Wd Sdng   \n",
       "4        1963            1963      Gable   CompShg      Plywood      Plywood   \n",
       "\n",
       "  Mas Vnr Type Mas Vnr Area Exter Qual Exter Cond Foundation Bsmt Qual  \\\n",
       "0         None            0         TA         Fa      Stone        Fa   \n",
       "1         None            0         TA         TA     CBlock        Gd   \n",
       "2         None            0         Gd         TA      PConc        Gd   \n",
       "3         None            0         Gd         TA     CBlock        TA   \n",
       "4      BrkFace          247         TA         TA     CBlock        Gd   \n",
       "\n",
       "  Bsmt Cond Bsmt Exposure BsmtFin Type 1  BsmtFin SF 1 BsmtFin Type 2  \\\n",
       "0        TA            No            Unf             0            Unf   \n",
       "1        TA            No            Unf             0            Unf   \n",
       "2        Gd            Av            GLQ           554            Unf   \n",
       "3        TA            No            Unf             0            Unf   \n",
       "4        TA            No            BLQ           609            Unf   \n",
       "\n",
       "   BsmtFin SF 2  Bsmt Unf SF  Total Bsmt SF Heating Heating QC  Central Air  \\\n",
       "0             0         1020           1020    GasA         Gd            0   \n",
       "1             0         1967           1967    GasA         TA            1   \n",
       "2             0          100            654    GasA         Ex            1   \n",
       "3             0          968            968    GasA         TA            1   \n",
       "4             0          785           1394    GasA         Gd            1   \n",
       "\n",
       "  Electrical  1st Flr SF  2nd Flr SF  Low Qual Fin SF  Gr Liv Area  \\\n",
       "0      FuseP         908        1020                0         1928   \n",
       "1      SBrkr        1967           0                0         1967   \n",
       "2      SBrkr         664         832                0         1496   \n",
       "3      SBrkr         968           0                0          968   \n",
       "4      SBrkr        1394           0                0         1394   \n",
       "\n",
       "   Bsmt Full Bath  Bsmt Half Bath  Full Bath  Half Bath  Bedroom AbvGr  \\\n",
       "0               0               0          2          0              4   \n",
       "1               0               0          2          0              6   \n",
       "2               1               0          2          1              3   \n",
       "3               0               0          1          0              2   \n",
       "4               1               0          1          1              3   \n",
       "\n",
       "   Kitchen AbvGr Kitchen Qual  TotRms AbvGrd Functional  Fireplaces  \\\n",
       "0              2           Fa              9        Typ           0   \n",
       "1              2           TA             10        Typ           0   \n",
       "2              1           Gd              7        Typ           1   \n",
       "3              1           TA              5        Typ           0   \n",
       "4              1           TA              6        Typ           2   \n",
       "\n",
       "  Fireplace Qu Garage Type  Garage Yr Blt Garage Finish  Garage Cars  \\\n",
       "0           NA      Detchd         1910.0           Unf            1   \n",
       "1           NA      Attchd         1977.0           Fin            2   \n",
       "2           Gd      Attchd         2006.0           RFn            2   \n",
       "3           NA      Detchd         1935.0           Unf            2   \n",
       "4           Gd      Attchd         1963.0           RFn            2   \n",
       "\n",
       "   Garage Area Garage Qual Garage Cond Paved Drive  Wood Deck SF  \\\n",
       "0          440          Po          Po           Y             0   \n",
       "1          580          TA          TA           Y           170   \n",
       "2          426          TA          TA           Y           100   \n",
       "3          480          Fa          TA           N             0   \n",
       "4          514          TA          TA           Y             0   \n",
       "\n",
       "   Open Porch SF  Enclosed Porch  3Ssn Porch  Screen Porch  Pool Area Pool QC  \\\n",
       "0             60             112           0             0          0      NA   \n",
       "1              0               0           0             0          0      NA   \n",
       "2             24               0           0             0          0      NA   \n",
       "3              0             184           0             0          0      NA   \n",
       "4             76               0           0           185          0      NA   \n",
       "\n",
       "  Fence Misc Feature  Misc Val  Mo Sold  Yr Sold Sale Type  \n",
       "0    NA           NA         0        4     2006       WD   \n",
       "1    NA           NA         0        8     2006       WD   \n",
       "2    NA           NA         0        9     2006       New  \n",
       "3    NA           NA         0        7     2007       WD   \n",
       "4    NA           NA         0        7     2009       WD   "
      ]
     },
     "execution_count": 23,
     "metadata": {},
     "output_type": "execute_result"
    }
   ],
   "source": [
    "df_test.head()"
   ]
  },
  {
   "cell_type": "markdown",
   "metadata": {},
   "source": [
    "### Null valued columns\n",
    "Lot Frontage(int) = *18.20%*  \n",
    "Mas Vnr Tpe(obj) = *60.86%*  - **can be dropped**  \n",
    "Electrical(obj) = *0.11%*   \n",
    "Garage Finish(obj) =  *0.11%*   \n",
    "Garage Yr Blt(obj) =  *5.11%*\n",
    "   "
   ]
  },
  {
   "cell_type": "code",
   "execution_count": 24,
   "metadata": {},
   "outputs": [
    {
     "data": {
      "text/plain": [
       "(879, 80)"
      ]
     },
     "execution_count": 24,
     "metadata": {},
     "output_type": "execute_result"
    }
   ],
   "source": [
    "df_test.shape"
   ]
  },
  {
   "cell_type": "code",
   "execution_count": 25,
   "metadata": {},
   "outputs": [
    {
     "data": {
      "text/plain": [
       "Id                   0\n",
       "PID                  0\n",
       "MS SubClass          0\n",
       "MS Zoning            0\n",
       "Lot Frontage       160\n",
       "Lot Area             0\n",
       "Street               0\n",
       "Alley                0\n",
       "Lot Shape            0\n",
       "Land Contour         0\n",
       "Utilities            0\n",
       "Lot Config           0\n",
       "Land Slope           0\n",
       "Neighborhood         0\n",
       "Condition 1          0\n",
       "Condition 2          0\n",
       "Bldg Type            0\n",
       "House Style          0\n",
       "Overall Qual         0\n",
       "Overall Cond         0\n",
       "Year Built           0\n",
       "Year Remod/Add       0\n",
       "Roof Style           0\n",
       "Roof Matl            0\n",
       "Exterior 1st         0\n",
       "Exterior 2nd         0\n",
       "Mas Vnr Type       535\n",
       "Mas Vnr Area         1\n",
       "Exter Qual           0\n",
       "Exter Cond           0\n",
       "Foundation           0\n",
       "Bsmt Qual            0\n",
       "Bsmt Cond            0\n",
       "Bsmt Exposure        0\n",
       "BsmtFin Type 1       0\n",
       "BsmtFin SF 1         0\n",
       "BsmtFin Type 2       0\n",
       "BsmtFin SF 2         0\n",
       "Bsmt Unf SF          0\n",
       "Total Bsmt SF        0\n",
       "Heating              0\n",
       "Heating QC           0\n",
       "Central Air          0\n",
       "Electrical           1\n",
       "1st Flr SF           0\n",
       "2nd Flr SF           0\n",
       "Low Qual Fin SF      0\n",
       "Gr Liv Area          0\n",
       "Bsmt Full Bath       0\n",
       "Bsmt Half Bath       0\n",
       "Full Bath            0\n",
       "Half Bath            0\n",
       "Bedroom AbvGr        0\n",
       "Kitchen AbvGr        0\n",
       "Kitchen Qual         0\n",
       "TotRms AbvGrd        0\n",
       "Functional           0\n",
       "Fireplaces           0\n",
       "Fireplace Qu         0\n",
       "Garage Type          0\n",
       "Garage Yr Blt       45\n",
       "Garage Finish        1\n",
       "Garage Cars          0\n",
       "Garage Area          0\n",
       "Garage Qual          0\n",
       "Garage Cond          0\n",
       "Paved Drive          0\n",
       "Wood Deck SF         0\n",
       "Open Porch SF        0\n",
       "Enclosed Porch       0\n",
       "3Ssn Porch           0\n",
       "Screen Porch         0\n",
       "Pool Area            0\n",
       "Pool QC              0\n",
       "Fence                0\n",
       "Misc Feature         0\n",
       "Misc Val             0\n",
       "Mo Sold              0\n",
       "Yr Sold              0\n",
       "Sale Type            0\n",
       "dtype: int64"
      ]
     },
     "execution_count": 25,
     "metadata": {},
     "output_type": "execute_result"
    }
   ],
   "source": [
    "df_test.isnull().sum()"
   ]
  },
  {
   "cell_type": "code",
   "execution_count": 26,
   "metadata": {},
   "outputs": [
    {
     "name": "stdout",
     "output_type": "stream",
     "text": [
      "69.00097847358121\n"
     ]
    },
    {
     "data": {
      "image/png": "[encoded data removed]",
      "text/plain": [
       "<Figure size 576x288 with 1 Axes>"
      ]
     },
     "metadata": {
      "needs_background": "light"
     },
     "output_type": "display_data"
    }
   ],
   "source": [
    "df_train['Lot Frontage'].hist(figsize=(8,4))\n",
    "print(df_train['Lot Frontage'].mean())\n",
    "plt.xlabel('Area')\n",
    "plt.ylabel('Count')\n",
    "plt.title('Train Dataset: Lot Frontage');"
   ]
  },
  {
   "cell_type": "code",
   "execution_count": 27,
   "metadata": {},
   "outputs": [
    {
     "data": {
      "text/plain": [
       "0"
      ]
     },
     "execution_count": 27,
     "metadata": {},
     "output_type": "execute_result"
    }
   ],
   "source": [
    "#replaced null values with Mean of Lot Frontage from Train data\n",
    "df_test['Lot Frontage'] = df_test['Lot Frontage'].replace({None:df_train['Lot Frontage'].mean()})\n",
    "df_test['Lot Frontage'] = df_test['Lot Frontage'].astype(int)  #we prefer int\n",
    "df_test['Lot Frontage'].isnull().sum()"
   ]
  },
  {
   "cell_type": "code",
   "execution_count": 28,
   "metadata": {},
   "outputs": [
    {
     "name": "stdout",
     "output_type": "stream",
     "text": [
      "99.70401174168298\n"
     ]
    },
    {
     "data": {
      "image/png": "[encoded data removed]",
      "text/plain": [
       "<Figure size 576x288 with 1 Axes>"
      ]
     },
     "metadata": {
      "needs_background": "light"
     },
     "output_type": "display_data"
    }
   ],
   "source": [
    "df_train['Mas Vnr Area'].hist(figsize=(8,4))\n",
    "print(df_train['Mas Vnr Area'].mean())\n",
    "plt.xlabel('Area')\n",
    "plt.ylabel('Count')\n",
    "plt.title('Train Dataset: Mas Vnr Area');"
   ]
  },
  {
   "cell_type": "code",
   "execution_count": 29,
   "metadata": {},
   "outputs": [
    {
     "data": {
      "text/plain": [
       "0"
      ]
     },
     "execution_count": 29,
     "metadata": {},
     "output_type": "execute_result"
    }
   ],
   "source": [
    "#replaced null values with Mean of Lot Frontage from Train data\n",
    "df_test['Mas Vnr Area'] = df_test['Mas Vnr Area'].replace({None:df_train['Mas Vnr Area'].mean()})\n",
    "df_test['Mas Vnr Area'] = df_test['Mas Vnr Area'].astype(int)  #we prefer int\n",
    "df_test['Mas Vnr Area'].isnull().sum()"
   ]
  },
  {
   "cell_type": "code",
   "execution_count": 30,
   "metadata": {},
   "outputs": [
    {
     "data": {
      "image/png": "[encoded data removed]",
      "text/plain": [
       "<Figure size 576x288 with 1 Axes>"
      ]
     },
     "metadata": {
      "needs_background": "light"
     },
     "output_type": "display_data"
    }
   ],
   "source": [
    "df_train['Electrical'].hist(figsize=(8,4))\n",
    "plt.xlabel('Type')\n",
    "plt.ylabel('Count')\n",
    "plt.title('Train Dataset: Electrical');"
   ]
  },
  {
   "cell_type": "code",
   "execution_count": 31,
   "metadata": {},
   "outputs": [
    {
     "data": {
      "text/plain": [
       "0"
      ]
     },
     "execution_count": 31,
     "metadata": {},
     "output_type": "execute_result"
    }
   ],
   "source": [
    "#replaced null values with Mode of Lot Frontage from Train data\n",
    "df_test['Electrical'] = df_test['Electrical'].replace({None:'SBrkr'})\n",
    "df_test['Electrical'].isnull().sum()"
   ]
  },
  {
   "cell_type": "code",
   "execution_count": 32,
   "metadata": {},
   "outputs": [
    {
     "data": {
      "image/png": "[encoded data removed]",
      "text/plain": [
       "<Figure size 576x288 with 1 Axes>"
      ]
     },
     "metadata": {
      "needs_background": "light"
     },
     "output_type": "display_data"
    }
   ],
   "source": [
    "df_train['Garage Finish'].hist(figsize=(8,4))\n",
    "plt.xlabel('State')\n",
    "plt.ylabel('Count')\n",
    "plt.title('Train Dataset: Garage Finish');"
   ]
  },
  {
   "cell_type": "code",
   "execution_count": 33,
   "metadata": {},
   "outputs": [
    {
     "data": {
      "text/plain": [
       "0"
      ]
     },
     "execution_count": 33,
     "metadata": {},
     "output_type": "execute_result"
    }
   ],
   "source": [
    "#replaced null values with Mode of Lot Frontage from Train data\n",
    "df_test['Garage Finish'] = df_test['Garage Finish'].replace({None:'Unf'})\n",
    "df_test['Garage Finish'].isnull().sum()"
   ]
  },
  {
   "cell_type": "code",
   "execution_count": 34,
   "metadata": {},
   "outputs": [],
   "source": [
    "# too many null values in 'Mas Vnr Type' and should be dropped\n",
    "df_test = df_test.drop(columns = 'Mas Vnr Type')"
   ]
  },
  {
   "cell_type": "code",
   "execution_count": 35,
   "metadata": {},
   "outputs": [
    {
     "data": {
      "text/plain": [
       "1978    146\n",
       "2005    104\n",
       "2007     83\n",
       "2006     80\n",
       "2004     72\n",
       "Name: Garage Yr Blt, dtype: int64"
      ]
     },
     "execution_count": 35,
     "metadata": {},
     "output_type": "execute_result"
    }
   ],
   "source": [
    "df_train['Garage Yr Blt'].value_counts().head()"
   ]
  },
  {
   "cell_type": "code",
   "execution_count": 36,
   "metadata": {},
   "outputs": [],
   "source": [
    "#year 1978 is the most common date for garages to be built in train data therefore the null value shall hold this year.\n",
    "df_test['Garage Yr Blt'] = df_test['Garage Yr Blt'].replace({None:'1978'})\n",
    "df_test['Garage Yr Blt'] = df_test['Garage Yr Blt'].astype(int)  #we prefer int"
   ]
  },
  {
   "cell_type": "markdown",
   "metadata": {},
   "source": [
    "## Label encoding both our train and test data"
   ]
  },
  {
   "cell_type": "code",
   "execution_count": 37,
   "metadata": {},
   "outputs": [
    {
     "data": {
      "text/plain": [
       "(2044, 80)"
      ]
     },
     "execution_count": 37,
     "metadata": {},
     "output_type": "execute_result"
    }
   ],
   "source": [
    "df_train.shape"
   ]
  },
  {
   "cell_type": "code",
   "execution_count": 38,
   "metadata": {},
   "outputs": [
    {
     "data": {
      "text/plain": [
       "(879, 79)"
      ]
     },
     "execution_count": 38,
     "metadata": {},
     "output_type": "execute_result"
    }
   ],
   "source": [
    "df_test.shape"
   ]
  },
  {
   "cell_type": "code",
   "execution_count": 39,
   "metadata": {},
   "outputs": [
    {
     "data": {
      "text/html": [
       "<div>\n",
       "<style scoped>\n",
       "    .dataframe tbody tr th:only-of-type {\n",
       "        vertical-align: middle;\n",
       "    }\n",
       "\n",
       "    .dataframe tbody tr th {\n",
       "        vertical-align: top;\n",
       "    }\n",
       "\n",
       "    .dataframe thead th {\n",
       "        text-align: right;\n",
       "    }\n",
       "</style>\n",
       "<table border=\"1\" class=\"dataframe\">\n",
       "  <thead>\n",
       "    <tr style=\"text-align: right;\">\n",
       "      <th></th>\n",
       "      <th>Id</th>\n",
       "      <th>PID</th>\n",
       "      <th>MS SubClass</th>\n",
       "      <th>MS Zoning</th>\n",
       "      <th>Lot Frontage</th>\n",
       "      <th>Lot Area</th>\n",
       "      <th>Street</th>\n",
       "      <th>Alley</th>\n",
       "      <th>Lot Shape</th>\n",
       "      <th>Land Contour</th>\n",
       "      <th>Utilities</th>\n",
       "      <th>Lot Config</th>\n",
       "      <th>Land Slope</th>\n",
       "      <th>Neighborhood</th>\n",
       "      <th>Condition 1</th>\n",
       "      <th>Condition 2</th>\n",
       "      <th>Bldg Type</th>\n",
       "      <th>House Style</th>\n",
       "      <th>Overall Qual</th>\n",
       "      <th>Overall Cond</th>\n",
       "      <th>Year Built</th>\n",
       "      <th>Year Remod/Add</th>\n",
       "      <th>Roof Style</th>\n",
       "      <th>Roof Matl</th>\n",
       "      <th>Exterior 1st</th>\n",
       "      <th>Exterior 2nd</th>\n",
       "      <th>Mas Vnr Area</th>\n",
       "      <th>Exter Qual</th>\n",
       "      <th>Exter Cond</th>\n",
       "      <th>Foundation</th>\n",
       "      <th>Bsmt Qual</th>\n",
       "      <th>Bsmt Cond</th>\n",
       "      <th>Bsmt Exposure</th>\n",
       "      <th>BsmtFin Type 1</th>\n",
       "      <th>BsmtFin SF 1</th>\n",
       "      <th>BsmtFin Type 2</th>\n",
       "      <th>BsmtFin SF 2</th>\n",
       "      <th>Bsmt Unf SF</th>\n",
       "      <th>Total Bsmt SF</th>\n",
       "      <th>Heating</th>\n",
       "      <th>Heating QC</th>\n",
       "      <th>Central Air</th>\n",
       "      <th>Electrical</th>\n",
       "      <th>1st Flr SF</th>\n",
       "      <th>2nd Flr SF</th>\n",
       "      <th>Low Qual Fin SF</th>\n",
       "      <th>Gr Liv Area</th>\n",
       "      <th>Bsmt Full Bath</th>\n",
       "      <th>Bsmt Half Bath</th>\n",
       "      <th>Full Bath</th>\n",
       "      <th>Half Bath</th>\n",
       "      <th>Bedroom AbvGr</th>\n",
       "      <th>Kitchen AbvGr</th>\n",
       "      <th>Kitchen Qual</th>\n",
       "      <th>TotRms AbvGrd</th>\n",
       "      <th>Functional</th>\n",
       "      <th>Fireplaces</th>\n",
       "      <th>Fireplace Qu</th>\n",
       "      <th>Garage Type</th>\n",
       "      <th>Garage Yr Blt</th>\n",
       "      <th>Garage Finish</th>\n",
       "      <th>Garage Cars</th>\n",
       "      <th>Garage Area</th>\n",
       "      <th>Garage Qual</th>\n",
       "      <th>Garage Cond</th>\n",
       "      <th>Paved Drive</th>\n",
       "      <th>Wood Deck SF</th>\n",
       "      <th>Open Porch SF</th>\n",
       "      <th>Enclosed Porch</th>\n",
       "      <th>3Ssn Porch</th>\n",
       "      <th>Screen Porch</th>\n",
       "      <th>Pool Area</th>\n",
       "      <th>Pool QC</th>\n",
       "      <th>Fence</th>\n",
       "      <th>Misc Feature</th>\n",
       "      <th>Misc Val</th>\n",
       "      <th>Mo Sold</th>\n",
       "      <th>Yr Sold</th>\n",
       "      <th>Sale Type</th>\n",
       "      <th>SalePrice</th>\n",
       "    </tr>\n",
       "  </thead>\n",
       "  <tbody>\n",
       "    <tr>\n",
       "      <th>0</th>\n",
       "      <td>109</td>\n",
       "      <td>533352170</td>\n",
       "      <td>60</td>\n",
       "      <td>RL</td>\n",
       "      <td>69</td>\n",
       "      <td>13517</td>\n",
       "      <td>Pave</td>\n",
       "      <td>NA</td>\n",
       "      <td>IR1</td>\n",
       "      <td>Lvl</td>\n",
       "      <td>AllPub</td>\n",
       "      <td>CulDSac</td>\n",
       "      <td>Gtl</td>\n",
       "      <td>Sawyer</td>\n",
       "      <td>RRAe</td>\n",
       "      <td>Norm</td>\n",
       "      <td>1Fam</td>\n",
       "      <td>2Story</td>\n",
       "      <td>6</td>\n",
       "      <td>8</td>\n",
       "      <td>1976</td>\n",
       "      <td>2005</td>\n",
       "      <td>Gable</td>\n",
       "      <td>CompShg</td>\n",
       "      <td>HdBoard</td>\n",
       "      <td>Plywood</td>\n",
       "      <td>289</td>\n",
       "      <td>Gd</td>\n",
       "      <td>TA</td>\n",
       "      <td>CBlock</td>\n",
       "      <td>TA</td>\n",
       "      <td>TA</td>\n",
       "      <td>No</td>\n",
       "      <td>GLQ</td>\n",
       "      <td>533</td>\n",
       "      <td>Unf</td>\n",
       "      <td>0</td>\n",
       "      <td>192</td>\n",
       "      <td>725</td>\n",
       "      <td>GasA</td>\n",
       "      <td>Ex</td>\n",
       "      <td>1</td>\n",
       "      <td>SBrkr</td>\n",
       "      <td>725</td>\n",
       "      <td>754</td>\n",
       "      <td>0</td>\n",
       "      <td>1479</td>\n",
       "      <td>0</td>\n",
       "      <td>0</td>\n",
       "      <td>2</td>\n",
       "      <td>1</td>\n",
       "      <td>3</td>\n",
       "      <td>1</td>\n",
       "      <td>Gd</td>\n",
       "      <td>6</td>\n",
       "      <td>Typ</td>\n",
       "      <td>0</td>\n",
       "      <td>NA</td>\n",
       "      <td>Attchd</td>\n",
       "      <td>1976</td>\n",
       "      <td>RFn</td>\n",
       "      <td>2</td>\n",
       "      <td>475</td>\n",
       "      <td>TA</td>\n",
       "      <td>TA</td>\n",
       "      <td>Y</td>\n",
       "      <td>0</td>\n",
       "      <td>44</td>\n",
       "      <td>0</td>\n",
       "      <td>0</td>\n",
       "      <td>0</td>\n",
       "      <td>0</td>\n",
       "      <td>NA</td>\n",
       "      <td>NA</td>\n",
       "      <td>NA</td>\n",
       "      <td>0</td>\n",
       "      <td>3</td>\n",
       "      <td>2010</td>\n",
       "      <td>WD</td>\n",
       "      <td>130500</td>\n",
       "    </tr>\n",
       "  </tbody>\n",
       "</table>\n",
       "</div>"
      ],
      "text/plain": [
       "    Id        PID  MS SubClass MS Zoning  Lot Frontage  Lot Area Street Alley  \\\n",
       "0  109  533352170           60        RL            69     13517   Pave    NA   \n",
       "\n",
       "  Lot Shape Land Contour Utilities Lot Config Land Slope Neighborhood  \\\n",
       "0       IR1          Lvl    AllPub    CulDSac        Gtl       Sawyer   \n",
       "\n",
       "  Condition 1 Condition 2 Bldg Type House Style  Overall Qual  Overall Cond  \\\n",
       "0        RRAe        Norm      1Fam      2Story             6             8   \n",
       "\n",
       "   Year Built  Year Remod/Add Roof Style Roof Matl Exterior 1st Exterior 2nd  \\\n",
       "0        1976            2005      Gable   CompShg      HdBoard      Plywood   \n",
       "\n",
       "   Mas Vnr Area Exter Qual Exter Cond Foundation Bsmt Qual Bsmt Cond  \\\n",
       "0           289         Gd         TA     CBlock        TA        TA   \n",
       "\n",
       "  Bsmt Exposure BsmtFin Type 1  BsmtFin SF 1 BsmtFin Type 2  BsmtFin SF 2  \\\n",
       "0            No            GLQ           533            Unf             0   \n",
       "\n",
       "   Bsmt Unf SF  Total Bsmt SF Heating Heating QC  Central Air Electrical  \\\n",
       "0          192            725    GasA         Ex            1      SBrkr   \n",
       "\n",
       "   1st Flr SF  2nd Flr SF  Low Qual Fin SF  Gr Liv Area  Bsmt Full Bath  \\\n",
       "0         725         754                0         1479               0   \n",
       "\n",
       "   Bsmt Half Bath  Full Bath  Half Bath  Bedroom AbvGr  Kitchen AbvGr  \\\n",
       "0               0          2          1              3              1   \n",
       "\n",
       "  Kitchen Qual  TotRms AbvGrd Functional  Fireplaces Fireplace Qu Garage Type  \\\n",
       "0           Gd              6        Typ           0           NA      Attchd   \n",
       "\n",
       "   Garage Yr Blt Garage Finish  Garage Cars  Garage Area Garage Qual  \\\n",
       "0           1976           RFn            2          475          TA   \n",
       "\n",
       "  Garage Cond Paved Drive  Wood Deck SF  Open Porch SF  Enclosed Porch  \\\n",
       "0          TA           Y             0             44               0   \n",
       "\n",
       "   3Ssn Porch  Screen Porch  Pool Area Pool QC Fence Misc Feature  Misc Val  \\\n",
       "0           0             0          0      NA    NA           NA         0   \n",
       "\n",
       "   Mo Sold  Yr Sold Sale Type  SalePrice  \n",
       "0        3     2010       WD      130500  "
      ]
     },
     "execution_count": 39,
     "metadata": {},
     "output_type": "execute_result"
    }
   ],
   "source": [
    "df_train.head(1)"
   ]
  },
  {
   "cell_type": "code",
   "execution_count": 40,
   "metadata": {},
   "outputs": [
    {
     "data": {
      "text/html": [
       "<div>\n",
       "<style scoped>\n",
       "    .dataframe tbody tr th:only-of-type {\n",
       "        vertical-align: middle;\n",
       "    }\n",
       "\n",
       "    .dataframe tbody tr th {\n",
       "        vertical-align: top;\n",
       "    }\n",
       "\n",
       "    .dataframe thead th {\n",
       "        text-align: right;\n",
       "    }\n",
       "</style>\n",
       "<table border=\"1\" class=\"dataframe\">\n",
       "  <thead>\n",
       "    <tr style=\"text-align: right;\">\n",
       "      <th></th>\n",
       "      <th>Id</th>\n",
       "      <th>PID</th>\n",
       "      <th>MS SubClass</th>\n",
       "      <th>MS Zoning</th>\n",
       "      <th>Lot Frontage</th>\n",
       "      <th>Lot Area</th>\n",
       "      <th>Street</th>\n",
       "      <th>Alley</th>\n",
       "      <th>Lot Shape</th>\n",
       "      <th>Land Contour</th>\n",
       "      <th>Utilities</th>\n",
       "      <th>Lot Config</th>\n",
       "      <th>Land Slope</th>\n",
       "      <th>Neighborhood</th>\n",
       "      <th>Condition 1</th>\n",
       "      <th>Condition 2</th>\n",
       "      <th>Bldg Type</th>\n",
       "      <th>House Style</th>\n",
       "      <th>Overall Qual</th>\n",
       "      <th>Overall Cond</th>\n",
       "      <th>Year Built</th>\n",
       "      <th>Year Remod/Add</th>\n",
       "      <th>Roof Style</th>\n",
       "      <th>Roof Matl</th>\n",
       "      <th>Exterior 1st</th>\n",
       "      <th>Exterior 2nd</th>\n",
       "      <th>Mas Vnr Area</th>\n",
       "      <th>Exter Qual</th>\n",
       "      <th>Exter Cond</th>\n",
       "      <th>Foundation</th>\n",
       "      <th>Bsmt Qual</th>\n",
       "      <th>Bsmt Cond</th>\n",
       "      <th>Bsmt Exposure</th>\n",
       "      <th>BsmtFin Type 1</th>\n",
       "      <th>BsmtFin SF 1</th>\n",
       "      <th>BsmtFin Type 2</th>\n",
       "      <th>BsmtFin SF 2</th>\n",
       "      <th>Bsmt Unf SF</th>\n",
       "      <th>Total Bsmt SF</th>\n",
       "      <th>Heating</th>\n",
       "      <th>Heating QC</th>\n",
       "      <th>Central Air</th>\n",
       "      <th>Electrical</th>\n",
       "      <th>1st Flr SF</th>\n",
       "      <th>2nd Flr SF</th>\n",
       "      <th>Low Qual Fin SF</th>\n",
       "      <th>Gr Liv Area</th>\n",
       "      <th>Bsmt Full Bath</th>\n",
       "      <th>Bsmt Half Bath</th>\n",
       "      <th>Full Bath</th>\n",
       "      <th>Half Bath</th>\n",
       "      <th>Bedroom AbvGr</th>\n",
       "      <th>Kitchen AbvGr</th>\n",
       "      <th>Kitchen Qual</th>\n",
       "      <th>TotRms AbvGrd</th>\n",
       "      <th>Functional</th>\n",
       "      <th>Fireplaces</th>\n",
       "      <th>Fireplace Qu</th>\n",
       "      <th>Garage Type</th>\n",
       "      <th>Garage Yr Blt</th>\n",
       "      <th>Garage Finish</th>\n",
       "      <th>Garage Cars</th>\n",
       "      <th>Garage Area</th>\n",
       "      <th>Garage Qual</th>\n",
       "      <th>Garage Cond</th>\n",
       "      <th>Paved Drive</th>\n",
       "      <th>Wood Deck SF</th>\n",
       "      <th>Open Porch SF</th>\n",
       "      <th>Enclosed Porch</th>\n",
       "      <th>3Ssn Porch</th>\n",
       "      <th>Screen Porch</th>\n",
       "      <th>Pool Area</th>\n",
       "      <th>Pool QC</th>\n",
       "      <th>Fence</th>\n",
       "      <th>Misc Feature</th>\n",
       "      <th>Misc Val</th>\n",
       "      <th>Mo Sold</th>\n",
       "      <th>Yr Sold</th>\n",
       "      <th>Sale Type</th>\n",
       "    </tr>\n",
       "  </thead>\n",
       "  <tbody>\n",
       "    <tr>\n",
       "      <th>0</th>\n",
       "      <td>2658</td>\n",
       "      <td>902301120</td>\n",
       "      <td>190</td>\n",
       "      <td>RM</td>\n",
       "      <td>69</td>\n",
       "      <td>9142</td>\n",
       "      <td>Pave</td>\n",
       "      <td>Grvl</td>\n",
       "      <td>Reg</td>\n",
       "      <td>Lvl</td>\n",
       "      <td>AllPub</td>\n",
       "      <td>Inside</td>\n",
       "      <td>Gtl</td>\n",
       "      <td>OldTown</td>\n",
       "      <td>Norm</td>\n",
       "      <td>Norm</td>\n",
       "      <td>2fmCon</td>\n",
       "      <td>2Story</td>\n",
       "      <td>6</td>\n",
       "      <td>8</td>\n",
       "      <td>1910</td>\n",
       "      <td>1950</td>\n",
       "      <td>Gable</td>\n",
       "      <td>CompShg</td>\n",
       "      <td>AsbShng</td>\n",
       "      <td>AsbShng</td>\n",
       "      <td>0</td>\n",
       "      <td>TA</td>\n",
       "      <td>Fa</td>\n",
       "      <td>Stone</td>\n",
       "      <td>Fa</td>\n",
       "      <td>TA</td>\n",
       "      <td>No</td>\n",
       "      <td>Unf</td>\n",
       "      <td>0</td>\n",
       "      <td>Unf</td>\n",
       "      <td>0</td>\n",
       "      <td>1020</td>\n",
       "      <td>1020</td>\n",
       "      <td>GasA</td>\n",
       "      <td>Gd</td>\n",
       "      <td>0</td>\n",
       "      <td>FuseP</td>\n",
       "      <td>908</td>\n",
       "      <td>1020</td>\n",
       "      <td>0</td>\n",
       "      <td>1928</td>\n",
       "      <td>0</td>\n",
       "      <td>0</td>\n",
       "      <td>2</td>\n",
       "      <td>0</td>\n",
       "      <td>4</td>\n",
       "      <td>2</td>\n",
       "      <td>Fa</td>\n",
       "      <td>9</td>\n",
       "      <td>Typ</td>\n",
       "      <td>0</td>\n",
       "      <td>NA</td>\n",
       "      <td>Detchd</td>\n",
       "      <td>1910</td>\n",
       "      <td>Unf</td>\n",
       "      <td>1</td>\n",
       "      <td>440</td>\n",
       "      <td>Po</td>\n",
       "      <td>Po</td>\n",
       "      <td>Y</td>\n",
       "      <td>0</td>\n",
       "      <td>60</td>\n",
       "      <td>112</td>\n",
       "      <td>0</td>\n",
       "      <td>0</td>\n",
       "      <td>0</td>\n",
       "      <td>NA</td>\n",
       "      <td>NA</td>\n",
       "      <td>NA</td>\n",
       "      <td>0</td>\n",
       "      <td>4</td>\n",
       "      <td>2006</td>\n",
       "      <td>WD</td>\n",
       "    </tr>\n",
       "    <tr>\n",
       "      <th>1</th>\n",
       "      <td>2718</td>\n",
       "      <td>905108090</td>\n",
       "      <td>90</td>\n",
       "      <td>RL</td>\n",
       "      <td>69</td>\n",
       "      <td>9662</td>\n",
       "      <td>Pave</td>\n",
       "      <td>NA</td>\n",
       "      <td>IR1</td>\n",
       "      <td>Lvl</td>\n",
       "      <td>AllPub</td>\n",
       "      <td>Inside</td>\n",
       "      <td>Gtl</td>\n",
       "      <td>Sawyer</td>\n",
       "      <td>Norm</td>\n",
       "      <td>Norm</td>\n",
       "      <td>Duplex</td>\n",
       "      <td>1Story</td>\n",
       "      <td>5</td>\n",
       "      <td>4</td>\n",
       "      <td>1977</td>\n",
       "      <td>1977</td>\n",
       "      <td>Gable</td>\n",
       "      <td>CompShg</td>\n",
       "      <td>Plywood</td>\n",
       "      <td>Plywood</td>\n",
       "      <td>0</td>\n",
       "      <td>TA</td>\n",
       "      <td>TA</td>\n",
       "      <td>CBlock</td>\n",
       "      <td>Gd</td>\n",
       "      <td>TA</td>\n",
       "      <td>No</td>\n",
       "      <td>Unf</td>\n",
       "      <td>0</td>\n",
       "      <td>Unf</td>\n",
       "      <td>0</td>\n",
       "      <td>1967</td>\n",
       "      <td>1967</td>\n",
       "      <td>GasA</td>\n",
       "      <td>TA</td>\n",
       "      <td>1</td>\n",
       "      <td>SBrkr</td>\n",
       "      <td>1967</td>\n",
       "      <td>0</td>\n",
       "      <td>0</td>\n",
       "      <td>1967</td>\n",
       "      <td>0</td>\n",
       "      <td>0</td>\n",
       "      <td>2</td>\n",
       "      <td>0</td>\n",
       "      <td>6</td>\n",
       "      <td>2</td>\n",
       "      <td>TA</td>\n",
       "      <td>10</td>\n",
       "      <td>Typ</td>\n",
       "      <td>0</td>\n",
       "      <td>NA</td>\n",
       "      <td>Attchd</td>\n",
       "      <td>1977</td>\n",
       "      <td>Fin</td>\n",
       "      <td>2</td>\n",
       "      <td>580</td>\n",
       "      <td>TA</td>\n",
       "      <td>TA</td>\n",
       "      <td>Y</td>\n",
       "      <td>170</td>\n",
       "      <td>0</td>\n",
       "      <td>0</td>\n",
       "      <td>0</td>\n",
       "      <td>0</td>\n",
       "      <td>0</td>\n",
       "      <td>NA</td>\n",
       "      <td>NA</td>\n",
       "      <td>NA</td>\n",
       "      <td>0</td>\n",
       "      <td>8</td>\n",
       "      <td>2006</td>\n",
       "      <td>WD</td>\n",
       "    </tr>\n",
       "  </tbody>\n",
       "</table>\n",
       "</div>"
      ],
      "text/plain": [
       "     Id        PID  MS SubClass MS Zoning  Lot Frontage  Lot Area Street  \\\n",
       "0  2658  902301120          190        RM            69      9142   Pave   \n",
       "1  2718  905108090           90        RL            69      9662   Pave   \n",
       "\n",
       "  Alley Lot Shape Land Contour Utilities Lot Config Land Slope Neighborhood  \\\n",
       "0  Grvl       Reg          Lvl    AllPub     Inside        Gtl      OldTown   \n",
       "1    NA       IR1          Lvl    AllPub     Inside        Gtl       Sawyer   \n",
       "\n",
       "  Condition 1 Condition 2 Bldg Type House Style  Overall Qual  Overall Cond  \\\n",
       "0        Norm        Norm    2fmCon      2Story             6             8   \n",
       "1        Norm        Norm    Duplex      1Story             5             4   \n",
       "\n",
       "   Year Built  Year Remod/Add Roof Style Roof Matl Exterior 1st Exterior 2nd  \\\n",
       "0        1910            1950      Gable   CompShg      AsbShng      AsbShng   \n",
       "1        1977            1977      Gable   CompShg      Plywood      Plywood   \n",
       "\n",
       "   Mas Vnr Area Exter Qual Exter Cond Foundation Bsmt Qual Bsmt Cond  \\\n",
       "0             0         TA         Fa      Stone        Fa        TA   \n",
       "1             0         TA         TA     CBlock        Gd        TA   \n",
       "\n",
       "  Bsmt Exposure BsmtFin Type 1  BsmtFin SF 1 BsmtFin Type 2  BsmtFin SF 2  \\\n",
       "0            No            Unf             0            Unf             0   \n",
       "1            No            Unf             0            Unf             0   \n",
       "\n",
       "   Bsmt Unf SF  Total Bsmt SF Heating Heating QC  Central Air Electrical  \\\n",
       "0         1020           1020    GasA         Gd            0      FuseP   \n",
       "1         1967           1967    GasA         TA            1      SBrkr   \n",
       "\n",
       "   1st Flr SF  2nd Flr SF  Low Qual Fin SF  Gr Liv Area  Bsmt Full Bath  \\\n",
       "0         908        1020                0         1928               0   \n",
       "1        1967           0                0         1967               0   \n",
       "\n",
       "   Bsmt Half Bath  Full Bath  Half Bath  Bedroom AbvGr  Kitchen AbvGr  \\\n",
       "0               0          2          0              4              2   \n",
       "1               0          2          0              6              2   \n",
       "\n",
       "  Kitchen Qual  TotRms AbvGrd Functional  Fireplaces Fireplace Qu Garage Type  \\\n",
       "0           Fa              9        Typ           0           NA      Detchd   \n",
       "1           TA             10        Typ           0           NA      Attchd   \n",
       "\n",
       "   Garage Yr Blt Garage Finish  Garage Cars  Garage Area Garage Qual  \\\n",
       "0           1910           Unf            1          440          Po   \n",
       "1           1977           Fin            2          580          TA   \n",
       "\n",
       "  Garage Cond Paved Drive  Wood Deck SF  Open Porch SF  Enclosed Porch  \\\n",
       "0          Po           Y             0             60             112   \n",
       "1          TA           Y           170              0               0   \n",
       "\n",
       "   3Ssn Porch  Screen Porch  Pool Area Pool QC Fence Misc Feature  Misc Val  \\\n",
       "0           0             0          0      NA    NA           NA         0   \n",
       "1           0             0          0      NA    NA           NA         0   \n",
       "\n",
       "   Mo Sold  Yr Sold Sale Type  \n",
       "0        4     2006       WD   \n",
       "1        8     2006       WD   "
      ]
     },
     "execution_count": 40,
     "metadata": {},
     "output_type": "execute_result"
    }
   ],
   "source": [
    "df_test.head(2)"
   ]
  },
  {
   "cell_type": "code",
   "execution_count": 41,
   "metadata": {},
   "outputs": [
    {
     "data": {
      "text/html": [
       "<div>\n",
       "<style scoped>\n",
       "    .dataframe tbody tr th:only-of-type {\n",
       "        vertical-align: middle;\n",
       "    }\n",
       "\n",
       "    .dataframe tbody tr th {\n",
       "        vertical-align: top;\n",
       "    }\n",
       "\n",
       "    .dataframe thead th {\n",
       "        text-align: right;\n",
       "    }\n",
       "</style>\n",
       "<table border=\"1\" class=\"dataframe\">\n",
       "  <thead>\n",
       "    <tr style=\"text-align: right;\">\n",
       "      <th></th>\n",
       "      <th>Id</th>\n",
       "      <th>PID</th>\n",
       "      <th>MS SubClass</th>\n",
       "      <th>MS Zoning</th>\n",
       "      <th>Lot Frontage</th>\n",
       "      <th>Lot Area</th>\n",
       "      <th>Street</th>\n",
       "      <th>Alley</th>\n",
       "      <th>Lot Shape</th>\n",
       "      <th>Land Contour</th>\n",
       "      <th>Utilities</th>\n",
       "      <th>Lot Config</th>\n",
       "      <th>Land Slope</th>\n",
       "      <th>Neighborhood</th>\n",
       "      <th>Condition 1</th>\n",
       "      <th>Condition 2</th>\n",
       "      <th>Bldg Type</th>\n",
       "      <th>House Style</th>\n",
       "      <th>Overall Qual</th>\n",
       "      <th>Overall Cond</th>\n",
       "      <th>Year Built</th>\n",
       "      <th>Year Remod/Add</th>\n",
       "      <th>Roof Style</th>\n",
       "      <th>Roof Matl</th>\n",
       "      <th>Exterior 1st</th>\n",
       "      <th>Exterior 2nd</th>\n",
       "      <th>Mas Vnr Area</th>\n",
       "      <th>Exter Qual</th>\n",
       "      <th>Exter Cond</th>\n",
       "      <th>Foundation</th>\n",
       "      <th>Bsmt Qual</th>\n",
       "      <th>Bsmt Cond</th>\n",
       "      <th>Bsmt Exposure</th>\n",
       "      <th>BsmtFin Type 1</th>\n",
       "      <th>BsmtFin SF 1</th>\n",
       "      <th>BsmtFin Type 2</th>\n",
       "      <th>BsmtFin SF 2</th>\n",
       "      <th>Bsmt Unf SF</th>\n",
       "      <th>Total Bsmt SF</th>\n",
       "      <th>Heating</th>\n",
       "      <th>Heating QC</th>\n",
       "      <th>Central Air</th>\n",
       "      <th>Electrical</th>\n",
       "      <th>1st Flr SF</th>\n",
       "      <th>2nd Flr SF</th>\n",
       "      <th>Low Qual Fin SF</th>\n",
       "      <th>Gr Liv Area</th>\n",
       "      <th>Bsmt Full Bath</th>\n",
       "      <th>Bsmt Half Bath</th>\n",
       "      <th>Full Bath</th>\n",
       "      <th>Half Bath</th>\n",
       "      <th>Bedroom AbvGr</th>\n",
       "      <th>Kitchen AbvGr</th>\n",
       "      <th>Kitchen Qual</th>\n",
       "      <th>TotRms AbvGrd</th>\n",
       "      <th>Functional</th>\n",
       "      <th>Fireplaces</th>\n",
       "      <th>Fireplace Qu</th>\n",
       "      <th>Garage Type</th>\n",
       "      <th>Garage Yr Blt</th>\n",
       "      <th>Garage Finish</th>\n",
       "      <th>Garage Cars</th>\n",
       "      <th>Garage Area</th>\n",
       "      <th>Garage Qual</th>\n",
       "      <th>Garage Cond</th>\n",
       "      <th>Paved Drive</th>\n",
       "      <th>Wood Deck SF</th>\n",
       "      <th>Open Porch SF</th>\n",
       "      <th>Enclosed Porch</th>\n",
       "      <th>3Ssn Porch</th>\n",
       "      <th>Screen Porch</th>\n",
       "      <th>Pool Area</th>\n",
       "      <th>Pool QC</th>\n",
       "      <th>Fence</th>\n",
       "      <th>Misc Feature</th>\n",
       "      <th>Misc Val</th>\n",
       "      <th>Mo Sold</th>\n",
       "      <th>Yr Sold</th>\n",
       "      <th>Sale Type</th>\n",
       "      <th>SalePrice</th>\n",
       "    </tr>\n",
       "  </thead>\n",
       "  <tbody>\n",
       "    <tr>\n",
       "      <th>0</th>\n",
       "      <td>109</td>\n",
       "      <td>533352170</td>\n",
       "      <td>60</td>\n",
       "      <td>RL</td>\n",
       "      <td>69</td>\n",
       "      <td>13517</td>\n",
       "      <td>Pave</td>\n",
       "      <td>NA</td>\n",
       "      <td>IR1</td>\n",
       "      <td>Lvl</td>\n",
       "      <td>AllPub</td>\n",
       "      <td>CulDSac</td>\n",
       "      <td>Gtl</td>\n",
       "      <td>Sawyer</td>\n",
       "      <td>RRAe</td>\n",
       "      <td>Norm</td>\n",
       "      <td>1Fam</td>\n",
       "      <td>2Story</td>\n",
       "      <td>6</td>\n",
       "      <td>8</td>\n",
       "      <td>1976</td>\n",
       "      <td>2005</td>\n",
       "      <td>Gable</td>\n",
       "      <td>CompShg</td>\n",
       "      <td>HdBoard</td>\n",
       "      <td>Plywood</td>\n",
       "      <td>289</td>\n",
       "      <td>Gd</td>\n",
       "      <td>TA</td>\n",
       "      <td>CBlock</td>\n",
       "      <td>TA</td>\n",
       "      <td>TA</td>\n",
       "      <td>No</td>\n",
       "      <td>GLQ</td>\n",
       "      <td>533</td>\n",
       "      <td>Unf</td>\n",
       "      <td>0</td>\n",
       "      <td>192</td>\n",
       "      <td>725</td>\n",
       "      <td>GasA</td>\n",
       "      <td>Ex</td>\n",
       "      <td>1</td>\n",
       "      <td>SBrkr</td>\n",
       "      <td>725</td>\n",
       "      <td>754</td>\n",
       "      <td>0</td>\n",
       "      <td>1479</td>\n",
       "      <td>0</td>\n",
       "      <td>0</td>\n",
       "      <td>2</td>\n",
       "      <td>1</td>\n",
       "      <td>3</td>\n",
       "      <td>1</td>\n",
       "      <td>Gd</td>\n",
       "      <td>6</td>\n",
       "      <td>Typ</td>\n",
       "      <td>0</td>\n",
       "      <td>NA</td>\n",
       "      <td>Attchd</td>\n",
       "      <td>1976</td>\n",
       "      <td>RFn</td>\n",
       "      <td>2</td>\n",
       "      <td>475</td>\n",
       "      <td>TA</td>\n",
       "      <td>TA</td>\n",
       "      <td>Y</td>\n",
       "      <td>0</td>\n",
       "      <td>44</td>\n",
       "      <td>0</td>\n",
       "      <td>0</td>\n",
       "      <td>0</td>\n",
       "      <td>0</td>\n",
       "      <td>NA</td>\n",
       "      <td>NA</td>\n",
       "      <td>NA</td>\n",
       "      <td>0</td>\n",
       "      <td>3</td>\n",
       "      <td>2010</td>\n",
       "      <td>WD</td>\n",
       "      <td>130500.0</td>\n",
       "    </tr>\n",
       "  </tbody>\n",
       "</table>\n",
       "</div>"
      ],
      "text/plain": [
       "    Id        PID  MS SubClass MS Zoning  Lot Frontage  Lot Area Street Alley  \\\n",
       "0  109  533352170           60        RL            69     13517   Pave    NA   \n",
       "\n",
       "  Lot Shape Land Contour Utilities Lot Config Land Slope Neighborhood  \\\n",
       "0       IR1          Lvl    AllPub    CulDSac        Gtl       Sawyer   \n",
       "\n",
       "  Condition 1 Condition 2 Bldg Type House Style  Overall Qual  Overall Cond  \\\n",
       "0        RRAe        Norm      1Fam      2Story             6             8   \n",
       "\n",
       "   Year Built  Year Remod/Add Roof Style Roof Matl Exterior 1st Exterior 2nd  \\\n",
       "0        1976            2005      Gable   CompShg      HdBoard      Plywood   \n",
       "\n",
       "   Mas Vnr Area Exter Qual Exter Cond Foundation Bsmt Qual Bsmt Cond  \\\n",
       "0           289         Gd         TA     CBlock        TA        TA   \n",
       "\n",
       "  Bsmt Exposure BsmtFin Type 1  BsmtFin SF 1 BsmtFin Type 2  BsmtFin SF 2  \\\n",
       "0            No            GLQ           533            Unf             0   \n",
       "\n",
       "   Bsmt Unf SF  Total Bsmt SF Heating Heating QC  Central Air Electrical  \\\n",
       "0          192            725    GasA         Ex            1      SBrkr   \n",
       "\n",
       "   1st Flr SF  2nd Flr SF  Low Qual Fin SF  Gr Liv Area  Bsmt Full Bath  \\\n",
       "0         725         754                0         1479               0   \n",
       "\n",
       "   Bsmt Half Bath  Full Bath  Half Bath  Bedroom AbvGr  Kitchen AbvGr  \\\n",
       "0               0          2          1              3              1   \n",
       "\n",
       "  Kitchen Qual  TotRms AbvGrd Functional  Fireplaces Fireplace Qu Garage Type  \\\n",
       "0           Gd              6        Typ           0           NA      Attchd   \n",
       "\n",
       "   Garage Yr Blt Garage Finish  Garage Cars  Garage Area Garage Qual  \\\n",
       "0           1976           RFn            2          475          TA   \n",
       "\n",
       "  Garage Cond Paved Drive  Wood Deck SF  Open Porch SF  Enclosed Porch  \\\n",
       "0          TA           Y             0             44               0   \n",
       "\n",
       "   3Ssn Porch  Screen Porch  Pool Area Pool QC Fence Misc Feature  Misc Val  \\\n",
       "0           0             0          0      NA    NA           NA         0   \n",
       "\n",
       "   Mo Sold  Yr Sold Sale Type  SalePrice  \n",
       "0        3     2010       WD    130500.0  "
      ]
     },
     "execution_count": 41,
     "metadata": {},
     "output_type": "execute_result"
    }
   ],
   "source": [
    "df_comb = pd.concat([df_train, df_test], axis=0)\n",
    "df_comb.head(1)"
   ]
  },
  {
   "cell_type": "code",
   "execution_count": 42,
   "metadata": {},
   "outputs": [
    {
     "data": {
      "text/plain": [
       "Index(['MS Zoning', 'Street', 'Alley', 'Lot Shape', 'Land Contour',\n",
       "       'Utilities', 'Lot Config', 'Land Slope', 'Neighborhood', 'Condition 1',\n",
       "       'Condition 2', 'Bldg Type', 'House Style', 'Roof Style', 'Roof Matl',\n",
       "       'Exterior 1st', 'Exterior 2nd', 'Exter Qual', 'Exter Cond',\n",
       "       'Foundation', 'Bsmt Qual', 'Bsmt Cond', 'Bsmt Exposure',\n",
       "       'BsmtFin Type 1', 'BsmtFin Type 2', 'Heating', 'Heating QC',\n",
       "       'Electrical', 'Kitchen Qual', 'Functional', 'Fireplace Qu',\n",
       "       'Garage Type', 'Garage Finish', 'Garage Qual', 'Garage Cond',\n",
       "       'Paved Drive', 'Pool QC', 'Fence', 'Misc Feature', 'Sale Type'],\n",
       "      dtype='object')"
      ]
     },
     "execution_count": 42,
     "metadata": {},
     "output_type": "execute_result"
    }
   ],
   "source": [
    "df_comb.select_dtypes(include='object').columns"
   ]
  },
  {
   "cell_type": "code",
   "execution_count": 43,
   "metadata": {},
   "outputs": [],
   "source": [
    "object_typed = ['MS Zoning', 'Street', 'Alley', 'Lot Shape', 'Land Contour',\n",
    "       'Utilities', 'Lot Config', 'Land Slope', 'Neighborhood', 'Condition 1',\n",
    "       'Condition 2', 'Bldg Type', 'House Style', 'Roof Style', 'Roof Matl',\n",
    "       'Exterior 1st', 'Exterior 2nd', 'Exter Qual', 'Exter Cond',\n",
    "       'Foundation', 'Bsmt Qual', 'Bsmt Cond', 'Bsmt Exposure',\n",
    "       'BsmtFin Type 1', 'BsmtFin Type 2', 'Heating', 'Heating QC',\n",
    "       'Electrical', 'Kitchen Qual', 'Functional', 'Fireplace Qu',\n",
    "       'Garage Type', 'Garage Finish', 'Garage Qual', 'Garage Cond',\n",
    "       'Paved Drive', 'Pool QC', 'Fence', 'Misc Feature', 'Sale Type']"
   ]
  },
  {
   "cell_type": "code",
   "execution_count": 44,
   "metadata": {},
   "outputs": [],
   "source": [
    "label_encoded = df_comb[object_typed].apply(LabelEncoder().fit_transform)"
   ]
  },
  {
   "cell_type": "code",
   "execution_count": 45,
   "metadata": {},
   "outputs": [],
   "source": [
    "df_comb.drop(columns = object_typed, inplace=True)"
   ]
  },
  {
   "cell_type": "code",
   "execution_count": 46,
   "metadata": {},
   "outputs": [],
   "source": [
    "df_comb1 = pd.concat([df_comb,label_encoded], axis=1)"
   ]
  },
  {
   "cell_type": "code",
   "execution_count": 47,
   "metadata": {},
   "outputs": [],
   "source": [
    "df_train_numeric = df_comb1[:2044]"
   ]
  },
  {
   "cell_type": "code",
   "execution_count": 48,
   "metadata": {},
   "outputs": [],
   "source": [
    "df_test_numeric = df_comb1[2044:]"
   ]
  },
  {
   "cell_type": "code",
   "execution_count": null,
   "metadata": {},
   "outputs": [],
   "source": []
  },
  {
   "cell_type": "markdown",
   "metadata": {},
   "source": [
    "# EDA"
   ]
  },
  {
   "cell_type": "code",
   "execution_count": 49,
   "metadata": {},
   "outputs": [],
   "source": [
    "plus_not_bad_corr = (df_train_numeric.corr()['SalePrice'].sort_values())  # getting all the corr coeff for SalesPrice\n",
    "plus_not_bad_corr = pd.DataFrame(plus_not_bad_corr)  #making it a dataframe\n",
    "plus_4_corr = plus_not_bad_corr[plus_not_bad_corr.SalePrice>0.4].index.values.tolist() #extracting all that are > 0.4\n",
    "minus_4_corr = plus_not_bad_corr[plus_not_bad_corr.SalePrice<-0.4].index.values.tolist() #extracting all that are <-0.4\n",
    "not_bad_corr = plus_4_corr + minus_4_corr   #combining them into a list of quite 'influential' features"
   ]
  },
  {
   "cell_type": "code",
   "execution_count": 50,
   "metadata": {},
   "outputs": [
    {
     "data": {
      "image/png": "[encoded data removed]",
      "text/plain": [
       "<Figure size 1440x1440 with 2 Axes>"
      ]
     },
     "metadata": {
      "needs_background": "light"
     },
     "output_type": "display_data"
    }
   ],
   "source": [
    "plt.figure(figsize=(20,20))\n",
    "mask = np.zeros_like(df_train_numeric[not_bad_corr].corr())\n",
    "mask[np.triu_indices_from(mask)] = True\n",
    "sns.heatmap(df_train_numeric[not_bad_corr].corr(), annot = True, mask = mask)\n",
    "plt.title('Train Dataset: Feature Corr Heatmap');"
   ]
  },
  {
   "cell_type": "code",
   "execution_count": 51,
   "metadata": {},
   "outputs": [],
   "source": [
    "not_bad_corr.remove('SalePrice')"
   ]
  },
  {
   "cell_type": "code",
   "execution_count": 52,
   "metadata": {},
   "outputs": [
    {
     "data": {
      "image/png": "[encoded data removed]",
      "text/plain": [
       "<Figure size 180x3780 with 21 Axes>"
      ]
     },
     "metadata": {
      "needs_background": "light"
     },
     "output_type": "display_data"
    }
   ],
   "source": [
    "sns.pairplot(df_train_numeric, y_vars=not_bad_corr, x_vars=['SalePrice']);"
   ]
  },
  {
   "cell_type": "code",
   "execution_count": 53,
   "metadata": {},
   "outputs": [
    {
     "data": {
      "text/html": [
       "<div>\n",
       "<style scoped>\n",
       "    .dataframe tbody tr th:only-of-type {\n",
       "        vertical-align: middle;\n",
       "    }\n",
       "\n",
       "    .dataframe tbody tr th {\n",
       "        vertical-align: top;\n",
       "    }\n",
       "\n",
       "    .dataframe thead th {\n",
       "        text-align: right;\n",
       "    }\n",
       "</style>\n",
       "<table border=\"1\" class=\"dataframe\">\n",
       "  <thead>\n",
       "    <tr style=\"text-align: right;\">\n",
       "      <th></th>\n",
       "      <th>Id</th>\n",
       "      <th>PID</th>\n",
       "      <th>MS SubClass</th>\n",
       "      <th>Lot Frontage</th>\n",
       "      <th>Lot Area</th>\n",
       "      <th>Overall Qual</th>\n",
       "      <th>Overall Cond</th>\n",
       "      <th>Year Built</th>\n",
       "      <th>Year Remod/Add</th>\n",
       "      <th>Mas Vnr Area</th>\n",
       "      <th>BsmtFin SF 1</th>\n",
       "      <th>BsmtFin SF 2</th>\n",
       "      <th>Bsmt Unf SF</th>\n",
       "      <th>Total Bsmt SF</th>\n",
       "      <th>Central Air</th>\n",
       "      <th>1st Flr SF</th>\n",
       "      <th>2nd Flr SF</th>\n",
       "      <th>Low Qual Fin SF</th>\n",
       "      <th>Gr Liv Area</th>\n",
       "      <th>Bsmt Full Bath</th>\n",
       "      <th>Bsmt Half Bath</th>\n",
       "      <th>Full Bath</th>\n",
       "      <th>Half Bath</th>\n",
       "      <th>Bedroom AbvGr</th>\n",
       "      <th>Kitchen AbvGr</th>\n",
       "      <th>TotRms AbvGrd</th>\n",
       "      <th>Fireplaces</th>\n",
       "      <th>Garage Yr Blt</th>\n",
       "      <th>Garage Cars</th>\n",
       "      <th>Garage Area</th>\n",
       "      <th>Wood Deck SF</th>\n",
       "      <th>Open Porch SF</th>\n",
       "      <th>Enclosed Porch</th>\n",
       "      <th>3Ssn Porch</th>\n",
       "      <th>Screen Porch</th>\n",
       "      <th>Pool Area</th>\n",
       "      <th>Misc Val</th>\n",
       "      <th>Mo Sold</th>\n",
       "      <th>Yr Sold</th>\n",
       "      <th>SalePrice</th>\n",
       "      <th>MS Zoning</th>\n",
       "      <th>Street</th>\n",
       "      <th>Alley</th>\n",
       "      <th>Lot Shape</th>\n",
       "      <th>Land Contour</th>\n",
       "      <th>Utilities</th>\n",
       "      <th>Lot Config</th>\n",
       "      <th>Land Slope</th>\n",
       "      <th>Neighborhood</th>\n",
       "      <th>Condition 1</th>\n",
       "      <th>Condition 2</th>\n",
       "      <th>Bldg Type</th>\n",
       "      <th>House Style</th>\n",
       "      <th>Roof Style</th>\n",
       "      <th>Roof Matl</th>\n",
       "      <th>Exterior 1st</th>\n",
       "      <th>Exterior 2nd</th>\n",
       "      <th>Exter Qual</th>\n",
       "      <th>Exter Cond</th>\n",
       "      <th>Foundation</th>\n",
       "      <th>Bsmt Qual</th>\n",
       "      <th>Bsmt Cond</th>\n",
       "      <th>Bsmt Exposure</th>\n",
       "      <th>BsmtFin Type 1</th>\n",
       "      <th>BsmtFin Type 2</th>\n",
       "      <th>Heating</th>\n",
       "      <th>Heating QC</th>\n",
       "      <th>Electrical</th>\n",
       "      <th>Kitchen Qual</th>\n",
       "      <th>Functional</th>\n",
       "      <th>Fireplace Qu</th>\n",
       "      <th>Garage Type</th>\n",
       "      <th>Garage Finish</th>\n",
       "      <th>Garage Qual</th>\n",
       "      <th>Garage Cond</th>\n",
       "      <th>Paved Drive</th>\n",
       "      <th>Pool QC</th>\n",
       "      <th>Fence</th>\n",
       "      <th>Misc Feature</th>\n",
       "      <th>Sale Type</th>\n",
       "    </tr>\n",
       "  </thead>\n",
       "  <tbody>\n",
       "    <tr>\n",
       "      <th>1699</th>\n",
       "      <td>2261</td>\n",
       "      <td>916384070</td>\n",
       "      <td>20</td>\n",
       "      <td>68</td>\n",
       "      <td>8298</td>\n",
       "      <td>8</td>\n",
       "      <td>5</td>\n",
       "      <td>2006</td>\n",
       "      <td>2007</td>\n",
       "      <td>99</td>\n",
       "      <td>583</td>\n",
       "      <td>0</td>\n",
       "      <td>963</td>\n",
       "      <td>1546</td>\n",
       "      <td>1</td>\n",
       "      <td>1564</td>\n",
       "      <td>0</td>\n",
       "      <td>0</td>\n",
       "      <td>1564</td>\n",
       "      <td>0</td>\n",
       "      <td>0</td>\n",
       "      <td>2</td>\n",
       "      <td>0</td>\n",
       "      <td>2</td>\n",
       "      <td>1</td>\n",
       "      <td>6</td>\n",
       "      <td>1</td>\n",
       "      <td>2207</td>\n",
       "      <td>2</td>\n",
       "      <td>502</td>\n",
       "      <td>132</td>\n",
       "      <td>0</td>\n",
       "      <td>0</td>\n",
       "      <td>0</td>\n",
       "      <td>0</td>\n",
       "      <td>0</td>\n",
       "      <td>0</td>\n",
       "      <td>9</td>\n",
       "      <td>2007</td>\n",
       "      <td>267300.0</td>\n",
       "      <td>5</td>\n",
       "      <td>1</td>\n",
       "      <td>1</td>\n",
       "      <td>0</td>\n",
       "      <td>1</td>\n",
       "      <td>0</td>\n",
       "      <td>4</td>\n",
       "      <td>0</td>\n",
       "      <td>26</td>\n",
       "      <td>2</td>\n",
       "      <td>2</td>\n",
       "      <td>0</td>\n",
       "      <td>2</td>\n",
       "      <td>3</td>\n",
       "      <td>1</td>\n",
       "      <td>13</td>\n",
       "      <td>14</td>\n",
       "      <td>2</td>\n",
       "      <td>4</td>\n",
       "      <td>2</td>\n",
       "      <td>2</td>\n",
       "      <td>5</td>\n",
       "      <td>0</td>\n",
       "      <td>2</td>\n",
       "      <td>6</td>\n",
       "      <td>1</td>\n",
       "      <td>0</td>\n",
       "      <td>4</td>\n",
       "      <td>0</td>\n",
       "      <td>7</td>\n",
       "      <td>2</td>\n",
       "      <td>1</td>\n",
       "      <td>2</td>\n",
       "      <td>5</td>\n",
       "      <td>5</td>\n",
       "      <td>2</td>\n",
       "      <td>3</td>\n",
       "      <td>4</td>\n",
       "      <td>2</td>\n",
       "      <td>6</td>\n",
       "    </tr>\n",
       "  </tbody>\n",
       "</table>\n",
       "</div>"
      ],
      "text/plain": [
       "        Id        PID  MS SubClass  Lot Frontage  Lot Area  Overall Qual  \\\n",
       "1699  2261  916384070           20            68      8298             8   \n",
       "\n",
       "      Overall Cond  Year Built  Year Remod/Add  Mas Vnr Area  BsmtFin SF 1  \\\n",
       "1699             5        2006            2007            99           583   \n",
       "\n",
       "      BsmtFin SF 2  Bsmt Unf SF  Total Bsmt SF  Central Air  1st Flr SF  \\\n",
       "1699             0          963           1546            1        1564   \n",
       "\n",
       "      2nd Flr SF  Low Qual Fin SF  Gr Liv Area  Bsmt Full Bath  \\\n",
       "1699           0                0         1564               0   \n",
       "\n",
       "      Bsmt Half Bath  Full Bath  Half Bath  Bedroom AbvGr  Kitchen AbvGr  \\\n",
       "1699               0          2          0              2              1   \n",
       "\n",
       "      TotRms AbvGrd  Fireplaces  Garage Yr Blt  Garage Cars  Garage Area  \\\n",
       "1699              6           1           2207            2          502   \n",
       "\n",
       "      Wood Deck SF  Open Porch SF  Enclosed Porch  3Ssn Porch  Screen Porch  \\\n",
       "1699           132              0               0           0             0   \n",
       "\n",
       "      Pool Area  Misc Val  Mo Sold  Yr Sold  SalePrice  MS Zoning  Street  \\\n",
       "1699          0         0        9     2007   267300.0          5       1   \n",
       "\n",
       "      Alley  Lot Shape  Land Contour  Utilities  Lot Config  Land Slope  \\\n",
       "1699      1          0             1          0           4           0   \n",
       "\n",
       "      Neighborhood  Condition 1  Condition 2  Bldg Type  House Style  \\\n",
       "1699            26            2            2          0            2   \n",
       "\n",
       "      Roof Style  Roof Matl  Exterior 1st  Exterior 2nd  Exter Qual  \\\n",
       "1699           3          1            13            14           2   \n",
       "\n",
       "      Exter Cond  Foundation  Bsmt Qual  Bsmt Cond  Bsmt Exposure  \\\n",
       "1699           4           2          2          5              0   \n",
       "\n",
       "      BsmtFin Type 1  BsmtFin Type 2  Heating  Heating QC  Electrical  \\\n",
       "1699               2               6        1           0           4   \n",
       "\n",
       "      Kitchen Qual  Functional  Fireplace Qu  Garage Type  Garage Finish  \\\n",
       "1699             0           7             2            1              2   \n",
       "\n",
       "      Garage Qual  Garage Cond  Paved Drive  Pool QC  Fence  Misc Feature  \\\n",
       "1699            5            5            2        3      4             2   \n",
       "\n",
       "      Sale Type  \n",
       "1699          6  "
      ]
     },
     "execution_count": 53,
     "metadata": {},
     "output_type": "execute_result"
    }
   ],
   "source": [
    "df_train_numeric.loc[df_train_numeric['Garage Yr Blt']>2150]#outlier found from pairplot"
   ]
  },
  {
   "cell_type": "code",
   "execution_count": 54,
   "metadata": {},
   "outputs": [
    {
     "name": "stderr",
     "output_type": "stream",
     "text": [
      "C:\\Users\\fadhil\\anaconda3\\lib\\site-packages\\pandas\\core\\frame.py:3997: SettingWithCopyWarning: \n",
      "A value is trying to be set on a copy of a slice from a DataFrame\n",
      "\n",
      "See the caveats in the documentation: https://pandas.pydata.org/pandas-docs/stable/user_guide/indexing.html#returning-a-view-versus-a-copy\n",
      "  errors=errors,\n"
     ]
    }
   ],
   "source": [
    "df_train_numeric.drop([1699], inplace=True)"
   ]
  },
  {
   "cell_type": "markdown",
   "metadata": {},
   "source": [
    "# Model Prep"
   ]
  },
  {
   "cell_type": "code",
   "execution_count": 55,
   "metadata": {},
   "outputs": [],
   "source": [
    "features = not_bad_corr\n",
    "X=df_train_numeric[features]\n",
    "y=df_train_numeric['SalePrice']"
   ]
  },
  {
   "cell_type": "code",
   "execution_count": 56,
   "metadata": {},
   "outputs": [
    {
     "name": "stdout",
     "output_type": "stream",
     "text": [
      "(2043, 21)\n"
     ]
    },
    {
     "data": {
      "text/plain": [
       "(2043,)"
      ]
     },
     "execution_count": 56,
     "metadata": {},
     "output_type": "execute_result"
    }
   ],
   "source": [
    "print(X.shape)\n",
    "y.shape"
   ]
  },
  {
   "cell_type": "code",
   "execution_count": 57,
   "metadata": {},
   "outputs": [],
   "source": [
    "#we do train_test_split\n",
    "X_train, X_test, y_train, y_test =  train_test_split(X,y)"
   ]
  },
  {
   "cell_type": "code",
   "execution_count": 58,
   "metadata": {},
   "outputs": [
    {
     "data": {
      "text/plain": [
       "StandardScaler(copy=True, with_mean=True, with_std=True)"
      ]
     },
     "execution_count": 58,
     "metadata": {},
     "output_type": "execute_result"
    }
   ],
   "source": [
    "ss = StandardScaler()\n",
    "ss.fit(X_train)"
   ]
  },
  {
   "cell_type": "code",
   "execution_count": 59,
   "metadata": {},
   "outputs": [],
   "source": [
    "#scaling of x_test should follow x_train fit.\n",
    "X_train_sc= ss.transform(X_train)\n",
    "X_test_sc = ss.transform(X_test)"
   ]
  },
  {
   "cell_type": "code",
   "execution_count": 60,
   "metadata": {},
   "outputs": [],
   "source": [
    "#Instantiate our models to see which is the best to use\n",
    "lr= LinearRegression()\n",
    "lasso= LassoCV(n_alphas = 300)\n",
    "ridge = RidgeCV(alphas = np.linspace(0.1,10,300))"
   ]
  },
  {
   "cell_type": "code",
   "execution_count": 61,
   "metadata": {},
   "outputs": [],
   "source": [
    "#cross validate our 3 models\n",
    "lr_scores = cross_val_score(lr, X_train_sc, y_train).mean()\n",
    "lasso_scores = cross_val_score(lasso, X_train_sc, y_train).mean()\n",
    "ridge_scores = cross_val_score(ridge, X_train_sc, y_train).mean()"
   ]
  },
  {
   "cell_type": "code",
   "execution_count": 62,
   "metadata": {},
   "outputs": [
    {
     "name": "stdout",
     "output_type": "stream",
     "text": [
      "0.7996026954637823\n",
      "0.8001110466059295\n",
      "0.8001599165591337\n"
     ]
    }
   ],
   "source": [
    "print(lr_scores)\n",
    "print(lasso_scores)  #lasso seems to be the best here\n",
    "print(ridge_scores)"
   ]
  },
  {
   "cell_type": "code",
   "execution_count": 63,
   "metadata": {},
   "outputs": [
    {
     "data": {
      "text/plain": [
       "LassoCV(alphas=None, copy_X=True, cv=None, eps=0.001, fit_intercept=True,\n",
       "        max_iter=1000, n_alphas=300, n_jobs=None, normalize=False,\n",
       "        positive=False, precompute='auto', random_state=None,\n",
       "        selection='cyclic', tol=0.0001, verbose=False)"
      ]
     },
     "execution_count": 63,
     "metadata": {},
     "output_type": "execute_result"
    }
   ],
   "source": [
    "lasso.fit(X_train_sc, y_train)"
   ]
  },
  {
   "cell_type": "code",
   "execution_count": 64,
   "metadata": {},
   "outputs": [
    {
     "data": {
      "text/plain": [
       "0.8215935012556195"
      ]
     },
     "execution_count": 64,
     "metadata": {},
     "output_type": "execute_result"
    }
   ],
   "source": [
    "lasso.score(X_train_sc, y_train) #train r^2"
   ]
  },
  {
   "cell_type": "code",
   "execution_count": 65,
   "metadata": {},
   "outputs": [
    {
     "data": {
      "text/plain": [
       "0.8465711246174162"
      ]
     },
     "execution_count": 65,
     "metadata": {},
     "output_type": "execute_result"
    }
   ],
   "source": [
    "lasso.score(X_test_sc, y_test)  #test r^2"
   ]
  },
  {
   "cell_type": "code",
   "execution_count": 66,
   "metadata": {},
   "outputs": [
    {
     "data": {
      "text/plain": [
       "0.8001110466059295"
      ]
     },
     "execution_count": 66,
     "metadata": {},
     "output_type": "execute_result"
    }
   ],
   "source": [
    "lasso_scores.mean() #Estimate of test r^2"
   ]
  },
  {
   "cell_type": "code",
   "execution_count": 67,
   "metadata": {},
   "outputs": [],
   "source": [
    "predictions = lasso.predict(X_test_sc)"
   ]
  },
  {
   "cell_type": "code",
   "execution_count": 68,
   "metadata": {},
   "outputs": [],
   "source": [
    "residuals = y_test-predictions"
   ]
  },
  {
   "cell_type": "code",
   "execution_count": 69,
   "metadata": {},
   "outputs": [
    {
     "data": {
      "text/plain": [
       "Text(0, 0.5, 'Residuals')"
      ]
     },
     "execution_count": 69,
     "metadata": {},
     "output_type": "execute_result"
    },
    {
     "data": {
      "image/png": "[encoded data removed]",
      "text/plain": [
       "<Figure size 432x288 with 1 Axes>"
      ]
     },
     "metadata": {
      "needs_background": "light"
     },
     "output_type": "display_data"
    }
   ],
   "source": [
    "plt.scatter(predictions,residuals)\n",
    "plt.xlabel('Predictions')\n",
    "plt.ylabel('Residuals')"
   ]
  },
  {
   "cell_type": "code",
   "execution_count": 70,
   "metadata": {},
   "outputs": [
    {
     "data": {
      "text/plain": [
       "array([    0.        ,  6802.21299249,  5925.76828411,  2730.09836055,\n",
       "        4080.96224395,    -0.        ,     0.        ,  2896.65017355,\n",
       "        1300.81516343,  3593.25720826,  3477.89140942,  7341.19041561,\n",
       "        3837.65073755, 14512.22124437, 21303.47716067, -7590.32263732,\n",
       "       -7628.85981187, -3672.5605619 , -3192.80889097,  -563.70688048,\n",
       "        -999.45333572])"
      ]
     },
     "execution_count": 70,
     "metadata": {},
     "output_type": "execute_result"
    }
   ],
   "source": [
    "lasso.coef_"
   ]
  },
  {
   "cell_type": "code",
   "execution_count": 71,
   "metadata": {},
   "outputs": [
    {
     "data": {
      "text/plain": [
       "['Foundation',\n",
       " 'BsmtFin SF 1',\n",
       " 'Fireplaces',\n",
       " 'TotRms AbvGrd',\n",
       " 'Mas Vnr Area',\n",
       " 'Garage Yr Blt',\n",
       " 'Full Bath',\n",
       " 'Year Remod/Add',\n",
       " 'Year Built',\n",
       " '1st Flr SF',\n",
       " 'Total Bsmt SF',\n",
       " 'Garage Cars',\n",
       " 'Garage Area',\n",
       " 'Gr Liv Area',\n",
       " 'Overall Qual',\n",
       " 'Exter Qual',\n",
       " 'Kitchen Qual',\n",
       " 'Bsmt Qual',\n",
       " 'Garage Finish',\n",
       " 'Garage Type',\n",
       " 'Heating QC']"
      ]
     },
     "execution_count": 71,
     "metadata": {},
     "output_type": "execute_result"
    }
   ],
   "source": [
    "features"
   ]
  },
  {
   "cell_type": "code",
   "execution_count": 72,
   "metadata": {},
   "outputs": [],
   "source": [
    "df_coef = pd.DataFrame(lasso.coef_, index = [features]) "
   ]
  },
  {
   "cell_type": "code",
   "execution_count": 73,
   "metadata": {},
   "outputs": [],
   "source": [
    "df_coef = df_coef.reset_index()"
   ]
  },
  {
   "cell_type": "code",
   "execution_count": 74,
   "metadata": {},
   "outputs": [],
   "source": [
    "df_coef.columns = ['Features','Coefficient']"
   ]
  },
  {
   "cell_type": "code",
   "execution_count": 75,
   "metadata": {},
   "outputs": [],
   "source": [
    "df_coef.drop(df_coef[df_coef.Coefficient == 0].index, inplace=True)"
   ]
  },
  {
   "cell_type": "code",
   "execution_count": 76,
   "metadata": {},
   "outputs": [],
   "source": [
    "reduced_features = df_coef['Features'].values.tolist()"
   ]
  },
  {
   "cell_type": "code",
   "execution_count": 77,
   "metadata": {},
   "outputs": [
    {
     "data": {
      "text/html": [
       "<div>\n",
       "<style scoped>\n",
       "    .dataframe tbody tr th:only-of-type {\n",
       "        vertical-align: middle;\n",
       "    }\n",
       "\n",
       "    .dataframe tbody tr th {\n",
       "        vertical-align: top;\n",
       "    }\n",
       "\n",
       "    .dataframe thead th {\n",
       "        text-align: right;\n",
       "    }\n",
       "</style>\n",
       "<table border=\"1\" class=\"dataframe\">\n",
       "  <thead>\n",
       "    <tr style=\"text-align: right;\">\n",
       "      <th></th>\n",
       "      <th>Features</th>\n",
       "      <th>Coefficient</th>\n",
       "    </tr>\n",
       "  </thead>\n",
       "  <tbody>\n",
       "    <tr>\n",
       "      <th>1</th>\n",
       "      <td>BsmtFin SF 1</td>\n",
       "      <td>6802.212992</td>\n",
       "    </tr>\n",
       "    <tr>\n",
       "      <th>2</th>\n",
       "      <td>Fireplaces</td>\n",
       "      <td>5925.768284</td>\n",
       "    </tr>\n",
       "    <tr>\n",
       "      <th>3</th>\n",
       "      <td>TotRms AbvGrd</td>\n",
       "      <td>2730.098361</td>\n",
       "    </tr>\n",
       "    <tr>\n",
       "      <th>4</th>\n",
       "      <td>Mas Vnr Area</td>\n",
       "      <td>4080.962244</td>\n",
       "    </tr>\n",
       "    <tr>\n",
       "      <th>7</th>\n",
       "      <td>Year Remod/Add</td>\n",
       "      <td>2896.650174</td>\n",
       "    </tr>\n",
       "    <tr>\n",
       "      <th>8</th>\n",
       "      <td>Year Built</td>\n",
       "      <td>1300.815163</td>\n",
       "    </tr>\n",
       "    <tr>\n",
       "      <th>9</th>\n",
       "      <td>1st Flr SF</td>\n",
       "      <td>3593.257208</td>\n",
       "    </tr>\n",
       "    <tr>\n",
       "      <th>10</th>\n",
       "      <td>Total Bsmt SF</td>\n",
       "      <td>3477.891409</td>\n",
       "    </tr>\n",
       "    <tr>\n",
       "      <th>11</th>\n",
       "      <td>Garage Cars</td>\n",
       "      <td>7341.190416</td>\n",
       "    </tr>\n",
       "    <tr>\n",
       "      <th>12</th>\n",
       "      <td>Garage Area</td>\n",
       "      <td>3837.650738</td>\n",
       "    </tr>\n",
       "    <tr>\n",
       "      <th>13</th>\n",
       "      <td>Gr Liv Area</td>\n",
       "      <td>14512.221244</td>\n",
       "    </tr>\n",
       "    <tr>\n",
       "      <th>14</th>\n",
       "      <td>Overall Qual</td>\n",
       "      <td>21303.477161</td>\n",
       "    </tr>\n",
       "    <tr>\n",
       "      <th>15</th>\n",
       "      <td>Exter Qual</td>\n",
       "      <td>-7590.322637</td>\n",
       "    </tr>\n",
       "    <tr>\n",
       "      <th>16</th>\n",
       "      <td>Kitchen Qual</td>\n",
       "      <td>-7628.859812</td>\n",
       "    </tr>\n",
       "    <tr>\n",
       "      <th>17</th>\n",
       "      <td>Bsmt Qual</td>\n",
       "      <td>-3672.560562</td>\n",
       "    </tr>\n",
       "    <tr>\n",
       "      <th>18</th>\n",
       "      <td>Garage Finish</td>\n",
       "      <td>-3192.808891</td>\n",
       "    </tr>\n",
       "    <tr>\n",
       "      <th>19</th>\n",
       "      <td>Garage Type</td>\n",
       "      <td>-563.706880</td>\n",
       "    </tr>\n",
       "    <tr>\n",
       "      <th>20</th>\n",
       "      <td>Heating QC</td>\n",
       "      <td>-999.453336</td>\n",
       "    </tr>\n",
       "  </tbody>\n",
       "</table>\n",
       "</div>"
      ],
      "text/plain": [
       "          Features   Coefficient\n",
       "1     BsmtFin SF 1   6802.212992\n",
       "2       Fireplaces   5925.768284\n",
       "3    TotRms AbvGrd   2730.098361\n",
       "4     Mas Vnr Area   4080.962244\n",
       "7   Year Remod/Add   2896.650174\n",
       "8       Year Built   1300.815163\n",
       "9       1st Flr SF   3593.257208\n",
       "10   Total Bsmt SF   3477.891409\n",
       "11     Garage Cars   7341.190416\n",
       "12     Garage Area   3837.650738\n",
       "13     Gr Liv Area  14512.221244\n",
       "14    Overall Qual  21303.477161\n",
       "15      Exter Qual  -7590.322637\n",
       "16    Kitchen Qual  -7628.859812\n",
       "17       Bsmt Qual  -3672.560562\n",
       "18   Garage Finish  -3192.808891\n",
       "19     Garage Type   -563.706880\n",
       "20      Heating QC   -999.453336"
      ]
     },
     "execution_count": 77,
     "metadata": {},
     "output_type": "execute_result"
    }
   ],
   "source": [
    "df_coef"
   ]
  },
  {
   "cell_type": "code",
   "execution_count": 78,
   "metadata": {},
   "outputs": [
    {
     "data": {
      "text/plain": [
       "['BsmtFin SF 1',\n",
       " 'Fireplaces',\n",
       " 'TotRms AbvGrd',\n",
       " 'Mas Vnr Area',\n",
       " 'Year Remod/Add',\n",
       " 'Year Built',\n",
       " '1st Flr SF',\n",
       " 'Total Bsmt SF',\n",
       " 'Garage Cars',\n",
       " 'Garage Area',\n",
       " 'Gr Liv Area',\n",
       " 'Overall Qual',\n",
       " 'Exter Qual',\n",
       " 'Kitchen Qual',\n",
       " 'Bsmt Qual',\n",
       " 'Garage Finish',\n",
       " 'Garage Type',\n",
       " 'Heating QC']"
      ]
     },
     "execution_count": 78,
     "metadata": {},
     "output_type": "execute_result"
    }
   ],
   "source": [
    "reduced_features"
   ]
  },
  {
   "cell_type": "markdown",
   "metadata": {},
   "source": [
    "### Now we heave reduced features, we use this in our model"
   ]
  },
  {
   "cell_type": "code",
   "execution_count": 79,
   "metadata": {},
   "outputs": [],
   "source": [
    "testdata_X = df_test_numeric[reduced_features]"
   ]
  },
  {
   "cell_type": "code",
   "execution_count": 80,
   "metadata": {},
   "outputs": [],
   "source": [
    "X = df_train_numeric[reduced_features]\n",
    "y = df_train_numeric['SalePrice']\n",
    "X_train, X_test, y_train, y_test =  train_test_split(X,y)\n",
    "ss = StandardScaler()\n",
    "ss.fit(X_train)\n",
    "X_train_sc= ss.transform(X_train)\n",
    "X_test_sc = ss.transform(X_test)\n",
    "testdata_X_sc= ss.transform(testdata_X)\n",
    "lasso= LassoCV(n_alphas = 300)\n",
    "lasso.fit(X_train_sc, y_train)\n",
    "predictions = lasso.predict(testdata_X_sc)\n"
   ]
  },
  {
   "cell_type": "code",
   "execution_count": 81,
   "metadata": {},
   "outputs": [
    {
     "name": "stdout",
     "output_type": "stream",
     "text": [
      "(879, 80)\n"
     ]
    },
    {
     "data": {
      "text/plain": [
       "879"
      ]
     },
     "execution_count": 81,
     "metadata": {},
     "output_type": "execute_result"
    }
   ],
   "source": [
    "print(df_test_numeric.shape)\n",
    "len(predictions)"
   ]
  },
  {
   "cell_type": "code",
   "execution_count": 82,
   "metadata": {},
   "outputs": [
    {
     "data": {
      "text/plain": [
       "array([174906.79224276, 186207.2670681 , 206340.72918411, 121487.38196208,\n",
       "       193691.4868908 ,  80432.37238432,  91194.26476509, 136216.48014621,\n",
       "       194485.68499097, 169208.73917535, 175519.32776336, 123296.88528055,\n",
       "       151454.47875503, 283057.73427477, 155332.19543839, 132989.54781485,\n",
       "       172060.00062939, 104006.23126791, 202931.67355125, 213555.29358861,\n",
       "       132275.5248335 , 117056.00853928, 208823.2998116 , 157381.55282854,\n",
       "       193111.69883938,  97464.10880185, 128548.11555972, 156417.17037738,\n",
       "       155893.92355705,  48071.45491267,  87753.34173657,  95552.42027403,\n",
       "       257056.17452559, 168274.9568832 , 224418.32008325, 176867.18795156,\n",
       "       142349.08267043, 108536.34130332, 120048.20019097, 197419.21544918,\n",
       "       163623.45889713, 222693.02592692, 152449.03958507, 166445.84492016,\n",
       "       252221.35174994,  94892.45372608, 227950.18536919, 106261.92273483,\n",
       "       107469.16506703, 118312.69965196, 104334.34800885, 232789.61781269,\n",
       "       258785.91591088, 122266.40086526, 116486.03145647, 147648.32593304,\n",
       "       161978.21946267, 138192.39910999, 169798.24637195, 243428.57330704,\n",
       "       318051.08571479, 134938.2332444 , 146597.27372527, 179517.12888516,\n",
       "       184916.90936599, 312802.9887435 ,  75505.67794434, 215444.9692763 ,\n",
       "        72173.13137586, 175059.72551741,  90843.4360883 , 320567.95287436,\n",
       "       209127.94104757, 194100.36075508, 127245.4675955 , 207541.07915461,\n",
       "       529482.74664621, 159162.06387357, 145675.39079097,  87083.70686537,\n",
       "       363045.47597863, 217859.97792205, 121628.66604986, 135513.93384688,\n",
       "       119051.89755947, 177056.74667338, 341907.35644259, 108464.14629831,\n",
       "       192770.31306671, 246606.72162925, 146053.84142566, 123711.3872183 ,\n",
       "       106234.32464727, 145211.83970011, 224882.75913806, 110637.9911287 ,\n",
       "       146339.90233641, 160134.53385624, 241024.64976404, 194458.26674489,\n",
       "       224017.30391241, 315675.48254987, 195223.39992209, 104725.50736094,\n",
       "       439665.95843412, 160305.26773853,  97253.60332969, 182372.56127244,\n",
       "       196978.2466733 , 179147.89454329, 161905.42923281, 190321.55221825,\n",
       "       239358.26939039, 118156.70561872, 114062.95039938, 236835.84566631,\n",
       "       431995.13730528, 169885.61668369, 119437.33098469, 344816.21856241,\n",
       "       185849.02571792, 398411.47996744, 292270.53584011, 294417.98666916,\n",
       "       153607.60586422, 140141.07984078, 344511.07108347,  99574.71491363,\n",
       "       125032.26982579, 112723.40160258, 269996.91006429, 138707.82738161,\n",
       "       196681.37806528, 145133.22683974, 168047.77031212, 164951.52614317,\n",
       "       239535.05535549, 198977.24433852, 185339.72478695, 212825.29730473,\n",
       "       109298.55609185, 188478.13246182, 116267.44419272, 127215.09503663,\n",
       "       170140.8151475 ,  95892.3849873 , 154395.93414801, 152065.07742052,\n",
       "       146696.16312097,  90637.63949157, 218104.91961542, 202357.60839728,\n",
       "       152574.66067231, 115921.34939252, 116086.38668181, 113243.01019132,\n",
       "       120263.32628709,  68587.35950465, 136741.80400285, 246654.80834162,\n",
       "       272617.69036549, 216799.88620343, 109962.61240437, 113490.07984634,\n",
       "       445403.72715241, 300536.54882603, 250533.07487175, 172033.33561231,\n",
       "       189519.14606223, 251566.14263911, 203241.35940041, 459352.09892193,\n",
       "       133664.67946503, 172313.9568392 , 172182.53456369, 217758.31174211,\n",
       "       181627.02236355, 107187.30853235, 184828.96412206,  81077.20444927,\n",
       "       125956.07076465, 119108.71769892, 206831.53139086, 241489.95579688,\n",
       "       194313.64719578, 167746.95926525, 112462.06905254, 214513.07420776,\n",
       "       209827.73834639, 105273.56802215,  86317.78470305, 183831.55062781,\n",
       "       130608.19635163, 131370.62431275, 104014.51842019, 189916.33002302,\n",
       "       152182.41772741, 274247.49600135, 141197.80011892, 118193.90967263,\n",
       "       126190.77166681, 295757.22010049, 188843.35041031, 113012.49847674,\n",
       "       194660.91599502, 138711.09385335,  84124.36610126, 157665.385163  ,\n",
       "       143000.79870467, 229696.20270796, 223619.05280233, 189549.86036405,\n",
       "       205864.22415379, 109626.64318349, 249088.87821991, 282880.36335396,\n",
       "       207328.20029676, 229770.27328867, 155351.25942575,  93951.82367247,\n",
       "       129343.11323774, 198766.47742265, 145019.76202494, 180749.49384453,\n",
       "       186712.30880547, 120006.1130314 , 109339.4084641 , 258142.89181627,\n",
       "       219996.70920101, 126149.99620473, 284609.9600267 , 176962.90411171,\n",
       "        62973.88473793, 157203.55631589,  85875.86470912, 292154.48299375,\n",
       "       169021.23986779,  82551.28058026, 421150.76885123, 335098.98752083,\n",
       "       211881.10786351, 242937.31205752, 152122.12618194, 294078.34795419,\n",
       "       249453.26471644, 336099.26651755, 265760.49051178, 127243.90243152,\n",
       "       106481.17197777, 181910.38223688, 320805.7008297 , 278502.42027951,\n",
       "       165580.70725674, 249919.31674165, 231873.39029029, 196351.40276193,\n",
       "        84726.74449161,  79167.67025678, 415295.913064  , 227976.59969197,\n",
       "       246042.49521058, 198810.75257453, 130210.61980632, 129144.41844729,\n",
       "       163326.8433983 , 228568.1978625 , 163555.31059256, 128789.46338961,\n",
       "       220838.23508413, 161631.91686988, 153230.3854913 , 208561.76199868,\n",
       "       195476.72413483, 184087.7912987 , 328731.45021119,  99328.2598148 ,\n",
       "       130153.75939446, 168210.15294872, 176970.41598638, 104906.39081225,\n",
       "       112452.8819514 , 246397.77654545, 141830.86238269, 101606.46520362,\n",
       "        93294.85804912, 139921.99036192, 228015.23444849, 193875.471744  ,\n",
       "       117149.13190845, 113679.66256334, 123296.28058013,  94444.61018185,\n",
       "       154648.86656445,  80566.43939229,  97288.59178659, 162307.37044714,\n",
       "       175059.72551741, 213472.79951819, 254818.0410908 , 259949.75086154,\n",
       "       148876.77733158, 184170.20025037, 336904.54110297, 123066.49610028,\n",
       "       145667.8449543 ,  83631.77438381,  90715.40426202, 197046.99838783,\n",
       "       209120.77509873, 134363.84206651, 109328.35102546, 221716.56635408,\n",
       "       226153.13722279, 256452.19566948, 274231.81955005, 129522.94664047,\n",
       "       336770.27279346, 366389.89048027, 259425.20640974, 244911.19043356,\n",
       "       127574.44919076,  56376.63157725, 114428.62978791, 142645.79712562,\n",
       "       248658.62721373, 120166.85195138, 144407.86463309, 139685.87318976,\n",
       "       189395.93883638, 209716.21926151, 131621.27685612, 182922.34556414,\n",
       "       186138.57107334, 162229.18670793, 235540.65089086, 105641.06211703,\n",
       "       177199.41314857, 102571.57071586, 121409.01914615, 133299.95867284,\n",
       "       193283.50654251, 199881.14792158, 107348.97953776, 132052.81574359,\n",
       "       183536.47963026, 286790.36115147, 241094.26306894, 174187.50972863,\n",
       "        98594.38995574, 215557.23197001, 145549.68989131, 162569.4071086 ,\n",
       "       152150.24601703, 129464.30554028, 282123.57925553, 135215.24528861,\n",
       "       285015.01867308, 164107.62691429, 217875.3227789 , 259660.07256277,\n",
       "       125827.24191906, 165573.36890094, 137876.39740164, 107503.82340054,\n",
       "       171776.83808973, 213235.21336331, 281010.26108861, 204630.56714572,\n",
       "       220877.80713638, 219821.54411033,  89071.83020428, 222571.44957665,\n",
       "       123510.03921399, 161318.0677677 , 370868.7270425 , 109447.56603113,\n",
       "       271934.36472945, 175735.44085506, 272829.49970554, 229659.59393297,\n",
       "       151026.39572006, 145642.91118332, 190059.63708018, 349044.67507532,\n",
       "       301155.56714638, 227139.80276312, 177837.01532935, 191527.04396559,\n",
       "       208118.41696627, 124007.51230016, 121914.05649874, 112599.69982836,\n",
       "       313529.46382432, 162790.48875846, 122603.01559638, 191596.55610402,\n",
       "        69347.16280215, 195102.16491941, 177546.1831826 , 122863.92808895,\n",
       "       120018.09098762, 212062.09939977, 250108.38127724, 112593.9792165 ,\n",
       "       273852.67281314, 137272.24793065, 107364.17637879, 148655.13372521,\n",
       "       233765.37722597, 274756.91044739, 121701.87736269, 137459.38037902,\n",
       "       132707.35086131, 255055.73361674, 148894.80500858, 278614.97547561,\n",
       "       322875.25407835, 109939.46009243, 240108.047285  ,  95859.43339158,\n",
       "       173639.21592658, 257347.11142342, 107826.37488262, 222506.66472986,\n",
       "       117603.2634267 , 237230.45848309, 385288.03364675, 233896.72551779,\n",
       "       220708.77264352, 126248.47209404, 292929.37434188, 117744.48933673,\n",
       "       125482.25264752, 119922.02006228, 208020.0010505 , 100982.98945902,\n",
       "       289119.45615869, 212001.23232293, 171413.21667512, 166937.25710754,\n",
       "       186239.91185715, 209979.02256181, 138254.97857632, 123914.01552782,\n",
       "       181576.73070909, 167855.00004633, 196753.61819868,  90069.00463711,\n",
       "        75634.76480778, 293267.67700003, 144527.96867488, 215257.10396966,\n",
       "       287250.65318775, 225178.73701353, 183079.10432373, 194290.86918852,\n",
       "       235380.71730009, 235804.61875237, 132021.73660619, 248359.73798532,\n",
       "       119420.4846783 , 163329.89218679, 122123.98071345, 153993.62057344,\n",
       "       507100.88341357, 110290.25548958, 221885.14751356, 227657.98927386,\n",
       "       245114.41301774, 115665.25113283,  96932.10754461, 136926.2665376 ,\n",
       "       237417.47516039, 182318.59576178,  97321.49641467, 258876.43611519,\n",
       "       235717.5195781 , 116071.72464087, 149161.88722261,  94844.71725484,\n",
       "       193664.00279954,  71645.84668483, 233711.73024275, 104711.27730639,\n",
       "       195127.13994556, 278415.50824746, 146030.07750932, 180061.24718252,\n",
       "       203815.50457727, 216765.46696455, 139178.67832253, 159311.23403544,\n",
       "       209239.29232899, 167753.77597164, 231947.71522816, 363337.65330716,\n",
       "       212801.14699149, 143066.3444745 , 119426.02662051, 174239.73082596,\n",
       "       110123.76811577, 188616.27175289, 232780.46345995, 195142.9692306 ,\n",
       "       177522.90595122, 247452.43639614, 125163.47119141, 278142.50061738,\n",
       "       128296.34388955, 116956.28315116, 258201.08241852, 132958.40553696,\n",
       "       151775.58261363, 119991.96718993, 128757.81385919,  14643.97332443,\n",
       "       197783.28922678, 165838.06960647, 195391.51318319, 281247.45400943,\n",
       "       266051.77324913, 100137.88575623, 123687.38231735, 124552.93448454,\n",
       "       111676.3660567 , 247684.18951716, 391259.08824252, 211501.89757725,\n",
       "       118005.74426514, 122658.14598462,  62411.6490821 , 127144.94320224,\n",
       "       193359.29412215, 146978.55340745, 197754.31584344, 170489.0396987 ,\n",
       "       143131.72599547,  66098.36379531, 229554.03362508, 138811.20503527,\n",
       "       194559.90527888, 136786.842188  ,  76262.89209944,  75173.45634145,\n",
       "       144259.05898858, 242038.61535397, 312373.84539967, 235164.93361717,\n",
       "       100232.67273526, 118981.74074463, 277528.62272657, 125738.76076063,\n",
       "       295962.50205169,  86839.85280525, 159555.6068859 , 223486.64154677,\n",
       "        87483.29650691, 125127.53429414, 163248.52776219, 126021.40498861,\n",
       "       158450.8365663 , 100773.53997437, 183226.42593679, 179911.64335913,\n",
       "       127987.34959533, 142751.58947954, 108336.20148787, 122990.62854623,\n",
       "       229470.05930529, 120792.19670983, 138158.63580502, 160365.21193963,\n",
       "       108960.66811742,  80044.09703245, 132936.05194437, 184163.09628916,\n",
       "       111989.09036845, 183928.51864487, 165212.21356292, 218191.97879   ,\n",
       "       105595.42983569, 170722.87135205, 143681.11622795, 274375.19490936,\n",
       "       139640.68542944, 151329.31305468, 159250.30319215, 147887.60712314,\n",
       "       131530.3218693 , 301295.76865795, 231350.41138104, 122883.35472848,\n",
       "        97422.41308105, 129725.89457146, 124804.55078168, 362047.05666255,\n",
       "       224510.48838222, 142683.52251337, 128585.91785512, 130473.07482806,\n",
       "       349760.95138338, 125886.99426755, 208060.90271161, 119692.51769093,\n",
       "       178713.5082321 , 246529.83009198,  80789.6735885 , 113930.23878728,\n",
       "       103510.4855991 , 164852.42263348, 136879.99253419, 107161.01527907,\n",
       "       336268.92952118, 224509.89675525, 128210.99416736, 133682.78871487,\n",
       "        75017.55897976, 199303.71767348, 283038.93198375,  95482.41187348,\n",
       "       176970.32227647, 209443.41805884, 132461.7125218 , 138198.63009992,\n",
       "       106439.61312159, 151392.12542044, 193358.66097172, 191724.80105968,\n",
       "       113831.80959568, 329860.98811558, 138453.69376589, 182876.41686378,\n",
       "       200354.17705118, 110752.38118195,  57866.11213351, 143777.45644816,\n",
       "       215731.1177223 , 186340.17958314, 161095.14937082, 126224.84274527,\n",
       "       155796.60151038, 305808.64543926, 111516.64084569, 232724.50730253,\n",
       "       253718.69923048, 152793.48749397,  73984.78781133, 257521.30985306,\n",
       "       192230.20980447, 149674.24281775, 175111.80004708, 130588.03023602,\n",
       "       110695.09139218, 104833.06274429, 144666.27062435,  46256.73952495,\n",
       "       152863.19551632, 220691.71210384, 166872.06601158, 268768.28705815,\n",
       "       186125.06949291, 163822.85098217, 180749.46784607, 186498.38665654,\n",
       "       234288.30688768, 364387.71951689, 230491.78674462, 227196.08430465,\n",
       "       182270.49267136, 160940.18618681, 301656.36358164, 216635.09575216,\n",
       "       282268.76733837, 229862.39786466, 133001.96050122, 104490.90927867,\n",
       "       128138.1348661 , 145983.74829233,  84491.89213983, 137837.55130764,\n",
       "        97466.32584734, 338718.08295068, 201149.30541979, 171958.17580348,\n",
       "       252409.07049174, 196950.01450408, 148465.34950544, 226678.10773313,\n",
       "       371405.31165382, 119517.76260381, 173026.44307029,  56337.36012909,\n",
       "       110349.0131398 , 248046.87762672, 119818.77966347, 213708.84106672,\n",
       "       174999.73107708, 194623.84778912, 317406.80058813, 103202.0614835 ,\n",
       "       257947.18813913, 176395.92262332, 148403.20121158, 175715.74770583,\n",
       "       107287.92827858, 308782.78539927, 281011.7933452 , 165523.67482735,\n",
       "       142725.29875392, 121376.24674976, 310338.73059173, 223892.05895307,\n",
       "        92799.00839736, 132074.95966682, 112574.05541778, 126338.71351518,\n",
       "       187220.77861249, 284462.72418542, 245632.2090089 , 188836.53012282,\n",
       "       241887.96424436, 228165.65394165, 275792.60647485, 136863.17896101,\n",
       "       112375.76847347, 285517.82394314, 209572.70196202, 197498.43557232,\n",
       "       107022.57551878, 262823.59245635,  90458.47442189, 229622.39052316,\n",
       "       191852.33065247, 254703.80714785, 148317.98917486, 207970.76946209,\n",
       "       141241.78910035, 152516.34865787, 150204.07697902, 132814.93057615,\n",
       "       130236.14121618, 234581.0396238 , 173393.93676181, 156108.64640865,\n",
       "       108607.54509603, 201156.57870743, 174390.9753469 , 194405.83973517,\n",
       "       223807.38013601, 123904.09279088, 321014.84225922, 258737.99278124,\n",
       "       135424.23116653, 162078.65422617, 173725.92945427, 109641.64391083,\n",
       "       146738.65697943, 420657.12865434,  77211.88872243, 146710.69014258,\n",
       "       231781.83785613, 134238.98525432, 235615.8685864 , 135138.70829125,\n",
       "       231663.57701273, 160589.45849836, 315394.49800923, 185475.26400394,\n",
       "       200712.20278572, 308081.31666783, 169410.88998996, 227373.78891992,\n",
       "       175157.26856734, 149828.1341899 , 220971.84408374, 103773.40698911,\n",
       "       148924.06523181, 209669.60674596, 122520.79347333, 109433.98302579,\n",
       "       162241.39227668, 202236.6526255 , 339073.06188512,  89250.17210123,\n",
       "       116245.95499711,  87958.80545563, 154150.5182808 , 268944.60507279,\n",
       "       136879.22523954, 268476.80147103, 160419.53979774, 205022.27557195,\n",
       "       253788.434487  , 202735.99461516, 288371.55780694, 181835.45249658,\n",
       "       238569.47791951, 171676.19160567, 221325.97384858, 256984.95135378,\n",
       "       237325.11830074, 121708.93806617, 113979.8341943 , 164760.74306702,\n",
       "        98945.04291379, 234618.56810637, 104594.85187364, 118006.20324   ,\n",
       "       201568.52864382, 131898.64258125, 109317.42155207, 137081.01833767,\n",
       "       300874.87971321, 161298.21029307, 169608.89333639, 228610.74460269,\n",
       "       209472.15691118, 216161.50746251,  96496.15146669,  99379.45819878,\n",
       "       151355.66952103, 180216.18344055,  97098.45479027, 333219.86471731,\n",
       "       158395.1728116 , 196410.89606907, 231590.12876079, 361687.88567575,\n",
       "       132044.13144809, 185316.89491069, 139827.75103426, 196813.39897552,\n",
       "       150639.69655802, 286849.21752302, 230402.78969255, 141854.73201009,\n",
       "       109594.49321131, 296372.41279357, 139539.44897107, 122130.04495002,\n",
       "       114622.44854653, 212764.77813792, 205775.51765543, 228745.15192721,\n",
       "       133266.97044457, 163100.4695949 , 176272.41054977, 252722.51032906,\n",
       "       221936.90525138, 122521.6267337 , 161259.17101368, 181444.06712756,\n",
       "       157182.13167603, 126648.89797557, 150139.31378329, 171787.29143383,\n",
       "       111907.5017464 , 202131.93296118,  90647.80335371, 203456.81552213,\n",
       "        93362.66090028, 343074.77429842, 147727.68655132, 138746.52134087,\n",
       "       167245.8361428 , 189979.07032643, 202950.47458622, 208455.1969455 ,\n",
       "       242497.33632863, 174883.85335265, 175556.81925929, 252725.75882957,\n",
       "       301114.15741577, 218950.02374944, 183061.44549619, 226542.07559651,\n",
       "       123182.38490312,  96623.66529252, 125285.33483136])"
      ]
     },
     "execution_count": 82,
     "metadata": {},
     "output_type": "execute_result"
    }
   ],
   "source": [
    "predictions"
   ]
  },
  {
   "cell_type": "code",
   "execution_count": 83,
   "metadata": {},
   "outputs": [
    {
     "name": "stderr",
     "output_type": "stream",
     "text": [
      "C:\\Users\\fadhil\\anaconda3\\lib\\site-packages\\ipykernel_launcher.py:1: SettingWithCopyWarning: \n",
      "A value is trying to be set on a copy of a slice from a DataFrame.\n",
      "Try using .loc[row_indexer,col_indexer] = value instead\n",
      "\n",
      "See the caveats in the documentation: https://pandas.pydata.org/pandas-docs/stable/user_guide/indexing.html#returning-a-view-versus-a-copy\n",
      "  \"\"\"Entry point for launching an IPython kernel.\n"
     ]
    }
   ],
   "source": [
    "df_test_numeric['SalePrice'] = predictions"
   ]
  },
  {
   "cell_type": "code",
   "execution_count": 84,
   "metadata": {},
   "outputs": [],
   "source": [
    "answer = df_test_numeric[['Id','SalePrice']]"
   ]
  },
  {
   "cell_type": "code",
   "execution_count": 85,
   "metadata": {},
   "outputs": [],
   "source": [
    "#answer.to_csv('../datasets/answer.csv', index = False)"
   ]
  }
 ],
 "metadata": {
  "kernelspec": {
   "display_name": "Python 3",
   "language": "python",
   "name": "python3"
  },
  "language_info": {
   "codemirror_mode": {
    "name": "ipython",
    "version": 3
   },
   "file_extension": ".py",
   "mimetype": "text/x-python",
   "name": "python",
   "nbconvert_exporter": "python",
   "pygments_lexer": "ipython3",
   "version": "3.7.6"
  }
 },
 "nbformat": 4,
 "nbformat_minor": 4
}
