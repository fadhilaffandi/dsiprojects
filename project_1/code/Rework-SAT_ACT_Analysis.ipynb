{
 "cells": [
  {
   "cell_type": "markdown",
   "metadata": {},
   "source": [
    "# Feedback\n",
    "<li>Project is well organized, use of Markup.\n",
    "<li>Pandas, data cleaning, Visualization skills are borderline good and can be significantly improved further on in this course\n",
    "<li>Graphs always need to be labelled properly :- title, xaxis, yaxis\n",
    "<li>Try to in corporate functions and subplots for plotting\n",
    "<li>Need to always provide code to support what is written.\n",
    "    \n",
    "<b>Project Organization: </b>2\n",
    "<br><b>Clarity of Message: </b>2\n",
    "<br><b>Python Syntax and Control Flow</b>2\n",
    "<br><b>Data Cleaning and EDA: </b> 2\n",
    "<br><b>Visualizations: </b>1\n",
    "<br><b>Research and Conceptual Understanding: </b>2\n",
    "<br><b>Presentation: </b>2"
   ]
  },
  {
   "cell_type": "markdown",
   "metadata": {},
   "source": [
    "# Project 1: SAT & ACT Analysis"
   ]
  },
  {
   "cell_type": "markdown",
   "metadata": {},
   "source": [
    "The first markdown cell in a notebook is a great place to provide an overview of your entire project. You will likely want to at least state your\n",
    "\n",
    "## Problem Statement"
   ]
  },
  {
   "cell_type": "markdown",
   "metadata": {},
   "source": [
    "ACT has gained traction in the US as an examination alongside SATs. With the introduction of a new format in the SATs in March 2016 we wish to see its impact on states and understand their preferences and their performances over the two exams. \n",
    "\n",
    "Objective\n",
    "\n",
    "understand the differences and trends of both SAT and ACT status quo and make recommendations to improve the rates of states with low particpation  of SATs."
   ]
  },
  {
   "cell_type": "markdown",
   "metadata": {},
   "source": [
    "## Executive Summary\n",
    "\n",
    "If you want to, it's great to use relative links to direct your audience to various sections of a notebook. **HERE'S A DEMONSTRATION WITH THE CURRENT SECTION HEADERS**:\n",
    "\n",
    "### Contents:\n",
    "- [2017 Data Import & Cleaning](#Data-Import-and-Cleaning)\n",
    "- [2018 Data Import and Cleaning](#2018-Data-Import-and-Cleaning)\n",
    "- [Exploratory Data Analysis](#Exploratory-Data-Analysis)\n",
    "- [Data Visualization](#Visualize-the-data)\n",
    "- [Descriptive and Inferential Statistics](#Descriptive-and-Inferential-Statistics)\n",
    "- [Outside Research](#Outside-Research)\n",
    "- [Conclusions and Recommendations](#Conclusions-and-Recommendations)\n",
    "- [Citations and Resources](#Citations-and-Resources)"
   ]
  },
  {
   "cell_type": "markdown",
   "metadata": {},
   "source": [
    "**If you combine your problem statement, executive summary, data dictionary, and conclusions/recommendations, you have an amazing README.md file that quickly aligns your audience to the contents of your project.** Don't forget to cite your data sources!"
   ]
  },
  {
   "cell_type": "markdown",
   "metadata": {},
   "source": [
    "*All libraries used should be added here*"
   ]
  },
  {
   "cell_type": "code",
   "execution_count": 1,
   "metadata": {},
   "outputs": [],
   "source": [
    "#Imports:\n",
    "import numpy as np\n",
    "import pandas as pd\n",
    "import matplotlib.pyplot as plt\n",
    "import seaborn as sns"
   ]
  },
  {
   "cell_type": "markdown",
   "metadata": {},
   "source": [
    "## 2017 Data Import and Cleaning"
   ]
  },
  {
   "cell_type": "markdown",
   "metadata": {},
   "source": [
    "#### 1. Read In SAT & ACT  Data\n",
    "\n",
    "Read in the `sat_2017.csv` and `act_2017.csv` files and assign them to appropriately named pandas dataframes."
   ]
  },
  {
   "cell_type": "code",
   "execution_count": 2,
   "metadata": {},
   "outputs": [],
   "source": [
    "#Code:\n",
    "sat_17 = pd.read_csv('../data/sat_2017.csv')\n",
    "act_17 = pd.read_csv('../data/act_2017.csv')"
   ]
  },
  {
   "cell_type": "markdown",
   "metadata": {},
   "source": [
    "#### 2. Display Data\n",
    "\n",
    "Print the first 10 rows of each dataframe to your jupyter notebook"
   ]
  },
  {
   "cell_type": "code",
   "execution_count": 3,
   "metadata": {},
   "outputs": [
    {
     "data": {
      "text/html": [
       "<div>\n",
       "<style scoped>\n",
       "    .dataframe tbody tr th:only-of-type {\n",
       "        vertical-align: middle;\n",
       "    }\n",
       "\n",
       "    .dataframe tbody tr th {\n",
       "        vertical-align: top;\n",
       "    }\n",
       "\n",
       "    .dataframe thead th {\n",
       "        text-align: right;\n",
       "    }\n",
       "</style>\n",
       "<table border=\"1\" class=\"dataframe\">\n",
       "  <thead>\n",
       "    <tr style=\"text-align: right;\">\n",
       "      <th></th>\n",
       "      <th>State</th>\n",
       "      <th>Participation</th>\n",
       "      <th>Evidence-Based Reading and Writing</th>\n",
       "      <th>Math</th>\n",
       "      <th>Total</th>\n",
       "    </tr>\n",
       "  </thead>\n",
       "  <tbody>\n",
       "    <tr>\n",
       "      <th>0</th>\n",
       "      <td>Alabama</td>\n",
       "      <td>5%</td>\n",
       "      <td>593</td>\n",
       "      <td>572</td>\n",
       "      <td>1165</td>\n",
       "    </tr>\n",
       "    <tr>\n",
       "      <th>1</th>\n",
       "      <td>Alaska</td>\n",
       "      <td>38%</td>\n",
       "      <td>547</td>\n",
       "      <td>533</td>\n",
       "      <td>1080</td>\n",
       "    </tr>\n",
       "    <tr>\n",
       "      <th>2</th>\n",
       "      <td>Arizona</td>\n",
       "      <td>30%</td>\n",
       "      <td>563</td>\n",
       "      <td>553</td>\n",
       "      <td>1116</td>\n",
       "    </tr>\n",
       "    <tr>\n",
       "      <th>3</th>\n",
       "      <td>Arkansas</td>\n",
       "      <td>3%</td>\n",
       "      <td>614</td>\n",
       "      <td>594</td>\n",
       "      <td>1208</td>\n",
       "    </tr>\n",
       "    <tr>\n",
       "      <th>4</th>\n",
       "      <td>California</td>\n",
       "      <td>53%</td>\n",
       "      <td>531</td>\n",
       "      <td>524</td>\n",
       "      <td>1055</td>\n",
       "    </tr>\n",
       "    <tr>\n",
       "      <th>5</th>\n",
       "      <td>Colorado</td>\n",
       "      <td>11%</td>\n",
       "      <td>606</td>\n",
       "      <td>595</td>\n",
       "      <td>1201</td>\n",
       "    </tr>\n",
       "    <tr>\n",
       "      <th>6</th>\n",
       "      <td>Connecticut</td>\n",
       "      <td>100%</td>\n",
       "      <td>530</td>\n",
       "      <td>512</td>\n",
       "      <td>1041</td>\n",
       "    </tr>\n",
       "    <tr>\n",
       "      <th>7</th>\n",
       "      <td>Delaware</td>\n",
       "      <td>100%</td>\n",
       "      <td>503</td>\n",
       "      <td>492</td>\n",
       "      <td>996</td>\n",
       "    </tr>\n",
       "    <tr>\n",
       "      <th>8</th>\n",
       "      <td>District of Columbia</td>\n",
       "      <td>100%</td>\n",
       "      <td>482</td>\n",
       "      <td>468</td>\n",
       "      <td>950</td>\n",
       "    </tr>\n",
       "    <tr>\n",
       "      <th>9</th>\n",
       "      <td>Florida</td>\n",
       "      <td>83%</td>\n",
       "      <td>520</td>\n",
       "      <td>497</td>\n",
       "      <td>1017</td>\n",
       "    </tr>\n",
       "  </tbody>\n",
       "</table>\n",
       "</div>"
      ],
      "text/plain": [
       "                  State Participation  Evidence-Based Reading and Writing  \\\n",
       "0               Alabama            5%                                 593   \n",
       "1                Alaska           38%                                 547   \n",
       "2               Arizona           30%                                 563   \n",
       "3              Arkansas            3%                                 614   \n",
       "4            California           53%                                 531   \n",
       "5              Colorado           11%                                 606   \n",
       "6           Connecticut          100%                                 530   \n",
       "7              Delaware          100%                                 503   \n",
       "8  District of Columbia          100%                                 482   \n",
       "9               Florida           83%                                 520   \n",
       "\n",
       "   Math  Total  \n",
       "0   572   1165  \n",
       "1   533   1080  \n",
       "2   553   1116  \n",
       "3   594   1208  \n",
       "4   524   1055  \n",
       "5   595   1201  \n",
       "6   512   1041  \n",
       "7   492    996  \n",
       "8   468    950  \n",
       "9   497   1017  "
      ]
     },
     "execution_count": 3,
     "metadata": {},
     "output_type": "execute_result"
    }
   ],
   "source": [
    "#Code:\n",
    "sat_17.head(10)"
   ]
  },
  {
   "cell_type": "code",
   "execution_count": 4,
   "metadata": {},
   "outputs": [
    {
     "data": {
      "text/html": [
       "<div>\n",
       "<style scoped>\n",
       "    .dataframe tbody tr th:only-of-type {\n",
       "        vertical-align: middle;\n",
       "    }\n",
       "\n",
       "    .dataframe tbody tr th {\n",
       "        vertical-align: top;\n",
       "    }\n",
       "\n",
       "    .dataframe thead th {\n",
       "        text-align: right;\n",
       "    }\n",
       "</style>\n",
       "<table border=\"1\" class=\"dataframe\">\n",
       "  <thead>\n",
       "    <tr style=\"text-align: right;\">\n",
       "      <th></th>\n",
       "      <th>State</th>\n",
       "      <th>Participation</th>\n",
       "      <th>English</th>\n",
       "      <th>Math</th>\n",
       "      <th>Reading</th>\n",
       "      <th>Science</th>\n",
       "      <th>Composite</th>\n",
       "    </tr>\n",
       "  </thead>\n",
       "  <tbody>\n",
       "    <tr>\n",
       "      <th>0</th>\n",
       "      <td>National</td>\n",
       "      <td>60%</td>\n",
       "      <td>20.3</td>\n",
       "      <td>20.7</td>\n",
       "      <td>21.4</td>\n",
       "      <td>21.0</td>\n",
       "      <td>21.0</td>\n",
       "    </tr>\n",
       "    <tr>\n",
       "      <th>1</th>\n",
       "      <td>Alabama</td>\n",
       "      <td>100%</td>\n",
       "      <td>18.9</td>\n",
       "      <td>18.4</td>\n",
       "      <td>19.7</td>\n",
       "      <td>19.4</td>\n",
       "      <td>19.2</td>\n",
       "    </tr>\n",
       "    <tr>\n",
       "      <th>2</th>\n",
       "      <td>Alaska</td>\n",
       "      <td>65%</td>\n",
       "      <td>18.7</td>\n",
       "      <td>19.8</td>\n",
       "      <td>20.4</td>\n",
       "      <td>19.9</td>\n",
       "      <td>19.8</td>\n",
       "    </tr>\n",
       "    <tr>\n",
       "      <th>3</th>\n",
       "      <td>Arizona</td>\n",
       "      <td>62%</td>\n",
       "      <td>18.6</td>\n",
       "      <td>19.8</td>\n",
       "      <td>20.1</td>\n",
       "      <td>19.8</td>\n",
       "      <td>19.7</td>\n",
       "    </tr>\n",
       "    <tr>\n",
       "      <th>4</th>\n",
       "      <td>Arkansas</td>\n",
       "      <td>100%</td>\n",
       "      <td>18.9</td>\n",
       "      <td>19.0</td>\n",
       "      <td>19.7</td>\n",
       "      <td>19.5</td>\n",
       "      <td>19.4</td>\n",
       "    </tr>\n",
       "    <tr>\n",
       "      <th>5</th>\n",
       "      <td>California</td>\n",
       "      <td>31%</td>\n",
       "      <td>22.5</td>\n",
       "      <td>22.7</td>\n",
       "      <td>23.1</td>\n",
       "      <td>22.2</td>\n",
       "      <td>22.8</td>\n",
       "    </tr>\n",
       "    <tr>\n",
       "      <th>6</th>\n",
       "      <td>Colorado</td>\n",
       "      <td>100%</td>\n",
       "      <td>20.1</td>\n",
       "      <td>20.3</td>\n",
       "      <td>21.2</td>\n",
       "      <td>20.9</td>\n",
       "      <td>20.8</td>\n",
       "    </tr>\n",
       "    <tr>\n",
       "      <th>7</th>\n",
       "      <td>Connecticut</td>\n",
       "      <td>31%</td>\n",
       "      <td>25.5</td>\n",
       "      <td>24.6</td>\n",
       "      <td>25.6</td>\n",
       "      <td>24.6</td>\n",
       "      <td>25.2</td>\n",
       "    </tr>\n",
       "    <tr>\n",
       "      <th>8</th>\n",
       "      <td>Delaware</td>\n",
       "      <td>18%</td>\n",
       "      <td>24.1</td>\n",
       "      <td>23.4</td>\n",
       "      <td>24.8</td>\n",
       "      <td>23.6</td>\n",
       "      <td>24.1</td>\n",
       "    </tr>\n",
       "    <tr>\n",
       "      <th>9</th>\n",
       "      <td>District of Columbia</td>\n",
       "      <td>32%</td>\n",
       "      <td>24.4</td>\n",
       "      <td>23.5</td>\n",
       "      <td>24.9</td>\n",
       "      <td>23.5</td>\n",
       "      <td>24.2</td>\n",
       "    </tr>\n",
       "  </tbody>\n",
       "</table>\n",
       "</div>"
      ],
      "text/plain": [
       "                  State Participation  English  Math  Reading  Science  \\\n",
       "0              National           60%     20.3  20.7     21.4     21.0   \n",
       "1               Alabama          100%     18.9  18.4     19.7     19.4   \n",
       "2                Alaska           65%     18.7  19.8     20.4     19.9   \n",
       "3               Arizona           62%     18.6  19.8     20.1     19.8   \n",
       "4              Arkansas          100%     18.9  19.0     19.7     19.5   \n",
       "5            California           31%     22.5  22.7     23.1     22.2   \n",
       "6              Colorado          100%     20.1  20.3     21.2     20.9   \n",
       "7           Connecticut           31%     25.5  24.6     25.6     24.6   \n",
       "8              Delaware           18%     24.1  23.4     24.8     23.6   \n",
       "9  District of Columbia           32%     24.4  23.5     24.9     23.5   \n",
       "\n",
       "  Composite  \n",
       "0      21.0  \n",
       "1      19.2  \n",
       "2      19.8  \n",
       "3      19.7  \n",
       "4      19.4  \n",
       "5      22.8  \n",
       "6      20.8  \n",
       "7      25.2  \n",
       "8      24.1  \n",
       "9      24.2  "
      ]
     },
     "execution_count": 4,
     "metadata": {},
     "output_type": "execute_result"
    }
   ],
   "source": [
    "act_17.head(10)"
   ]
  },
  {
   "cell_type": "code",
   "execution_count": 5,
   "metadata": {},
   "outputs": [
    {
     "data": {
      "text/html": [
       "<div>\n",
       "<style scoped>\n",
       "    .dataframe tbody tr th:only-of-type {\n",
       "        vertical-align: middle;\n",
       "    }\n",
       "\n",
       "    .dataframe tbody tr th {\n",
       "        vertical-align: top;\n",
       "    }\n",
       "\n",
       "    .dataframe thead th {\n",
       "        text-align: right;\n",
       "    }\n",
       "</style>\n",
       "<table border=\"1\" class=\"dataframe\">\n",
       "  <thead>\n",
       "    <tr style=\"text-align: right;\">\n",
       "      <th></th>\n",
       "      <th>State</th>\n",
       "      <th>Participation</th>\n",
       "      <th>English</th>\n",
       "      <th>Math</th>\n",
       "      <th>Reading</th>\n",
       "      <th>Science</th>\n",
       "      <th>Composite</th>\n",
       "    </tr>\n",
       "  </thead>\n",
       "  <tbody>\n",
       "    <tr>\n",
       "      <th>47</th>\n",
       "      <td>Virginia</td>\n",
       "      <td>29%</td>\n",
       "      <td>23.5</td>\n",
       "      <td>23.3</td>\n",
       "      <td>24.6</td>\n",
       "      <td>23.5</td>\n",
       "      <td>23.8</td>\n",
       "    </tr>\n",
       "    <tr>\n",
       "      <th>48</th>\n",
       "      <td>Washington</td>\n",
       "      <td>29%</td>\n",
       "      <td>20.9</td>\n",
       "      <td>21.9</td>\n",
       "      <td>22.1</td>\n",
       "      <td>22.0</td>\n",
       "      <td>21.9</td>\n",
       "    </tr>\n",
       "    <tr>\n",
       "      <th>49</th>\n",
       "      <td>West Virginia</td>\n",
       "      <td>69%</td>\n",
       "      <td>20.0</td>\n",
       "      <td>19.4</td>\n",
       "      <td>21.2</td>\n",
       "      <td>20.5</td>\n",
       "      <td>20.4</td>\n",
       "    </tr>\n",
       "    <tr>\n",
       "      <th>50</th>\n",
       "      <td>Wisconsin</td>\n",
       "      <td>100%</td>\n",
       "      <td>19.7</td>\n",
       "      <td>20.4</td>\n",
       "      <td>20.6</td>\n",
       "      <td>20.9</td>\n",
       "      <td>20.5</td>\n",
       "    </tr>\n",
       "    <tr>\n",
       "      <th>51</th>\n",
       "      <td>Wyoming</td>\n",
       "      <td>100%</td>\n",
       "      <td>19.4</td>\n",
       "      <td>19.8</td>\n",
       "      <td>20.8</td>\n",
       "      <td>20.6</td>\n",
       "      <td>20.2x</td>\n",
       "    </tr>\n",
       "  </tbody>\n",
       "</table>\n",
       "</div>"
      ],
      "text/plain": [
       "            State Participation  English  Math  Reading  Science Composite\n",
       "47       Virginia           29%     23.5  23.3     24.6     23.5      23.8\n",
       "48     Washington           29%     20.9  21.9     22.1     22.0      21.9\n",
       "49  West Virginia           69%     20.0  19.4     21.2     20.5      20.4\n",
       "50      Wisconsin          100%     19.7  20.4     20.6     20.9      20.5\n",
       "51        Wyoming          100%     19.4  19.8     20.8     20.6     20.2x"
      ]
     },
     "execution_count": 5,
     "metadata": {},
     "output_type": "execute_result"
    }
   ],
   "source": [
    "act_17.tail()"
   ]
  },
  {
   "cell_type": "markdown",
   "metadata": {},
   "source": [
    "#### 3. Verbally Describe Data\n",
    "\n",
    "Take your time looking through the data and thoroughly describe the data in the markdown cell below. "
   ]
  },
  {
   "cell_type": "markdown",
   "metadata": {},
   "source": [
    "<span style=\"color:red\">Please use df.describe() to backup your comment and consider the following too.</span> <-- below\n",
    "<li>Dataframe as a shape of 51 rows and 5 columns . Use df.shape() <p></span>\n",
    "<li>No missing values . <p></span>\n",
    "<li>3 variables which have dtype of int64 <p></span>\n",
    "<li>'State' variable is correctly stored as object dtype <p></span>\n",
    "<li>'Participation' variable is a % and is \"wrongly\" recorded as an object dtype<p></span>"
   ]
  },
  {
   "cell_type": "code",
   "execution_count": 6,
   "metadata": {},
   "outputs": [
    {
     "data": {
      "text/plain": [
       "(51, 5)"
      ]
     },
     "execution_count": 6,
     "metadata": {},
     "output_type": "execute_result"
    }
   ],
   "source": [
    "sat_17.shape"
   ]
  },
  {
   "cell_type": "code",
   "execution_count": 7,
   "metadata": {},
   "outputs": [
    {
     "data": {
      "text/plain": [
       "State                                 object\n",
       "Participation                         object\n",
       "Evidence-Based Reading and Writing     int64\n",
       "Math                                   int64\n",
       "Total                                  int64\n",
       "dtype: object"
      ]
     },
     "execution_count": 7,
     "metadata": {},
     "output_type": "execute_result"
    }
   ],
   "source": [
    "sat_17.dtypes"
   ]
  },
  {
   "cell_type": "markdown",
   "metadata": {},
   "source": [
    "SAT 2017\n",
    "\n",
    "The Dataframe is of shape 51 rows and 5 columns.    \n",
    "It is in fact a complete data set with no missing values.    \n",
    "Three variables are of dtype int64.    \n",
    "'State' variable is correctly sorted as object dtype.  \n",
    "Participation is incorrectly typed as object because it is a percentage."
   ]
  },
  {
   "cell_type": "code",
   "execution_count": 8,
   "metadata": {},
   "outputs": [
    {
     "data": {
      "text/html": [
       "<div>\n",
       "<style scoped>\n",
       "    .dataframe tbody tr th:only-of-type {\n",
       "        vertical-align: middle;\n",
       "    }\n",
       "\n",
       "    .dataframe tbody tr th {\n",
       "        vertical-align: top;\n",
       "    }\n",
       "\n",
       "    .dataframe thead th {\n",
       "        text-align: right;\n",
       "    }\n",
       "</style>\n",
       "<table border=\"1\" class=\"dataframe\">\n",
       "  <thead>\n",
       "    <tr style=\"text-align: right;\">\n",
       "      <th></th>\n",
       "      <th>Evidence-Based Reading and Writing</th>\n",
       "      <th>Math</th>\n",
       "      <th>Total</th>\n",
       "    </tr>\n",
       "  </thead>\n",
       "  <tbody>\n",
       "    <tr>\n",
       "      <th>count</th>\n",
       "      <td>51.000000</td>\n",
       "      <td>51.000000</td>\n",
       "      <td>51.000000</td>\n",
       "    </tr>\n",
       "    <tr>\n",
       "      <th>mean</th>\n",
       "      <td>569.117647</td>\n",
       "      <td>547.627451</td>\n",
       "      <td>1126.098039</td>\n",
       "    </tr>\n",
       "    <tr>\n",
       "      <th>std</th>\n",
       "      <td>45.666901</td>\n",
       "      <td>84.909119</td>\n",
       "      <td>92.494812</td>\n",
       "    </tr>\n",
       "    <tr>\n",
       "      <th>min</th>\n",
       "      <td>482.000000</td>\n",
       "      <td>52.000000</td>\n",
       "      <td>950.000000</td>\n",
       "    </tr>\n",
       "    <tr>\n",
       "      <th>25%</th>\n",
       "      <td>533.500000</td>\n",
       "      <td>522.000000</td>\n",
       "      <td>1055.500000</td>\n",
       "    </tr>\n",
       "    <tr>\n",
       "      <th>50%</th>\n",
       "      <td>559.000000</td>\n",
       "      <td>548.000000</td>\n",
       "      <td>1107.000000</td>\n",
       "    </tr>\n",
       "    <tr>\n",
       "      <th>75%</th>\n",
       "      <td>613.000000</td>\n",
       "      <td>599.000000</td>\n",
       "      <td>1212.000000</td>\n",
       "    </tr>\n",
       "    <tr>\n",
       "      <th>max</th>\n",
       "      <td>644.000000</td>\n",
       "      <td>651.000000</td>\n",
       "      <td>1295.000000</td>\n",
       "    </tr>\n",
       "  </tbody>\n",
       "</table>\n",
       "</div>"
      ],
      "text/plain": [
       "       Evidence-Based Reading and Writing        Math        Total\n",
       "count                           51.000000   51.000000    51.000000\n",
       "mean                           569.117647  547.627451  1126.098039\n",
       "std                             45.666901   84.909119    92.494812\n",
       "min                            482.000000   52.000000   950.000000\n",
       "25%                            533.500000  522.000000  1055.500000\n",
       "50%                            559.000000  548.000000  1107.000000\n",
       "75%                            613.000000  599.000000  1212.000000\n",
       "max                            644.000000  651.000000  1295.000000"
      ]
     },
     "execution_count": 8,
     "metadata": {},
     "output_type": "execute_result"
    }
   ],
   "source": [
    "sat_17.describe()"
   ]
  },
  {
   "cell_type": "markdown",
   "metadata": {},
   "source": [
    "SAT:  \n",
    "The Data is for 51 states.  \n",
    "It has means of 39% for participation, 569 for ERW, 556 for Math and 1126 for total  \n",
    "It has standard deviations of 35.2% for participation, 45 for ERW, 47 for Math and 92 for total  \n",
    "It has a data range 98% for participation, 162 for ERW, 183 for Math and 345 for total  \n",
    "Data for Math has a value 52 which seems to be an outlier.\n",
    "\n",
    "        "
   ]
  },
  {
   "cell_type": "code",
   "execution_count": 9,
   "metadata": {},
   "outputs": [
    {
     "data": {
      "text/plain": [
       "(52, 7)"
      ]
     },
     "execution_count": 9,
     "metadata": {},
     "output_type": "execute_result"
    }
   ],
   "source": [
    "act_17.shape"
   ]
  },
  {
   "cell_type": "code",
   "execution_count": 10,
   "metadata": {},
   "outputs": [
    {
     "data": {
      "text/plain": [
       "State             object\n",
       "Participation     object\n",
       "English          float64\n",
       "Math             float64\n",
       "Reading          float64\n",
       "Science          float64\n",
       "Composite         object\n",
       "dtype: object"
      ]
     },
     "execution_count": 10,
     "metadata": {},
     "output_type": "execute_result"
    }
   ],
   "source": [
    "act_17.dtypes"
   ]
  },
  {
   "cell_type": "markdown",
   "metadata": {},
   "source": [
    "ACT 2017\n",
    "\n",
    "The Dataframe is of shape 52 rows and 7 columns.    \n",
    "It is in fact a complete data set with no missing values.    \n",
    "Four variables are of dtype float64.    \n",
    "'State' variable is correctly sorted as object dtype.  \n",
    "Participation is incorrectly typed as object because it is a percentage.\n",
    "Composite is incorectly typed as object when it should be a float like the others"
   ]
  },
  {
   "cell_type": "code",
   "execution_count": 11,
   "metadata": {},
   "outputs": [
    {
     "data": {
      "text/html": [
       "<div>\n",
       "<style scoped>\n",
       "    .dataframe tbody tr th:only-of-type {\n",
       "        vertical-align: middle;\n",
       "    }\n",
       "\n",
       "    .dataframe tbody tr th {\n",
       "        vertical-align: top;\n",
       "    }\n",
       "\n",
       "    .dataframe thead th {\n",
       "        text-align: right;\n",
       "    }\n",
       "</style>\n",
       "<table border=\"1\" class=\"dataframe\">\n",
       "  <thead>\n",
       "    <tr style=\"text-align: right;\">\n",
       "      <th></th>\n",
       "      <th>English</th>\n",
       "      <th>Math</th>\n",
       "      <th>Reading</th>\n",
       "      <th>Science</th>\n",
       "    </tr>\n",
       "  </thead>\n",
       "  <tbody>\n",
       "    <tr>\n",
       "      <th>count</th>\n",
       "      <td>52.000000</td>\n",
       "      <td>52.000000</td>\n",
       "      <td>52.000000</td>\n",
       "      <td>52.000000</td>\n",
       "    </tr>\n",
       "    <tr>\n",
       "      <th>mean</th>\n",
       "      <td>20.919231</td>\n",
       "      <td>21.173077</td>\n",
       "      <td>22.001923</td>\n",
       "      <td>21.040385</td>\n",
       "    </tr>\n",
       "    <tr>\n",
       "      <th>std</th>\n",
       "      <td>2.332132</td>\n",
       "      <td>1.963602</td>\n",
       "      <td>2.048672</td>\n",
       "      <td>3.151113</td>\n",
       "    </tr>\n",
       "    <tr>\n",
       "      <th>min</th>\n",
       "      <td>16.300000</td>\n",
       "      <td>18.000000</td>\n",
       "      <td>18.100000</td>\n",
       "      <td>2.300000</td>\n",
       "    </tr>\n",
       "    <tr>\n",
       "      <th>25%</th>\n",
       "      <td>19.000000</td>\n",
       "      <td>19.400000</td>\n",
       "      <td>20.475000</td>\n",
       "      <td>19.900000</td>\n",
       "    </tr>\n",
       "    <tr>\n",
       "      <th>50%</th>\n",
       "      <td>20.550000</td>\n",
       "      <td>20.900000</td>\n",
       "      <td>21.700000</td>\n",
       "      <td>21.150000</td>\n",
       "    </tr>\n",
       "    <tr>\n",
       "      <th>75%</th>\n",
       "      <td>23.300000</td>\n",
       "      <td>23.100000</td>\n",
       "      <td>24.125000</td>\n",
       "      <td>22.525000</td>\n",
       "    </tr>\n",
       "    <tr>\n",
       "      <th>max</th>\n",
       "      <td>25.500000</td>\n",
       "      <td>25.300000</td>\n",
       "      <td>26.000000</td>\n",
       "      <td>24.900000</td>\n",
       "    </tr>\n",
       "  </tbody>\n",
       "</table>\n",
       "</div>"
      ],
      "text/plain": [
       "         English       Math    Reading    Science\n",
       "count  52.000000  52.000000  52.000000  52.000000\n",
       "mean   20.919231  21.173077  22.001923  21.040385\n",
       "std     2.332132   1.963602   2.048672   3.151113\n",
       "min    16.300000  18.000000  18.100000   2.300000\n",
       "25%    19.000000  19.400000  20.475000  19.900000\n",
       "50%    20.550000  20.900000  21.700000  21.150000\n",
       "75%    23.300000  23.100000  24.125000  22.525000\n",
       "max    25.500000  25.300000  26.000000  24.900000"
      ]
     },
     "execution_count": 11,
     "metadata": {},
     "output_type": "execute_result"
    }
   ],
   "source": [
    "act_17.describe()"
   ]
  },
  {
   "cell_type": "markdown",
   "metadata": {},
   "source": [
    "ACT:  \n",
    "The Data is for 51 states and includes the National data as well.  \n",
    "The mean is 65% for participation (which is higher than SAT 17), around 21 for all subjects  \n",
    "The standard deviation is 32% for population and around 2 for all subjects except science at 3.18  \n",
    "The ranges are pretty similar for all subjects except science  \n",
    "There seems to be an outlier with value 2.3 in science\n",
    "\n"
   ]
  },
  {
   "cell_type": "markdown",
   "metadata": {},
   "source": [
    "#### 4a. Does the data look complete? "
   ]
  },
  {
   "cell_type": "markdown",
   "metadata": {},
   "source": [
    "Answer: Yes"
   ]
  },
  {
   "cell_type": "markdown",
   "metadata": {},
   "source": [
    "#### 4b. Are there any obvious issues with the observations?\n",
    "\n",
    "**What is the minimum *possible* value for each test/subtest? What is the maximum *possible* value?**\n",
    "\n",
    "Consider comparing any questionable values to the sources of your data:\n",
    "- [SAT](https://blog.collegevine.com/here-are-the-average-sat-scores-by-state/)\n",
    "- [ACT](https://blog.prepscholar.com/act-scores-by-state-averages-highs-and-lows)\n",
    "\n",
    "These data give average SAT and ACT scores by state, as well as participation rates, for the graduating class of 2017.\n"
   ]
  },
  {
   "cell_type": "markdown",
   "metadata": {},
   "source": [
    "Answer:for the SAT data, there seems to be a typo\n",
    "and for he ACT data, there seems to be an x on the last entry"
   ]
  },
  {
   "cell_type": "markdown",
   "metadata": {},
   "source": [
    "#### 4c. Fix any errors you identified\n",
    "\n",
    "**The data is available** so there's no need to guess or calculate anything. If you didn't find any errors, continue to the next step."
   ]
  },
  {
   "cell_type": "code",
   "execution_count": 12,
   "metadata": {},
   "outputs": [
    {
     "data": {
      "text/html": [
       "<div>\n",
       "<style scoped>\n",
       "    .dataframe tbody tr th:only-of-type {\n",
       "        vertical-align: middle;\n",
       "    }\n",
       "\n",
       "    .dataframe tbody tr th {\n",
       "        vertical-align: top;\n",
       "    }\n",
       "\n",
       "    .dataframe thead th {\n",
       "        text-align: right;\n",
       "    }\n",
       "</style>\n",
       "<table border=\"1\" class=\"dataframe\">\n",
       "  <thead>\n",
       "    <tr style=\"text-align: right;\">\n",
       "      <th></th>\n",
       "      <th>Math</th>\n",
       "    </tr>\n",
       "  </thead>\n",
       "  <tbody>\n",
       "    <tr>\n",
       "      <th>20</th>\n",
       "      <td>52</td>\n",
       "    </tr>\n",
       "  </tbody>\n",
       "</table>\n",
       "</div>"
      ],
      "text/plain": [
       "    Math\n",
       "20    52"
      ]
     },
     "execution_count": 12,
     "metadata": {},
     "output_type": "execute_result"
    }
   ],
   "source": [
    "sat_17.loc[[20], ['Math']] #holding the value 52 which is a typo in the data frame"
   ]
  },
  {
   "cell_type": "code",
   "execution_count": 13,
   "metadata": {},
   "outputs": [
    {
     "data": {
      "text/html": [
       "<div>\n",
       "<style scoped>\n",
       "    .dataframe tbody tr th:only-of-type {\n",
       "        vertical-align: middle;\n",
       "    }\n",
       "\n",
       "    .dataframe tbody tr th {\n",
       "        vertical-align: top;\n",
       "    }\n",
       "\n",
       "    .dataframe thead th {\n",
       "        text-align: right;\n",
       "    }\n",
       "</style>\n",
       "<table border=\"1\" class=\"dataframe\">\n",
       "  <thead>\n",
       "    <tr style=\"text-align: right;\">\n",
       "      <th></th>\n",
       "      <th>Math</th>\n",
       "    </tr>\n",
       "  </thead>\n",
       "  <tbody>\n",
       "    <tr>\n",
       "      <th>20</th>\n",
       "      <td>524</td>\n",
       "    </tr>\n",
       "  </tbody>\n",
       "</table>\n",
       "</div>"
      ],
      "text/plain": [
       "    Math\n",
       "20   524"
      ]
     },
     "execution_count": 13,
     "metadata": {},
     "output_type": "execute_result"
    }
   ],
   "source": [
    "sat_17.loc[[20], ['Math']] = 524 #replacing the value with the correct one\n",
    "sat_17.loc[[20], ['Math']] #show new value has been registered in"
   ]
  },
  {
   "cell_type": "code",
   "execution_count": 14,
   "metadata": {},
   "outputs": [
    {
     "data": {
      "text/html": [
       "<div>\n",
       "<style scoped>\n",
       "    .dataframe tbody tr th:only-of-type {\n",
       "        vertical-align: middle;\n",
       "    }\n",
       "\n",
       "    .dataframe tbody tr th {\n",
       "        vertical-align: top;\n",
       "    }\n",
       "\n",
       "    .dataframe thead th {\n",
       "        text-align: right;\n",
       "    }\n",
       "</style>\n",
       "<table border=\"1\" class=\"dataframe\">\n",
       "  <thead>\n",
       "    <tr style=\"text-align: right;\">\n",
       "      <th></th>\n",
       "      <th>Composite</th>\n",
       "    </tr>\n",
       "  </thead>\n",
       "  <tbody>\n",
       "    <tr>\n",
       "      <th>51</th>\n",
       "      <td>20.2x</td>\n",
       "    </tr>\n",
       "  </tbody>\n",
       "</table>\n",
       "</div>"
      ],
      "text/plain": [
       "   Composite\n",
       "51     20.2x"
      ]
     },
     "execution_count": 14,
     "metadata": {},
     "output_type": "execute_result"
    }
   ],
   "source": [
    "act_17.loc[[51], ['Composite']] #there seems to be a character in the value"
   ]
  },
  {
   "cell_type": "code",
   "execution_count": 15,
   "metadata": {},
   "outputs": [
    {
     "data": {
      "text/html": [
       "<div>\n",
       "<style scoped>\n",
       "    .dataframe tbody tr th:only-of-type {\n",
       "        vertical-align: middle;\n",
       "    }\n",
       "\n",
       "    .dataframe tbody tr th {\n",
       "        vertical-align: top;\n",
       "    }\n",
       "\n",
       "    .dataframe thead th {\n",
       "        text-align: right;\n",
       "    }\n",
       "</style>\n",
       "<table border=\"1\" class=\"dataframe\">\n",
       "  <thead>\n",
       "    <tr style=\"text-align: right;\">\n",
       "      <th></th>\n",
       "      <th>Composite</th>\n",
       "    </tr>\n",
       "  </thead>\n",
       "  <tbody>\n",
       "    <tr>\n",
       "      <th>51</th>\n",
       "      <td>20.2</td>\n",
       "    </tr>\n",
       "  </tbody>\n",
       "</table>\n",
       "</div>"
      ],
      "text/plain": [
       "   Composite\n",
       "51      20.2"
      ]
     },
     "execution_count": 15,
     "metadata": {},
     "output_type": "execute_result"
    }
   ],
   "source": [
    "act_17.loc[[51], ['Composite']] = 20.2 #replacing it with a float with value 20.2\n",
    "act_17.loc[[51], ['Composite']]"
   ]
  },
  {
   "cell_type": "code",
   "execution_count": 16,
   "metadata": {},
   "outputs": [
    {
     "data": {
      "text/html": [
       "<div>\n",
       "<style scoped>\n",
       "    .dataframe tbody tr th:only-of-type {\n",
       "        vertical-align: middle;\n",
       "    }\n",
       "\n",
       "    .dataframe tbody tr th {\n",
       "        vertical-align: top;\n",
       "    }\n",
       "\n",
       "    .dataframe thead th {\n",
       "        text-align: right;\n",
       "    }\n",
       "</style>\n",
       "<table border=\"1\" class=\"dataframe\">\n",
       "  <thead>\n",
       "    <tr style=\"text-align: right;\">\n",
       "      <th></th>\n",
       "      <th>Science</th>\n",
       "    </tr>\n",
       "  </thead>\n",
       "  <tbody>\n",
       "    <tr>\n",
       "      <th>21</th>\n",
       "      <td>23.1</td>\n",
       "    </tr>\n",
       "  </tbody>\n",
       "</table>\n",
       "</div>"
      ],
      "text/plain": [
       "    Science\n",
       "21     23.1"
      ]
     },
     "execution_count": 16,
     "metadata": {},
     "output_type": "execute_result"
    }
   ],
   "source": [
    "act_17.loc[[21],['Science']] = 23.1 #replacing it with a float with value 23.1\n",
    "act_17.loc[[21],['Science']]"
   ]
  },
  {
   "cell_type": "markdown",
   "metadata": {},
   "source": [
    "#### 5. What are your data types? \n",
    "Display the data types of each feature. "
   ]
  },
  {
   "cell_type": "code",
   "execution_count": 17,
   "metadata": {},
   "outputs": [
    {
     "data": {
      "text/plain": [
       "State                                 object\n",
       "Participation                         object\n",
       "Evidence-Based Reading and Writing     int64\n",
       "Math                                   int64\n",
       "Total                                  int64\n",
       "dtype: object"
      ]
     },
     "execution_count": 17,
     "metadata": {},
     "output_type": "execute_result"
    }
   ],
   "source": [
    "sat_17.dtypes"
   ]
  },
  {
   "cell_type": "code",
   "execution_count": 18,
   "metadata": {},
   "outputs": [
    {
     "data": {
      "text/plain": [
       "State             object\n",
       "Participation     object\n",
       "English          float64\n",
       "Math             float64\n",
       "Reading          float64\n",
       "Science          float64\n",
       "Composite         object\n",
       "dtype: object"
      ]
     },
     "execution_count": 18,
     "metadata": {},
     "output_type": "execute_result"
    }
   ],
   "source": [
    "act_17.dtypes"
   ]
  },
  {
   "cell_type": "markdown",
   "metadata": {},
   "source": [
    "What did you learn?\n",
    "- Do any of them seem odd?  \n",
    "- Which ones are not as they should be?  "
   ]
  },
  {
   "cell_type": "markdown",
   "metadata": {},
   "source": [
    "Answer: Participation percentages for both should be a float/int and 'Composite' column for ACT 2017 should be type float and not object."
   ]
  },
  {
   "cell_type": "markdown",
   "metadata": {},
   "source": [
    "#### 6. Fix Incorrect Data Types\n",
    "Based on what you discovered above, use appropriate methods to re-type incorrectly typed data.\n",
    "- Define a function that will allow you to convert participation rates to an appropriate numeric type. Use `map` or `apply` to change these columns in each dataframe."
   ]
  },
  {
   "cell_type": "markdown",
   "metadata": {},
   "source": [
    "> <font size = 3 color = \"crimson\"> lambda works no worries. but in the future please define a function and .map to answer the question</font>"
   ]
  },
  {
   "cell_type": "code",
   "execution_count": 19,
   "metadata": {},
   "outputs": [
    {
     "data": {
      "text/html": [
       "<div>\n",
       "<style scoped>\n",
       "    .dataframe tbody tr th:only-of-type {\n",
       "        vertical-align: middle;\n",
       "    }\n",
       "\n",
       "    .dataframe tbody tr th {\n",
       "        vertical-align: top;\n",
       "    }\n",
       "\n",
       "    .dataframe thead th {\n",
       "        text-align: right;\n",
       "    }\n",
       "</style>\n",
       "<table border=\"1\" class=\"dataframe\">\n",
       "  <thead>\n",
       "    <tr style=\"text-align: right;\">\n",
       "      <th></th>\n",
       "      <th>State</th>\n",
       "      <th>Participation</th>\n",
       "      <th>Evidence-Based Reading and Writing</th>\n",
       "      <th>Math</th>\n",
       "      <th>Total</th>\n",
       "    </tr>\n",
       "  </thead>\n",
       "  <tbody>\n",
       "    <tr>\n",
       "      <th>0</th>\n",
       "      <td>Alabama</td>\n",
       "      <td>5%</td>\n",
       "      <td>593</td>\n",
       "      <td>572</td>\n",
       "      <td>1165</td>\n",
       "    </tr>\n",
       "    <tr>\n",
       "      <th>1</th>\n",
       "      <td>Alaska</td>\n",
       "      <td>38%</td>\n",
       "      <td>547</td>\n",
       "      <td>533</td>\n",
       "      <td>1080</td>\n",
       "    </tr>\n",
       "    <tr>\n",
       "      <th>2</th>\n",
       "      <td>Arizona</td>\n",
       "      <td>30%</td>\n",
       "      <td>563</td>\n",
       "      <td>553</td>\n",
       "      <td>1116</td>\n",
       "    </tr>\n",
       "    <tr>\n",
       "      <th>3</th>\n",
       "      <td>Arkansas</td>\n",
       "      <td>3%</td>\n",
       "      <td>614</td>\n",
       "      <td>594</td>\n",
       "      <td>1208</td>\n",
       "    </tr>\n",
       "    <tr>\n",
       "      <th>4</th>\n",
       "      <td>California</td>\n",
       "      <td>53%</td>\n",
       "      <td>531</td>\n",
       "      <td>524</td>\n",
       "      <td>1055</td>\n",
       "    </tr>\n",
       "  </tbody>\n",
       "</table>\n",
       "</div>"
      ],
      "text/plain": [
       "        State Participation  Evidence-Based Reading and Writing  Math  Total\n",
       "0     Alabama            5%                                 593   572   1165\n",
       "1      Alaska           38%                                 547   533   1080\n",
       "2     Arizona           30%                                 563   553   1116\n",
       "3    Arkansas            3%                                 614   594   1208\n",
       "4  California           53%                                 531   524   1055"
      ]
     },
     "execution_count": 19,
     "metadata": {},
     "output_type": "execute_result"
    }
   ],
   "source": [
    "sat_17.head()"
   ]
  },
  {
   "cell_type": "code",
   "execution_count": 20,
   "metadata": {},
   "outputs": [
    {
     "data": {
      "text/html": [
       "<div>\n",
       "<style scoped>\n",
       "    .dataframe tbody tr th:only-of-type {\n",
       "        vertical-align: middle;\n",
       "    }\n",
       "\n",
       "    .dataframe tbody tr th {\n",
       "        vertical-align: top;\n",
       "    }\n",
       "\n",
       "    .dataframe thead th {\n",
       "        text-align: right;\n",
       "    }\n",
       "</style>\n",
       "<table border=\"1\" class=\"dataframe\">\n",
       "  <thead>\n",
       "    <tr style=\"text-align: right;\">\n",
       "      <th></th>\n",
       "      <th>State</th>\n",
       "      <th>Participation</th>\n",
       "      <th>Evidence-Based Reading and Writing</th>\n",
       "      <th>Math</th>\n",
       "      <th>Total</th>\n",
       "    </tr>\n",
       "  </thead>\n",
       "  <tbody>\n",
       "    <tr>\n",
       "      <th>0</th>\n",
       "      <td>Alabama</td>\n",
       "      <td>5%</td>\n",
       "      <td>593</td>\n",
       "      <td>572</td>\n",
       "      <td>1165</td>\n",
       "    </tr>\n",
       "    <tr>\n",
       "      <th>1</th>\n",
       "      <td>Alaska</td>\n",
       "      <td>38%</td>\n",
       "      <td>547</td>\n",
       "      <td>533</td>\n",
       "      <td>1080</td>\n",
       "    </tr>\n",
       "    <tr>\n",
       "      <th>2</th>\n",
       "      <td>Arizona</td>\n",
       "      <td>30%</td>\n",
       "      <td>563</td>\n",
       "      <td>553</td>\n",
       "      <td>1116</td>\n",
       "    </tr>\n",
       "    <tr>\n",
       "      <th>3</th>\n",
       "      <td>Arkansas</td>\n",
       "      <td>3%</td>\n",
       "      <td>614</td>\n",
       "      <td>594</td>\n",
       "      <td>1208</td>\n",
       "    </tr>\n",
       "    <tr>\n",
       "      <th>4</th>\n",
       "      <td>California</td>\n",
       "      <td>53%</td>\n",
       "      <td>531</td>\n",
       "      <td>524</td>\n",
       "      <td>1055</td>\n",
       "    </tr>\n",
       "  </tbody>\n",
       "</table>\n",
       "</div>"
      ],
      "text/plain": [
       "        State Participation  Evidence-Based Reading and Writing  Math  Total\n",
       "0     Alabama            5%                                 593   572   1165\n",
       "1      Alaska           38%                                 547   533   1080\n",
       "2     Arizona           30%                                 563   553   1116\n",
       "3    Arkansas            3%                                 614   594   1208\n",
       "4  California           53%                                 531   524   1055"
      ]
     },
     "execution_count": 20,
     "metadata": {},
     "output_type": "execute_result"
    }
   ],
   "source": [
    "sat_17['Participation'].replace('%','')\n",
    "sat_17.head()"
   ]
  },
  {
   "cell_type": "markdown",
   "metadata": {},
   "source": [
    "- Finish your data modifications by making sure the columns are now typed appropriately."
   ]
  },
  {
   "cell_type": "markdown",
   "metadata": {},
   "source": [
    "- Fix any individual values preventing other columns from being the appropriate type."
   ]
  },
  {
   "cell_type": "code",
   "execution_count": 21,
   "metadata": {},
   "outputs": [],
   "source": [
    "def replace_perc(data):\n",
    "    return float(data.replace('%',''))"
   ]
  },
  {
   "cell_type": "code",
   "execution_count": 22,
   "metadata": {},
   "outputs": [],
   "source": [
    "act_17['Participation'] = act_17['Participation'].map(replace_perc)\n",
    "sat_17['Participation'] = sat_17['Participation'].map(replace_perc)\n"
   ]
  },
  {
   "cell_type": "code",
   "execution_count": 23,
   "metadata": {},
   "outputs": [],
   "source": [
    "act_17['Composite'] = act_17['Composite'].astype(float)"
   ]
  },
  {
   "cell_type": "code",
   "execution_count": 24,
   "metadata": {},
   "outputs": [],
   "source": [
    "#changing percentage amount to be a decimal\n",
    "act_17['Participation']=act_17['Participation']/100\n",
    "sat_17['Participation']=sat_17['Participation']/100"
   ]
  },
  {
   "cell_type": "markdown",
   "metadata": {},
   "source": [
    "- Display the data types again to confirm they are correct."
   ]
  },
  {
   "cell_type": "code",
   "execution_count": 25,
   "metadata": {},
   "outputs": [
    {
     "data": {
      "text/plain": [
       "State             object\n",
       "Participation    float64\n",
       "English          float64\n",
       "Math             float64\n",
       "Reading          float64\n",
       "Science          float64\n",
       "Composite        float64\n",
       "dtype: object"
      ]
     },
     "execution_count": 25,
     "metadata": {},
     "output_type": "execute_result"
    }
   ],
   "source": [
    "act_17.dtypes"
   ]
  },
  {
   "cell_type": "code",
   "execution_count": 26,
   "metadata": {},
   "outputs": [
    {
     "data": {
      "text/plain": [
       "State                                  object\n",
       "Participation                         float64\n",
       "Evidence-Based Reading and Writing      int64\n",
       "Math                                    int64\n",
       "Total                                   int64\n",
       "dtype: object"
      ]
     },
     "execution_count": 26,
     "metadata": {},
     "output_type": "execute_result"
    }
   ],
   "source": [
    "sat_17.dtypes"
   ]
  },
  {
   "cell_type": "code",
   "execution_count": 27,
   "metadata": {},
   "outputs": [
    {
     "data": {
      "text/html": [
       "<div>\n",
       "<style scoped>\n",
       "    .dataframe tbody tr th:only-of-type {\n",
       "        vertical-align: middle;\n",
       "    }\n",
       "\n",
       "    .dataframe tbody tr th {\n",
       "        vertical-align: top;\n",
       "    }\n",
       "\n",
       "    .dataframe thead th {\n",
       "        text-align: right;\n",
       "    }\n",
       "</style>\n",
       "<table border=\"1\" class=\"dataframe\">\n",
       "  <thead>\n",
       "    <tr style=\"text-align: right;\">\n",
       "      <th></th>\n",
       "      <th>State</th>\n",
       "      <th>Participation</th>\n",
       "      <th>English</th>\n",
       "      <th>Math</th>\n",
       "      <th>Reading</th>\n",
       "      <th>Science</th>\n",
       "      <th>Composite</th>\n",
       "    </tr>\n",
       "  </thead>\n",
       "  <tbody>\n",
       "    <tr>\n",
       "      <th>47</th>\n",
       "      <td>Virginia</td>\n",
       "      <td>0.29</td>\n",
       "      <td>23.5</td>\n",
       "      <td>23.3</td>\n",
       "      <td>24.6</td>\n",
       "      <td>23.5</td>\n",
       "      <td>23.8</td>\n",
       "    </tr>\n",
       "    <tr>\n",
       "      <th>48</th>\n",
       "      <td>Washington</td>\n",
       "      <td>0.29</td>\n",
       "      <td>20.9</td>\n",
       "      <td>21.9</td>\n",
       "      <td>22.1</td>\n",
       "      <td>22.0</td>\n",
       "      <td>21.9</td>\n",
       "    </tr>\n",
       "    <tr>\n",
       "      <th>49</th>\n",
       "      <td>West Virginia</td>\n",
       "      <td>0.69</td>\n",
       "      <td>20.0</td>\n",
       "      <td>19.4</td>\n",
       "      <td>21.2</td>\n",
       "      <td>20.5</td>\n",
       "      <td>20.4</td>\n",
       "    </tr>\n",
       "    <tr>\n",
       "      <th>50</th>\n",
       "      <td>Wisconsin</td>\n",
       "      <td>1.00</td>\n",
       "      <td>19.7</td>\n",
       "      <td>20.4</td>\n",
       "      <td>20.6</td>\n",
       "      <td>20.9</td>\n",
       "      <td>20.5</td>\n",
       "    </tr>\n",
       "    <tr>\n",
       "      <th>51</th>\n",
       "      <td>Wyoming</td>\n",
       "      <td>1.00</td>\n",
       "      <td>19.4</td>\n",
       "      <td>19.8</td>\n",
       "      <td>20.8</td>\n",
       "      <td>20.6</td>\n",
       "      <td>20.2</td>\n",
       "    </tr>\n",
       "  </tbody>\n",
       "</table>\n",
       "</div>"
      ],
      "text/plain": [
       "            State  Participation  English  Math  Reading  Science  Composite\n",
       "47       Virginia           0.29     23.5  23.3     24.6     23.5       23.8\n",
       "48     Washington           0.29     20.9  21.9     22.1     22.0       21.9\n",
       "49  West Virginia           0.69     20.0  19.4     21.2     20.5       20.4\n",
       "50      Wisconsin           1.00     19.7  20.4     20.6     20.9       20.5\n",
       "51        Wyoming           1.00     19.4  19.8     20.8     20.6       20.2"
      ]
     },
     "execution_count": 27,
     "metadata": {},
     "output_type": "execute_result"
    }
   ],
   "source": [
    "act_17.tail()"
   ]
  },
  {
   "cell_type": "markdown",
   "metadata": {},
   "source": [
    "#### 7. Rename Columns\n",
    "Change the names of the columns to more expressive names so that you can tell the difference the SAT columns and the ACT columns. Your solution should map all column names being changed at once (no repeated singular name-changes). **We will be combining these data with some of the data from 2018, and so you should name columns in an appropriate way**.\n",
    "\n",
    "**Guidelines**:\n",
    "- Column names should be all lowercase (you will thank yourself when you start pushing data to SQL later in the course)\n",
    "- Column names should not contain spaces (underscores will suffice--this allows for using the `df.column_name` method to access columns in addition to `df['column_name']`.\n",
    "- Column names should be unique and informative (the only feature that we actually share between dataframes is the state)."
   ]
  },
  {
   "cell_type": "code",
   "execution_count": 28,
   "metadata": {},
   "outputs": [
    {
     "data": {
      "text/html": [
       "<div>\n",
       "<style scoped>\n",
       "    .dataframe tbody tr th:only-of-type {\n",
       "        vertical-align: middle;\n",
       "    }\n",
       "\n",
       "    .dataframe tbody tr th {\n",
       "        vertical-align: top;\n",
       "    }\n",
       "\n",
       "    .dataframe thead th {\n",
       "        text-align: right;\n",
       "    }\n",
       "</style>\n",
       "<table border=\"1\" class=\"dataframe\">\n",
       "  <thead>\n",
       "    <tr style=\"text-align: right;\">\n",
       "      <th></th>\n",
       "      <th>state</th>\n",
       "      <th>participation</th>\n",
       "      <th>evidence-based_reading_and_writing</th>\n",
       "      <th>math</th>\n",
       "      <th>total</th>\n",
       "    </tr>\n",
       "  </thead>\n",
       "  <tbody>\n",
       "    <tr>\n",
       "      <th>0</th>\n",
       "      <td>Alabama</td>\n",
       "      <td>0.05</td>\n",
       "      <td>593</td>\n",
       "      <td>572</td>\n",
       "      <td>1165</td>\n",
       "    </tr>\n",
       "    <tr>\n",
       "      <th>1</th>\n",
       "      <td>Alaska</td>\n",
       "      <td>0.38</td>\n",
       "      <td>547</td>\n",
       "      <td>533</td>\n",
       "      <td>1080</td>\n",
       "    </tr>\n",
       "    <tr>\n",
       "      <th>2</th>\n",
       "      <td>Arizona</td>\n",
       "      <td>0.30</td>\n",
       "      <td>563</td>\n",
       "      <td>553</td>\n",
       "      <td>1116</td>\n",
       "    </tr>\n",
       "    <tr>\n",
       "      <th>3</th>\n",
       "      <td>Arkansas</td>\n",
       "      <td>0.03</td>\n",
       "      <td>614</td>\n",
       "      <td>594</td>\n",
       "      <td>1208</td>\n",
       "    </tr>\n",
       "    <tr>\n",
       "      <th>4</th>\n",
       "      <td>California</td>\n",
       "      <td>0.53</td>\n",
       "      <td>531</td>\n",
       "      <td>524</td>\n",
       "      <td>1055</td>\n",
       "    </tr>\n",
       "  </tbody>\n",
       "</table>\n",
       "</div>"
      ],
      "text/plain": [
       "        state  participation  evidence-based_reading_and_writing  math  total\n",
       "0     Alabama           0.05                                 593   572   1165\n",
       "1      Alaska           0.38                                 547   533   1080\n",
       "2     Arizona           0.30                                 563   553   1116\n",
       "3    Arkansas           0.03                                 614   594   1208\n",
       "4  California           0.53                                 531   524   1055"
      ]
     },
     "execution_count": 28,
     "metadata": {},
     "output_type": "execute_result"
    }
   ],
   "source": [
    "#changing all columns to lower case\n",
    "sat_17.columns = sat_17.columns.str.lower()\n",
    "#replacing spaces with underscores\n",
    "sat_17.columns = sat_17.columns.map(lambda i: i.replace(' ','_'))\n",
    "sat_17.head()"
   ]
  },
  {
   "cell_type": "code",
   "execution_count": 29,
   "metadata": {},
   "outputs": [
    {
     "data": {
      "text/html": [
       "<div>\n",
       "<style scoped>\n",
       "    .dataframe tbody tr th:only-of-type {\n",
       "        vertical-align: middle;\n",
       "    }\n",
       "\n",
       "    .dataframe tbody tr th {\n",
       "        vertical-align: top;\n",
       "    }\n",
       "\n",
       "    .dataframe thead th {\n",
       "        text-align: right;\n",
       "    }\n",
       "</style>\n",
       "<table border=\"1\" class=\"dataframe\">\n",
       "  <thead>\n",
       "    <tr style=\"text-align: right;\">\n",
       "      <th></th>\n",
       "      <th>state</th>\n",
       "      <th>participation</th>\n",
       "      <th>english</th>\n",
       "      <th>math</th>\n",
       "      <th>reading</th>\n",
       "      <th>science</th>\n",
       "      <th>composite</th>\n",
       "    </tr>\n",
       "  </thead>\n",
       "  <tbody>\n",
       "    <tr>\n",
       "      <th>0</th>\n",
       "      <td>National</td>\n",
       "      <td>0.60</td>\n",
       "      <td>20.3</td>\n",
       "      <td>20.7</td>\n",
       "      <td>21.4</td>\n",
       "      <td>21.0</td>\n",
       "      <td>21.0</td>\n",
       "    </tr>\n",
       "    <tr>\n",
       "      <th>1</th>\n",
       "      <td>Alabama</td>\n",
       "      <td>1.00</td>\n",
       "      <td>18.9</td>\n",
       "      <td>18.4</td>\n",
       "      <td>19.7</td>\n",
       "      <td>19.4</td>\n",
       "      <td>19.2</td>\n",
       "    </tr>\n",
       "    <tr>\n",
       "      <th>2</th>\n",
       "      <td>Alaska</td>\n",
       "      <td>0.65</td>\n",
       "      <td>18.7</td>\n",
       "      <td>19.8</td>\n",
       "      <td>20.4</td>\n",
       "      <td>19.9</td>\n",
       "      <td>19.8</td>\n",
       "    </tr>\n",
       "    <tr>\n",
       "      <th>3</th>\n",
       "      <td>Arizona</td>\n",
       "      <td>0.62</td>\n",
       "      <td>18.6</td>\n",
       "      <td>19.8</td>\n",
       "      <td>20.1</td>\n",
       "      <td>19.8</td>\n",
       "      <td>19.7</td>\n",
       "    </tr>\n",
       "    <tr>\n",
       "      <th>4</th>\n",
       "      <td>Arkansas</td>\n",
       "      <td>1.00</td>\n",
       "      <td>18.9</td>\n",
       "      <td>19.0</td>\n",
       "      <td>19.7</td>\n",
       "      <td>19.5</td>\n",
       "      <td>19.4</td>\n",
       "    </tr>\n",
       "  </tbody>\n",
       "</table>\n",
       "</div>"
      ],
      "text/plain": [
       "      state  participation  english  math  reading  science  composite\n",
       "0  National           0.60     20.3  20.7     21.4     21.0       21.0\n",
       "1   Alabama           1.00     18.9  18.4     19.7     19.4       19.2\n",
       "2    Alaska           0.65     18.7  19.8     20.4     19.9       19.8\n",
       "3   Arizona           0.62     18.6  19.8     20.1     19.8       19.7\n",
       "4  Arkansas           1.00     18.9  19.0     19.7     19.5       19.4"
      ]
     },
     "execution_count": 29,
     "metadata": {},
     "output_type": "execute_result"
    }
   ],
   "source": [
    "#changing all columns to lower case\n",
    "act_17.columns = act_17.columns.str.lower()\n",
    "act_17.head()"
   ]
  },
  {
   "cell_type": "markdown",
   "metadata": {},
   "source": [
    "#### 8. Create a data dictionary\n",
    "\n",
    "Now that we've fixed our data, and given it appropriate names, let's create a [data dictionary](http://library.ucmerced.edu/node/10249). \n",
    "\n",
    "A data dictionary provides a quick overview of features/variables/columns, alongside data types and descriptions. The more descriptive you can be, the more useful this document is.\n",
    "\n",
    "Example of a Fictional Data Dictionary Entry: \n",
    "\n",
    "|Feature|Type|Dataset|Description|\n",
    "|---|---|---|---|\n",
    "|**county_pop**|*integer*|2010 census|The population of the county (units in thousands, where 2.5 represents 2500 people).| \n",
    "|**per_poverty**|*float*|2010 census|The percent of the county over the age of 18 living below the 200% of official US poverty rate (units percent to two decimal places 98.10 means 98.1%)|\n",
    "\n",
    "[Here's a quick link to a short guide for formatting markdown in Jupyter notebooks](https://jupyter-notebook.readthedocs.io/en/stable/examples/Notebook/Working%20With%20Markdown%20Cells.html).\n",
    "\n",
    "Provided is the skeleton for formatting a markdown table, with columns headers that will help you create a data dictionary to quickly summarize your data, as well as some examples. **This would be a great thing to copy and paste into your custom README for this project.**"
   ]
  },
  {
   "cell_type": "markdown",
   "metadata": {},
   "source": [
    "|Feature|Type|Dataset|Description|\n",
    "|---|---|---|---|\n",
    "|**state**|*object*|ACT 2017/SAT 2017|State Name| \n",
    "|**participation_act17**|*float*|ACT 2017|Participation Percentage on a scale of 0 to 1(being 100%)| \n",
    "|**english_act17**|*float*|ACT 2017|English scores| \n",
    "|**math_act17**|*float*|ACT 2017|Math Scores| \n",
    "|**reading_act17**|*float*|ACT 2017|Reading Scores| \n",
    "|**science_act17**|*float*|ACT 2017|Science Scores| \n",
    "|**composite_act17**|*float*|ACT 2017|Composite i.e mix of all the 4 subjects| \n",
    "|**participation_sat17**|*float*|SAT 2017|Participation Percentage on a scale of 0 to 1(being 100%)| \n",
    "|**evidence_based_reading_and_writing_sat17**|*int*|SAT 2017|Evidence Based Reading and Writing Score| \n",
    "|**math_sat17**|*int*|SAT 2017|Math Score| \n",
    "|**total_sat17**|*int*|SAT 2017|Total Score of both math and Evidence Based Reading and Writing| "
   ]
  },
  {
   "cell_type": "markdown",
   "metadata": {},
   "source": [
    "#### 9. Drop unnecessary rows\n",
    "\n",
    "One of our dataframes contains an extra row. Identify and remove this from the dataframe."
   ]
  },
  {
   "cell_type": "code",
   "execution_count": 30,
   "metadata": {},
   "outputs": [
    {
     "data": {
      "text/html": [
       "<div>\n",
       "<style scoped>\n",
       "    .dataframe tbody tr th:only-of-type {\n",
       "        vertical-align: middle;\n",
       "    }\n",
       "\n",
       "    .dataframe tbody tr th {\n",
       "        vertical-align: top;\n",
       "    }\n",
       "\n",
       "    .dataframe thead th {\n",
       "        text-align: right;\n",
       "    }\n",
       "</style>\n",
       "<table border=\"1\" class=\"dataframe\">\n",
       "  <thead>\n",
       "    <tr style=\"text-align: right;\">\n",
       "      <th></th>\n",
       "      <th>state</th>\n",
       "      <th>participation</th>\n",
       "      <th>english</th>\n",
       "      <th>math</th>\n",
       "      <th>reading</th>\n",
       "      <th>science</th>\n",
       "      <th>composite</th>\n",
       "    </tr>\n",
       "  </thead>\n",
       "  <tbody>\n",
       "    <tr>\n",
       "      <th>0</th>\n",
       "      <td>National</td>\n",
       "      <td>0.60</td>\n",
       "      <td>20.3</td>\n",
       "      <td>20.7</td>\n",
       "      <td>21.4</td>\n",
       "      <td>21.0</td>\n",
       "      <td>21.0</td>\n",
       "    </tr>\n",
       "    <tr>\n",
       "      <th>1</th>\n",
       "      <td>Alabama</td>\n",
       "      <td>1.00</td>\n",
       "      <td>18.9</td>\n",
       "      <td>18.4</td>\n",
       "      <td>19.7</td>\n",
       "      <td>19.4</td>\n",
       "      <td>19.2</td>\n",
       "    </tr>\n",
       "    <tr>\n",
       "      <th>2</th>\n",
       "      <td>Alaska</td>\n",
       "      <td>0.65</td>\n",
       "      <td>18.7</td>\n",
       "      <td>19.8</td>\n",
       "      <td>20.4</td>\n",
       "      <td>19.9</td>\n",
       "      <td>19.8</td>\n",
       "    </tr>\n",
       "    <tr>\n",
       "      <th>3</th>\n",
       "      <td>Arizona</td>\n",
       "      <td>0.62</td>\n",
       "      <td>18.6</td>\n",
       "      <td>19.8</td>\n",
       "      <td>20.1</td>\n",
       "      <td>19.8</td>\n",
       "      <td>19.7</td>\n",
       "    </tr>\n",
       "    <tr>\n",
       "      <th>4</th>\n",
       "      <td>Arkansas</td>\n",
       "      <td>1.00</td>\n",
       "      <td>18.9</td>\n",
       "      <td>19.0</td>\n",
       "      <td>19.7</td>\n",
       "      <td>19.5</td>\n",
       "      <td>19.4</td>\n",
       "    </tr>\n",
       "  </tbody>\n",
       "</table>\n",
       "</div>"
      ],
      "text/plain": [
       "      state  participation  english  math  reading  science  composite\n",
       "0  National           0.60     20.3  20.7     21.4     21.0       21.0\n",
       "1   Alabama           1.00     18.9  18.4     19.7     19.4       19.2\n",
       "2    Alaska           0.65     18.7  19.8     20.4     19.9       19.8\n",
       "3   Arizona           0.62     18.6  19.8     20.1     19.8       19.7\n",
       "4  Arkansas           1.00     18.9  19.0     19.7     19.5       19.4"
      ]
     },
     "execution_count": 30,
     "metadata": {},
     "output_type": "execute_result"
    }
   ],
   "source": [
    "act_17.head()"
   ]
  },
  {
   "cell_type": "code",
   "execution_count": 31,
   "metadata": {},
   "outputs": [
    {
     "data": {
      "text/html": [
       "<div>\n",
       "<style scoped>\n",
       "    .dataframe tbody tr th:only-of-type {\n",
       "        vertical-align: middle;\n",
       "    }\n",
       "\n",
       "    .dataframe tbody tr th {\n",
       "        vertical-align: top;\n",
       "    }\n",
       "\n",
       "    .dataframe thead th {\n",
       "        text-align: right;\n",
       "    }\n",
       "</style>\n",
       "<table border=\"1\" class=\"dataframe\">\n",
       "  <thead>\n",
       "    <tr style=\"text-align: right;\">\n",
       "      <th></th>\n",
       "      <th>state</th>\n",
       "      <th>participation</th>\n",
       "      <th>english</th>\n",
       "      <th>math</th>\n",
       "      <th>reading</th>\n",
       "      <th>science</th>\n",
       "      <th>composite</th>\n",
       "    </tr>\n",
       "  </thead>\n",
       "  <tbody>\n",
       "  </tbody>\n",
       "</table>\n",
       "</div>"
      ],
      "text/plain": [
       "Empty DataFrame\n",
       "Columns: [state, participation, english, math, reading, science, composite]\n",
       "Index: []"
      ]
     },
     "execution_count": 31,
     "metadata": {},
     "output_type": "execute_result"
    }
   ],
   "source": [
    "act_17[act_17.duplicated()] # No duplicated rows"
   ]
  },
  {
   "cell_type": "code",
   "execution_count": 32,
   "metadata": {},
   "outputs": [
    {
     "data": {
      "text/html": [
       "<div>\n",
       "<style scoped>\n",
       "    .dataframe tbody tr th:only-of-type {\n",
       "        vertical-align: middle;\n",
       "    }\n",
       "\n",
       "    .dataframe tbody tr th {\n",
       "        vertical-align: top;\n",
       "    }\n",
       "\n",
       "    .dataframe thead th {\n",
       "        text-align: right;\n",
       "    }\n",
       "</style>\n",
       "<table border=\"1\" class=\"dataframe\">\n",
       "  <thead>\n",
       "    <tr style=\"text-align: right;\">\n",
       "      <th></th>\n",
       "      <th>state</th>\n",
       "      <th>participation</th>\n",
       "      <th>english</th>\n",
       "      <th>math</th>\n",
       "      <th>reading</th>\n",
       "      <th>science</th>\n",
       "      <th>composite</th>\n",
       "    </tr>\n",
       "  </thead>\n",
       "  <tbody>\n",
       "    <tr>\n",
       "      <th>1</th>\n",
       "      <td>Alabama</td>\n",
       "      <td>1.00</td>\n",
       "      <td>18.9</td>\n",
       "      <td>18.4</td>\n",
       "      <td>19.7</td>\n",
       "      <td>19.4</td>\n",
       "      <td>19.2</td>\n",
       "    </tr>\n",
       "    <tr>\n",
       "      <th>2</th>\n",
       "      <td>Alaska</td>\n",
       "      <td>0.65</td>\n",
       "      <td>18.7</td>\n",
       "      <td>19.8</td>\n",
       "      <td>20.4</td>\n",
       "      <td>19.9</td>\n",
       "      <td>19.8</td>\n",
       "    </tr>\n",
       "    <tr>\n",
       "      <th>3</th>\n",
       "      <td>Arizona</td>\n",
       "      <td>0.62</td>\n",
       "      <td>18.6</td>\n",
       "      <td>19.8</td>\n",
       "      <td>20.1</td>\n",
       "      <td>19.8</td>\n",
       "      <td>19.7</td>\n",
       "    </tr>\n",
       "    <tr>\n",
       "      <th>4</th>\n",
       "      <td>Arkansas</td>\n",
       "      <td>1.00</td>\n",
       "      <td>18.9</td>\n",
       "      <td>19.0</td>\n",
       "      <td>19.7</td>\n",
       "      <td>19.5</td>\n",
       "      <td>19.4</td>\n",
       "    </tr>\n",
       "    <tr>\n",
       "      <th>5</th>\n",
       "      <td>California</td>\n",
       "      <td>0.31</td>\n",
       "      <td>22.5</td>\n",
       "      <td>22.7</td>\n",
       "      <td>23.1</td>\n",
       "      <td>22.2</td>\n",
       "      <td>22.8</td>\n",
       "    </tr>\n",
       "  </tbody>\n",
       "</table>\n",
       "</div>"
      ],
      "text/plain": [
       "        state  participation  english  math  reading  science  composite\n",
       "1     Alabama           1.00     18.9  18.4     19.7     19.4       19.2\n",
       "2      Alaska           0.65     18.7  19.8     20.4     19.9       19.8\n",
       "3     Arizona           0.62     18.6  19.8     20.1     19.8       19.7\n",
       "4    Arkansas           1.00     18.9  19.0     19.7     19.5       19.4\n",
       "5  California           0.31     22.5  22.7     23.1     22.2       22.8"
      ]
     },
     "execution_count": 32,
     "metadata": {},
     "output_type": "execute_result"
    }
   ],
   "source": [
    "#the extra row would be the National data of ACT 2017\n",
    "act_17.drop(act_17.index[0], axis=0, inplace= True )\n",
    "act_17.head()"
   ]
  },
  {
   "cell_type": "markdown",
   "metadata": {},
   "source": [
    "#### 10. Merge Dataframes\n",
    "\n",
    "Join the 2017 ACT and SAT dataframes using the state in each dataframe as the key. Assign this to a new variable."
   ]
  },
  {
   "cell_type": "code",
   "execution_count": 33,
   "metadata": {},
   "outputs": [
    {
     "data": {
      "text/html": [
       "<div>\n",
       "<style scoped>\n",
       "    .dataframe tbody tr th:only-of-type {\n",
       "        vertical-align: middle;\n",
       "    }\n",
       "\n",
       "    .dataframe tbody tr th {\n",
       "        vertical-align: top;\n",
       "    }\n",
       "\n",
       "    .dataframe thead th {\n",
       "        text-align: right;\n",
       "    }\n",
       "</style>\n",
       "<table border=\"1\" class=\"dataframe\">\n",
       "  <thead>\n",
       "    <tr style=\"text-align: right;\">\n",
       "      <th></th>\n",
       "      <th>state</th>\n",
       "      <th>participation_x</th>\n",
       "      <th>english</th>\n",
       "      <th>math_x</th>\n",
       "      <th>reading</th>\n",
       "      <th>science</th>\n",
       "      <th>composite</th>\n",
       "      <th>participation_y</th>\n",
       "      <th>evidence-based_reading_and_writing</th>\n",
       "      <th>math_y</th>\n",
       "      <th>total</th>\n",
       "    </tr>\n",
       "  </thead>\n",
       "  <tbody>\n",
       "    <tr>\n",
       "      <th>0</th>\n",
       "      <td>Alabama</td>\n",
       "      <td>1.00</td>\n",
       "      <td>18.9</td>\n",
       "      <td>18.4</td>\n",
       "      <td>19.7</td>\n",
       "      <td>19.4</td>\n",
       "      <td>19.2</td>\n",
       "      <td>0.05</td>\n",
       "      <td>593</td>\n",
       "      <td>572</td>\n",
       "      <td>1165</td>\n",
       "    </tr>\n",
       "    <tr>\n",
       "      <th>1</th>\n",
       "      <td>Alaska</td>\n",
       "      <td>0.65</td>\n",
       "      <td>18.7</td>\n",
       "      <td>19.8</td>\n",
       "      <td>20.4</td>\n",
       "      <td>19.9</td>\n",
       "      <td>19.8</td>\n",
       "      <td>0.38</td>\n",
       "      <td>547</td>\n",
       "      <td>533</td>\n",
       "      <td>1080</td>\n",
       "    </tr>\n",
       "    <tr>\n",
       "      <th>2</th>\n",
       "      <td>Arizona</td>\n",
       "      <td>0.62</td>\n",
       "      <td>18.6</td>\n",
       "      <td>19.8</td>\n",
       "      <td>20.1</td>\n",
       "      <td>19.8</td>\n",
       "      <td>19.7</td>\n",
       "      <td>0.30</td>\n",
       "      <td>563</td>\n",
       "      <td>553</td>\n",
       "      <td>1116</td>\n",
       "    </tr>\n",
       "    <tr>\n",
       "      <th>3</th>\n",
       "      <td>Arkansas</td>\n",
       "      <td>1.00</td>\n",
       "      <td>18.9</td>\n",
       "      <td>19.0</td>\n",
       "      <td>19.7</td>\n",
       "      <td>19.5</td>\n",
       "      <td>19.4</td>\n",
       "      <td>0.03</td>\n",
       "      <td>614</td>\n",
       "      <td>594</td>\n",
       "      <td>1208</td>\n",
       "    </tr>\n",
       "    <tr>\n",
       "      <th>4</th>\n",
       "      <td>California</td>\n",
       "      <td>0.31</td>\n",
       "      <td>22.5</td>\n",
       "      <td>22.7</td>\n",
       "      <td>23.1</td>\n",
       "      <td>22.2</td>\n",
       "      <td>22.8</td>\n",
       "      <td>0.53</td>\n",
       "      <td>531</td>\n",
       "      <td>524</td>\n",
       "      <td>1055</td>\n",
       "    </tr>\n",
       "  </tbody>\n",
       "</table>\n",
       "</div>"
      ],
      "text/plain": [
       "        state  participation_x  english  math_x  reading  science  composite  \\\n",
       "0     Alabama             1.00     18.9    18.4     19.7     19.4       19.2   \n",
       "1      Alaska             0.65     18.7    19.8     20.4     19.9       19.8   \n",
       "2     Arizona             0.62     18.6    19.8     20.1     19.8       19.7   \n",
       "3    Arkansas             1.00     18.9    19.0     19.7     19.5       19.4   \n",
       "4  California             0.31     22.5    22.7     23.1     22.2       22.8   \n",
       "\n",
       "   participation_y  evidence-based_reading_and_writing  math_y  total  \n",
       "0             0.05                                 593     572   1165  \n",
       "1             0.38                                 547     533   1080  \n",
       "2             0.30                                 563     553   1116  \n",
       "3             0.03                                 614     594   1208  \n",
       "4             0.53                                 531     524   1055  "
      ]
     },
     "execution_count": 33,
     "metadata": {},
     "output_type": "execute_result"
    }
   ],
   "source": [
    "#merging ACT and SAT 2017\n",
    "act_sat_17 = pd.merge(act_17 ,sat_17, on='state', how='outer')\n",
    "act_sat_17.head()"
   ]
  },
  {
   "cell_type": "code",
   "execution_count": 34,
   "metadata": {},
   "outputs": [],
   "source": [
    "#renaming the columns\n",
    "new_columns_list = ['state', 'participation_act17', 'english_act17',\n",
    "       'math_act17', 'reading_act17', 'science_act17',\n",
    "       'composite_act17', 'participation_sat17', 'evidence_based_reading_and_writing_sat17', 'math_sat17',\n",
    "       'total_sat17']"
   ]
  },
  {
   "cell_type": "code",
   "execution_count": 35,
   "metadata": {},
   "outputs": [
    {
     "data": {
      "text/html": [
       "<div>\n",
       "<style scoped>\n",
       "    .dataframe tbody tr th:only-of-type {\n",
       "        vertical-align: middle;\n",
       "    }\n",
       "\n",
       "    .dataframe tbody tr th {\n",
       "        vertical-align: top;\n",
       "    }\n",
       "\n",
       "    .dataframe thead th {\n",
       "        text-align: right;\n",
       "    }\n",
       "</style>\n",
       "<table border=\"1\" class=\"dataframe\">\n",
       "  <thead>\n",
       "    <tr style=\"text-align: right;\">\n",
       "      <th></th>\n",
       "      <th>state</th>\n",
       "      <th>participation_act17</th>\n",
       "      <th>english_act17</th>\n",
       "      <th>math_act17</th>\n",
       "      <th>reading_act17</th>\n",
       "      <th>science_act17</th>\n",
       "      <th>composite_act17</th>\n",
       "      <th>participation_sat17</th>\n",
       "      <th>evidence_based_reading_and_writing_sat17</th>\n",
       "      <th>math_sat17</th>\n",
       "      <th>total_sat17</th>\n",
       "    </tr>\n",
       "  </thead>\n",
       "  <tbody>\n",
       "    <tr>\n",
       "      <th>0</th>\n",
       "      <td>Alabama</td>\n",
       "      <td>1.00</td>\n",
       "      <td>18.9</td>\n",
       "      <td>18.4</td>\n",
       "      <td>19.7</td>\n",
       "      <td>19.4</td>\n",
       "      <td>19.2</td>\n",
       "      <td>0.05</td>\n",
       "      <td>593</td>\n",
       "      <td>572</td>\n",
       "      <td>1165</td>\n",
       "    </tr>\n",
       "    <tr>\n",
       "      <th>1</th>\n",
       "      <td>Alaska</td>\n",
       "      <td>0.65</td>\n",
       "      <td>18.7</td>\n",
       "      <td>19.8</td>\n",
       "      <td>20.4</td>\n",
       "      <td>19.9</td>\n",
       "      <td>19.8</td>\n",
       "      <td>0.38</td>\n",
       "      <td>547</td>\n",
       "      <td>533</td>\n",
       "      <td>1080</td>\n",
       "    </tr>\n",
       "    <tr>\n",
       "      <th>2</th>\n",
       "      <td>Arizona</td>\n",
       "      <td>0.62</td>\n",
       "      <td>18.6</td>\n",
       "      <td>19.8</td>\n",
       "      <td>20.1</td>\n",
       "      <td>19.8</td>\n",
       "      <td>19.7</td>\n",
       "      <td>0.30</td>\n",
       "      <td>563</td>\n",
       "      <td>553</td>\n",
       "      <td>1116</td>\n",
       "    </tr>\n",
       "    <tr>\n",
       "      <th>3</th>\n",
       "      <td>Arkansas</td>\n",
       "      <td>1.00</td>\n",
       "      <td>18.9</td>\n",
       "      <td>19.0</td>\n",
       "      <td>19.7</td>\n",
       "      <td>19.5</td>\n",
       "      <td>19.4</td>\n",
       "      <td>0.03</td>\n",
       "      <td>614</td>\n",
       "      <td>594</td>\n",
       "      <td>1208</td>\n",
       "    </tr>\n",
       "    <tr>\n",
       "      <th>4</th>\n",
       "      <td>California</td>\n",
       "      <td>0.31</td>\n",
       "      <td>22.5</td>\n",
       "      <td>22.7</td>\n",
       "      <td>23.1</td>\n",
       "      <td>22.2</td>\n",
       "      <td>22.8</td>\n",
       "      <td>0.53</td>\n",
       "      <td>531</td>\n",
       "      <td>524</td>\n",
       "      <td>1055</td>\n",
       "    </tr>\n",
       "  </tbody>\n",
       "</table>\n",
       "</div>"
      ],
      "text/plain": [
       "        state  participation_act17  english_act17  math_act17  reading_act17  \\\n",
       "0     Alabama                 1.00           18.9        18.4           19.7   \n",
       "1      Alaska                 0.65           18.7        19.8           20.4   \n",
       "2     Arizona                 0.62           18.6        19.8           20.1   \n",
       "3    Arkansas                 1.00           18.9        19.0           19.7   \n",
       "4  California                 0.31           22.5        22.7           23.1   \n",
       "\n",
       "   science_act17  composite_act17  participation_sat17  \\\n",
       "0           19.4             19.2                 0.05   \n",
       "1           19.9             19.8                 0.38   \n",
       "2           19.8             19.7                 0.30   \n",
       "3           19.5             19.4                 0.03   \n",
       "4           22.2             22.8                 0.53   \n",
       "\n",
       "   evidence_based_reading_and_writing_sat17  math_sat17  total_sat17  \n",
       "0                                       593         572         1165  \n",
       "1                                       547         533         1080  \n",
       "2                                       563         553         1116  \n",
       "3                                       614         594         1208  \n",
       "4                                       531         524         1055  "
      ]
     },
     "execution_count": 35,
     "metadata": {},
     "output_type": "execute_result"
    }
   ],
   "source": [
    "act_sat_17.columns = new_columns_list\n",
    "act_sat_17.head()"
   ]
  },
  {
   "cell_type": "markdown",
   "metadata": {},
   "source": [
    "#### 11. Save your cleaned, merged dataframe\n",
    "\n",
    "Use a relative path to save out your data as `combined_2017.csv`."
   ]
  },
  {
   "cell_type": "code",
   "execution_count": 36,
   "metadata": {},
   "outputs": [],
   "source": [
    "#saving dataframe as a csv file named combined_2017\n",
    "act_sat_17.to_csv('../data/combined_2017.csv', index = False)"
   ]
  },
  {
   "cell_type": "markdown",
   "metadata": {},
   "source": [
    "## 2018 Data Import and Cleaning"
   ]
  },
  {
   "cell_type": "markdown",
   "metadata": {},
   "source": [
    "Links to the 2018 ACT and SAT data are provided in the README. These data live in PDFs, and so you'll get to enjoy practicing some *manual* data collection. Save these data as a CSV in your `data` directory, and import, explore, and clean these data in the same way you did above. **Make sure you comment on your steps so it is clear *why* you are doing each process**."
   ]
  },
  {
   "cell_type": "code",
   "execution_count": 37,
   "metadata": {},
   "outputs": [],
   "source": [
    "sat_18 = pd.read_csv('../data/sat_2018.csv')\n",
    "act_18 = pd.read_csv('../data/act_2018_updated.csv')"
   ]
  },
  {
   "cell_type": "code",
   "execution_count": 38,
   "metadata": {},
   "outputs": [
    {
     "data": {
      "text/plain": [
       "State                                 object\n",
       "Participation                         object\n",
       "Evidence-Based Reading and Writing     int64\n",
       "Math                                   int64\n",
       "Total                                  int64\n",
       "dtype: object"
      ]
     },
     "execution_count": 38,
     "metadata": {},
     "output_type": "execute_result"
    }
   ],
   "source": [
    "sat_18.dtypes"
   ]
  },
  {
   "cell_type": "code",
   "execution_count": 39,
   "metadata": {},
   "outputs": [
    {
     "data": {
      "text/plain": [
       "State                             object\n",
       "Percentage of Students Tested      int64\n",
       "Average Composite Score          float64\n",
       "Average English Score            float64\n",
       "Average Math Score               float64\n",
       "Average Reading Score            float64\n",
       "Average Science Score            float64\n",
       "dtype: object"
      ]
     },
     "execution_count": 39,
     "metadata": {},
     "output_type": "execute_result"
    }
   ],
   "source": [
    "act_18.dtypes"
   ]
  },
  {
   "cell_type": "code",
   "execution_count": 40,
   "metadata": {},
   "outputs": [
    {
     "data": {
      "text/html": [
       "<div>\n",
       "<style scoped>\n",
       "    .dataframe tbody tr th:only-of-type {\n",
       "        vertical-align: middle;\n",
       "    }\n",
       "\n",
       "    .dataframe tbody tr th {\n",
       "        vertical-align: top;\n",
       "    }\n",
       "\n",
       "    .dataframe thead th {\n",
       "        text-align: right;\n",
       "    }\n",
       "</style>\n",
       "<table border=\"1\" class=\"dataframe\">\n",
       "  <thead>\n",
       "    <tr style=\"text-align: right;\">\n",
       "      <th></th>\n",
       "      <th>State</th>\n",
       "      <th>Percentage of Students Tested</th>\n",
       "      <th>Average Composite Score</th>\n",
       "      <th>Average English Score</th>\n",
       "      <th>Average Math Score</th>\n",
       "      <th>Average Reading Score</th>\n",
       "      <th>Average Science Score</th>\n",
       "    </tr>\n",
       "  </thead>\n",
       "  <tbody>\n",
       "    <tr>\n",
       "      <th>0</th>\n",
       "      <td>Alabama</td>\n",
       "      <td>100</td>\n",
       "      <td>19.1</td>\n",
       "      <td>18.9</td>\n",
       "      <td>18.3</td>\n",
       "      <td>19.6</td>\n",
       "      <td>19.0</td>\n",
       "    </tr>\n",
       "    <tr>\n",
       "      <th>1</th>\n",
       "      <td>Alaska</td>\n",
       "      <td>33</td>\n",
       "      <td>20.8</td>\n",
       "      <td>19.8</td>\n",
       "      <td>20.6</td>\n",
       "      <td>21.6</td>\n",
       "      <td>20.7</td>\n",
       "    </tr>\n",
       "    <tr>\n",
       "      <th>2</th>\n",
       "      <td>Arizona</td>\n",
       "      <td>66</td>\n",
       "      <td>19.2</td>\n",
       "      <td>18.2</td>\n",
       "      <td>19.4</td>\n",
       "      <td>19.5</td>\n",
       "      <td>19.2</td>\n",
       "    </tr>\n",
       "    <tr>\n",
       "      <th>3</th>\n",
       "      <td>Arkansas</td>\n",
       "      <td>100</td>\n",
       "      <td>19.4</td>\n",
       "      <td>19.1</td>\n",
       "      <td>18.9</td>\n",
       "      <td>19.7</td>\n",
       "      <td>19.4</td>\n",
       "    </tr>\n",
       "    <tr>\n",
       "      <th>4</th>\n",
       "      <td>California</td>\n",
       "      <td>27</td>\n",
       "      <td>22.7</td>\n",
       "      <td>22.5</td>\n",
       "      <td>22.5</td>\n",
       "      <td>23.0</td>\n",
       "      <td>22.1</td>\n",
       "    </tr>\n",
       "  </tbody>\n",
       "</table>\n",
       "</div>"
      ],
      "text/plain": [
       "        State  Percentage of Students Tested  Average Composite Score  \\\n",
       "0     Alabama                            100                     19.1   \n",
       "1      Alaska                             33                     20.8   \n",
       "2     Arizona                             66                     19.2   \n",
       "3    Arkansas                            100                     19.4   \n",
       "4  California                             27                     22.7   \n",
       "\n",
       "   Average English Score  Average Math Score  Average Reading Score  \\\n",
       "0                   18.9                18.3                   19.6   \n",
       "1                   19.8                20.6                   21.6   \n",
       "2                   18.2                19.4                   19.5   \n",
       "3                   19.1                18.9                   19.7   \n",
       "4                   22.5                22.5                   23.0   \n",
       "\n",
       "   Average Science Score  \n",
       "0                   19.0  \n",
       "1                   20.7  \n",
       "2                   19.2  \n",
       "3                   19.4  \n",
       "4                   22.1  "
      ]
     },
     "execution_count": 40,
     "metadata": {},
     "output_type": "execute_result"
    }
   ],
   "source": [
    "act_18.head()"
   ]
  },
  {
   "cell_type": "code",
   "execution_count": 41,
   "metadata": {},
   "outputs": [
    {
     "data": {
      "text/html": [
       "<div>\n",
       "<style scoped>\n",
       "    .dataframe tbody tr th:only-of-type {\n",
       "        vertical-align: middle;\n",
       "    }\n",
       "\n",
       "    .dataframe tbody tr th {\n",
       "        vertical-align: top;\n",
       "    }\n",
       "\n",
       "    .dataframe thead th {\n",
       "        text-align: right;\n",
       "    }\n",
       "</style>\n",
       "<table border=\"1\" class=\"dataframe\">\n",
       "  <thead>\n",
       "    <tr style=\"text-align: right;\">\n",
       "      <th></th>\n",
       "      <th>State</th>\n",
       "      <th>Participation</th>\n",
       "      <th>Evidence-Based Reading and Writing</th>\n",
       "      <th>Math</th>\n",
       "      <th>Total</th>\n",
       "    </tr>\n",
       "  </thead>\n",
       "  <tbody>\n",
       "    <tr>\n",
       "      <th>0</th>\n",
       "      <td>Alabama</td>\n",
       "      <td>6%</td>\n",
       "      <td>595</td>\n",
       "      <td>571</td>\n",
       "      <td>1166</td>\n",
       "    </tr>\n",
       "    <tr>\n",
       "      <th>1</th>\n",
       "      <td>Alaska</td>\n",
       "      <td>43%</td>\n",
       "      <td>562</td>\n",
       "      <td>544</td>\n",
       "      <td>1106</td>\n",
       "    </tr>\n",
       "    <tr>\n",
       "      <th>2</th>\n",
       "      <td>Arizona</td>\n",
       "      <td>29%</td>\n",
       "      <td>577</td>\n",
       "      <td>572</td>\n",
       "      <td>1149</td>\n",
       "    </tr>\n",
       "    <tr>\n",
       "      <th>3</th>\n",
       "      <td>Arkansas</td>\n",
       "      <td>5%</td>\n",
       "      <td>592</td>\n",
       "      <td>576</td>\n",
       "      <td>1169</td>\n",
       "    </tr>\n",
       "    <tr>\n",
       "      <th>4</th>\n",
       "      <td>California</td>\n",
       "      <td>60%</td>\n",
       "      <td>540</td>\n",
       "      <td>536</td>\n",
       "      <td>1076</td>\n",
       "    </tr>\n",
       "  </tbody>\n",
       "</table>\n",
       "</div>"
      ],
      "text/plain": [
       "        State Participation  Evidence-Based Reading and Writing  Math  Total\n",
       "0     Alabama            6%                                 595   571   1166\n",
       "1      Alaska           43%                                 562   544   1106\n",
       "2     Arizona           29%                                 577   572   1149\n",
       "3    Arkansas            5%                                 592   576   1169\n",
       "4  California           60%                                 540   536   1076"
      ]
     },
     "execution_count": 41,
     "metadata": {},
     "output_type": "execute_result"
    }
   ],
   "source": [
    "sat_18.head()"
   ]
  },
  {
   "cell_type": "code",
   "execution_count": 42,
   "metadata": {},
   "outputs": [],
   "source": [
    "#removing % sign from percentages in participation\n",
    "act_18['Percentage of Students Tested'] = act_18['Percentage of Students Tested']/100\n",
    "sat_18['Participation'] = sat_18['Participation'].map(replace_perc)/100 "
   ]
  },
  {
   "cell_type": "code",
   "execution_count": 43,
   "metadata": {},
   "outputs": [],
   "source": [
    "#changing all the percentages to float\n",
    "sat_18['Participation']=sat_18['Participation'].astype(float)"
   ]
  },
  {
   "cell_type": "code",
   "execution_count": 44,
   "metadata": {},
   "outputs": [
    {
     "data": {
      "text/plain": [
       "Index(['state', 'participation', 'english', 'math', 'reading', 'science',\n",
       "       'composite'],\n",
       "      dtype='object')"
      ]
     },
     "execution_count": 44,
     "metadata": {},
     "output_type": "execute_result"
    }
   ],
   "source": [
    "act_17.columns"
   ]
  },
  {
   "cell_type": "code",
   "execution_count": 45,
   "metadata": {},
   "outputs": [],
   "source": [
    "act_18.columns=['state', 'participation','composite', 'english', 'math', 'reading', 'science']"
   ]
  },
  {
   "cell_type": "code",
   "execution_count": 46,
   "metadata": {},
   "outputs": [
    {
     "data": {
      "text/html": [
       "<div>\n",
       "<style scoped>\n",
       "    .dataframe tbody tr th:only-of-type {\n",
       "        vertical-align: middle;\n",
       "    }\n",
       "\n",
       "    .dataframe tbody tr th {\n",
       "        vertical-align: top;\n",
       "    }\n",
       "\n",
       "    .dataframe thead th {\n",
       "        text-align: right;\n",
       "    }\n",
       "</style>\n",
       "<table border=\"1\" class=\"dataframe\">\n",
       "  <thead>\n",
       "    <tr style=\"text-align: right;\">\n",
       "      <th></th>\n",
       "      <th>state</th>\n",
       "      <th>participation</th>\n",
       "      <th>composite</th>\n",
       "      <th>english</th>\n",
       "      <th>math</th>\n",
       "      <th>reading</th>\n",
       "      <th>science</th>\n",
       "    </tr>\n",
       "  </thead>\n",
       "  <tbody>\n",
       "    <tr>\n",
       "      <th>0</th>\n",
       "      <td>Alabama</td>\n",
       "      <td>1.00</td>\n",
       "      <td>19.1</td>\n",
       "      <td>18.9</td>\n",
       "      <td>18.3</td>\n",
       "      <td>19.6</td>\n",
       "      <td>19.0</td>\n",
       "    </tr>\n",
       "    <tr>\n",
       "      <th>1</th>\n",
       "      <td>Alaska</td>\n",
       "      <td>0.33</td>\n",
       "      <td>20.8</td>\n",
       "      <td>19.8</td>\n",
       "      <td>20.6</td>\n",
       "      <td>21.6</td>\n",
       "      <td>20.7</td>\n",
       "    </tr>\n",
       "    <tr>\n",
       "      <th>2</th>\n",
       "      <td>Arizona</td>\n",
       "      <td>0.66</td>\n",
       "      <td>19.2</td>\n",
       "      <td>18.2</td>\n",
       "      <td>19.4</td>\n",
       "      <td>19.5</td>\n",
       "      <td>19.2</td>\n",
       "    </tr>\n",
       "    <tr>\n",
       "      <th>3</th>\n",
       "      <td>Arkansas</td>\n",
       "      <td>1.00</td>\n",
       "      <td>19.4</td>\n",
       "      <td>19.1</td>\n",
       "      <td>18.9</td>\n",
       "      <td>19.7</td>\n",
       "      <td>19.4</td>\n",
       "    </tr>\n",
       "    <tr>\n",
       "      <th>4</th>\n",
       "      <td>California</td>\n",
       "      <td>0.27</td>\n",
       "      <td>22.7</td>\n",
       "      <td>22.5</td>\n",
       "      <td>22.5</td>\n",
       "      <td>23.0</td>\n",
       "      <td>22.1</td>\n",
       "    </tr>\n",
       "  </tbody>\n",
       "</table>\n",
       "</div>"
      ],
      "text/plain": [
       "        state  participation  composite  english  math  reading  science\n",
       "0     Alabama           1.00       19.1     18.9  18.3     19.6     19.0\n",
       "1      Alaska           0.33       20.8     19.8  20.6     21.6     20.7\n",
       "2     Arizona           0.66       19.2     18.2  19.4     19.5     19.2\n",
       "3    Arkansas           1.00       19.4     19.1  18.9     19.7     19.4\n",
       "4  California           0.27       22.7     22.5  22.5     23.0     22.1"
      ]
     },
     "execution_count": 46,
     "metadata": {},
     "output_type": "execute_result"
    }
   ],
   "source": [
    "act_18.head()"
   ]
  },
  {
   "cell_type": "code",
   "execution_count": 47,
   "metadata": {},
   "outputs": [
    {
     "data": {
      "text/html": [
       "<div>\n",
       "<style scoped>\n",
       "    .dataframe tbody tr th:only-of-type {\n",
       "        vertical-align: middle;\n",
       "    }\n",
       "\n",
       "    .dataframe tbody tr th {\n",
       "        vertical-align: top;\n",
       "    }\n",
       "\n",
       "    .dataframe thead th {\n",
       "        text-align: right;\n",
       "    }\n",
       "</style>\n",
       "<table border=\"1\" class=\"dataframe\">\n",
       "  <thead>\n",
       "    <tr style=\"text-align: right;\">\n",
       "      <th></th>\n",
       "      <th>state</th>\n",
       "      <th>participation</th>\n",
       "      <th>composite</th>\n",
       "      <th>english</th>\n",
       "      <th>math</th>\n",
       "      <th>reading</th>\n",
       "      <th>science</th>\n",
       "    </tr>\n",
       "  </thead>\n",
       "  <tbody>\n",
       "  </tbody>\n",
       "</table>\n",
       "</div>"
      ],
      "text/plain": [
       "Empty DataFrame\n",
       "Columns: [state, participation, composite, english, math, reading, science]\n",
       "Index: []"
      ]
     },
     "execution_count": 47,
     "metadata": {},
     "output_type": "execute_result"
    }
   ],
   "source": [
    "act_18[act_18.duplicated()]"
   ]
  },
  {
   "cell_type": "code",
   "execution_count": 48,
   "metadata": {},
   "outputs": [
    {
     "data": {
      "text/plain": [
       "Index(['State', 'Participation', 'Evidence-Based Reading and Writing', 'Math',\n",
       "       'Total'],\n",
       "      dtype='object')"
      ]
     },
     "execution_count": 48,
     "metadata": {},
     "output_type": "execute_result"
    }
   ],
   "source": [
    "sat_18.columns"
   ]
  },
  {
   "cell_type": "code",
   "execution_count": 49,
   "metadata": {},
   "outputs": [],
   "source": [
    "sat_18['Total']=sat_18['Evidence-Based Reading and Writing']+sat_18['Math']"
   ]
  },
  {
   "cell_type": "code",
   "execution_count": 50,
   "metadata": {},
   "outputs": [],
   "source": [
    "sat_18.columns = sat_18.columns.str.lower()"
   ]
  },
  {
   "cell_type": "code",
   "execution_count": 51,
   "metadata": {},
   "outputs": [
    {
     "data": {
      "text/html": [
       "<div>\n",
       "<style scoped>\n",
       "    .dataframe tbody tr th:only-of-type {\n",
       "        vertical-align: middle;\n",
       "    }\n",
       "\n",
       "    .dataframe tbody tr th {\n",
       "        vertical-align: top;\n",
       "    }\n",
       "\n",
       "    .dataframe thead th {\n",
       "        text-align: right;\n",
       "    }\n",
       "</style>\n",
       "<table border=\"1\" class=\"dataframe\">\n",
       "  <thead>\n",
       "    <tr style=\"text-align: right;\">\n",
       "      <th></th>\n",
       "      <th>state</th>\n",
       "      <th>participation</th>\n",
       "      <th>composite</th>\n",
       "      <th>english</th>\n",
       "      <th>math</th>\n",
       "      <th>reading</th>\n",
       "      <th>science</th>\n",
       "    </tr>\n",
       "  </thead>\n",
       "  <tbody>\n",
       "    <tr>\n",
       "      <th>0</th>\n",
       "      <td>Alabama</td>\n",
       "      <td>1.00</td>\n",
       "      <td>19.1</td>\n",
       "      <td>18.9</td>\n",
       "      <td>18.3</td>\n",
       "      <td>19.6</td>\n",
       "      <td>19.0</td>\n",
       "    </tr>\n",
       "    <tr>\n",
       "      <th>1</th>\n",
       "      <td>Alaska</td>\n",
       "      <td>0.33</td>\n",
       "      <td>20.8</td>\n",
       "      <td>19.8</td>\n",
       "      <td>20.6</td>\n",
       "      <td>21.6</td>\n",
       "      <td>20.7</td>\n",
       "    </tr>\n",
       "    <tr>\n",
       "      <th>2</th>\n",
       "      <td>Arizona</td>\n",
       "      <td>0.66</td>\n",
       "      <td>19.2</td>\n",
       "      <td>18.2</td>\n",
       "      <td>19.4</td>\n",
       "      <td>19.5</td>\n",
       "      <td>19.2</td>\n",
       "    </tr>\n",
       "    <tr>\n",
       "      <th>3</th>\n",
       "      <td>Arkansas</td>\n",
       "      <td>1.00</td>\n",
       "      <td>19.4</td>\n",
       "      <td>19.1</td>\n",
       "      <td>18.9</td>\n",
       "      <td>19.7</td>\n",
       "      <td>19.4</td>\n",
       "    </tr>\n",
       "    <tr>\n",
       "      <th>4</th>\n",
       "      <td>California</td>\n",
       "      <td>0.27</td>\n",
       "      <td>22.7</td>\n",
       "      <td>22.5</td>\n",
       "      <td>22.5</td>\n",
       "      <td>23.0</td>\n",
       "      <td>22.1</td>\n",
       "    </tr>\n",
       "  </tbody>\n",
       "</table>\n",
       "</div>"
      ],
      "text/plain": [
       "        state  participation  composite  english  math  reading  science\n",
       "0     Alabama           1.00       19.1     18.9  18.3     19.6     19.0\n",
       "1      Alaska           0.33       20.8     19.8  20.6     21.6     20.7\n",
       "2     Arizona           0.66       19.2     18.2  19.4     19.5     19.2\n",
       "3    Arkansas           1.00       19.4     19.1  18.9     19.7     19.4\n",
       "4  California           0.27       22.7     22.5  22.5     23.0     22.1"
      ]
     },
     "execution_count": 51,
     "metadata": {},
     "output_type": "execute_result"
    }
   ],
   "source": [
    "act_18.head()"
   ]
  },
  {
   "cell_type": "code",
   "execution_count": 52,
   "metadata": {},
   "outputs": [
    {
     "data": {
      "text/html": [
       "<div>\n",
       "<style scoped>\n",
       "    .dataframe tbody tr th:only-of-type {\n",
       "        vertical-align: middle;\n",
       "    }\n",
       "\n",
       "    .dataframe tbody tr th {\n",
       "        vertical-align: top;\n",
       "    }\n",
       "\n",
       "    .dataframe thead th {\n",
       "        text-align: right;\n",
       "    }\n",
       "</style>\n",
       "<table border=\"1\" class=\"dataframe\">\n",
       "  <thead>\n",
       "    <tr style=\"text-align: right;\">\n",
       "      <th></th>\n",
       "      <th>state</th>\n",
       "      <th>participation</th>\n",
       "      <th>evidence-based reading and writing</th>\n",
       "      <th>math</th>\n",
       "      <th>total</th>\n",
       "    </tr>\n",
       "  </thead>\n",
       "  <tbody>\n",
       "    <tr>\n",
       "      <th>0</th>\n",
       "      <td>Alabama</td>\n",
       "      <td>0.06</td>\n",
       "      <td>595</td>\n",
       "      <td>571</td>\n",
       "      <td>1166</td>\n",
       "    </tr>\n",
       "    <tr>\n",
       "      <th>1</th>\n",
       "      <td>Alaska</td>\n",
       "      <td>0.43</td>\n",
       "      <td>562</td>\n",
       "      <td>544</td>\n",
       "      <td>1106</td>\n",
       "    </tr>\n",
       "    <tr>\n",
       "      <th>2</th>\n",
       "      <td>Arizona</td>\n",
       "      <td>0.29</td>\n",
       "      <td>577</td>\n",
       "      <td>572</td>\n",
       "      <td>1149</td>\n",
       "    </tr>\n",
       "    <tr>\n",
       "      <th>3</th>\n",
       "      <td>Arkansas</td>\n",
       "      <td>0.05</td>\n",
       "      <td>592</td>\n",
       "      <td>576</td>\n",
       "      <td>1168</td>\n",
       "    </tr>\n",
       "    <tr>\n",
       "      <th>4</th>\n",
       "      <td>California</td>\n",
       "      <td>0.60</td>\n",
       "      <td>540</td>\n",
       "      <td>536</td>\n",
       "      <td>1076</td>\n",
       "    </tr>\n",
       "  </tbody>\n",
       "</table>\n",
       "</div>"
      ],
      "text/plain": [
       "        state  participation  evidence-based reading and writing  math  total\n",
       "0     Alabama           0.06                                 595   571   1166\n",
       "1      Alaska           0.43                                 562   544   1106\n",
       "2     Arizona           0.29                                 577   572   1149\n",
       "3    Arkansas           0.05                                 592   576   1168\n",
       "4  California           0.60                                 540   536   1076"
      ]
     },
     "execution_count": 52,
     "metadata": {},
     "output_type": "execute_result"
    }
   ],
   "source": [
    "sat_18.head()"
   ]
  },
  {
   "cell_type": "code",
   "execution_count": 53,
   "metadata": {},
   "outputs": [
    {
     "data": {
      "text/html": [
       "<div>\n",
       "<style scoped>\n",
       "    .dataframe tbody tr th:only-of-type {\n",
       "        vertical-align: middle;\n",
       "    }\n",
       "\n",
       "    .dataframe tbody tr th {\n",
       "        vertical-align: top;\n",
       "    }\n",
       "\n",
       "    .dataframe thead th {\n",
       "        text-align: right;\n",
       "    }\n",
       "</style>\n",
       "<table border=\"1\" class=\"dataframe\">\n",
       "  <thead>\n",
       "    <tr style=\"text-align: right;\">\n",
       "      <th></th>\n",
       "      <th>state</th>\n",
       "      <th>participation_x</th>\n",
       "      <th>composite</th>\n",
       "      <th>english</th>\n",
       "      <th>math_x</th>\n",
       "      <th>reading</th>\n",
       "      <th>science</th>\n",
       "      <th>participation_y</th>\n",
       "      <th>evidence-based reading and writing</th>\n",
       "      <th>math_y</th>\n",
       "      <th>total</th>\n",
       "    </tr>\n",
       "  </thead>\n",
       "  <tbody>\n",
       "    <tr>\n",
       "      <th>0</th>\n",
       "      <td>Alabama</td>\n",
       "      <td>1.00</td>\n",
       "      <td>19.1</td>\n",
       "      <td>18.9</td>\n",
       "      <td>18.3</td>\n",
       "      <td>19.6</td>\n",
       "      <td>19.0</td>\n",
       "      <td>0.06</td>\n",
       "      <td>595</td>\n",
       "      <td>571</td>\n",
       "      <td>1166</td>\n",
       "    </tr>\n",
       "    <tr>\n",
       "      <th>1</th>\n",
       "      <td>Alaska</td>\n",
       "      <td>0.33</td>\n",
       "      <td>20.8</td>\n",
       "      <td>19.8</td>\n",
       "      <td>20.6</td>\n",
       "      <td>21.6</td>\n",
       "      <td>20.7</td>\n",
       "      <td>0.43</td>\n",
       "      <td>562</td>\n",
       "      <td>544</td>\n",
       "      <td>1106</td>\n",
       "    </tr>\n",
       "    <tr>\n",
       "      <th>2</th>\n",
       "      <td>Arizona</td>\n",
       "      <td>0.66</td>\n",
       "      <td>19.2</td>\n",
       "      <td>18.2</td>\n",
       "      <td>19.4</td>\n",
       "      <td>19.5</td>\n",
       "      <td>19.2</td>\n",
       "      <td>0.29</td>\n",
       "      <td>577</td>\n",
       "      <td>572</td>\n",
       "      <td>1149</td>\n",
       "    </tr>\n",
       "    <tr>\n",
       "      <th>3</th>\n",
       "      <td>Arkansas</td>\n",
       "      <td>1.00</td>\n",
       "      <td>19.4</td>\n",
       "      <td>19.1</td>\n",
       "      <td>18.9</td>\n",
       "      <td>19.7</td>\n",
       "      <td>19.4</td>\n",
       "      <td>0.05</td>\n",
       "      <td>592</td>\n",
       "      <td>576</td>\n",
       "      <td>1168</td>\n",
       "    </tr>\n",
       "    <tr>\n",
       "      <th>4</th>\n",
       "      <td>California</td>\n",
       "      <td>0.27</td>\n",
       "      <td>22.7</td>\n",
       "      <td>22.5</td>\n",
       "      <td>22.5</td>\n",
       "      <td>23.0</td>\n",
       "      <td>22.1</td>\n",
       "      <td>0.60</td>\n",
       "      <td>540</td>\n",
       "      <td>536</td>\n",
       "      <td>1076</td>\n",
       "    </tr>\n",
       "  </tbody>\n",
       "</table>\n",
       "</div>"
      ],
      "text/plain": [
       "        state  participation_x  composite  english  math_x  reading  science  \\\n",
       "0     Alabama             1.00       19.1     18.9    18.3     19.6     19.0   \n",
       "1      Alaska             0.33       20.8     19.8    20.6     21.6     20.7   \n",
       "2     Arizona             0.66       19.2     18.2    19.4     19.5     19.2   \n",
       "3    Arkansas             1.00       19.4     19.1    18.9     19.7     19.4   \n",
       "4  California             0.27       22.7     22.5    22.5     23.0     22.1   \n",
       "\n",
       "   participation_y  evidence-based reading and writing  math_y  total  \n",
       "0             0.06                                 595     571   1166  \n",
       "1             0.43                                 562     544   1106  \n",
       "2             0.29                                 577     572   1149  \n",
       "3             0.05                                 592     576   1168  \n",
       "4             0.60                                 540     536   1076  "
      ]
     },
     "execution_count": 53,
     "metadata": {},
     "output_type": "execute_result"
    }
   ],
   "source": [
    "#merging both sat_18 and act_18\n",
    "act_sat_18 = pd.merge(act_18 ,sat_18, on='state', how='outer')\n",
    "act_sat_18.head()"
   ]
  },
  {
   "cell_type": "code",
   "execution_count": 54,
   "metadata": {},
   "outputs": [
    {
     "data": {
      "text/html": [
       "<div>\n",
       "<style scoped>\n",
       "    .dataframe tbody tr th:only-of-type {\n",
       "        vertical-align: middle;\n",
       "    }\n",
       "\n",
       "    .dataframe tbody tr th {\n",
       "        vertical-align: top;\n",
       "    }\n",
       "\n",
       "    .dataframe thead th {\n",
       "        text-align: right;\n",
       "    }\n",
       "</style>\n",
       "<table border=\"1\" class=\"dataframe\">\n",
       "  <thead>\n",
       "    <tr style=\"text-align: right;\">\n",
       "      <th></th>\n",
       "      <th>state</th>\n",
       "      <th>participation_act18</th>\n",
       "      <th>composite_act18</th>\n",
       "      <th>english_act18</th>\n",
       "      <th>math_act18</th>\n",
       "      <th>reading_act18</th>\n",
       "      <th>science_act18</th>\n",
       "      <th>participation_sat18</th>\n",
       "      <th>evidence_based_reading_and_writing_sat18</th>\n",
       "      <th>math_sat18</th>\n",
       "      <th>total_sat18</th>\n",
       "    </tr>\n",
       "  </thead>\n",
       "  <tbody>\n",
       "    <tr>\n",
       "      <th>0</th>\n",
       "      <td>Alabama</td>\n",
       "      <td>1.00</td>\n",
       "      <td>19.1</td>\n",
       "      <td>18.9</td>\n",
       "      <td>18.3</td>\n",
       "      <td>19.6</td>\n",
       "      <td>19.0</td>\n",
       "      <td>0.06</td>\n",
       "      <td>595</td>\n",
       "      <td>571</td>\n",
       "      <td>1166</td>\n",
       "    </tr>\n",
       "    <tr>\n",
       "      <th>1</th>\n",
       "      <td>Alaska</td>\n",
       "      <td>0.33</td>\n",
       "      <td>20.8</td>\n",
       "      <td>19.8</td>\n",
       "      <td>20.6</td>\n",
       "      <td>21.6</td>\n",
       "      <td>20.7</td>\n",
       "      <td>0.43</td>\n",
       "      <td>562</td>\n",
       "      <td>544</td>\n",
       "      <td>1106</td>\n",
       "    </tr>\n",
       "    <tr>\n",
       "      <th>2</th>\n",
       "      <td>Arizona</td>\n",
       "      <td>0.66</td>\n",
       "      <td>19.2</td>\n",
       "      <td>18.2</td>\n",
       "      <td>19.4</td>\n",
       "      <td>19.5</td>\n",
       "      <td>19.2</td>\n",
       "      <td>0.29</td>\n",
       "      <td>577</td>\n",
       "      <td>572</td>\n",
       "      <td>1149</td>\n",
       "    </tr>\n",
       "    <tr>\n",
       "      <th>3</th>\n",
       "      <td>Arkansas</td>\n",
       "      <td>1.00</td>\n",
       "      <td>19.4</td>\n",
       "      <td>19.1</td>\n",
       "      <td>18.9</td>\n",
       "      <td>19.7</td>\n",
       "      <td>19.4</td>\n",
       "      <td>0.05</td>\n",
       "      <td>592</td>\n",
       "      <td>576</td>\n",
       "      <td>1168</td>\n",
       "    </tr>\n",
       "    <tr>\n",
       "      <th>4</th>\n",
       "      <td>California</td>\n",
       "      <td>0.27</td>\n",
       "      <td>22.7</td>\n",
       "      <td>22.5</td>\n",
       "      <td>22.5</td>\n",
       "      <td>23.0</td>\n",
       "      <td>22.1</td>\n",
       "      <td>0.60</td>\n",
       "      <td>540</td>\n",
       "      <td>536</td>\n",
       "      <td>1076</td>\n",
       "    </tr>\n",
       "  </tbody>\n",
       "</table>\n",
       "</div>"
      ],
      "text/plain": [
       "        state  participation_act18  composite_act18  english_act18  \\\n",
       "0     Alabama                 1.00             19.1           18.9   \n",
       "1      Alaska                 0.33             20.8           19.8   \n",
       "2     Arizona                 0.66             19.2           18.2   \n",
       "3    Arkansas                 1.00             19.4           19.1   \n",
       "4  California                 0.27             22.7           22.5   \n",
       "\n",
       "   math_act18  reading_act18  science_act18  participation_sat18  \\\n",
       "0        18.3           19.6           19.0                 0.06   \n",
       "1        20.6           21.6           20.7                 0.43   \n",
       "2        19.4           19.5           19.2                 0.29   \n",
       "3        18.9           19.7           19.4                 0.05   \n",
       "4        22.5           23.0           22.1                 0.60   \n",
       "\n",
       "   evidence_based_reading_and_writing_sat18  math_sat18  total_sat18  \n",
       "0                                       595         571         1166  \n",
       "1                                       562         544         1106  \n",
       "2                                       577         572         1149  \n",
       "3                                       592         576         1168  \n",
       "4                                       540         536         1076  "
      ]
     },
     "execution_count": 54,
     "metadata": {},
     "output_type": "execute_result"
    }
   ],
   "source": [
    "#renaming the columns\n",
    "new_columns_list2 = ['state', 'participation_act18', \n",
    "       'composite_act18','english_act18', 'math_act18', 'reading_act18', 'science_act18', 'participation_sat18', 'evidence_based_reading_and_writing_sat18', 'math_sat18',\n",
    "       'total_sat18']\n",
    "act_sat_18.columns = new_columns_list2\n",
    "act_sat_18.head()"
   ]
  },
  {
   "cell_type": "markdown",
   "metadata": {},
   "source": [
    "#### Combine your 2017 and 2018 data into a single dataframe\n",
    "Joining on state names should work, assuming you formatted all your state names identically. Make sure none of your columns (other than state) have identical names. Do yourself a favor and decide if you're encoding participation rates as floats or integers and standardize this across your datasets.\n",
    "\n",
    "Save the contents of this merged dataframe as `final.csv`.\n",
    "\n",
    "**Use this combined dataframe for the remainder of the project**."
   ]
  },
  {
   "cell_type": "code",
   "execution_count": 55,
   "metadata": {},
   "outputs": [],
   "source": [
    "#merging both dataframes to final\n",
    "final = pd.merge(act_sat_17,act_sat_18, on='state', how='outer')"
   ]
  },
  {
   "cell_type": "code",
   "execution_count": 56,
   "metadata": {},
   "outputs": [],
   "source": [
    "#saving as a csv file\n",
    "final.to_csv('../data/final.csv', index = False)"
   ]
  },
  {
   "cell_type": "markdown",
   "metadata": {},
   "source": [
    "## Exploratory Data Analysis\n",
    "\n",
    "\n",
    "### Summary Statistics\n",
    "Transpose the output of pandas `describe` method to create a quick overview of each numeric feature."
   ]
  },
  {
   "cell_type": "code",
   "execution_count": 57,
   "metadata": {},
   "outputs": [
    {
     "data": {
      "text/html": [
       "<div>\n",
       "<style scoped>\n",
       "    .dataframe tbody tr th:only-of-type {\n",
       "        vertical-align: middle;\n",
       "    }\n",
       "\n",
       "    .dataframe tbody tr th {\n",
       "        vertical-align: top;\n",
       "    }\n",
       "\n",
       "    .dataframe thead th {\n",
       "        text-align: right;\n",
       "    }\n",
       "</style>\n",
       "<table border=\"1\" class=\"dataframe\">\n",
       "  <thead>\n",
       "    <tr style=\"text-align: right;\">\n",
       "      <th></th>\n",
       "      <th>count</th>\n",
       "      <th>mean</th>\n",
       "      <th>std</th>\n",
       "      <th>min</th>\n",
       "      <th>25%</th>\n",
       "      <th>50%</th>\n",
       "      <th>75%</th>\n",
       "      <th>max</th>\n",
       "    </tr>\n",
       "  </thead>\n",
       "  <tbody>\n",
       "    <tr>\n",
       "      <th>participation_act17</th>\n",
       "      <td>51.0</td>\n",
       "      <td>0.652549</td>\n",
       "      <td>0.321408</td>\n",
       "      <td>0.08</td>\n",
       "      <td>0.310</td>\n",
       "      <td>0.69</td>\n",
       "      <td>1.000</td>\n",
       "      <td>1.0</td>\n",
       "    </tr>\n",
       "    <tr>\n",
       "      <th>english_act17</th>\n",
       "      <td>51.0</td>\n",
       "      <td>20.931373</td>\n",
       "      <td>2.353677</td>\n",
       "      <td>16.30</td>\n",
       "      <td>19.000</td>\n",
       "      <td>20.70</td>\n",
       "      <td>23.300</td>\n",
       "      <td>25.5</td>\n",
       "    </tr>\n",
       "    <tr>\n",
       "      <th>math_act17</th>\n",
       "      <td>51.0</td>\n",
       "      <td>21.182353</td>\n",
       "      <td>1.981989</td>\n",
       "      <td>18.00</td>\n",
       "      <td>19.400</td>\n",
       "      <td>20.90</td>\n",
       "      <td>23.100</td>\n",
       "      <td>25.3</td>\n",
       "    </tr>\n",
       "    <tr>\n",
       "      <th>reading_act17</th>\n",
       "      <td>51.0</td>\n",
       "      <td>22.013725</td>\n",
       "      <td>2.067271</td>\n",
       "      <td>18.10</td>\n",
       "      <td>20.450</td>\n",
       "      <td>21.80</td>\n",
       "      <td>24.150</td>\n",
       "      <td>26.0</td>\n",
       "    </tr>\n",
       "    <tr>\n",
       "      <th>science_act17</th>\n",
       "      <td>51.0</td>\n",
       "      <td>21.449020</td>\n",
       "      <td>1.737397</td>\n",
       "      <td>18.20</td>\n",
       "      <td>19.950</td>\n",
       "      <td>21.30</td>\n",
       "      <td>23.150</td>\n",
       "      <td>24.9</td>\n",
       "    </tr>\n",
       "    <tr>\n",
       "      <th>composite_act17</th>\n",
       "      <td>51.0</td>\n",
       "      <td>21.519608</td>\n",
       "      <td>2.020695</td>\n",
       "      <td>17.80</td>\n",
       "      <td>19.800</td>\n",
       "      <td>21.40</td>\n",
       "      <td>23.600</td>\n",
       "      <td>25.5</td>\n",
       "    </tr>\n",
       "    <tr>\n",
       "      <th>participation_sat17</th>\n",
       "      <td>51.0</td>\n",
       "      <td>0.398039</td>\n",
       "      <td>0.352766</td>\n",
       "      <td>0.02</td>\n",
       "      <td>0.040</td>\n",
       "      <td>0.38</td>\n",
       "      <td>0.660</td>\n",
       "      <td>1.0</td>\n",
       "    </tr>\n",
       "    <tr>\n",
       "      <th>evidence_based_reading_and_writing_sat17</th>\n",
       "      <td>51.0</td>\n",
       "      <td>569.117647</td>\n",
       "      <td>45.666901</td>\n",
       "      <td>482.00</td>\n",
       "      <td>533.500</td>\n",
       "      <td>559.00</td>\n",
       "      <td>613.000</td>\n",
       "      <td>644.0</td>\n",
       "    </tr>\n",
       "    <tr>\n",
       "      <th>math_sat17</th>\n",
       "      <td>51.0</td>\n",
       "      <td>556.882353</td>\n",
       "      <td>47.121395</td>\n",
       "      <td>468.00</td>\n",
       "      <td>523.500</td>\n",
       "      <td>548.00</td>\n",
       "      <td>599.000</td>\n",
       "      <td>651.0</td>\n",
       "    </tr>\n",
       "    <tr>\n",
       "      <th>total_sat17</th>\n",
       "      <td>51.0</td>\n",
       "      <td>1126.098039</td>\n",
       "      <td>92.494812</td>\n",
       "      <td>950.00</td>\n",
       "      <td>1055.500</td>\n",
       "      <td>1107.00</td>\n",
       "      <td>1212.000</td>\n",
       "      <td>1295.0</td>\n",
       "    </tr>\n",
       "    <tr>\n",
       "      <th>participation_act18</th>\n",
       "      <td>51.0</td>\n",
       "      <td>0.616471</td>\n",
       "      <td>0.340810</td>\n",
       "      <td>0.07</td>\n",
       "      <td>0.285</td>\n",
       "      <td>0.66</td>\n",
       "      <td>1.000</td>\n",
       "      <td>1.0</td>\n",
       "    </tr>\n",
       "    <tr>\n",
       "      <th>composite_act18</th>\n",
       "      <td>51.0</td>\n",
       "      <td>21.486275</td>\n",
       "      <td>2.106278</td>\n",
       "      <td>17.70</td>\n",
       "      <td>19.950</td>\n",
       "      <td>21.30</td>\n",
       "      <td>23.550</td>\n",
       "      <td>25.6</td>\n",
       "    </tr>\n",
       "    <tr>\n",
       "      <th>english_act18</th>\n",
       "      <td>51.0</td>\n",
       "      <td>20.988235</td>\n",
       "      <td>2.446356</td>\n",
       "      <td>16.60</td>\n",
       "      <td>19.100</td>\n",
       "      <td>20.20</td>\n",
       "      <td>23.700</td>\n",
       "      <td>26.0</td>\n",
       "    </tr>\n",
       "    <tr>\n",
       "      <th>math_act18</th>\n",
       "      <td>51.0</td>\n",
       "      <td>21.125490</td>\n",
       "      <td>2.035765</td>\n",
       "      <td>17.80</td>\n",
       "      <td>19.400</td>\n",
       "      <td>20.70</td>\n",
       "      <td>23.150</td>\n",
       "      <td>25.2</td>\n",
       "    </tr>\n",
       "    <tr>\n",
       "      <th>reading_act18</th>\n",
       "      <td>51.0</td>\n",
       "      <td>22.015686</td>\n",
       "      <td>2.167245</td>\n",
       "      <td>18.00</td>\n",
       "      <td>20.450</td>\n",
       "      <td>21.60</td>\n",
       "      <td>24.100</td>\n",
       "      <td>26.1</td>\n",
       "    </tr>\n",
       "    <tr>\n",
       "      <th>science_act18</th>\n",
       "      <td>51.0</td>\n",
       "      <td>21.345098</td>\n",
       "      <td>1.870114</td>\n",
       "      <td>17.90</td>\n",
       "      <td>19.850</td>\n",
       "      <td>21.10</td>\n",
       "      <td>23.050</td>\n",
       "      <td>24.9</td>\n",
       "    </tr>\n",
       "    <tr>\n",
       "      <th>participation_sat18</th>\n",
       "      <td>51.0</td>\n",
       "      <td>0.457451</td>\n",
       "      <td>0.373143</td>\n",
       "      <td>0.02</td>\n",
       "      <td>0.045</td>\n",
       "      <td>0.52</td>\n",
       "      <td>0.775</td>\n",
       "      <td>1.0</td>\n",
       "    </tr>\n",
       "    <tr>\n",
       "      <th>evidence_based_reading_and_writing_sat18</th>\n",
       "      <td>51.0</td>\n",
       "      <td>563.686275</td>\n",
       "      <td>47.502627</td>\n",
       "      <td>480.00</td>\n",
       "      <td>534.500</td>\n",
       "      <td>552.00</td>\n",
       "      <td>610.500</td>\n",
       "      <td>643.0</td>\n",
       "    </tr>\n",
       "    <tr>\n",
       "      <th>math_sat18</th>\n",
       "      <td>51.0</td>\n",
       "      <td>556.235294</td>\n",
       "      <td>47.772623</td>\n",
       "      <td>480.00</td>\n",
       "      <td>522.500</td>\n",
       "      <td>544.00</td>\n",
       "      <td>593.500</td>\n",
       "      <td>655.0</td>\n",
       "    </tr>\n",
       "    <tr>\n",
       "      <th>total_sat18</th>\n",
       "      <td>51.0</td>\n",
       "      <td>1119.921569</td>\n",
       "      <td>94.189138</td>\n",
       "      <td>977.00</td>\n",
       "      <td>1058.000</td>\n",
       "      <td>1097.00</td>\n",
       "      <td>1204.000</td>\n",
       "      <td>1298.0</td>\n",
       "    </tr>\n",
       "  </tbody>\n",
       "</table>\n",
       "</div>"
      ],
      "text/plain": [
       "                                          count         mean        std  \\\n",
       "participation_act17                        51.0     0.652549   0.321408   \n",
       "english_act17                              51.0    20.931373   2.353677   \n",
       "math_act17                                 51.0    21.182353   1.981989   \n",
       "reading_act17                              51.0    22.013725   2.067271   \n",
       "science_act17                              51.0    21.449020   1.737397   \n",
       "composite_act17                            51.0    21.519608   2.020695   \n",
       "participation_sat17                        51.0     0.398039   0.352766   \n",
       "evidence_based_reading_and_writing_sat17   51.0   569.117647  45.666901   \n",
       "math_sat17                                 51.0   556.882353  47.121395   \n",
       "total_sat17                                51.0  1126.098039  92.494812   \n",
       "participation_act18                        51.0     0.616471   0.340810   \n",
       "composite_act18                            51.0    21.486275   2.106278   \n",
       "english_act18                              51.0    20.988235   2.446356   \n",
       "math_act18                                 51.0    21.125490   2.035765   \n",
       "reading_act18                              51.0    22.015686   2.167245   \n",
       "science_act18                              51.0    21.345098   1.870114   \n",
       "participation_sat18                        51.0     0.457451   0.373143   \n",
       "evidence_based_reading_and_writing_sat18   51.0   563.686275  47.502627   \n",
       "math_sat18                                 51.0   556.235294  47.772623   \n",
       "total_sat18                                51.0  1119.921569  94.189138   \n",
       "\n",
       "                                             min       25%      50%       75%  \\\n",
       "participation_act17                         0.08     0.310     0.69     1.000   \n",
       "english_act17                              16.30    19.000    20.70    23.300   \n",
       "math_act17                                 18.00    19.400    20.90    23.100   \n",
       "reading_act17                              18.10    20.450    21.80    24.150   \n",
       "science_act17                              18.20    19.950    21.30    23.150   \n",
       "composite_act17                            17.80    19.800    21.40    23.600   \n",
       "participation_sat17                         0.02     0.040     0.38     0.660   \n",
       "evidence_based_reading_and_writing_sat17  482.00   533.500   559.00   613.000   \n",
       "math_sat17                                468.00   523.500   548.00   599.000   \n",
       "total_sat17                               950.00  1055.500  1107.00  1212.000   \n",
       "participation_act18                         0.07     0.285     0.66     1.000   \n",
       "composite_act18                            17.70    19.950    21.30    23.550   \n",
       "english_act18                              16.60    19.100    20.20    23.700   \n",
       "math_act18                                 17.80    19.400    20.70    23.150   \n",
       "reading_act18                              18.00    20.450    21.60    24.100   \n",
       "science_act18                              17.90    19.850    21.10    23.050   \n",
       "participation_sat18                         0.02     0.045     0.52     0.775   \n",
       "evidence_based_reading_and_writing_sat18  480.00   534.500   552.00   610.500   \n",
       "math_sat18                                480.00   522.500   544.00   593.500   \n",
       "total_sat18                               977.00  1058.000  1097.00  1204.000   \n",
       "\n",
       "                                             max  \n",
       "participation_act17                          1.0  \n",
       "english_act17                               25.5  \n",
       "math_act17                                  25.3  \n",
       "reading_act17                               26.0  \n",
       "science_act17                               24.9  \n",
       "composite_act17                             25.5  \n",
       "participation_sat17                          1.0  \n",
       "evidence_based_reading_and_writing_sat17   644.0  \n",
       "math_sat17                                 651.0  \n",
       "total_sat17                               1295.0  \n",
       "participation_act18                          1.0  \n",
       "composite_act18                             25.6  \n",
       "english_act18                               26.0  \n",
       "math_act18                                  25.2  \n",
       "reading_act18                               26.1  \n",
       "science_act18                               24.9  \n",
       "participation_sat18                          1.0  \n",
       "evidence_based_reading_and_writing_sat18   643.0  \n",
       "math_sat18                                 655.0  \n",
       "total_sat18                               1298.0  "
      ]
     },
     "execution_count": 57,
     "metadata": {},
     "output_type": "execute_result"
    }
   ],
   "source": [
    "#transposing the describe method\n",
    "final.describe().transpose()"
   ]
  },
  {
   "cell_type": "markdown",
   "metadata": {},
   "source": [
    "#### Manually calculate standard deviation\n",
    "\n",
    "$$\\sigma = \\sqrt{\\frac{1}{n}\\sum_{i=1}^n(x_i - \\mu)^2}$$\n",
    "\n",
    "- Write a function to calculate standard deviation using the formula above"
   ]
  },
  {
   "cell_type": "markdown",
   "metadata": {},
   "source": [
    "<span style=\"color:red\">Good job!</span>"
   ]
  },
  {
   "cell_type": "code",
   "execution_count": 58,
   "metadata": {},
   "outputs": [],
   "source": [
    "#defining standard deviation\n",
    "def stddev(dataseries):\n",
    "    u = (sum(dataseries))/(len(dataseries))\n",
    "    summ = sum([(x-u)**2 for x in dataseries])\n",
    "    var = summ/(len(dataseries))\n",
    "    std = var**0.5\n",
    "    return std\n"
   ]
  },
  {
   "cell_type": "markdown",
   "metadata": {},
   "source": [
    "- Use a **dictionary comprehension** to apply your standard deviation function to each numeric column in the dataframe.  **No loops**  \n",
    "- Assign the output to variable `sd` as a dictionary where: \n",
    "    - Each column name is now a key \n",
    "    - That standard deviation of the column is the value \n",
    "     \n",
    "*Example Output :* `{'ACT_Math': 120, 'ACT_Reading': 120, ...}`"
   ]
  },
  {
   "cell_type": "code",
   "execution_count": 59,
   "metadata": {},
   "outputs": [],
   "source": [
    "#A list of column headers created from dataframe columns values\n",
    "column_headers = final.columns.tolist()"
   ]
  },
  {
   "cell_type": "code",
   "execution_count": 60,
   "metadata": {},
   "outputs": [
    {
     "data": {
      "text/plain": [
       "['participation_act17',\n",
       " 'english_act17',\n",
       " 'math_act17',\n",
       " 'reading_act17',\n",
       " 'science_act17',\n",
       " 'composite_act17',\n",
       " 'participation_sat17',\n",
       " 'evidence_based_reading_and_writing_sat17',\n",
       " 'math_sat17',\n",
       " 'total_sat17',\n",
       " 'participation_act18',\n",
       " 'composite_act18',\n",
       " 'english_act18',\n",
       " 'math_act18',\n",
       " 'reading_act18',\n",
       " 'science_act18',\n",
       " 'participation_sat18',\n",
       " 'evidence_based_reading_and_writing_sat18',\n",
       " 'math_sat18',\n",
       " 'total_sat18']"
      ]
     },
     "execution_count": 60,
     "metadata": {},
     "output_type": "execute_result"
    }
   ],
   "source": [
    "#exclude states as it is a series of type string\n",
    "column_headers[1:]"
   ]
  },
  {
   "cell_type": "code",
   "execution_count": 61,
   "metadata": {},
   "outputs": [
    {
     "data": {
      "text/plain": [
       "{'participation_act17': 0.3182417575123181,\n",
       " 'english_act17': 2.3304876369363363,\n",
       " 'math_act17': 1.9624620273436781,\n",
       " 'reading_act17': 2.0469029314842646,\n",
       " 'science_act17': 1.7202795656314875,\n",
       " 'composite_act17': 2.000786081581989,\n",
       " 'participation_sat17': 0.3492907076664507,\n",
       " 'evidence_based_reading_and_writing_sat17': 45.21697020437866,\n",
       " 'math_sat17': 46.65713364485503,\n",
       " 'total_sat17': 91.58351056778743,\n",
       " 'participation_act18': 0.33745194881997503,\n",
       " 'composite_act18': 2.0855261815801147,\n",
       " 'english_act18': 2.4222536143202795,\n",
       " 'math_act18': 2.015707255555717,\n",
       " 'reading_act18': 2.145891884510421,\n",
       " 'science_act18': 1.8516885484833543,\n",
       " 'participation_sat18': 0.3694661922353942,\n",
       " 'evidence_based_reading_and_writing_sat18': 47.03460978357609,\n",
       " 'math_sat18': 47.30194550378352,\n",
       " 'total_sat18': 93.26114360945468}"
      ]
     },
     "execution_count": 61,
     "metadata": {},
     "output_type": "execute_result"
    }
   ],
   "source": [
    "#create dictionary with column header as key and value as stddev function\n",
    "sd = {a : stddev(final[a]) for a in column_headers[1:]}\n",
    "sd"
   ]
  },
  {
   "cell_type": "code",
   "execution_count": 62,
   "metadata": {},
   "outputs": [
    {
     "data": {
      "text/plain": [
       "participation_act17                          0.318242\n",
       "english_act17                                2.330488\n",
       "math_act17                                   1.962462\n",
       "reading_act17                                2.046903\n",
       "science_act17                                1.720280\n",
       "composite_act17                              2.000786\n",
       "participation_sat17                          0.349291\n",
       "evidence_based_reading_and_writing_sat17    45.216970\n",
       "math_sat17                                  46.657134\n",
       "total_sat17                                 91.583511\n",
       "participation_act18                          0.337452\n",
       "composite_act18                              2.085526\n",
       "english_act18                                2.422254\n",
       "math_act18                                   2.015707\n",
       "reading_act18                                2.145892\n",
       "science_act18                                1.851689\n",
       "participation_sat18                          0.369466\n",
       "evidence_based_reading_and_writing_sat18    47.034610\n",
       "math_sat18                                  47.301946\n",
       "total_sat18                                 93.261144\n",
       "dtype: float64"
      ]
     },
     "execution_count": 62,
     "metadata": {},
     "output_type": "execute_result"
    }
   ],
   "source": [
    "#numpy standard deviation\n",
    "np.std(final)"
   ]
  },
  {
   "cell_type": "code",
   "execution_count": 63,
   "metadata": {},
   "outputs": [
    {
     "data": {
      "text/html": [
       "<div>\n",
       "<style scoped>\n",
       "    .dataframe tbody tr th:only-of-type {\n",
       "        vertical-align: middle;\n",
       "    }\n",
       "\n",
       "    .dataframe tbody tr th {\n",
       "        vertical-align: top;\n",
       "    }\n",
       "\n",
       "    .dataframe thead th {\n",
       "        text-align: right;\n",
       "    }\n",
       "</style>\n",
       "<table border=\"1\" class=\"dataframe\">\n",
       "  <thead>\n",
       "    <tr style=\"text-align: right;\">\n",
       "      <th></th>\n",
       "      <th>count</th>\n",
       "      <th>mean</th>\n",
       "      <th>std</th>\n",
       "      <th>min</th>\n",
       "      <th>25%</th>\n",
       "      <th>50%</th>\n",
       "      <th>75%</th>\n",
       "      <th>max</th>\n",
       "    </tr>\n",
       "  </thead>\n",
       "  <tbody>\n",
       "    <tr>\n",
       "      <th>participation_act17</th>\n",
       "      <td>51.0</td>\n",
       "      <td>0.652549</td>\n",
       "      <td>0.321408</td>\n",
       "      <td>0.08</td>\n",
       "      <td>0.310</td>\n",
       "      <td>0.69</td>\n",
       "      <td>1.000</td>\n",
       "      <td>1.0</td>\n",
       "    </tr>\n",
       "    <tr>\n",
       "      <th>english_act17</th>\n",
       "      <td>51.0</td>\n",
       "      <td>20.931373</td>\n",
       "      <td>2.353677</td>\n",
       "      <td>16.30</td>\n",
       "      <td>19.000</td>\n",
       "      <td>20.70</td>\n",
       "      <td>23.300</td>\n",
       "      <td>25.5</td>\n",
       "    </tr>\n",
       "    <tr>\n",
       "      <th>math_act17</th>\n",
       "      <td>51.0</td>\n",
       "      <td>21.182353</td>\n",
       "      <td>1.981989</td>\n",
       "      <td>18.00</td>\n",
       "      <td>19.400</td>\n",
       "      <td>20.90</td>\n",
       "      <td>23.100</td>\n",
       "      <td>25.3</td>\n",
       "    </tr>\n",
       "    <tr>\n",
       "      <th>reading_act17</th>\n",
       "      <td>51.0</td>\n",
       "      <td>22.013725</td>\n",
       "      <td>2.067271</td>\n",
       "      <td>18.10</td>\n",
       "      <td>20.450</td>\n",
       "      <td>21.80</td>\n",
       "      <td>24.150</td>\n",
       "      <td>26.0</td>\n",
       "    </tr>\n",
       "    <tr>\n",
       "      <th>science_act17</th>\n",
       "      <td>51.0</td>\n",
       "      <td>21.449020</td>\n",
       "      <td>1.737397</td>\n",
       "      <td>18.20</td>\n",
       "      <td>19.950</td>\n",
       "      <td>21.30</td>\n",
       "      <td>23.150</td>\n",
       "      <td>24.9</td>\n",
       "    </tr>\n",
       "    <tr>\n",
       "      <th>composite_act17</th>\n",
       "      <td>51.0</td>\n",
       "      <td>21.519608</td>\n",
       "      <td>2.020695</td>\n",
       "      <td>17.80</td>\n",
       "      <td>19.800</td>\n",
       "      <td>21.40</td>\n",
       "      <td>23.600</td>\n",
       "      <td>25.5</td>\n",
       "    </tr>\n",
       "    <tr>\n",
       "      <th>participation_sat17</th>\n",
       "      <td>51.0</td>\n",
       "      <td>0.398039</td>\n",
       "      <td>0.352766</td>\n",
       "      <td>0.02</td>\n",
       "      <td>0.040</td>\n",
       "      <td>0.38</td>\n",
       "      <td>0.660</td>\n",
       "      <td>1.0</td>\n",
       "    </tr>\n",
       "    <tr>\n",
       "      <th>evidence_based_reading_and_writing_sat17</th>\n",
       "      <td>51.0</td>\n",
       "      <td>569.117647</td>\n",
       "      <td>45.666901</td>\n",
       "      <td>482.00</td>\n",
       "      <td>533.500</td>\n",
       "      <td>559.00</td>\n",
       "      <td>613.000</td>\n",
       "      <td>644.0</td>\n",
       "    </tr>\n",
       "    <tr>\n",
       "      <th>math_sat17</th>\n",
       "      <td>51.0</td>\n",
       "      <td>556.882353</td>\n",
       "      <td>47.121395</td>\n",
       "      <td>468.00</td>\n",
       "      <td>523.500</td>\n",
       "      <td>548.00</td>\n",
       "      <td>599.000</td>\n",
       "      <td>651.0</td>\n",
       "    </tr>\n",
       "    <tr>\n",
       "      <th>total_sat17</th>\n",
       "      <td>51.0</td>\n",
       "      <td>1126.098039</td>\n",
       "      <td>92.494812</td>\n",
       "      <td>950.00</td>\n",
       "      <td>1055.500</td>\n",
       "      <td>1107.00</td>\n",
       "      <td>1212.000</td>\n",
       "      <td>1295.0</td>\n",
       "    </tr>\n",
       "    <tr>\n",
       "      <th>participation_act18</th>\n",
       "      <td>51.0</td>\n",
       "      <td>0.616471</td>\n",
       "      <td>0.340810</td>\n",
       "      <td>0.07</td>\n",
       "      <td>0.285</td>\n",
       "      <td>0.66</td>\n",
       "      <td>1.000</td>\n",
       "      <td>1.0</td>\n",
       "    </tr>\n",
       "    <tr>\n",
       "      <th>composite_act18</th>\n",
       "      <td>51.0</td>\n",
       "      <td>21.486275</td>\n",
       "      <td>2.106278</td>\n",
       "      <td>17.70</td>\n",
       "      <td>19.950</td>\n",
       "      <td>21.30</td>\n",
       "      <td>23.550</td>\n",
       "      <td>25.6</td>\n",
       "    </tr>\n",
       "    <tr>\n",
       "      <th>english_act18</th>\n",
       "      <td>51.0</td>\n",
       "      <td>20.988235</td>\n",
       "      <td>2.446356</td>\n",
       "      <td>16.60</td>\n",
       "      <td>19.100</td>\n",
       "      <td>20.20</td>\n",
       "      <td>23.700</td>\n",
       "      <td>26.0</td>\n",
       "    </tr>\n",
       "    <tr>\n",
       "      <th>math_act18</th>\n",
       "      <td>51.0</td>\n",
       "      <td>21.125490</td>\n",
       "      <td>2.035765</td>\n",
       "      <td>17.80</td>\n",
       "      <td>19.400</td>\n",
       "      <td>20.70</td>\n",
       "      <td>23.150</td>\n",
       "      <td>25.2</td>\n",
       "    </tr>\n",
       "    <tr>\n",
       "      <th>reading_act18</th>\n",
       "      <td>51.0</td>\n",
       "      <td>22.015686</td>\n",
       "      <td>2.167245</td>\n",
       "      <td>18.00</td>\n",
       "      <td>20.450</td>\n",
       "      <td>21.60</td>\n",
       "      <td>24.100</td>\n",
       "      <td>26.1</td>\n",
       "    </tr>\n",
       "    <tr>\n",
       "      <th>science_act18</th>\n",
       "      <td>51.0</td>\n",
       "      <td>21.345098</td>\n",
       "      <td>1.870114</td>\n",
       "      <td>17.90</td>\n",
       "      <td>19.850</td>\n",
       "      <td>21.10</td>\n",
       "      <td>23.050</td>\n",
       "      <td>24.9</td>\n",
       "    </tr>\n",
       "    <tr>\n",
       "      <th>participation_sat18</th>\n",
       "      <td>51.0</td>\n",
       "      <td>0.457451</td>\n",
       "      <td>0.373143</td>\n",
       "      <td>0.02</td>\n",
       "      <td>0.045</td>\n",
       "      <td>0.52</td>\n",
       "      <td>0.775</td>\n",
       "      <td>1.0</td>\n",
       "    </tr>\n",
       "    <tr>\n",
       "      <th>evidence_based_reading_and_writing_sat18</th>\n",
       "      <td>51.0</td>\n",
       "      <td>563.686275</td>\n",
       "      <td>47.502627</td>\n",
       "      <td>480.00</td>\n",
       "      <td>534.500</td>\n",
       "      <td>552.00</td>\n",
       "      <td>610.500</td>\n",
       "      <td>643.0</td>\n",
       "    </tr>\n",
       "    <tr>\n",
       "      <th>math_sat18</th>\n",
       "      <td>51.0</td>\n",
       "      <td>556.235294</td>\n",
       "      <td>47.772623</td>\n",
       "      <td>480.00</td>\n",
       "      <td>522.500</td>\n",
       "      <td>544.00</td>\n",
       "      <td>593.500</td>\n",
       "      <td>655.0</td>\n",
       "    </tr>\n",
       "    <tr>\n",
       "      <th>total_sat18</th>\n",
       "      <td>51.0</td>\n",
       "      <td>1119.921569</td>\n",
       "      <td>94.189138</td>\n",
       "      <td>977.00</td>\n",
       "      <td>1058.000</td>\n",
       "      <td>1097.00</td>\n",
       "      <td>1204.000</td>\n",
       "      <td>1298.0</td>\n",
       "    </tr>\n",
       "  </tbody>\n",
       "</table>\n",
       "</div>"
      ],
      "text/plain": [
       "                                          count         mean        std  \\\n",
       "participation_act17                        51.0     0.652549   0.321408   \n",
       "english_act17                              51.0    20.931373   2.353677   \n",
       "math_act17                                 51.0    21.182353   1.981989   \n",
       "reading_act17                              51.0    22.013725   2.067271   \n",
       "science_act17                              51.0    21.449020   1.737397   \n",
       "composite_act17                            51.0    21.519608   2.020695   \n",
       "participation_sat17                        51.0     0.398039   0.352766   \n",
       "evidence_based_reading_and_writing_sat17   51.0   569.117647  45.666901   \n",
       "math_sat17                                 51.0   556.882353  47.121395   \n",
       "total_sat17                                51.0  1126.098039  92.494812   \n",
       "participation_act18                        51.0     0.616471   0.340810   \n",
       "composite_act18                            51.0    21.486275   2.106278   \n",
       "english_act18                              51.0    20.988235   2.446356   \n",
       "math_act18                                 51.0    21.125490   2.035765   \n",
       "reading_act18                              51.0    22.015686   2.167245   \n",
       "science_act18                              51.0    21.345098   1.870114   \n",
       "participation_sat18                        51.0     0.457451   0.373143   \n",
       "evidence_based_reading_and_writing_sat18   51.0   563.686275  47.502627   \n",
       "math_sat18                                 51.0   556.235294  47.772623   \n",
       "total_sat18                                51.0  1119.921569  94.189138   \n",
       "\n",
       "                                             min       25%      50%       75%  \\\n",
       "participation_act17                         0.08     0.310     0.69     1.000   \n",
       "english_act17                              16.30    19.000    20.70    23.300   \n",
       "math_act17                                 18.00    19.400    20.90    23.100   \n",
       "reading_act17                              18.10    20.450    21.80    24.150   \n",
       "science_act17                              18.20    19.950    21.30    23.150   \n",
       "composite_act17                            17.80    19.800    21.40    23.600   \n",
       "participation_sat17                         0.02     0.040     0.38     0.660   \n",
       "evidence_based_reading_and_writing_sat17  482.00   533.500   559.00   613.000   \n",
       "math_sat17                                468.00   523.500   548.00   599.000   \n",
       "total_sat17                               950.00  1055.500  1107.00  1212.000   \n",
       "participation_act18                         0.07     0.285     0.66     1.000   \n",
       "composite_act18                            17.70    19.950    21.30    23.550   \n",
       "english_act18                              16.60    19.100    20.20    23.700   \n",
       "math_act18                                 17.80    19.400    20.70    23.150   \n",
       "reading_act18                              18.00    20.450    21.60    24.100   \n",
       "science_act18                              17.90    19.850    21.10    23.050   \n",
       "participation_sat18                         0.02     0.045     0.52     0.775   \n",
       "evidence_based_reading_and_writing_sat18  480.00   534.500   552.00   610.500   \n",
       "math_sat18                                480.00   522.500   544.00   593.500   \n",
       "total_sat18                               977.00  1058.000  1097.00  1204.000   \n",
       "\n",
       "                                             max  \n",
       "participation_act17                          1.0  \n",
       "english_act17                               25.5  \n",
       "math_act17                                  25.3  \n",
       "reading_act17                               26.0  \n",
       "science_act17                               24.9  \n",
       "composite_act17                             25.5  \n",
       "participation_sat17                          1.0  \n",
       "evidence_based_reading_and_writing_sat17   644.0  \n",
       "math_sat17                                 651.0  \n",
       "total_sat17                               1295.0  \n",
       "participation_act18                          1.0  \n",
       "composite_act18                             25.6  \n",
       "english_act18                               26.0  \n",
       "math_act18                                  25.2  \n",
       "reading_act18                               26.1  \n",
       "science_act18                               24.9  \n",
       "participation_sat18                          1.0  \n",
       "evidence_based_reading_and_writing_sat18   643.0  \n",
       "math_sat18                                 655.0  \n",
       "total_sat18                               1298.0  "
      ]
     },
     "execution_count": 63,
     "metadata": {},
     "output_type": "execute_result"
    }
   ],
   "source": [
    "final.describe().transpose()"
   ]
  },
  {
   "cell_type": "markdown",
   "metadata": {},
   "source": [
    "Do your manually calculated standard deviations match up with the output from pandas `describe`? What about numpy's `std` method?"
   ]
  },
  {
   "cell_type": "markdown",
   "metadata": {},
   "source": [
    "Answer:\n",
    "\n",
    "The describe method is different to the generated function and the numpy's method. This is due the difference in formula used where we used (n) and the describe method used (n-1)"
   ]
  },
  {
   "cell_type": "markdown",
   "metadata": {},
   "source": [
    "#### Investigate trends in the data\n",
    "Using sorting and/or masking (along with the `.head` method to not print our entire dataframe), consider the following questions:\n",
    "\n",
    "- Which states have the highest and lowest participation rates for the:\n",
    "    - 2017 SAT?\n",
    "    - 2018 SAT?\n",
    "    - 2017 ACT?\n",
    "    - 2018 ACT?\n",
    "- Which states have the highest and lowest mean total/composite scores for the:\n",
    "    - 2017 SAT?\n",
    "    - 2018 SAT?\n",
    "    - 2017 ACT?\n",
    "    - 2018 ACT?\n",
    "- Do any states with 100% participation on a given test have a rate change year-to-year?\n",
    "- Do any states show have >50% participation on *both* tests either year?\n",
    "\n",
    "Based on what you've just observed, have you identified any states that you're especially interested in? **Make a note of these and state *why* you think they're interesting**.\n",
    "\n",
    "**You should comment on your findings at each step in a markdown cell below your code block**. Make sure you include at least one example of sorting your dataframe by a column, and one example of using boolean filtering (i.e., masking) to select a subset of the dataframe."
   ]
  },
  {
   "cell_type": "markdown",
   "metadata": {},
   "source": [
    "### SAT 2017 Highest and Lowest Participation"
   ]
  },
  {
   "cell_type": "markdown",
   "metadata": {},
   "source": [
    "> <font size = 3 color = \"crimson\"> Display the correct columns for ease of comparison/viewing </font>  \n",
    "applied it to all below"
   ]
  },
  {
   "cell_type": "markdown",
   "metadata": {},
   "source": [
    "The states with the lowest participation for SAT 2017 are Mississippi, North Dakota and Iowa  \n",
    "The states with the highest participation for SAT 2017 are District of Columbia, Michigan and Connecticut and Delaware"
   ]
  },
  {
   "cell_type": "code",
   "execution_count": 64,
   "metadata": {},
   "outputs": [
    {
     "data": {
      "text/html": [
       "<div>\n",
       "<style scoped>\n",
       "    .dataframe tbody tr th:only-of-type {\n",
       "        vertical-align: middle;\n",
       "    }\n",
       "\n",
       "    .dataframe tbody tr th {\n",
       "        vertical-align: top;\n",
       "    }\n",
       "\n",
       "    .dataframe thead th {\n",
       "        text-align: right;\n",
       "    }\n",
       "</style>\n",
       "<table border=\"1\" class=\"dataframe\">\n",
       "  <thead>\n",
       "    <tr style=\"text-align: right;\">\n",
       "      <th></th>\n",
       "      <th>state</th>\n",
       "      <th>participation_sat17</th>\n",
       "    </tr>\n",
       "  </thead>\n",
       "  <tbody>\n",
       "    <tr>\n",
       "      <th>34</th>\n",
       "      <td>North Dakota</td>\n",
       "      <td>0.02</td>\n",
       "    </tr>\n",
       "    <tr>\n",
       "      <th>24</th>\n",
       "      <td>Mississippi</td>\n",
       "      <td>0.02</td>\n",
       "    </tr>\n",
       "    <tr>\n",
       "      <th>15</th>\n",
       "      <td>Iowa</td>\n",
       "      <td>0.02</td>\n",
       "    </tr>\n",
       "    <tr>\n",
       "      <th>25</th>\n",
       "      <td>Missouri</td>\n",
       "      <td>0.03</td>\n",
       "    </tr>\n",
       "    <tr>\n",
       "      <th>44</th>\n",
       "      <td>Utah</td>\n",
       "      <td>0.03</td>\n",
       "    </tr>\n",
       "  </tbody>\n",
       "</table>\n",
       "</div>"
      ],
      "text/plain": [
       "           state  participation_sat17\n",
       "34  North Dakota                 0.02\n",
       "24   Mississippi                 0.02\n",
       "15          Iowa                 0.02\n",
       "25      Missouri                 0.03\n",
       "44          Utah                 0.03"
      ]
     },
     "execution_count": 64,
     "metadata": {},
     "output_type": "execute_result"
    }
   ],
   "source": [
    "#sorting values by column participation of SAT 2017\n",
    "final[['state','participation_sat17']].sort_values('participation_sat17').head()"
   ]
  },
  {
   "cell_type": "code",
   "execution_count": 65,
   "metadata": {},
   "outputs": [
    {
     "data": {
      "text/html": [
       "<div>\n",
       "<style scoped>\n",
       "    .dataframe tbody tr th:only-of-type {\n",
       "        vertical-align: middle;\n",
       "    }\n",
       "\n",
       "    .dataframe tbody tr th {\n",
       "        vertical-align: top;\n",
       "    }\n",
       "\n",
       "    .dataframe thead th {\n",
       "        text-align: right;\n",
       "    }\n",
       "</style>\n",
       "<table border=\"1\" class=\"dataframe\">\n",
       "  <thead>\n",
       "    <tr style=\"text-align: right;\">\n",
       "      <th></th>\n",
       "      <th>state</th>\n",
       "      <th>participation_sat17</th>\n",
       "    </tr>\n",
       "  </thead>\n",
       "  <tbody>\n",
       "    <tr>\n",
       "      <th>8</th>\n",
       "      <td>District of Columbia</td>\n",
       "      <td>1.00</td>\n",
       "    </tr>\n",
       "    <tr>\n",
       "      <th>22</th>\n",
       "      <td>Michigan</td>\n",
       "      <td>1.00</td>\n",
       "    </tr>\n",
       "    <tr>\n",
       "      <th>6</th>\n",
       "      <td>Connecticut</td>\n",
       "      <td>1.00</td>\n",
       "    </tr>\n",
       "    <tr>\n",
       "      <th>7</th>\n",
       "      <td>Delaware</td>\n",
       "      <td>1.00</td>\n",
       "    </tr>\n",
       "    <tr>\n",
       "      <th>29</th>\n",
       "      <td>New Hampshire</td>\n",
       "      <td>0.96</td>\n",
       "    </tr>\n",
       "  </tbody>\n",
       "</table>\n",
       "</div>"
      ],
      "text/plain": [
       "                   state  participation_sat17\n",
       "8   District of Columbia                 1.00\n",
       "22              Michigan                 1.00\n",
       "6            Connecticut                 1.00\n",
       "7               Delaware                 1.00\n",
       "29         New Hampshire                 0.96"
      ]
     },
     "execution_count": 65,
     "metadata": {},
     "output_type": "execute_result"
    }
   ],
   "source": [
    "final[['state','participation_sat17']].sort_values('participation_sat17', ascending=False).head()"
   ]
  },
  {
   "cell_type": "markdown",
   "metadata": {},
   "source": [
    "### SAT 2018 Highest and Lowest Participation"
   ]
  },
  {
   "cell_type": "markdown",
   "metadata": {},
   "source": [
    "The states with the lowest participation for SAT 2018 is North Dakota  \n",
    "The states with the highest participation for SAT 2018 are Colorado, Conneticut, Delaware, Michigan, Idaho"
   ]
  },
  {
   "cell_type": "code",
   "execution_count": 66,
   "metadata": {},
   "outputs": [
    {
     "data": {
      "text/html": [
       "<div>\n",
       "<style scoped>\n",
       "    .dataframe tbody tr th:only-of-type {\n",
       "        vertical-align: middle;\n",
       "    }\n",
       "\n",
       "    .dataframe tbody tr th {\n",
       "        vertical-align: top;\n",
       "    }\n",
       "\n",
       "    .dataframe thead th {\n",
       "        text-align: right;\n",
       "    }\n",
       "</style>\n",
       "<table border=\"1\" class=\"dataframe\">\n",
       "  <thead>\n",
       "    <tr style=\"text-align: right;\">\n",
       "      <th></th>\n",
       "      <th>state</th>\n",
       "      <th>participation_sat18</th>\n",
       "    </tr>\n",
       "  </thead>\n",
       "  <tbody>\n",
       "    <tr>\n",
       "      <th>34</th>\n",
       "      <td>North Dakota</td>\n",
       "      <td>0.02</td>\n",
       "    </tr>\n",
       "    <tr>\n",
       "      <th>50</th>\n",
       "      <td>Wyoming</td>\n",
       "      <td>0.03</td>\n",
       "    </tr>\n",
       "    <tr>\n",
       "      <th>41</th>\n",
       "      <td>South Dakota</td>\n",
       "      <td>0.03</td>\n",
       "    </tr>\n",
       "    <tr>\n",
       "      <th>27</th>\n",
       "      <td>Nebraska</td>\n",
       "      <td>0.03</td>\n",
       "    </tr>\n",
       "    <tr>\n",
       "      <th>49</th>\n",
       "      <td>Wisconsin</td>\n",
       "      <td>0.03</td>\n",
       "    </tr>\n",
       "  </tbody>\n",
       "</table>\n",
       "</div>"
      ],
      "text/plain": [
       "           state  participation_sat18\n",
       "34  North Dakota                 0.02\n",
       "50       Wyoming                 0.03\n",
       "41  South Dakota                 0.03\n",
       "27      Nebraska                 0.03\n",
       "49     Wisconsin                 0.03"
      ]
     },
     "execution_count": 66,
     "metadata": {},
     "output_type": "execute_result"
    }
   ],
   "source": [
    "final[['state','participation_sat18']].sort_values('participation_sat18').head()"
   ]
  },
  {
   "cell_type": "code",
   "execution_count": 67,
   "metadata": {},
   "outputs": [
    {
     "data": {
      "text/html": [
       "<div>\n",
       "<style scoped>\n",
       "    .dataframe tbody tr th:only-of-type {\n",
       "        vertical-align: middle;\n",
       "    }\n",
       "\n",
       "    .dataframe tbody tr th {\n",
       "        vertical-align: top;\n",
       "    }\n",
       "\n",
       "    .dataframe thead th {\n",
       "        text-align: right;\n",
       "    }\n",
       "</style>\n",
       "<table border=\"1\" class=\"dataframe\">\n",
       "  <thead>\n",
       "    <tr style=\"text-align: right;\">\n",
       "      <th></th>\n",
       "      <th>state</th>\n",
       "      <th>participation_sat18</th>\n",
       "    </tr>\n",
       "  </thead>\n",
       "  <tbody>\n",
       "    <tr>\n",
       "      <th>5</th>\n",
       "      <td>Colorado</td>\n",
       "      <td>1.0</td>\n",
       "    </tr>\n",
       "    <tr>\n",
       "      <th>6</th>\n",
       "      <td>Connecticut</td>\n",
       "      <td>1.0</td>\n",
       "    </tr>\n",
       "    <tr>\n",
       "      <th>7</th>\n",
       "      <td>Delaware</td>\n",
       "      <td>1.0</td>\n",
       "    </tr>\n",
       "    <tr>\n",
       "      <th>22</th>\n",
       "      <td>Michigan</td>\n",
       "      <td>1.0</td>\n",
       "    </tr>\n",
       "    <tr>\n",
       "      <th>12</th>\n",
       "      <td>Idaho</td>\n",
       "      <td>1.0</td>\n",
       "    </tr>\n",
       "  </tbody>\n",
       "</table>\n",
       "</div>"
      ],
      "text/plain": [
       "          state  participation_sat18\n",
       "5      Colorado                  1.0\n",
       "6   Connecticut                  1.0\n",
       "7      Delaware                  1.0\n",
       "22     Michigan                  1.0\n",
       "12        Idaho                  1.0"
      ]
     },
     "execution_count": 67,
     "metadata": {},
     "output_type": "execute_result"
    }
   ],
   "source": [
    "final[['state','participation_sat18']].sort_values('participation_sat18', ascending=False).head()"
   ]
  },
  {
   "cell_type": "markdown",
   "metadata": {},
   "source": [
    "#### Do any states with 100% participation on a given test have a rate change year-to-year?"
   ]
  },
  {
   "cell_type": "code",
   "execution_count": 68,
   "metadata": {},
   "outputs": [
    {
     "data": {
      "text/plain": [
       "Index(['state', 'participation_act17', 'english_act17', 'math_act17',\n",
       "       'reading_act17', 'science_act17', 'composite_act17',\n",
       "       'participation_sat17', 'evidence_based_reading_and_writing_sat17',\n",
       "       'math_sat17', 'total_sat17', 'participation_act18', 'composite_act18',\n",
       "       'english_act18', 'math_act18', 'reading_act18', 'science_act18',\n",
       "       'participation_sat18', 'evidence_based_reading_and_writing_sat18',\n",
       "       'math_sat18', 'total_sat18'],\n",
       "      dtype='object')"
      ]
     },
     "execution_count": 68,
     "metadata": {},
     "output_type": "execute_result"
    }
   ],
   "source": [
    "final.columns"
   ]
  },
  {
   "cell_type": "code",
   "execution_count": 69,
   "metadata": {},
   "outputs": [
    {
     "data": {
      "text/html": [
       "<div>\n",
       "<style scoped>\n",
       "    .dataframe tbody tr th:only-of-type {\n",
       "        vertical-align: middle;\n",
       "    }\n",
       "\n",
       "    .dataframe tbody tr th {\n",
       "        vertical-align: top;\n",
       "    }\n",
       "\n",
       "    .dataframe thead th {\n",
       "        text-align: right;\n",
       "    }\n",
       "</style>\n",
       "<table border=\"1\" class=\"dataframe\">\n",
       "  <thead>\n",
       "    <tr style=\"text-align: right;\">\n",
       "      <th></th>\n",
       "      <th>participation_sat17</th>\n",
       "      <th>participation_sat18</th>\n",
       "      <th>state</th>\n",
       "    </tr>\n",
       "  </thead>\n",
       "  <tbody>\n",
       "    <tr>\n",
       "      <th>8</th>\n",
       "      <td>1.0</td>\n",
       "      <td>0.92</td>\n",
       "      <td>District of Columbia</td>\n",
       "    </tr>\n",
       "  </tbody>\n",
       "</table>\n",
       "</div>"
      ],
      "text/plain": [
       "   participation_sat17  participation_sat18                 state\n",
       "8                  1.0                 0.92  District of Columbia"
      ]
     },
     "execution_count": 69,
     "metadata": {},
     "output_type": "execute_result"
    }
   ],
   "source": [
    "mask1 = final[\"participation_sat17\"]==1\n",
    "mask2 = final[\"participation_sat18\"]!=1\n",
    "final.loc[mask1 & mask2,['participation_sat17','participation_sat18', 'state']]"
   ]
  },
  {
   "cell_type": "markdown",
   "metadata": {},
   "source": [
    "<span style=\"color:red\">Answer is correct but need to use the above sample codes to do so </span>.  \n",
    "Applied it to all below"
   ]
  },
  {
   "cell_type": "markdown",
   "metadata": {},
   "source": [
    "It appears District of Columbia did not have a participation of 100% in 2018 vs 2017"
   ]
  },
  {
   "cell_type": "markdown",
   "metadata": {},
   "source": [
    "### ACT 2017 Highest and Lowest Participation"
   ]
  },
  {
   "cell_type": "markdown",
   "metadata": {},
   "source": [
    "The states with the lowest participation for ACT 2018 is Maine  \n",
    "The states with the highest participation for ACT 2018 are Alabama, Kentucky, Winsconsin, Utah and Tennessee"
   ]
  },
  {
   "cell_type": "code",
   "execution_count": 70,
   "metadata": {},
   "outputs": [
    {
     "data": {
      "text/html": [
       "<div>\n",
       "<style scoped>\n",
       "    .dataframe tbody tr th:only-of-type {\n",
       "        vertical-align: middle;\n",
       "    }\n",
       "\n",
       "    .dataframe tbody tr th {\n",
       "        vertical-align: top;\n",
       "    }\n",
       "\n",
       "    .dataframe thead th {\n",
       "        text-align: right;\n",
       "    }\n",
       "</style>\n",
       "<table border=\"1\" class=\"dataframe\">\n",
       "  <thead>\n",
       "    <tr style=\"text-align: right;\">\n",
       "      <th></th>\n",
       "      <th>state</th>\n",
       "      <th>participation_act17</th>\n",
       "    </tr>\n",
       "  </thead>\n",
       "  <tbody>\n",
       "    <tr>\n",
       "      <th>19</th>\n",
       "      <td>Maine</td>\n",
       "      <td>0.08</td>\n",
       "    </tr>\n",
       "    <tr>\n",
       "      <th>29</th>\n",
       "      <td>New Hampshire</td>\n",
       "      <td>0.18</td>\n",
       "    </tr>\n",
       "    <tr>\n",
       "      <th>7</th>\n",
       "      <td>Delaware</td>\n",
       "      <td>0.18</td>\n",
       "    </tr>\n",
       "    <tr>\n",
       "      <th>39</th>\n",
       "      <td>Rhode Island</td>\n",
       "      <td>0.21</td>\n",
       "    </tr>\n",
       "    <tr>\n",
       "      <th>38</th>\n",
       "      <td>Pennsylvania</td>\n",
       "      <td>0.23</td>\n",
       "    </tr>\n",
       "  </tbody>\n",
       "</table>\n",
       "</div>"
      ],
      "text/plain": [
       "            state  participation_act17\n",
       "19          Maine                 0.08\n",
       "29  New Hampshire                 0.18\n",
       "7        Delaware                 0.18\n",
       "39   Rhode Island                 0.21\n",
       "38   Pennsylvania                 0.23"
      ]
     },
     "execution_count": 70,
     "metadata": {},
     "output_type": "execute_result"
    }
   ],
   "source": [
    "final.sort_values('participation_act17')[['state','participation_act17']].head()"
   ]
  },
  {
   "cell_type": "code",
   "execution_count": 71,
   "metadata": {},
   "outputs": [
    {
     "data": {
      "text/html": [
       "<div>\n",
       "<style scoped>\n",
       "    .dataframe tbody tr th:only-of-type {\n",
       "        vertical-align: middle;\n",
       "    }\n",
       "\n",
       "    .dataframe tbody tr th {\n",
       "        vertical-align: top;\n",
       "    }\n",
       "\n",
       "    .dataframe thead th {\n",
       "        text-align: right;\n",
       "    }\n",
       "</style>\n",
       "<table border=\"1\" class=\"dataframe\">\n",
       "  <thead>\n",
       "    <tr style=\"text-align: right;\">\n",
       "      <th></th>\n",
       "      <th>state</th>\n",
       "      <th>participation_act17</th>\n",
       "    </tr>\n",
       "  </thead>\n",
       "  <tbody>\n",
       "    <tr>\n",
       "      <th>0</th>\n",
       "      <td>Alabama</td>\n",
       "      <td>1.0</td>\n",
       "    </tr>\n",
       "    <tr>\n",
       "      <th>17</th>\n",
       "      <td>Kentucky</td>\n",
       "      <td>1.0</td>\n",
       "    </tr>\n",
       "    <tr>\n",
       "      <th>49</th>\n",
       "      <td>Wisconsin</td>\n",
       "      <td>1.0</td>\n",
       "    </tr>\n",
       "    <tr>\n",
       "      <th>44</th>\n",
       "      <td>Utah</td>\n",
       "      <td>1.0</td>\n",
       "    </tr>\n",
       "    <tr>\n",
       "      <th>42</th>\n",
       "      <td>Tennessee</td>\n",
       "      <td>1.0</td>\n",
       "    </tr>\n",
       "  </tbody>\n",
       "</table>\n",
       "</div>"
      ],
      "text/plain": [
       "        state  participation_act17\n",
       "0     Alabama                  1.0\n",
       "17   Kentucky                  1.0\n",
       "49  Wisconsin                  1.0\n",
       "44       Utah                  1.0\n",
       "42  Tennessee                  1.0"
      ]
     },
     "execution_count": 71,
     "metadata": {},
     "output_type": "execute_result"
    }
   ],
   "source": [
    "final.sort_values('participation_act17', ascending=False)[['state','participation_act17']].head()"
   ]
  },
  {
   "cell_type": "markdown",
   "metadata": {},
   "source": [
    "### ACT 2018 Highest and Lowest Participation"
   ]
  },
  {
   "cell_type": "markdown",
   "metadata": {},
   "source": [
    "The states with the lowest participation for ACT 2018 are Maine  \n",
    "The states with the highest participation for ACTT 2018 are Colorado, Alabama, Kentucky, Winsconsin, Utah and Tennesse"
   ]
  },
  {
   "cell_type": "code",
   "execution_count": 72,
   "metadata": {},
   "outputs": [
    {
     "data": {
      "text/html": [
       "<div>\n",
       "<style scoped>\n",
       "    .dataframe tbody tr th:only-of-type {\n",
       "        vertical-align: middle;\n",
       "    }\n",
       "\n",
       "    .dataframe tbody tr th {\n",
       "        vertical-align: top;\n",
       "    }\n",
       "\n",
       "    .dataframe thead th {\n",
       "        text-align: right;\n",
       "    }\n",
       "</style>\n",
       "<table border=\"1\" class=\"dataframe\">\n",
       "  <thead>\n",
       "    <tr style=\"text-align: right;\">\n",
       "      <th></th>\n",
       "      <th>state</th>\n",
       "      <th>participation_act17</th>\n",
       "    </tr>\n",
       "  </thead>\n",
       "  <tbody>\n",
       "    <tr>\n",
       "      <th>19</th>\n",
       "      <td>Maine</td>\n",
       "      <td>0.08</td>\n",
       "    </tr>\n",
       "    <tr>\n",
       "      <th>29</th>\n",
       "      <td>New Hampshire</td>\n",
       "      <td>0.18</td>\n",
       "    </tr>\n",
       "    <tr>\n",
       "      <th>7</th>\n",
       "      <td>Delaware</td>\n",
       "      <td>0.18</td>\n",
       "    </tr>\n",
       "    <tr>\n",
       "      <th>39</th>\n",
       "      <td>Rhode Island</td>\n",
       "      <td>0.21</td>\n",
       "    </tr>\n",
       "    <tr>\n",
       "      <th>38</th>\n",
       "      <td>Pennsylvania</td>\n",
       "      <td>0.23</td>\n",
       "    </tr>\n",
       "  </tbody>\n",
       "</table>\n",
       "</div>"
      ],
      "text/plain": [
       "            state  participation_act17\n",
       "19          Maine                 0.08\n",
       "29  New Hampshire                 0.18\n",
       "7        Delaware                 0.18\n",
       "39   Rhode Island                 0.21\n",
       "38   Pennsylvania                 0.23"
      ]
     },
     "execution_count": 72,
     "metadata": {},
     "output_type": "execute_result"
    }
   ],
   "source": [
    "final.sort_values('participation_act17')[['state','participation_act17']].head()"
   ]
  },
  {
   "cell_type": "code",
   "execution_count": 73,
   "metadata": {},
   "outputs": [
    {
     "data": {
      "text/html": [
       "<div>\n",
       "<style scoped>\n",
       "    .dataframe tbody tr th:only-of-type {\n",
       "        vertical-align: middle;\n",
       "    }\n",
       "\n",
       "    .dataframe tbody tr th {\n",
       "        vertical-align: top;\n",
       "    }\n",
       "\n",
       "    .dataframe thead th {\n",
       "        text-align: right;\n",
       "    }\n",
       "</style>\n",
       "<table border=\"1\" class=\"dataframe\">\n",
       "  <thead>\n",
       "    <tr style=\"text-align: right;\">\n",
       "      <th></th>\n",
       "      <th>state</th>\n",
       "      <th>participation_act17</th>\n",
       "    </tr>\n",
       "  </thead>\n",
       "  <tbody>\n",
       "    <tr>\n",
       "      <th>0</th>\n",
       "      <td>Alabama</td>\n",
       "      <td>1.0</td>\n",
       "    </tr>\n",
       "    <tr>\n",
       "      <th>17</th>\n",
       "      <td>Kentucky</td>\n",
       "      <td>1.0</td>\n",
       "    </tr>\n",
       "    <tr>\n",
       "      <th>49</th>\n",
       "      <td>Wisconsin</td>\n",
       "      <td>1.0</td>\n",
       "    </tr>\n",
       "    <tr>\n",
       "      <th>44</th>\n",
       "      <td>Utah</td>\n",
       "      <td>1.0</td>\n",
       "    </tr>\n",
       "    <tr>\n",
       "      <th>42</th>\n",
       "      <td>Tennessee</td>\n",
       "      <td>1.0</td>\n",
       "    </tr>\n",
       "  </tbody>\n",
       "</table>\n",
       "</div>"
      ],
      "text/plain": [
       "        state  participation_act17\n",
       "0     Alabama                  1.0\n",
       "17   Kentucky                  1.0\n",
       "49  Wisconsin                  1.0\n",
       "44       Utah                  1.0\n",
       "42  Tennessee                  1.0"
      ]
     },
     "execution_count": 73,
     "metadata": {},
     "output_type": "execute_result"
    }
   ],
   "source": [
    "final.sort_values('participation_act17', ascending=False)[['state','participation_act17']].head()"
   ]
  },
  {
   "cell_type": "markdown",
   "metadata": {},
   "source": [
    "#### Do any states with 100% participation on a given test have a rate change year-to-year?"
   ]
  },
  {
   "cell_type": "code",
   "execution_count": 74,
   "metadata": {},
   "outputs": [
    {
     "data": {
      "text/html": [
       "<div>\n",
       "<style scoped>\n",
       "    .dataframe tbody tr th:only-of-type {\n",
       "        vertical-align: middle;\n",
       "    }\n",
       "\n",
       "    .dataframe tbody tr th {\n",
       "        vertical-align: top;\n",
       "    }\n",
       "\n",
       "    .dataframe thead th {\n",
       "        text-align: right;\n",
       "    }\n",
       "</style>\n",
       "<table border=\"1\" class=\"dataframe\">\n",
       "  <thead>\n",
       "    <tr style=\"text-align: right;\">\n",
       "      <th></th>\n",
       "      <th>participation_act17</th>\n",
       "      <th>participation_act18</th>\n",
       "      <th>state</th>\n",
       "    </tr>\n",
       "  </thead>\n",
       "  <tbody>\n",
       "    <tr>\n",
       "      <th>8</th>\n",
       "      <td>0.32</td>\n",
       "      <td>0.32</td>\n",
       "      <td>District of Columbia</td>\n",
       "    </tr>\n",
       "  </tbody>\n",
       "</table>\n",
       "</div>"
      ],
      "text/plain": [
       "   participation_act17  participation_act18                 state\n",
       "8                 0.32                 0.32  District of Columbia"
      ]
     },
     "execution_count": 74,
     "metadata": {},
     "output_type": "execute_result"
    }
   ],
   "source": [
    "final.loc[mask1 & mask2,['participation_act17','participation_act18', 'state']]"
   ]
  },
  {
   "cell_type": "markdown",
   "metadata": {},
   "source": [
    "There was no change for the ACT particpation of those with 100% participation between 2017 and 2018"
   ]
  },
  {
   "cell_type": "markdown",
   "metadata": {},
   "source": [
    "### SAT 2017 Highest and Lowest Total"
   ]
  },
  {
   "cell_type": "markdown",
   "metadata": {},
   "source": [
    "The states with the lowest Total for SAT 2018 is District of Columbia   \n",
    "The states with the highest Total for SAT 2018 is Minnesota"
   ]
  },
  {
   "cell_type": "code",
   "execution_count": 75,
   "metadata": {},
   "outputs": [
    {
     "data": {
      "text/html": [
       "<div>\n",
       "<style scoped>\n",
       "    .dataframe tbody tr th:only-of-type {\n",
       "        vertical-align: middle;\n",
       "    }\n",
       "\n",
       "    .dataframe tbody tr th {\n",
       "        vertical-align: top;\n",
       "    }\n",
       "\n",
       "    .dataframe thead th {\n",
       "        text-align: right;\n",
       "    }\n",
       "</style>\n",
       "<table border=\"1\" class=\"dataframe\">\n",
       "  <thead>\n",
       "    <tr style=\"text-align: right;\">\n",
       "      <th></th>\n",
       "      <th>state</th>\n",
       "      <th>total_sat17</th>\n",
       "    </tr>\n",
       "  </thead>\n",
       "  <tbody>\n",
       "    <tr>\n",
       "      <th>8</th>\n",
       "      <td>District of Columbia</td>\n",
       "      <td>950</td>\n",
       "    </tr>\n",
       "    <tr>\n",
       "      <th>7</th>\n",
       "      <td>Delaware</td>\n",
       "      <td>996</td>\n",
       "    </tr>\n",
       "    <tr>\n",
       "      <th>12</th>\n",
       "      <td>Idaho</td>\n",
       "      <td>1005</td>\n",
       "    </tr>\n",
       "    <tr>\n",
       "      <th>22</th>\n",
       "      <td>Michigan</td>\n",
       "      <td>1005</td>\n",
       "    </tr>\n",
       "    <tr>\n",
       "      <th>19</th>\n",
       "      <td>Maine</td>\n",
       "      <td>1012</td>\n",
       "    </tr>\n",
       "  </tbody>\n",
       "</table>\n",
       "</div>"
      ],
      "text/plain": [
       "                   state  total_sat17\n",
       "8   District of Columbia          950\n",
       "7               Delaware          996\n",
       "12                 Idaho         1005\n",
       "22              Michigan         1005\n",
       "19                 Maine         1012"
      ]
     },
     "execution_count": 75,
     "metadata": {},
     "output_type": "execute_result"
    }
   ],
   "source": [
    "final.sort_values('total_sat17', ascending=True)[['state','total_sat17']].head()"
   ]
  },
  {
   "cell_type": "code",
   "execution_count": 76,
   "metadata": {},
   "outputs": [
    {
     "data": {
      "text/html": [
       "<div>\n",
       "<style scoped>\n",
       "    .dataframe tbody tr th:only-of-type {\n",
       "        vertical-align: middle;\n",
       "    }\n",
       "\n",
       "    .dataframe tbody tr th {\n",
       "        vertical-align: top;\n",
       "    }\n",
       "\n",
       "    .dataframe thead th {\n",
       "        text-align: right;\n",
       "    }\n",
       "</style>\n",
       "<table border=\"1\" class=\"dataframe\">\n",
       "  <thead>\n",
       "    <tr style=\"text-align: right;\">\n",
       "      <th></th>\n",
       "      <th>state</th>\n",
       "      <th>total_sat17</th>\n",
       "    </tr>\n",
       "  </thead>\n",
       "  <tbody>\n",
       "    <tr>\n",
       "      <th>23</th>\n",
       "      <td>Minnesota</td>\n",
       "      <td>1295</td>\n",
       "    </tr>\n",
       "    <tr>\n",
       "      <th>49</th>\n",
       "      <td>Wisconsin</td>\n",
       "      <td>1291</td>\n",
       "    </tr>\n",
       "    <tr>\n",
       "      <th>15</th>\n",
       "      <td>Iowa</td>\n",
       "      <td>1275</td>\n",
       "    </tr>\n",
       "    <tr>\n",
       "      <th>25</th>\n",
       "      <td>Missouri</td>\n",
       "      <td>1271</td>\n",
       "    </tr>\n",
       "    <tr>\n",
       "      <th>16</th>\n",
       "      <td>Kansas</td>\n",
       "      <td>1260</td>\n",
       "    </tr>\n",
       "  </tbody>\n",
       "</table>\n",
       "</div>"
      ],
      "text/plain": [
       "        state  total_sat17\n",
       "23  Minnesota         1295\n",
       "49  Wisconsin         1291\n",
       "15       Iowa         1275\n",
       "25   Missouri         1271\n",
       "16     Kansas         1260"
      ]
     },
     "execution_count": 76,
     "metadata": {},
     "output_type": "execute_result"
    }
   ],
   "source": [
    "final.sort_values('total_sat17', ascending=False)[['state','total_sat17']].head()"
   ]
  },
  {
   "cell_type": "markdown",
   "metadata": {},
   "source": [
    "### SAT 2018 Highest and Lowest Total"
   ]
  },
  {
   "cell_type": "markdown",
   "metadata": {},
   "source": [
    "The states with the lowest Total for SAT 2018 is District of Columbia   \n",
    "The states with the highest Total for SAT 2018 is Minnesota"
   ]
  },
  {
   "cell_type": "code",
   "execution_count": 77,
   "metadata": {},
   "outputs": [
    {
     "data": {
      "text/html": [
       "<div>\n",
       "<style scoped>\n",
       "    .dataframe tbody tr th:only-of-type {\n",
       "        vertical-align: middle;\n",
       "    }\n",
       "\n",
       "    .dataframe tbody tr th {\n",
       "        vertical-align: top;\n",
       "    }\n",
       "\n",
       "    .dataframe thead th {\n",
       "        text-align: right;\n",
       "    }\n",
       "</style>\n",
       "<table border=\"1\" class=\"dataframe\">\n",
       "  <thead>\n",
       "    <tr style=\"text-align: right;\">\n",
       "      <th></th>\n",
       "      <th>state</th>\n",
       "      <th>total_sat18</th>\n",
       "    </tr>\n",
       "  </thead>\n",
       "  <tbody>\n",
       "    <tr>\n",
       "      <th>8</th>\n",
       "      <td>District of Columbia</td>\n",
       "      <td>977</td>\n",
       "    </tr>\n",
       "    <tr>\n",
       "      <th>7</th>\n",
       "      <td>Delaware</td>\n",
       "      <td>997</td>\n",
       "    </tr>\n",
       "    <tr>\n",
       "      <th>48</th>\n",
       "      <td>West Virginia</td>\n",
       "      <td>999</td>\n",
       "    </tr>\n",
       "    <tr>\n",
       "      <th>12</th>\n",
       "      <td>Idaho</td>\n",
       "      <td>1001</td>\n",
       "    </tr>\n",
       "    <tr>\n",
       "      <th>44</th>\n",
       "      <td>Utah</td>\n",
       "      <td>1010</td>\n",
       "    </tr>\n",
       "  </tbody>\n",
       "</table>\n",
       "</div>"
      ],
      "text/plain": [
       "                   state  total_sat18\n",
       "8   District of Columbia          977\n",
       "7               Delaware          997\n",
       "48         West Virginia          999\n",
       "12                 Idaho         1001\n",
       "44                  Utah         1010"
      ]
     },
     "execution_count": 77,
     "metadata": {},
     "output_type": "execute_result"
    }
   ],
   "source": [
    "final.sort_values('total_sat18', ascending=True)[['state','total_sat18']].head()"
   ]
  },
  {
   "cell_type": "code",
   "execution_count": 78,
   "metadata": {},
   "outputs": [
    {
     "data": {
      "text/html": [
       "<div>\n",
       "<style scoped>\n",
       "    .dataframe tbody tr th:only-of-type {\n",
       "        vertical-align: middle;\n",
       "    }\n",
       "\n",
       "    .dataframe tbody tr th {\n",
       "        vertical-align: top;\n",
       "    }\n",
       "\n",
       "    .dataframe thead th {\n",
       "        text-align: right;\n",
       "    }\n",
       "</style>\n",
       "<table border=\"1\" class=\"dataframe\">\n",
       "  <thead>\n",
       "    <tr style=\"text-align: right;\">\n",
       "      <th></th>\n",
       "      <th>state</th>\n",
       "      <th>total_sat18</th>\n",
       "    </tr>\n",
       "  </thead>\n",
       "  <tbody>\n",
       "    <tr>\n",
       "      <th>23</th>\n",
       "      <td>Minnesota</td>\n",
       "      <td>1298</td>\n",
       "    </tr>\n",
       "    <tr>\n",
       "      <th>49</th>\n",
       "      <td>Wisconsin</td>\n",
       "      <td>1294</td>\n",
       "    </tr>\n",
       "    <tr>\n",
       "      <th>34</th>\n",
       "      <td>North Dakota</td>\n",
       "      <td>1283</td>\n",
       "    </tr>\n",
       "    <tr>\n",
       "      <th>15</th>\n",
       "      <td>Iowa</td>\n",
       "      <td>1265</td>\n",
       "    </tr>\n",
       "    <tr>\n",
       "      <th>16</th>\n",
       "      <td>Kansas</td>\n",
       "      <td>1264</td>\n",
       "    </tr>\n",
       "  </tbody>\n",
       "</table>\n",
       "</div>"
      ],
      "text/plain": [
       "           state  total_sat18\n",
       "23     Minnesota         1298\n",
       "49     Wisconsin         1294\n",
       "34  North Dakota         1283\n",
       "15          Iowa         1265\n",
       "16        Kansas         1264"
      ]
     },
     "execution_count": 78,
     "metadata": {},
     "output_type": "execute_result"
    }
   ],
   "source": [
    "final.sort_values('total_sat18', ascending=False)[['state','total_sat18']].head()"
   ]
  },
  {
   "cell_type": "markdown",
   "metadata": {},
   "source": [
    "### ACT 2017 Highest and Lowest Composite"
   ]
  },
  {
   "cell_type": "markdown",
   "metadata": {},
   "source": [
    "The states with the lowest Composite for ACT 2017 is Nevada   \n",
    "The states with the highest Composite for ACT 2017 is New Hampshire"
   ]
  },
  {
   "cell_type": "code",
   "execution_count": 79,
   "metadata": {},
   "outputs": [
    {
     "data": {
      "text/html": [
       "<div>\n",
       "<style scoped>\n",
       "    .dataframe tbody tr th:only-of-type {\n",
       "        vertical-align: middle;\n",
       "    }\n",
       "\n",
       "    .dataframe tbody tr th {\n",
       "        vertical-align: top;\n",
       "    }\n",
       "\n",
       "    .dataframe thead th {\n",
       "        text-align: right;\n",
       "    }\n",
       "</style>\n",
       "<table border=\"1\" class=\"dataframe\">\n",
       "  <thead>\n",
       "    <tr style=\"text-align: right;\">\n",
       "      <th></th>\n",
       "      <th>state</th>\n",
       "      <th>composite_act17</th>\n",
       "    </tr>\n",
       "  </thead>\n",
       "  <tbody>\n",
       "    <tr>\n",
       "      <th>28</th>\n",
       "      <td>Nevada</td>\n",
       "      <td>17.8</td>\n",
       "    </tr>\n",
       "    <tr>\n",
       "      <th>24</th>\n",
       "      <td>Mississippi</td>\n",
       "      <td>18.6</td>\n",
       "    </tr>\n",
       "    <tr>\n",
       "      <th>40</th>\n",
       "      <td>South Carolina</td>\n",
       "      <td>18.7</td>\n",
       "    </tr>\n",
       "    <tr>\n",
       "      <th>11</th>\n",
       "      <td>Hawaii</td>\n",
       "      <td>19.0</td>\n",
       "    </tr>\n",
       "    <tr>\n",
       "      <th>33</th>\n",
       "      <td>North Carolina</td>\n",
       "      <td>19.1</td>\n",
       "    </tr>\n",
       "  </tbody>\n",
       "</table>\n",
       "</div>"
      ],
      "text/plain": [
       "             state  composite_act17\n",
       "28          Nevada             17.8\n",
       "24     Mississippi             18.6\n",
       "40  South Carolina             18.7\n",
       "11          Hawaii             19.0\n",
       "33  North Carolina             19.1"
      ]
     },
     "execution_count": 79,
     "metadata": {},
     "output_type": "execute_result"
    }
   ],
   "source": [
    "final.sort_values('composite_act17', ascending=True)[['state','composite_act17']].head()"
   ]
  },
  {
   "cell_type": "code",
   "execution_count": 80,
   "metadata": {},
   "outputs": [
    {
     "data": {
      "text/html": [
       "<div>\n",
       "<style scoped>\n",
       "    .dataframe tbody tr th:only-of-type {\n",
       "        vertical-align: middle;\n",
       "    }\n",
       "\n",
       "    .dataframe tbody tr th {\n",
       "        vertical-align: top;\n",
       "    }\n",
       "\n",
       "    .dataframe thead th {\n",
       "        text-align: right;\n",
       "    }\n",
       "</style>\n",
       "<table border=\"1\" class=\"dataframe\">\n",
       "  <thead>\n",
       "    <tr style=\"text-align: right;\">\n",
       "      <th></th>\n",
       "      <th>state</th>\n",
       "      <th>composite_act17</th>\n",
       "    </tr>\n",
       "  </thead>\n",
       "  <tbody>\n",
       "    <tr>\n",
       "      <th>29</th>\n",
       "      <td>New Hampshire</td>\n",
       "      <td>25.5</td>\n",
       "    </tr>\n",
       "    <tr>\n",
       "      <th>21</th>\n",
       "      <td>Massachusetts</td>\n",
       "      <td>25.4</td>\n",
       "    </tr>\n",
       "    <tr>\n",
       "      <th>6</th>\n",
       "      <td>Connecticut</td>\n",
       "      <td>25.2</td>\n",
       "    </tr>\n",
       "    <tr>\n",
       "      <th>19</th>\n",
       "      <td>Maine</td>\n",
       "      <td>24.3</td>\n",
       "    </tr>\n",
       "    <tr>\n",
       "      <th>8</th>\n",
       "      <td>District of Columbia</td>\n",
       "      <td>24.2</td>\n",
       "    </tr>\n",
       "  </tbody>\n",
       "</table>\n",
       "</div>"
      ],
      "text/plain": [
       "                   state  composite_act17\n",
       "29         New Hampshire             25.5\n",
       "21         Massachusetts             25.4\n",
       "6            Connecticut             25.2\n",
       "19                 Maine             24.3\n",
       "8   District of Columbia             24.2"
      ]
     },
     "execution_count": 80,
     "metadata": {},
     "output_type": "execute_result"
    }
   ],
   "source": [
    "final.sort_values('composite_act17', ascending=False)[['state','composite_act17']].head()"
   ]
  },
  {
   "cell_type": "markdown",
   "metadata": {},
   "source": [
    "### ACT 2018 Highest and Lowest Composite"
   ]
  },
  {
   "cell_type": "markdown",
   "metadata": {},
   "source": [
    "The states with the lowest Composite for ACT 2018 is Nevada   \n",
    "The states with the highest Composite for ACT 2018 is Conneticut"
   ]
  },
  {
   "cell_type": "code",
   "execution_count": 81,
   "metadata": {},
   "outputs": [
    {
     "data": {
      "text/html": [
       "<div>\n",
       "<style scoped>\n",
       "    .dataframe tbody tr th:only-of-type {\n",
       "        vertical-align: middle;\n",
       "    }\n",
       "\n",
       "    .dataframe tbody tr th {\n",
       "        vertical-align: top;\n",
       "    }\n",
       "\n",
       "    .dataframe thead th {\n",
       "        text-align: right;\n",
       "    }\n",
       "</style>\n",
       "<table border=\"1\" class=\"dataframe\">\n",
       "  <thead>\n",
       "    <tr style=\"text-align: right;\">\n",
       "      <th></th>\n",
       "      <th>state</th>\n",
       "      <th>composite_act18</th>\n",
       "    </tr>\n",
       "  </thead>\n",
       "  <tbody>\n",
       "    <tr>\n",
       "      <th>28</th>\n",
       "      <td>Nevada</td>\n",
       "      <td>17.7</td>\n",
       "    </tr>\n",
       "    <tr>\n",
       "      <th>40</th>\n",
       "      <td>South Carolina</td>\n",
       "      <td>18.3</td>\n",
       "    </tr>\n",
       "    <tr>\n",
       "      <th>24</th>\n",
       "      <td>Mississippi</td>\n",
       "      <td>18.6</td>\n",
       "    </tr>\n",
       "    <tr>\n",
       "      <th>11</th>\n",
       "      <td>Hawaii</td>\n",
       "      <td>18.9</td>\n",
       "    </tr>\n",
       "    <tr>\n",
       "      <th>0</th>\n",
       "      <td>Alabama</td>\n",
       "      <td>19.1</td>\n",
       "    </tr>\n",
       "  </tbody>\n",
       "</table>\n",
       "</div>"
      ],
      "text/plain": [
       "             state  composite_act18\n",
       "28          Nevada             17.7\n",
       "40  South Carolina             18.3\n",
       "24     Mississippi             18.6\n",
       "11          Hawaii             18.9\n",
       "0          Alabama             19.1"
      ]
     },
     "execution_count": 81,
     "metadata": {},
     "output_type": "execute_result"
    }
   ],
   "source": [
    "final.sort_values('composite_act18', ascending=True)[['state','composite_act18']].head()"
   ]
  },
  {
   "cell_type": "code",
   "execution_count": 82,
   "metadata": {},
   "outputs": [
    {
     "data": {
      "text/html": [
       "<div>\n",
       "<style scoped>\n",
       "    .dataframe tbody tr th:only-of-type {\n",
       "        vertical-align: middle;\n",
       "    }\n",
       "\n",
       "    .dataframe tbody tr th {\n",
       "        vertical-align: top;\n",
       "    }\n",
       "\n",
       "    .dataframe thead th {\n",
       "        text-align: right;\n",
       "    }\n",
       "</style>\n",
       "<table border=\"1\" class=\"dataframe\">\n",
       "  <thead>\n",
       "    <tr style=\"text-align: right;\">\n",
       "      <th></th>\n",
       "      <th>state</th>\n",
       "      <th>composite_act18</th>\n",
       "    </tr>\n",
       "  </thead>\n",
       "  <tbody>\n",
       "    <tr>\n",
       "      <th>6</th>\n",
       "      <td>Connecticut</td>\n",
       "      <td>25.6</td>\n",
       "    </tr>\n",
       "    <tr>\n",
       "      <th>21</th>\n",
       "      <td>Massachusetts</td>\n",
       "      <td>25.5</td>\n",
       "    </tr>\n",
       "    <tr>\n",
       "      <th>29</th>\n",
       "      <td>New Hampshire</td>\n",
       "      <td>25.1</td>\n",
       "    </tr>\n",
       "    <tr>\n",
       "      <th>32</th>\n",
       "      <td>New York</td>\n",
       "      <td>24.5</td>\n",
       "    </tr>\n",
       "    <tr>\n",
       "      <th>22</th>\n",
       "      <td>Michigan</td>\n",
       "      <td>24.4</td>\n",
       "    </tr>\n",
       "  </tbody>\n",
       "</table>\n",
       "</div>"
      ],
      "text/plain": [
       "            state  composite_act18\n",
       "6     Connecticut             25.6\n",
       "21  Massachusetts             25.5\n",
       "29  New Hampshire             25.1\n",
       "32       New York             24.5\n",
       "22       Michigan             24.4"
      ]
     },
     "execution_count": 82,
     "metadata": {},
     "output_type": "execute_result"
    }
   ],
   "source": [
    "final.sort_values('composite_act18', ascending=False)[['state','composite_act18']].head()"
   ]
  },
  {
   "cell_type": "markdown",
   "metadata": {},
   "source": [
    "#### Do any states show have >50% participation on both tests either year?"
   ]
  },
  {
   "cell_type": "markdown",
   "metadata": {},
   "source": [
    "Yes, in particular the states Florida, Georgia, Hawaii in 2017   \n",
    "and the states Florida, Georgia, Hawaii, North & South Carolina in 2018"
   ]
  },
  {
   "cell_type": "code",
   "execution_count": 83,
   "metadata": {},
   "outputs": [
    {
     "data": {
      "text/html": [
       "<div>\n",
       "<style scoped>\n",
       "    .dataframe tbody tr th:only-of-type {\n",
       "        vertical-align: middle;\n",
       "    }\n",
       "\n",
       "    .dataframe tbody tr th {\n",
       "        vertical-align: top;\n",
       "    }\n",
       "\n",
       "    .dataframe thead th {\n",
       "        text-align: right;\n",
       "    }\n",
       "</style>\n",
       "<table border=\"1\" class=\"dataframe\">\n",
       "  <thead>\n",
       "    <tr style=\"text-align: right;\">\n",
       "      <th></th>\n",
       "      <th>state</th>\n",
       "      <th>participation_act17</th>\n",
       "      <th>english_act17</th>\n",
       "      <th>math_act17</th>\n",
       "      <th>reading_act17</th>\n",
       "      <th>science_act17</th>\n",
       "      <th>composite_act17</th>\n",
       "      <th>participation_sat17</th>\n",
       "      <th>evidence_based_reading_and_writing_sat17</th>\n",
       "      <th>math_sat17</th>\n",
       "      <th>...</th>\n",
       "      <th>participation_act18</th>\n",
       "      <th>composite_act18</th>\n",
       "      <th>english_act18</th>\n",
       "      <th>math_act18</th>\n",
       "      <th>reading_act18</th>\n",
       "      <th>science_act18</th>\n",
       "      <th>participation_sat18</th>\n",
       "      <th>evidence_based_reading_and_writing_sat18</th>\n",
       "      <th>math_sat18</th>\n",
       "      <th>total_sat18</th>\n",
       "    </tr>\n",
       "  </thead>\n",
       "  <tbody>\n",
       "    <tr>\n",
       "      <th>4</th>\n",
       "      <td>California</td>\n",
       "      <td>0.31</td>\n",
       "      <td>22.5</td>\n",
       "      <td>22.7</td>\n",
       "      <td>23.1</td>\n",
       "      <td>22.2</td>\n",
       "      <td>22.8</td>\n",
       "      <td>0.53</td>\n",
       "      <td>531</td>\n",
       "      <td>524</td>\n",
       "      <td>...</td>\n",
       "      <td>0.27</td>\n",
       "      <td>22.7</td>\n",
       "      <td>22.5</td>\n",
       "      <td>22.5</td>\n",
       "      <td>23.0</td>\n",
       "      <td>22.1</td>\n",
       "      <td>0.60</td>\n",
       "      <td>540</td>\n",
       "      <td>536</td>\n",
       "      <td>1076</td>\n",
       "    </tr>\n",
       "    <tr>\n",
       "      <th>6</th>\n",
       "      <td>Connecticut</td>\n",
       "      <td>0.31</td>\n",
       "      <td>25.5</td>\n",
       "      <td>24.6</td>\n",
       "      <td>25.6</td>\n",
       "      <td>24.6</td>\n",
       "      <td>25.2</td>\n",
       "      <td>1.00</td>\n",
       "      <td>530</td>\n",
       "      <td>512</td>\n",
       "      <td>...</td>\n",
       "      <td>0.26</td>\n",
       "      <td>25.6</td>\n",
       "      <td>26.0</td>\n",
       "      <td>24.8</td>\n",
       "      <td>26.1</td>\n",
       "      <td>24.9</td>\n",
       "      <td>1.00</td>\n",
       "      <td>535</td>\n",
       "      <td>519</td>\n",
       "      <td>1054</td>\n",
       "    </tr>\n",
       "    <tr>\n",
       "      <th>7</th>\n",
       "      <td>Delaware</td>\n",
       "      <td>0.18</td>\n",
       "      <td>24.1</td>\n",
       "      <td>23.4</td>\n",
       "      <td>24.8</td>\n",
       "      <td>23.6</td>\n",
       "      <td>24.1</td>\n",
       "      <td>1.00</td>\n",
       "      <td>503</td>\n",
       "      <td>492</td>\n",
       "      <td>...</td>\n",
       "      <td>0.17</td>\n",
       "      <td>23.2</td>\n",
       "      <td>23.7</td>\n",
       "      <td>23.1</td>\n",
       "      <td>24.5</td>\n",
       "      <td>23.4</td>\n",
       "      <td>1.00</td>\n",
       "      <td>505</td>\n",
       "      <td>492</td>\n",
       "      <td>997</td>\n",
       "    </tr>\n",
       "    <tr>\n",
       "      <th>8</th>\n",
       "      <td>District of Columbia</td>\n",
       "      <td>0.32</td>\n",
       "      <td>24.4</td>\n",
       "      <td>23.5</td>\n",
       "      <td>24.9</td>\n",
       "      <td>23.5</td>\n",
       "      <td>24.2</td>\n",
       "      <td>1.00</td>\n",
       "      <td>482</td>\n",
       "      <td>468</td>\n",
       "      <td>...</td>\n",
       "      <td>0.32</td>\n",
       "      <td>23.6</td>\n",
       "      <td>23.7</td>\n",
       "      <td>22.7</td>\n",
       "      <td>24.4</td>\n",
       "      <td>23.0</td>\n",
       "      <td>0.92</td>\n",
       "      <td>497</td>\n",
       "      <td>480</td>\n",
       "      <td>977</td>\n",
       "    </tr>\n",
       "    <tr>\n",
       "      <th>9</th>\n",
       "      <td>Florida</td>\n",
       "      <td>0.73</td>\n",
       "      <td>19.0</td>\n",
       "      <td>19.4</td>\n",
       "      <td>21.0</td>\n",
       "      <td>19.4</td>\n",
       "      <td>19.8</td>\n",
       "      <td>0.83</td>\n",
       "      <td>520</td>\n",
       "      <td>497</td>\n",
       "      <td>...</td>\n",
       "      <td>0.66</td>\n",
       "      <td>19.9</td>\n",
       "      <td>19.2</td>\n",
       "      <td>19.3</td>\n",
       "      <td>21.1</td>\n",
       "      <td>19.5</td>\n",
       "      <td>0.56</td>\n",
       "      <td>550</td>\n",
       "      <td>549</td>\n",
       "      <td>1099</td>\n",
       "    </tr>\n",
       "    <tr>\n",
       "      <th>10</th>\n",
       "      <td>Georgia</td>\n",
       "      <td>0.55</td>\n",
       "      <td>21.0</td>\n",
       "      <td>20.9</td>\n",
       "      <td>22.0</td>\n",
       "      <td>21.3</td>\n",
       "      <td>21.4</td>\n",
       "      <td>0.61</td>\n",
       "      <td>535</td>\n",
       "      <td>515</td>\n",
       "      <td>...</td>\n",
       "      <td>0.53</td>\n",
       "      <td>21.4</td>\n",
       "      <td>20.9</td>\n",
       "      <td>20.7</td>\n",
       "      <td>21.2</td>\n",
       "      <td>21.4</td>\n",
       "      <td>0.70</td>\n",
       "      <td>542</td>\n",
       "      <td>522</td>\n",
       "      <td>1064</td>\n",
       "    </tr>\n",
       "    <tr>\n",
       "      <th>11</th>\n",
       "      <td>Hawaii</td>\n",
       "      <td>0.90</td>\n",
       "      <td>17.8</td>\n",
       "      <td>19.2</td>\n",
       "      <td>19.2</td>\n",
       "      <td>19.3</td>\n",
       "      <td>19.0</td>\n",
       "      <td>0.55</td>\n",
       "      <td>544</td>\n",
       "      <td>541</td>\n",
       "      <td>...</td>\n",
       "      <td>0.89</td>\n",
       "      <td>18.9</td>\n",
       "      <td>18.2</td>\n",
       "      <td>19.0</td>\n",
       "      <td>19.1</td>\n",
       "      <td>19.0</td>\n",
       "      <td>0.56</td>\n",
       "      <td>480</td>\n",
       "      <td>530</td>\n",
       "      <td>1010</td>\n",
       "    </tr>\n",
       "    <tr>\n",
       "      <th>12</th>\n",
       "      <td>Idaho</td>\n",
       "      <td>0.38</td>\n",
       "      <td>21.9</td>\n",
       "      <td>21.8</td>\n",
       "      <td>23.0</td>\n",
       "      <td>22.1</td>\n",
       "      <td>22.3</td>\n",
       "      <td>0.93</td>\n",
       "      <td>513</td>\n",
       "      <td>493</td>\n",
       "      <td>...</td>\n",
       "      <td>0.36</td>\n",
       "      <td>22.3</td>\n",
       "      <td>21.9</td>\n",
       "      <td>21.6</td>\n",
       "      <td>23.2</td>\n",
       "      <td>22.1</td>\n",
       "      <td>1.00</td>\n",
       "      <td>508</td>\n",
       "      <td>493</td>\n",
       "      <td>1001</td>\n",
       "    </tr>\n",
       "    <tr>\n",
       "      <th>14</th>\n",
       "      <td>Indiana</td>\n",
       "      <td>0.35</td>\n",
       "      <td>22.0</td>\n",
       "      <td>22.4</td>\n",
       "      <td>23.2</td>\n",
       "      <td>22.3</td>\n",
       "      <td>22.6</td>\n",
       "      <td>0.63</td>\n",
       "      <td>542</td>\n",
       "      <td>532</td>\n",
       "      <td>...</td>\n",
       "      <td>0.32</td>\n",
       "      <td>22.5</td>\n",
       "      <td>21.9</td>\n",
       "      <td>22.3</td>\n",
       "      <td>23.1</td>\n",
       "      <td>22.2</td>\n",
       "      <td>0.63</td>\n",
       "      <td>542</td>\n",
       "      <td>532</td>\n",
       "      <td>1074</td>\n",
       "    </tr>\n",
       "    <tr>\n",
       "      <th>19</th>\n",
       "      <td>Maine</td>\n",
       "      <td>0.08</td>\n",
       "      <td>24.2</td>\n",
       "      <td>24.0</td>\n",
       "      <td>24.8</td>\n",
       "      <td>23.7</td>\n",
       "      <td>24.3</td>\n",
       "      <td>0.95</td>\n",
       "      <td>513</td>\n",
       "      <td>499</td>\n",
       "      <td>...</td>\n",
       "      <td>0.07</td>\n",
       "      <td>24.0</td>\n",
       "      <td>23.8</td>\n",
       "      <td>23.6</td>\n",
       "      <td>24.7</td>\n",
       "      <td>23.4</td>\n",
       "      <td>0.99</td>\n",
       "      <td>512</td>\n",
       "      <td>501</td>\n",
       "      <td>1013</td>\n",
       "    </tr>\n",
       "    <tr>\n",
       "      <th>20</th>\n",
       "      <td>Maryland</td>\n",
       "      <td>0.28</td>\n",
       "      <td>23.3</td>\n",
       "      <td>23.1</td>\n",
       "      <td>24.2</td>\n",
       "      <td>23.1</td>\n",
       "      <td>23.6</td>\n",
       "      <td>0.69</td>\n",
       "      <td>536</td>\n",
       "      <td>524</td>\n",
       "      <td>...</td>\n",
       "      <td>0.31</td>\n",
       "      <td>22.5</td>\n",
       "      <td>22.1</td>\n",
       "      <td>22.0</td>\n",
       "      <td>23.1</td>\n",
       "      <td>22.2</td>\n",
       "      <td>0.76</td>\n",
       "      <td>545</td>\n",
       "      <td>535</td>\n",
       "      <td>1080</td>\n",
       "    </tr>\n",
       "    <tr>\n",
       "      <th>21</th>\n",
       "      <td>Massachusetts</td>\n",
       "      <td>0.29</td>\n",
       "      <td>25.4</td>\n",
       "      <td>25.3</td>\n",
       "      <td>25.9</td>\n",
       "      <td>24.7</td>\n",
       "      <td>25.4</td>\n",
       "      <td>0.76</td>\n",
       "      <td>555</td>\n",
       "      <td>551</td>\n",
       "      <td>...</td>\n",
       "      <td>0.25</td>\n",
       "      <td>25.5</td>\n",
       "      <td>25.5</td>\n",
       "      <td>25.2</td>\n",
       "      <td>25.9</td>\n",
       "      <td>24.7</td>\n",
       "      <td>0.80</td>\n",
       "      <td>562</td>\n",
       "      <td>563</td>\n",
       "      <td>1125</td>\n",
       "    </tr>\n",
       "    <tr>\n",
       "      <th>22</th>\n",
       "      <td>Michigan</td>\n",
       "      <td>0.29</td>\n",
       "      <td>24.1</td>\n",
       "      <td>23.7</td>\n",
       "      <td>24.5</td>\n",
       "      <td>23.8</td>\n",
       "      <td>24.1</td>\n",
       "      <td>1.00</td>\n",
       "      <td>509</td>\n",
       "      <td>495</td>\n",
       "      <td>...</td>\n",
       "      <td>0.22</td>\n",
       "      <td>24.4</td>\n",
       "      <td>24.5</td>\n",
       "      <td>23.9</td>\n",
       "      <td>24.7</td>\n",
       "      <td>23.9</td>\n",
       "      <td>1.00</td>\n",
       "      <td>511</td>\n",
       "      <td>499</td>\n",
       "      <td>1010</td>\n",
       "    </tr>\n",
       "    <tr>\n",
       "      <th>29</th>\n",
       "      <td>New Hampshire</td>\n",
       "      <td>0.18</td>\n",
       "      <td>25.4</td>\n",
       "      <td>25.1</td>\n",
       "      <td>26.0</td>\n",
       "      <td>24.9</td>\n",
       "      <td>25.5</td>\n",
       "      <td>0.96</td>\n",
       "      <td>532</td>\n",
       "      <td>520</td>\n",
       "      <td>...</td>\n",
       "      <td>0.16</td>\n",
       "      <td>25.1</td>\n",
       "      <td>25.1</td>\n",
       "      <td>24.7</td>\n",
       "      <td>25.6</td>\n",
       "      <td>24.4</td>\n",
       "      <td>0.96</td>\n",
       "      <td>535</td>\n",
       "      <td>528</td>\n",
       "      <td>1063</td>\n",
       "    </tr>\n",
       "    <tr>\n",
       "      <th>30</th>\n",
       "      <td>New Jersey</td>\n",
       "      <td>0.34</td>\n",
       "      <td>23.8</td>\n",
       "      <td>23.8</td>\n",
       "      <td>24.1</td>\n",
       "      <td>23.2</td>\n",
       "      <td>23.9</td>\n",
       "      <td>0.70</td>\n",
       "      <td>530</td>\n",
       "      <td>526</td>\n",
       "      <td>...</td>\n",
       "      <td>0.31</td>\n",
       "      <td>23.7</td>\n",
       "      <td>23.8</td>\n",
       "      <td>23.6</td>\n",
       "      <td>24.0</td>\n",
       "      <td>23.0</td>\n",
       "      <td>0.82</td>\n",
       "      <td>547</td>\n",
       "      <td>547</td>\n",
       "      <td>1094</td>\n",
       "    </tr>\n",
       "    <tr>\n",
       "      <th>32</th>\n",
       "      <td>New York</td>\n",
       "      <td>0.31</td>\n",
       "      <td>23.8</td>\n",
       "      <td>24.0</td>\n",
       "      <td>24.6</td>\n",
       "      <td>23.9</td>\n",
       "      <td>24.2</td>\n",
       "      <td>0.67</td>\n",
       "      <td>528</td>\n",
       "      <td>523</td>\n",
       "      <td>...</td>\n",
       "      <td>0.27</td>\n",
       "      <td>24.5</td>\n",
       "      <td>24.2</td>\n",
       "      <td>24.2</td>\n",
       "      <td>24.9</td>\n",
       "      <td>24.2</td>\n",
       "      <td>0.79</td>\n",
       "      <td>534</td>\n",
       "      <td>534</td>\n",
       "      <td>1068</td>\n",
       "    </tr>\n",
       "    <tr>\n",
       "      <th>38</th>\n",
       "      <td>Pennsylvania</td>\n",
       "      <td>0.23</td>\n",
       "      <td>23.4</td>\n",
       "      <td>23.4</td>\n",
       "      <td>24.2</td>\n",
       "      <td>23.3</td>\n",
       "      <td>23.7</td>\n",
       "      <td>0.65</td>\n",
       "      <td>540</td>\n",
       "      <td>531</td>\n",
       "      <td>...</td>\n",
       "      <td>0.20</td>\n",
       "      <td>23.5</td>\n",
       "      <td>23.3</td>\n",
       "      <td>23.2</td>\n",
       "      <td>24.0</td>\n",
       "      <td>23.1</td>\n",
       "      <td>0.70</td>\n",
       "      <td>547</td>\n",
       "      <td>539</td>\n",
       "      <td>1086</td>\n",
       "    </tr>\n",
       "    <tr>\n",
       "      <th>39</th>\n",
       "      <td>Rhode Island</td>\n",
       "      <td>0.21</td>\n",
       "      <td>24.0</td>\n",
       "      <td>23.3</td>\n",
       "      <td>24.7</td>\n",
       "      <td>23.4</td>\n",
       "      <td>24.0</td>\n",
       "      <td>0.71</td>\n",
       "      <td>539</td>\n",
       "      <td>524</td>\n",
       "      <td>...</td>\n",
       "      <td>0.15</td>\n",
       "      <td>24.2</td>\n",
       "      <td>24.4</td>\n",
       "      <td>23.6</td>\n",
       "      <td>25.0</td>\n",
       "      <td>23.5</td>\n",
       "      <td>0.97</td>\n",
       "      <td>513</td>\n",
       "      <td>505</td>\n",
       "      <td>1018</td>\n",
       "    </tr>\n",
       "    <tr>\n",
       "      <th>43</th>\n",
       "      <td>Texas</td>\n",
       "      <td>0.45</td>\n",
       "      <td>19.5</td>\n",
       "      <td>20.7</td>\n",
       "      <td>21.1</td>\n",
       "      <td>20.9</td>\n",
       "      <td>20.7</td>\n",
       "      <td>0.62</td>\n",
       "      <td>513</td>\n",
       "      <td>507</td>\n",
       "      <td>...</td>\n",
       "      <td>0.41</td>\n",
       "      <td>20.6</td>\n",
       "      <td>19.6</td>\n",
       "      <td>20.6</td>\n",
       "      <td>21.1</td>\n",
       "      <td>20.8</td>\n",
       "      <td>0.66</td>\n",
       "      <td>520</td>\n",
       "      <td>512</td>\n",
       "      <td>1032</td>\n",
       "    </tr>\n",
       "    <tr>\n",
       "      <th>45</th>\n",
       "      <td>Vermont</td>\n",
       "      <td>0.29</td>\n",
       "      <td>23.3</td>\n",
       "      <td>23.1</td>\n",
       "      <td>24.4</td>\n",
       "      <td>23.2</td>\n",
       "      <td>23.6</td>\n",
       "      <td>0.60</td>\n",
       "      <td>562</td>\n",
       "      <td>551</td>\n",
       "      <td>...</td>\n",
       "      <td>0.24</td>\n",
       "      <td>24.1</td>\n",
       "      <td>23.9</td>\n",
       "      <td>23.4</td>\n",
       "      <td>24.9</td>\n",
       "      <td>23.8</td>\n",
       "      <td>0.64</td>\n",
       "      <td>565</td>\n",
       "      <td>554</td>\n",
       "      <td>1119</td>\n",
       "    </tr>\n",
       "    <tr>\n",
       "      <th>46</th>\n",
       "      <td>Virginia</td>\n",
       "      <td>0.29</td>\n",
       "      <td>23.5</td>\n",
       "      <td>23.3</td>\n",
       "      <td>24.6</td>\n",
       "      <td>23.5</td>\n",
       "      <td>23.8</td>\n",
       "      <td>0.65</td>\n",
       "      <td>561</td>\n",
       "      <td>541</td>\n",
       "      <td>...</td>\n",
       "      <td>0.24</td>\n",
       "      <td>23.9</td>\n",
       "      <td>23.8</td>\n",
       "      <td>23.3</td>\n",
       "      <td>24.7</td>\n",
       "      <td>23.5</td>\n",
       "      <td>0.68</td>\n",
       "      <td>567</td>\n",
       "      <td>550</td>\n",
       "      <td>1117</td>\n",
       "    </tr>\n",
       "    <tr>\n",
       "      <th>47</th>\n",
       "      <td>Washington</td>\n",
       "      <td>0.29</td>\n",
       "      <td>20.9</td>\n",
       "      <td>21.9</td>\n",
       "      <td>22.1</td>\n",
       "      <td>22.0</td>\n",
       "      <td>21.9</td>\n",
       "      <td>0.64</td>\n",
       "      <td>541</td>\n",
       "      <td>534</td>\n",
       "      <td>...</td>\n",
       "      <td>0.24</td>\n",
       "      <td>22.2</td>\n",
       "      <td>21.4</td>\n",
       "      <td>22.2</td>\n",
       "      <td>22.7</td>\n",
       "      <td>22.0</td>\n",
       "      <td>0.69</td>\n",
       "      <td>543</td>\n",
       "      <td>538</td>\n",
       "      <td>1081</td>\n",
       "    </tr>\n",
       "  </tbody>\n",
       "</table>\n",
       "<p>22 rows × 21 columns</p>\n",
       "</div>"
      ],
      "text/plain": [
       "                   state  participation_act17  english_act17  math_act17  \\\n",
       "4             California                 0.31           22.5        22.7   \n",
       "6            Connecticut                 0.31           25.5        24.6   \n",
       "7               Delaware                 0.18           24.1        23.4   \n",
       "8   District of Columbia                 0.32           24.4        23.5   \n",
       "9                Florida                 0.73           19.0        19.4   \n",
       "10               Georgia                 0.55           21.0        20.9   \n",
       "11                Hawaii                 0.90           17.8        19.2   \n",
       "12                 Idaho                 0.38           21.9        21.8   \n",
       "14               Indiana                 0.35           22.0        22.4   \n",
       "19                 Maine                 0.08           24.2        24.0   \n",
       "20              Maryland                 0.28           23.3        23.1   \n",
       "21         Massachusetts                 0.29           25.4        25.3   \n",
       "22              Michigan                 0.29           24.1        23.7   \n",
       "29         New Hampshire                 0.18           25.4        25.1   \n",
       "30            New Jersey                 0.34           23.8        23.8   \n",
       "32              New York                 0.31           23.8        24.0   \n",
       "38          Pennsylvania                 0.23           23.4        23.4   \n",
       "39          Rhode Island                 0.21           24.0        23.3   \n",
       "43                 Texas                 0.45           19.5        20.7   \n",
       "45               Vermont                 0.29           23.3        23.1   \n",
       "46              Virginia                 0.29           23.5        23.3   \n",
       "47            Washington                 0.29           20.9        21.9   \n",
       "\n",
       "    reading_act17  science_act17  composite_act17  participation_sat17  \\\n",
       "4            23.1           22.2             22.8                 0.53   \n",
       "6            25.6           24.6             25.2                 1.00   \n",
       "7            24.8           23.6             24.1                 1.00   \n",
       "8            24.9           23.5             24.2                 1.00   \n",
       "9            21.0           19.4             19.8                 0.83   \n",
       "10           22.0           21.3             21.4                 0.61   \n",
       "11           19.2           19.3             19.0                 0.55   \n",
       "12           23.0           22.1             22.3                 0.93   \n",
       "14           23.2           22.3             22.6                 0.63   \n",
       "19           24.8           23.7             24.3                 0.95   \n",
       "20           24.2           23.1             23.6                 0.69   \n",
       "21           25.9           24.7             25.4                 0.76   \n",
       "22           24.5           23.8             24.1                 1.00   \n",
       "29           26.0           24.9             25.5                 0.96   \n",
       "30           24.1           23.2             23.9                 0.70   \n",
       "32           24.6           23.9             24.2                 0.67   \n",
       "38           24.2           23.3             23.7                 0.65   \n",
       "39           24.7           23.4             24.0                 0.71   \n",
       "43           21.1           20.9             20.7                 0.62   \n",
       "45           24.4           23.2             23.6                 0.60   \n",
       "46           24.6           23.5             23.8                 0.65   \n",
       "47           22.1           22.0             21.9                 0.64   \n",
       "\n",
       "    evidence_based_reading_and_writing_sat17  math_sat17  ...  \\\n",
       "4                                        531         524  ...   \n",
       "6                                        530         512  ...   \n",
       "7                                        503         492  ...   \n",
       "8                                        482         468  ...   \n",
       "9                                        520         497  ...   \n",
       "10                                       535         515  ...   \n",
       "11                                       544         541  ...   \n",
       "12                                       513         493  ...   \n",
       "14                                       542         532  ...   \n",
       "19                                       513         499  ...   \n",
       "20                                       536         524  ...   \n",
       "21                                       555         551  ...   \n",
       "22                                       509         495  ...   \n",
       "29                                       532         520  ...   \n",
       "30                                       530         526  ...   \n",
       "32                                       528         523  ...   \n",
       "38                                       540         531  ...   \n",
       "39                                       539         524  ...   \n",
       "43                                       513         507  ...   \n",
       "45                                       562         551  ...   \n",
       "46                                       561         541  ...   \n",
       "47                                       541         534  ...   \n",
       "\n",
       "    participation_act18  composite_act18  english_act18  math_act18  \\\n",
       "4                  0.27             22.7           22.5        22.5   \n",
       "6                  0.26             25.6           26.0        24.8   \n",
       "7                  0.17             23.2           23.7        23.1   \n",
       "8                  0.32             23.6           23.7        22.7   \n",
       "9                  0.66             19.9           19.2        19.3   \n",
       "10                 0.53             21.4           20.9        20.7   \n",
       "11                 0.89             18.9           18.2        19.0   \n",
       "12                 0.36             22.3           21.9        21.6   \n",
       "14                 0.32             22.5           21.9        22.3   \n",
       "19                 0.07             24.0           23.8        23.6   \n",
       "20                 0.31             22.5           22.1        22.0   \n",
       "21                 0.25             25.5           25.5        25.2   \n",
       "22                 0.22             24.4           24.5        23.9   \n",
       "29                 0.16             25.1           25.1        24.7   \n",
       "30                 0.31             23.7           23.8        23.6   \n",
       "32                 0.27             24.5           24.2        24.2   \n",
       "38                 0.20             23.5           23.3        23.2   \n",
       "39                 0.15             24.2           24.4        23.6   \n",
       "43                 0.41             20.6           19.6        20.6   \n",
       "45                 0.24             24.1           23.9        23.4   \n",
       "46                 0.24             23.9           23.8        23.3   \n",
       "47                 0.24             22.2           21.4        22.2   \n",
       "\n",
       "    reading_act18  science_act18  participation_sat18  \\\n",
       "4            23.0           22.1                 0.60   \n",
       "6            26.1           24.9                 1.00   \n",
       "7            24.5           23.4                 1.00   \n",
       "8            24.4           23.0                 0.92   \n",
       "9            21.1           19.5                 0.56   \n",
       "10           21.2           21.4                 0.70   \n",
       "11           19.1           19.0                 0.56   \n",
       "12           23.2           22.1                 1.00   \n",
       "14           23.1           22.2                 0.63   \n",
       "19           24.7           23.4                 0.99   \n",
       "20           23.1           22.2                 0.76   \n",
       "21           25.9           24.7                 0.80   \n",
       "22           24.7           23.9                 1.00   \n",
       "29           25.6           24.4                 0.96   \n",
       "30           24.0           23.0                 0.82   \n",
       "32           24.9           24.2                 0.79   \n",
       "38           24.0           23.1                 0.70   \n",
       "39           25.0           23.5                 0.97   \n",
       "43           21.1           20.8                 0.66   \n",
       "45           24.9           23.8                 0.64   \n",
       "46           24.7           23.5                 0.68   \n",
       "47           22.7           22.0                 0.69   \n",
       "\n",
       "    evidence_based_reading_and_writing_sat18  math_sat18  total_sat18  \n",
       "4                                        540         536         1076  \n",
       "6                                        535         519         1054  \n",
       "7                                        505         492          997  \n",
       "8                                        497         480          977  \n",
       "9                                        550         549         1099  \n",
       "10                                       542         522         1064  \n",
       "11                                       480         530         1010  \n",
       "12                                       508         493         1001  \n",
       "14                                       542         532         1074  \n",
       "19                                       512         501         1013  \n",
       "20                                       545         535         1080  \n",
       "21                                       562         563         1125  \n",
       "22                                       511         499         1010  \n",
       "29                                       535         528         1063  \n",
       "30                                       547         547         1094  \n",
       "32                                       534         534         1068  \n",
       "38                                       547         539         1086  \n",
       "39                                       513         505         1018  \n",
       "43                                       520         512         1032  \n",
       "45                                       565         554         1119  \n",
       "46                                       567         550         1117  \n",
       "47                                       543         538         1081  \n",
       "\n",
       "[22 rows x 21 columns]"
      ]
     },
     "execution_count": 83,
     "metadata": {},
     "output_type": "execute_result"
    }
   ],
   "source": [
    "final[(final['participation_sat17']>0.5)]"
   ]
  },
  {
   "cell_type": "code",
   "execution_count": 84,
   "metadata": {},
   "outputs": [
    {
     "data": {
      "text/html": [
       "<div>\n",
       "<style scoped>\n",
       "    .dataframe tbody tr th:only-of-type {\n",
       "        vertical-align: middle;\n",
       "    }\n",
       "\n",
       "    .dataframe tbody tr th {\n",
       "        vertical-align: top;\n",
       "    }\n",
       "\n",
       "    .dataframe thead th {\n",
       "        text-align: right;\n",
       "    }\n",
       "</style>\n",
       "<table border=\"1\" class=\"dataframe\">\n",
       "  <thead>\n",
       "    <tr style=\"text-align: right;\">\n",
       "      <th></th>\n",
       "      <th>participation_sat17</th>\n",
       "      <th>participation_act17</th>\n",
       "      <th>state</th>\n",
       "    </tr>\n",
       "  </thead>\n",
       "  <tbody>\n",
       "    <tr>\n",
       "      <th>9</th>\n",
       "      <td>0.83</td>\n",
       "      <td>0.73</td>\n",
       "      <td>Florida</td>\n",
       "    </tr>\n",
       "    <tr>\n",
       "      <th>10</th>\n",
       "      <td>0.61</td>\n",
       "      <td>0.55</td>\n",
       "      <td>Georgia</td>\n",
       "    </tr>\n",
       "    <tr>\n",
       "      <th>11</th>\n",
       "      <td>0.55</td>\n",
       "      <td>0.90</td>\n",
       "      <td>Hawaii</td>\n",
       "    </tr>\n",
       "  </tbody>\n",
       "</table>\n",
       "</div>"
      ],
      "text/plain": [
       "    participation_sat17  participation_act17    state\n",
       "9                  0.83                 0.73  Florida\n",
       "10                 0.61                 0.55  Georgia\n",
       "11                 0.55                 0.90   Hawaii"
      ]
     },
     "execution_count": 84,
     "metadata": {},
     "output_type": "execute_result"
    }
   ],
   "source": [
    "mask1 = final[\"participation_sat17\"]>0.5\n",
    "mask2 = final[\"participation_act17\"]>0.5\n",
    "final.loc[mask1 & mask2,['participation_sat17','participation_act17', 'state']]"
   ]
  },
  {
   "cell_type": "code",
   "execution_count": 85,
   "metadata": {},
   "outputs": [
    {
     "data": {
      "text/html": [
       "<div>\n",
       "<style scoped>\n",
       "    .dataframe tbody tr th:only-of-type {\n",
       "        vertical-align: middle;\n",
       "    }\n",
       "\n",
       "    .dataframe tbody tr th {\n",
       "        vertical-align: top;\n",
       "    }\n",
       "\n",
       "    .dataframe thead th {\n",
       "        text-align: right;\n",
       "    }\n",
       "</style>\n",
       "<table border=\"1\" class=\"dataframe\">\n",
       "  <thead>\n",
       "    <tr style=\"text-align: right;\">\n",
       "      <th></th>\n",
       "      <th>participation_sat18</th>\n",
       "      <th>participation_act18</th>\n",
       "      <th>state</th>\n",
       "    </tr>\n",
       "  </thead>\n",
       "  <tbody>\n",
       "    <tr>\n",
       "      <th>9</th>\n",
       "      <td>0.56</td>\n",
       "      <td>0.66</td>\n",
       "      <td>Florida</td>\n",
       "    </tr>\n",
       "    <tr>\n",
       "      <th>10</th>\n",
       "      <td>0.70</td>\n",
       "      <td>0.53</td>\n",
       "      <td>Georgia</td>\n",
       "    </tr>\n",
       "    <tr>\n",
       "      <th>11</th>\n",
       "      <td>0.56</td>\n",
       "      <td>0.89</td>\n",
       "      <td>Hawaii</td>\n",
       "    </tr>\n",
       "    <tr>\n",
       "      <th>33</th>\n",
       "      <td>0.52</td>\n",
       "      <td>1.00</td>\n",
       "      <td>North Carolina</td>\n",
       "    </tr>\n",
       "    <tr>\n",
       "      <th>40</th>\n",
       "      <td>0.55</td>\n",
       "      <td>1.00</td>\n",
       "      <td>South Carolina</td>\n",
       "    </tr>\n",
       "  </tbody>\n",
       "</table>\n",
       "</div>"
      ],
      "text/plain": [
       "    participation_sat18  participation_act18           state\n",
       "9                  0.56                 0.66         Florida\n",
       "10                 0.70                 0.53         Georgia\n",
       "11                 0.56                 0.89          Hawaii\n",
       "33                 0.52                 1.00  North Carolina\n",
       "40                 0.55                 1.00  South Carolina"
      ]
     },
     "execution_count": 85,
     "metadata": {},
     "output_type": "execute_result"
    }
   ],
   "source": [
    "mask1 = final[\"participation_sat18\"]>0.5\n",
    "mask2 = final[\"participation_act18\"]>0.5\n",
    "final.loc[mask1 & mask2,['participation_sat18','participation_act18', 'state']]"
   ]
  },
  {
   "cell_type": "markdown",
   "metadata": {},
   "source": [
    "<span style=\"color:red\">I think you miss this question</span>"
   ]
  },
  {
   "cell_type": "markdown",
   "metadata": {},
   "source": [
    "Based on what you've just observed, have you identified any states that you're especially interested in? **Make a note of these and state *why* you think they're interesting**."
   ]
  },
  {
   "cell_type": "markdown",
   "metadata": {},
   "source": [
    "It appears North and South Carolina shot up in their participation rates for both exams in 2018. This means that something changed betwwen 2017 and 2018 that positively drove up the participation rates in these high school exams."
   ]
  },
  {
   "cell_type": "markdown",
   "metadata": {},
   "source": [
    "## Visualize the data\n",
    "\n",
    "There's not a magic bullet recommendation for the right number of plots to understand a given dataset, but visualizing your data is *always* a good idea. Not only does it allow you to quickly convey your findings (even if you have a non-technical audience), it will often reveal trends in your data that escaped you when you were looking only at numbers.\n",
    "\n",
    "Some recommendations on plotting:\n",
    "- Plots have titles\n",
    "- Plots have axis labels\n",
    "- Plots have appropriate tick labels\n",
    "- All text is legible in a plot\n",
    "- Plots demonstrate meaningful and valid relationships\n",
    "- Plots are interpreted to aid understanding\n",
    "\n",
    "There is such a thing as too many plots, and there are a *lot* of bad plots. You might make some! (But hopefully not with the guided prompts below)."
   ]
  },
  {
   "cell_type": "markdown",
   "metadata": {},
   "source": [
    "#### Use Seaborn's heatmap with pandas `.corr()` to visualize correlations between all numeric features\n",
    "\n",
    "Heatmaps are generally not appropriate for presentations, and should often be excluded from reports as they can be visually overwhelming. **However**, they can be extremely useful in identify relationships of potential interest (as well as identifying potential collinearity before modeling).\n",
    "\n",
    "*example*:\n",
    "```python\n",
    "sns.heatmap(df.corr())\n",
    "```\n",
    "\n",
    "Please take time to format your output, adding a title. Look through some of the additional arguments and options. (Axis labels aren't really necessary, as long as the title is informative)."
   ]
  },
  {
   "cell_type": "code",
   "execution_count": 86,
   "metadata": {},
   "outputs": [],
   "source": [
    "#getting correlation numbers\n",
    "final_correlation = final.corr()"
   ]
  },
  {
   "cell_type": "markdown",
   "metadata": {},
   "source": [
    "<span style=\"color:red\">need to un-truncate the top and bottom or can use the following code</span>  \n",
    "also added the mask for the heatmap"
   ]
  },
  {
   "cell_type": "code",
   "execution_count": 87,
   "metadata": {},
   "outputs": [
    {
     "data": {
      "text/plain": [
       "(20.5, -0.5)"
      ]
     },
     "execution_count": 87,
     "metadata": {},
     "output_type": "execute_result"
    },
    {
     "data": {
      "image/png": "[encoded data removed]",
      "text/plain": [
       "<Figure size 1080x576 with 2 Axes>"
      ]
     },
     "metadata": {
      "needs_background": "light"
     },
     "output_type": "display_data"
    }
   ],
   "source": [
    "fig, ax = plt.subplots(figsize=(15,8)) #creating figure area\n",
    "ax.set_title('Correlation Heatmap of 2017/2018 ACT and SAT data') #setting title\n",
    "mask = np.zeros_like(final_correlation)\n",
    "mask[np.triu_indices_from(mask)] = True\n",
    "ax = sns.heatmap(final_correlation, annot=True,mask=mask )  #plotting heatmap\n",
    "bottom, top = ax.get_ylim() #add this\n",
    "ax.set_ylim(bottom + 0.5, top - 0.5) #add this"
   ]
  },
  {
   "cell_type": "markdown",
   "metadata": {},
   "source": [
    "#### Define a custom function to subplot histograms\n",
    "\n",
    "We have data for two tests for two years. We only have composite (and not subtest scores) for the 2018 ACT. We should write a function that will take the names of 2+ columns and subplot histograms. While you can use pandas plotting or Seaborn here, matplotlib gives you greater control over all aspects of your plots.\n",
    "\n",
    "[Helpful Link for Plotting Multiple Figures](https://matplotlib.org/users/pyplot_tutorial.html#working-with-multiple-figures-and-axes)\n",
    "\n",
    "Here's some starter code:"
   ]
  },
  {
   "cell_type": "code",
   "execution_count": 88,
   "metadata": {},
   "outputs": [],
   "source": [
    "def subplot_histograms(plotname, dataframe, list_of_columns, list_of_titles, list_of_xlabels):\n",
    "    nrows = int(np.ceil(len(list_of_columns)/2)) # Makes sure you have enough rows\n",
    "    fig, ax = plt.subplots(nrows=nrows, ncols=2, figsize=(12,10)) # specified figsize\n",
    "    fig.suptitle(plotname, fontsize=16)# plot title added\n",
    "    ax = ax.ravel() # Ravel turns a matrix into a vector, which is easier to iterate\n",
    "    for i, column in enumerate(list_of_columns): # Gives us an index value to get into all our lists\n",
    "        ax[i].hist(dataframe[column])\n",
    "        ax[i].set_title(column)  #title for each plot\n",
    "        ax[i].set_xlabel(list_of_xlabels, size = 'large') #xlabel\n",
    "        ax[i].set_ylabel(list_of_titles, size= 'large')  #ylabel"
   ]
  },
  {
   "cell_type": "markdown",
   "metadata": {},
   "source": [
    "#### Plot and interpret histograms \n",
    "For each of the following:\n",
    "- Participation rates for SAT & ACT\n",
    "- Math scores for SAT & ACT\n",
    "- Reading/verbal scores for SAT & ACT"
   ]
  },
  {
   "cell_type": "code",
   "execution_count": 89,
   "metadata": {},
   "outputs": [
    {
     "data": {
      "image/png": "[encoded data removed]",
      "text/plain": [
       "<Figure size 864x720 with 4 Axes>"
      ]
     },
     "metadata": {
      "needs_background": "light"
     },
     "output_type": "display_data"
    }
   ],
   "source": [
    "# Histogram of Participation rates for SAT & ACT\n",
    "subplot_histograms('Participation rates of SAT and ACT',final,\n",
    "                   ['participation_sat17','participation_act17','participation_sat18','participation_act18' ],\n",
    "                   'Number of States', 'Percent')"
   ]
  },
  {
   "cell_type": "markdown",
   "metadata": {},
   "source": [
    "#### Observation and Intepretation of Participation\n",
    "Trends for both years for both exams are similar, so there hasnt been much change in terms of year to year.  \n",
    "However they do seem to be inversely proportional"
   ]
  },
  {
   "cell_type": "markdown",
   "metadata": {},
   "source": [
    "<span style=\"color:red\">need to include math_act18 too</span>"
   ]
  },
  {
   "cell_type": "code",
   "execution_count": 90,
   "metadata": {},
   "outputs": [
    {
     "data": {
      "image/png": "[encoded data removed]",
      "text/plain": [
       "<Figure size 864x720 with 4 Axes>"
      ]
     },
     "metadata": {
      "needs_background": "light"
     },
     "output_type": "display_data"
    }
   ],
   "source": [
    "# Math Scores for SAT & ACT\n",
    "subplot_histograms('Math Scores for SAT & ACT',final,\n",
    "                   ['math_sat17','math_act17','math_sat18', 'math_act18' ],\n",
    "                   'Number of States', 'Score')\n",
    "#we only have composite data for ACT 2018 as such the math score plot for ACT 2018 is absent"
   ]
  },
  {
   "cell_type": "markdown",
   "metadata": {},
   "source": [
    "#### Observation and Intepretation of Math Scores\n",
    "All 3 plots look very similar in terms of shape"
   ]
  },
  {
   "cell_type": "markdown",
   "metadata": {},
   "source": [
    "<span style=\"color:red\">need to include reading_act18 too</span>"
   ]
  },
  {
   "cell_type": "code",
   "execution_count": 91,
   "metadata": {},
   "outputs": [
    {
     "data": {
      "image/png": "[encoded data removed]",
      "text/plain": [
       "<Figure size 864x720 with 4 Axes>"
      ]
     },
     "metadata": {
      "needs_background": "light"
     },
     "output_type": "display_data"
    }
   ],
   "source": [
    "# Reading/verbal scores for SAT & ACT\n",
    "subplot_histograms('Reading/verbal scores for SAT & ACT',final,\n",
    "                   ['evidence_based_reading_and_writing_sat17',\n",
    "                    'reading_act17',\n",
    "                    'evidence_based_reading_and_writing_sat18',\n",
    "                   'reading_act18'],\n",
    "                   'Number of States', 'Score')\n",
    "#we only have composite data for ACT 2018 as such the reading score plot for ACT 2018 is absent"
   ]
  },
  {
   "cell_type": "markdown",
   "metadata": {},
   "source": [
    "#### Observation and Intepretation of Reading and Writing\n",
    "SAT 2018 ERW has some level of improvement from the previous year"
   ]
  },
  {
   "cell_type": "markdown",
   "metadata": {},
   "source": [
    "#### Plot and interpret scatter plots\n",
    "\n",
    "For each of the following:\n",
    "- SAT vs. ACT math scores for 2017\n",
    "- SAT vs. ACT verbal/reading scores for 2017\n",
    "- SAT vs. ACT total/composite scores for 2017\n",
    "- Total scores for SAT 2017 vs. 2018\n",
    "- Composite scores for ACT 2017 vs. 2018\n",
    "\n",
    "Plot the two variables against each other using matplotlib or Seaborn\n",
    "\n",
    "Your plots should show:\n",
    "- Two clearly labeled axes\n",
    "- A proper title\n",
    "- Using colors and symbols that are clear and unmistakable\n",
    "\n",
    "**Feel free to write a custom function, and subplot if you'd like.** Functions save both time and space.\n"
   ]
  },
  {
   "cell_type": "code",
   "execution_count": 92,
   "metadata": {},
   "outputs": [],
   "source": [
    "#function for scatter plot\n",
    "def scatter_plot(plotname, dataframe, x_axis, y_axis, x_label, y_label):\n",
    "    dataf = dataframe[[x_axis, y_axis]]  #creating a dataframe with selected axes\n",
    "    fig = sns.lmplot(x=x_axis, y=y_axis, data = dataf)  #scatter with line of best fit to show correlation\n",
    "    fig.set(xlabel=x_label, ylabel=y_label)  # adding xy labels\n",
    "    ax = plt.gca()\n",
    "    ax.set_title(plotname)  #adding title"
   ]
  },
  {
   "cell_type": "code",
   "execution_count": 93,
   "metadata": {},
   "outputs": [
    {
     "data": {
      "image/png": "[encoded data removed]",
      "text/plain": [
       "<Figure size 360x360 with 1 Axes>"
      ]
     },
     "metadata": {
      "needs_background": "light"
     },
     "output_type": "display_data"
    }
   ],
   "source": [
    "#Math Scores of SAT 2017 vs ACT 2017\n",
    "scatter_plot('Math Scores of SAT 2017 vs ACT 2017 ',\n",
    "             final,\n",
    "             'math_sat17', 'math_act17',\n",
    "             'Math Scores SAT 2017', 'Math Scores ACT 2017')"
   ]
  },
  {
   "cell_type": "markdown",
   "metadata": {},
   "source": [
    "There seems to be trand of inverse proportionality between Math Scores of SAT and ACT 17.  \n",
    "Though not particularly a strong correlation, when inferred from this correlation alone and assuming the same population did same exam, one could say that states who did better in SAT math did worse for ACT math."
   ]
  },
  {
   "cell_type": "markdown",
   "metadata": {},
   "source": [
    "<span style=\"color:red\">it is better to have 1 cell per graph</span>"
   ]
  },
  {
   "cell_type": "code",
   "execution_count": 94,
   "metadata": {},
   "outputs": [
    {
     "data": {
      "image/png": "[encoded data removed]",
      "text/plain": [
       "<Figure size 360x360 with 1 Axes>"
      ]
     },
     "metadata": {
      "needs_background": "light"
     },
     "output_type": "display_data"
    }
   ],
   "source": [
    "#Verbal/Reading Scores of SAT 2017 vs ACT 2017\n",
    "scatter_plot('Verbal/Reading Scores of SAT 2017 vs ACT 2017',\n",
    "             final,\n",
    "             'evidence_based_reading_and_writing_sat17', 'reading_act17',\n",
    "             'Evidence Based Reading and Writing Scores SAT 2017', 'Reading Scores SAT 2017')"
   ]
  },
  {
   "cell_type": "markdown",
   "metadata": {},
   "source": [
    "The same could be said of Verbal/Reading Scores of SAT 17 and ACT 17, that theyre inversely proportional and that given the same assumption, one states that do well in one exam will do badly for the other.  "
   ]
  },
  {
   "cell_type": "code",
   "execution_count": 95,
   "metadata": {},
   "outputs": [
    {
     "data": {
      "image/png": "[encoded data removed]",
      "text/plain": [
       "<Figure size 360x360 with 1 Axes>"
      ]
     },
     "metadata": {
      "needs_background": "light"
     },
     "output_type": "display_data"
    }
   ],
   "source": [
    "#Total and Composite Scores of SAT 2017 vs ACT 2017\n",
    "scatter_plot('Total and Composite Scores of SAT 2017 vs ACT 2017',\n",
    "             final,\n",
    "             'total_sat17', 'composite_act17',\n",
    "             'Total Scores SAT 2017', 'Composite Scores ACT 2017')"
   ]
  },
  {
   "cell_type": "markdown",
   "metadata": {},
   "source": [
    "Again, the same can be said for Total and Composite scores of SAT 17 and ACT 17"
   ]
  },
  {
   "cell_type": "code",
   "execution_count": 96,
   "metadata": {},
   "outputs": [
    {
     "data": {
      "image/png": "[encoded data removed]",
      "text/plain": [
       "<Figure size 360x360 with 1 Axes>"
      ]
     },
     "metadata": {
      "needs_background": "light"
     },
     "output_type": "display_data"
    }
   ],
   "source": [
    "#Total Scores of SAT 2017 vs SAT 2018\n",
    "scatter_plot('Total Scores of SAT 2017 vs SAT 2018',\n",
    "             final,\n",
    "             'total_sat17', 'total_sat18',\n",
    "             'Total Scores SAT 2017', 'Total Scores SAT 2018')\n"
   ]
  },
  {
   "cell_type": "code",
   "execution_count": 97,
   "metadata": {},
   "outputs": [
    {
     "data": {
      "image/png": "[encoded data removed]",
      "text/plain": [
       "<Figure size 360x360 with 1 Axes>"
      ]
     },
     "metadata": {
      "needs_background": "light"
     },
     "output_type": "display_data"
    }
   ],
   "source": [
    "#Composite Scores of ACT 2017 vs ACT 2018\n",
    "scatter_plot('Composite Scores of ACT 2017 vs ACT 2018',\n",
    "             final,\n",
    "             'composite_act17', 'composite_act18',\n",
    "             'Composite Scores ACT 2017', 'Composite Scores ACT 2018')"
   ]
  },
  {
   "cell_type": "markdown",
   "metadata": {},
   "source": [
    "The data points are all cluster near the line of best fit. This shows a direct proportionality between the two scores.  \n",
    "What can be infered is that states that did well, will continue to do well in the next year for both SAT and ACT."
   ]
  },
  {
   "cell_type": "markdown",
   "metadata": {},
   "source": [
    "### Plot and interpret boxplots\n",
    "\n",
    "For each numeric variable in the dataframe create a boxplot using Seaborn. Boxplots demonstrate central tendency and spread in variables. In a certain sense, these are somewhat redundant with histograms, but you may be better able to identify clear outliers or differences in IQR, etc.\n",
    "\n",
    "Multiple values can be plotted to a single boxplot as long as they are of the same relative scale (meaning they have similar min/max values).\n",
    "\n",
    "Each boxplot should:\n",
    "- Only include variables of a similar scale\n",
    "- Have clear labels for each variable\n",
    "- Have appropriate titles and labels"
   ]
  },
  {
   "cell_type": "code",
   "execution_count": 98,
   "metadata": {},
   "outputs": [
    {
     "ename": "NameError",
     "evalue": "name 'total_xticks' is not defined",
     "output_type": "error",
     "traceback": [
      "\u001b[1;31m---------------------------------------------------------------------------\u001b[0m",
      "\u001b[1;31mNameError\u001b[0m                                 Traceback (most recent call last)",
      "\u001b[1;32m<ipython-input-98-30cfc1b7097a>\u001b[0m in \u001b[0;36m<module>\u001b[1;34m\u001b[0m\n\u001b[0;32m     35\u001b[0m \u001b[0mbxplt_3\u001b[0m \u001b[1;33m=\u001b[0m \u001b[0msns\u001b[0m\u001b[1;33m.\u001b[0m\u001b[0mboxplot\u001b[0m\u001b[1;33m(\u001b[0m\u001b[0mdata\u001b[0m\u001b[1;33m=\u001b[0m\u001b[0mdata_sat_total\u001b[0m\u001b[1;33m,\u001b[0m  \u001b[0max\u001b[0m\u001b[1;33m=\u001b[0m\u001b[0maxes\u001b[0m\u001b[1;33m[\u001b[0m\u001b[1;36m1\u001b[0m\u001b[1;33m]\u001b[0m\u001b[1;33m[\u001b[0m\u001b[1;36m0\u001b[0m\u001b[1;33m]\u001b[0m\u001b[1;33m)\u001b[0m  \u001b[1;31m#create boxplot\u001b[0m\u001b[1;33m\u001b[0m\u001b[1;33m\u001b[0m\u001b[0m\n\u001b[0;32m     36\u001b[0m \u001b[0mbxplt_3\u001b[0m\u001b[1;33m.\u001b[0m\u001b[0mset\u001b[0m\u001b[1;33m(\u001b[0m\u001b[0mylabel\u001b[0m\u001b[1;33m=\u001b[0m\u001b[1;34m'Score'\u001b[0m\u001b[1;33m)\u001b[0m  \u001b[1;31m#set y label\u001b[0m\u001b[1;33m\u001b[0m\u001b[1;33m\u001b[0m\u001b[0m\n\u001b[1;32m---> 37\u001b[1;33m \u001b[0mbxplt_3\u001b[0m\u001b[1;33m.\u001b[0m\u001b[0mset_xticklabels\u001b[0m\u001b[1;33m(\u001b[0m\u001b[0mtotal_xticks\u001b[0m\u001b[1;33m,\u001b[0m \u001b[0mrotation\u001b[0m \u001b[1;33m=\u001b[0m \u001b[1;36m30\u001b[0m\u001b[1;33m)\u001b[0m  \u001b[1;31m#set xticks\u001b[0m\u001b[1;33m\u001b[0m\u001b[1;33m\u001b[0m\u001b[0m\n\u001b[0m\u001b[0;32m     38\u001b[0m \u001b[0mbxplt_3\u001b[0m\u001b[1;33m.\u001b[0m\u001b[0mset_title\u001b[0m\u001b[1;33m(\u001b[0m\u001b[1;34m'Total Score between of SAT2017 & SAT 2018'\u001b[0m\u001b[1;33m)\u001b[0m\u001b[1;33m;\u001b[0m  \u001b[1;31m#set title\u001b[0m\u001b[1;33m\u001b[0m\u001b[1;33m\u001b[0m\u001b[0m\n\u001b[0;32m     39\u001b[0m \u001b[1;33m\u001b[0m\u001b[0m\n",
      "\u001b[1;31mNameError\u001b[0m: name 'total_xticks' is not defined"
     ]
    },
    {
     "data": {
      "image/png": "[encoded data removed]",
      "text/plain": [
       "<Figure size 1080x1080 with 4 Axes>"
      ]
     },
     "metadata": {
      "needs_background": "light"
     },
     "output_type": "display_data"
    }
   ],
   "source": [
    "fig, axes = plt.subplots(2,2, figsize=(15,15)) # combining all boxplots together into 1 figure\n",
    "plt.subplots_adjust(hspace = 0.5)  #adjusting the space between plots\n",
    "\n",
    "            #separating the dataframe into smaller dataframes with similar comparable data\n",
    "    \n",
    "data_act = final[['english_act17','english_act18','math_act17','math_act18','reading_act17',\n",
    "                  'reading_act18','science_act17','science_act18', 'composite_act17', 'composite_act18']]\n",
    "data_sat = final[['evidence_based_reading_and_writing_sat17',\n",
    "                  'evidence_based_reading_and_writing_sat18',\n",
    "                  'math_sat17','math_sat18']]\n",
    "data_sat_total = final[['total_sat17','total_sat18']]\n",
    "data_percent = final[['participation_sat17','participation_sat18',\n",
    "                      'participation_act17', 'participation_act18']]\n",
    "\n",
    "            #SAT 2017 & SAT 2018 Subject Scores\n",
    "act_xticks = ['English 2017','Math 2017','Reading 2017','Science 2017', 'Composite 2017', 'Composite 2018']\n",
    "bxplt_1 = sns.boxplot(data=data_act, ax=axes[0][0])  #create boxplot\n",
    "bxplt_1.set(ylabel='Score')  #set y label\n",
    "bxplt_1.set_xticklabels(act_xticks, rotation = 30);  #set xticks\n",
    "bxplt_1.set_title('ACT 2017 & ACT 2018 Subject Scores');  #set title\n",
    "\n",
    "            #SAT 2017 & SAT 2018 Subject Scores\n",
    "\n",
    "#Assigning x ticks to each boxplot\n",
    "sat_xticks = ['Evidence Based\\n Reading and\\n Writing 2017','Evidence Based\\n Reading and\\n Writing 2017', 'Math 2017', 'Math 2018']\n",
    "bxplt_2 = sns.boxplot(data=data_sat,  ax=axes[0][1])  #create boxplot\n",
    "bxplt_2.set(ylabel='Score')  #set y label\n",
    "bxplt_2.set_xticklabels(sat_xticks, rotation = 30)  #set xticks\n",
    "bxplt_2.set_title('SAT 2017 & SAT 2018 Subject Scores');  #set title\n",
    "\n",
    "            #Total Score between of SAT2017 & SAT 2018\n",
    "\n",
    "#Assigning x ticks to each boxplot\n",
    "\n",
    "bxplt_3 = sns.boxplot(data=data_sat_total,  ax=axes[1][0])  #create boxplot\n",
    "bxplt_3.set(ylabel='Score')  #set y label\n",
    "bxplt_3.set_xticklabels(total_xticks, rotation = 30)  #set xticks\n",
    "bxplt_3.set_title('Total Score between of SAT2017 & SAT 2018');  #set title\n",
    "\n",
    "            #Particpation of SAT & ACT 2017/18\n",
    "\n",
    "#Assigning x ticks to each boxplot\n",
    "part_xticks = ['Particpation\\n SAT 2017', 'Particpation\\n SAT 2018', 'Particpation\\n ACT 2017', 'Particpation\\n ACT 2018']\n",
    "bxplt_4 = sns.boxplot(data=data_percent,  ax=axes[1][1])  #create boxplot\n",
    "bxplt_4.set(ylabel='Participation Percentage')  #set y label\n",
    "bxplt_4.set_xticklabels(part_xticks, rotation = 30)  #set xticks\n",
    "bxplt_4.set_title('Particpation of SAT & ACT 2017/18');  #set title"
   ]
  },
  {
   "cell_type": "markdown",
   "metadata": {},
   "source": [
    "#### ACT 2017 & ACT 2018 Subject Scores :\n",
    "\n",
    "\n",
    "From the plots was can see a large IQR for English 2017.  \n",
    "The medians are relatively similar with the exception of Reading 2017.  \n",
    "Composoite scores are pretty much the same for both years."
   ]
  },
  {
   "cell_type": "markdown",
   "metadata": {},
   "source": [
    "#### SAT 2017 & SAT 2018 Subject Scores:\n",
    "\n",
    "\n",
    "The medians for SAT scores seem to have dropped a little for both subjects over the year.  \n",
    "IQR and spread seems to be very similar for ERW but has shifted up for Math from 2017 to 2018."
   ]
  },
  {
   "cell_type": "markdown",
   "metadata": {},
   "source": [
    "#### Total Score between of SAT2017 & SAT 2018:\n",
    "\n",
    "\n",
    "IQR and median seems to have dropped in 2018 and seeing from the previous plot, it could be very well due to to the math scores in 2018."
   ]
  },
  {
   "cell_type": "markdown",
   "metadata": {},
   "source": [
    "#### Particpation of SAT & ACT 2017/18:\n",
    "\n",
    "Participation rates improved over the year for SAT and a slight deprovement for ACT.  \n",
    "However, ACT participation can be seen to clearly trump SAT participation"
   ]
  },
  {
   "cell_type": "markdown",
   "metadata": {},
   "source": [
    "### Feel free to do additional plots below\n",
    "*(do research and choose your own chart types & variables)*\n",
    "\n",
    "Are there any additional trends or relationships you haven't explored? Was there something interesting you saw that you'd like to dive further into? It's likely that there are a few more plots you might want to generate to support your narrative and recommendations that you are building toward. **As always, make sure you're interpreting your plots as you go**."
   ]
  },
  {
   "cell_type": "code",
   "execution_count": null,
   "metadata": {},
   "outputs": [],
   "source": [
    "#plotting scatter plot of SAT vs ACT in 2017\n",
    "scatter_plot('Participation SAT vs ACT 2017',\n",
    "             final,\n",
    "             'participation_sat17', 'participation_act17',\n",
    "             'Participation SAT 2017', 'Participation ACT 2017')"
   ]
  },
  {
   "cell_type": "code",
   "execution_count": null,
   "metadata": {},
   "outputs": [],
   "source": [
    "#plotting scatter plot of SAT vs ACT in 2017\n",
    "scatter_plot('Participation SAT vs Total Score 2017',\n",
    "             final,\n",
    "             'participation_sat17', 'total_sat17',\n",
    "             'Participation SAT 2017', 'Total Score 2017')"
   ]
  },
  {
   "cell_type": "code",
   "execution_count": null,
   "metadata": {},
   "outputs": [],
   "source": [
    "#plotting scatter plot of SAT vs ACT in 2017\n",
    "scatter_plot('Participation ACT vs Composite Score 2017',\n",
    "             final,\n",
    "             'participation_act17', 'composite_act17',\n",
    "             'Participation ACT 2017', 'Composite Score 2017')"
   ]
  },
  {
   "cell_type": "markdown",
   "metadata": {},
   "source": [
    "#### Participation SAT vs ACT 2017\n",
    "\n",
    "Its very clear that the participation for ACT and SAT are inversely proportional.  \n",
    "It can be deduced that a state that does not do one, does the other."
   ]
  },
  {
   "cell_type": "markdown",
   "metadata": {},
   "source": [
    "SAT and ACT vs Total/Composite Scores\n",
    "\n",
    "As can be seen states with higher participation rates in ACT, their Composite scores are in the lower spectrum  \n",
    "\n",
    "As for SAT, states with low participation, a large number of them scored the highest in Total Score"
   ]
  },
  {
   "cell_type": "markdown",
   "metadata": {},
   "source": [
    "#### (Optional): Using Tableau, create a choropleth map for each variable using a map of the US. \n",
    "\n",
    "Save this plot as an image file in an images directory, provide a relative path, and insert the image into notebook in markdown."
   ]
  },
  {
   "cell_type": "code",
   "execution_count": null,
   "metadata": {},
   "outputs": [],
   "source": []
  },
  {
   "cell_type": "markdown",
   "metadata": {},
   "source": [
    "## Descriptive and Inferential Statistics"
   ]
  },
  {
   "cell_type": "markdown",
   "metadata": {},
   "source": [
    "#### Summarizing Distributions\n",
    "\n",
    "Above, we used pandas `describe` to provide quick summary statistics of our numeric columns. We also demonstrated many visual relationships.\n",
    "\n",
    "As data scientists, having a complete understanding of data is imperative prior to modeling.\n",
    "\n",
    "While we will continue to build our analytic tools, we know that measures of *central tendency*, *spread*, and *shape/skewness* provide a quick summary of distributions.\n",
    "\n",
    "For each variable in your data, summarize the underlying distributions (in words & statistics)\n",
    " - Be thorough in your verbal description of these distributions.\n",
    " - Be sure to back up these summaries with statistics."
   ]
  },
  {
   "cell_type": "code",
   "execution_count": null,
   "metadata": {},
   "outputs": [],
   "source": [
    "#creating a list of columns minus state as it is a string value\n",
    "ch_list = final.columns.tolist()\n",
    "ch_list = ch_list[1:]"
   ]
  },
  {
   "cell_type": "code",
   "execution_count": null,
   "metadata": {},
   "outputs": [],
   "source": [
    "#creating histograms for all data to show distribution\n",
    "def subplot_dist(plotname,dataframe, list_of_columns, list_of_titles, list_of_xlabels):\n",
    "    nrows = int(np.ceil(len(list_of_columns)/2)) # Makes sure you have enough rows\n",
    "    fig, ax = plt.subplots(nrows=nrows, ncols=2, figsize=(16,30)) # specified figsize\n",
    "    plt.subplots_adjust(top = 0.95, hspace = 0.5)\n",
    "    fig.suptitle(plotname, fontsize=16)# plot title added\n",
    "    ax = ax.ravel() # Ravel turns a matrix into a vector, which is easier to iterate\n",
    "    for i, column in enumerate(list_of_columns): # Gives us an index value to get into all our lists\n",
    "        ax[i].hist(dataframe[column])\n",
    "        ax[i].set_title(column)  #title for each plot\n",
    "        ax[i].set_xlabel(list_of_xlabels, size = 'large') #xlabel\n",
    "        ax[i].set_ylabel(list_of_titles, size= 'large')  #ylabel"
   ]
  },
  {
   "cell_type": "code",
   "execution_count": null,
   "metadata": {
    "scrolled": false
   },
   "outputs": [],
   "source": [
    "subplot_dist('Distributions', final, ch_list, '', 'Score');\n"
   ]
  },
  {
   "cell_type": "markdown",
   "metadata": {},
   "source": [
    "<span style=\"color:red\">SAT skew to the right, ACT skew to the left<br>\n",
    "This would likely mean that the students generally fall into 2 groups: the stronger students & the weaker students<br>\n",
    "https://a8h2w5y7.rocketcdn.me/wp-content/uploads/2014/02/pearson-mode-skewness.jpg\n",
    "</span>"
   ]
  },
  {
   "cell_type": "markdown",
   "metadata": {},
   "source": [
    "The distributions of each column in the data set can be represented in histograms. Which we previously did for a few for the sake of comparison.\n",
    "\n",
    "Above are all the histograms for the particpation rate and scores of each subject for both tests.  \n",
    "As can be seen, Participation for SAT are very skewed to the right and ACT is skewed to the left. \n",
    "\n",
    "\n",
    "For each subject, their spreads are very similar to each other and so are their shapes.\n",
    "Generally speaking, all the subjects have two peaks with the higher peak being on the lower spectrum.  \n",
    "Median values being around 21 for ACT and 550 for SATs so with respect to their spreads, with the mean being slightly higher, they're slightly skewed to the right\n",
    "\n",
    "\n",
    "However it is difficult to say if it is normally distributed when there are only 51 pieces of data.  \n"
   ]
  },
  {
   "cell_type": "code",
   "execution_count": null,
   "metadata": {},
   "outputs": [],
   "source": [
    "#getting th median values\n",
    "final.agg(np.median)"
   ]
  },
  {
   "cell_type": "markdown",
   "metadata": {},
   "source": [
    "\n",
    "#### Distributions in the data\n",
    "\n",
    "In this dataset, each data represents a sample from a population.                        \n",
    "For example, for ACT math test:\n",
    "- Population: the test results of all the students who take this test, nation-wide.\n",
    "- Population mean: is the national average of ACT math test (total scores/total no. of test takers) \n",
    "- Sample: the state means of ACT math test. We have 51 samples (51 states)\n",
    "\n",
    "***According to CLT, we generally assuming that data we sample from a population will be normally distributed. Do we observe this trend?***"
   ]
  },
  {
   "cell_type": "markdown",
   "metadata": {},
   "source": [
    "Answer: We do observe this trend in the subjects but not in the participation rates."
   ]
  },
  {
   "cell_type": "markdown",
   "metadata": {},
   "source": [
    "Does This Assumption Hold for:\n",
    "    - Math\n",
    "    - Reading\n",
    "    - Rates\n",
    "Explain your answers for each distribution and how you think this will affect estimates made from these data."
   ]
  },
  {
   "cell_type": "markdown",
   "metadata": {},
   "source": [
    "Answer:  \n",
    "Yes for both Math and Reading as they are tests done by the population.\n",
    "As for rate. This could be regulated and therfore holds a level of bias/restriction that affects the data.\n",
    "Unless each state and each student has equal opportunity to choose between either exam, then the normal distribution would hold true."
   ]
  },
  {
   "cell_type": "markdown",
   "metadata": {},
   "source": [
    "#### Estimate Limits of Data\n",
    "\n",
    "Suppose we only seek to understand the relationship between SAT and ACT participation rates in 2017. \n",
    "\n",
    "##### Does it make sense to conduct statistical inference given these data specifically? \n",
    "\n",
    "Why or why not?\n",
    "\n",
    "*(think about granularity, aggregation, the relationships between populations size & rates...consider the actually populations these data describe in answering this question)*"
   ]
  },
  {
   "cell_type": "markdown",
   "metadata": {},
   "source": [
    "Answer:  \n",
    "Unfortunately no, as there are a lot of variables involved in the fairness of the \"experiment\". \n",
    "The granularity (aka resolution) is too poor with only 51 sets of data to make a definitive statement.\n",
    "Different states have different population sizes, the exams may be structured very differently for btoh exams in comparison to the education given in that state.  \n",
    "Different participation rates would be giving an even more varied sample size for each state.  \n",
    "Governance and regulation also plays a role in the participation rates and education system."
   ]
  },
  {
   "cell_type": "markdown",
   "metadata": {},
   "source": [
    "##### Is it appropriate to compare *these* specific SAT and ACT math scores  - can we say students with higher SAT math score is better than those with lower ACT math score, or vice versa?\n",
    "\n",
    "Why or why not?"
   ]
  },
  {
   "cell_type": "markdown",
   "metadata": {},
   "source": [
    "<span style=\"color:red\">Additional info No. The SAT & ACT math scores are scored on very different scales (SAT over 200-800, ACT over 1-36).<br>\n"
   ]
  },
  {
   "cell_type": "markdown",
   "metadata": {},
   "source": [
    "Answer:  \n",
    "No, they may have different parameters of ascertaining mathematical ability and different states may have different education systems tailored to a specific exam. Both exams are also on very different scales."
   ]
  },
  {
   "cell_type": "markdown",
   "metadata": {},
   "source": [
    "#### Statistical Evaluation of Distributions \n",
    "\n",
    "**If you feel it's appropriate**, using methods we discussed in class, run hypothesis tests to compare variables of interest in our dataset. "
   ]
  },
  {
   "cell_type": "code",
   "execution_count": null,
   "metadata": {},
   "outputs": [],
   "source": [
    "# Code:"
   ]
  },
  {
   "cell_type": "markdown",
   "metadata": {},
   "source": [
    "## Outside Research"
   ]
  },
  {
   "cell_type": "markdown",
   "metadata": {},
   "source": [
    "Based upon your observations, choose **three** states that demonstrate interesting trends in their SAT and/or ACT participation rates. Spend some time doing outside research on state policies that might influence these rates, and summarize your findings below. **Feel free to go back and create new plots that highlight these states of interest**. If you bring in any outside tables or charts, make sure you are explicit about having borrowed them. If you quote any text, make sure that it renders as being quoted. (Make sure that you cite your sources -- check with you local instructor for citation preferences)."
   ]
  },
  {
   "cell_type": "markdown",
   "metadata": {},
   "source": [
    "<span style=\"color:red\">need to label the x-axis which is the state</span>.\n"
   ]
  },
  {
   "cell_type": "code",
   "execution_count": null,
   "metadata": {},
   "outputs": [],
   "source": [
    "abc = final[['state','participation_sat17', 'participation_act17']]\n",
    "abc.set_index('state',inplace=True)\n",
    "abc.plot(kind='bar', figsize=(16,5), title = '2017 Exam Particpation');"
   ]
  },
  {
   "cell_type": "code",
   "execution_count": null,
   "metadata": {},
   "outputs": [],
   "source": [
    "#Extracting just participation rates\n",
    "part_17_states = final[['state','participation_sat17', 'participation_act17']]\n",
    "part_17_states.set_index('state',inplace=True)\n",
    "part_18_states = final[['state','participation_sat18', 'participation_act18']]\n",
    "part_18_states.set_index('state',inplace=True)"
   ]
  },
  {
   "cell_type": "code",
   "execution_count": null,
   "metadata": {},
   "outputs": [],
   "source": [
    "part_17_states.head()"
   ]
  },
  {
   "cell_type": "code",
   "execution_count": null,
   "metadata": {},
   "outputs": [],
   "source": [
    "#plotting a barchart for each state's participation rate for both exams\n",
    "part_17_states.plot(kind='bar', figsize=(16,5), title = '2017 Exam Particpation')\n",
    "\n",
    "part_18_states.plot(kind='bar', figsize=(16,5), title = '2018 Exam Particpation');"
   ]
  },
  {
   "cell_type": "code",
   "execution_count": null,
   "metadata": {},
   "outputs": [],
   "source": [
    "final['state'].iloc[[0,9,19]]\n",
    "#Alabama, Florida and Maine"
   ]
  },
  {
   "cell_type": "code",
   "execution_count": null,
   "metadata": {},
   "outputs": [],
   "source": [
    "#plotting histogram of 2017 participation for the 3 states\n",
    "row1 = final.loc[(final['state'] == 'Alabama') | (final['state'] == 'Florida') | (final['state'] == 'Maine') ]\n",
    "row1= row1[['state','participation_sat17', 'participation_sat18', 'participation_act17', 'participation_act18']]\n",
    "row1 = row1.set_index('state')"
   ]
  },
  {
   "cell_type": "code",
   "execution_count": null,
   "metadata": {},
   "outputs": [],
   "source": [
    "bar = row1.plot(kind='bar', figsize=(6,6), title= 'SAT and ACT 2017 Participation')\n",
    "bar.set_ylabel(ylabel='Percentage')\n",
    "bar.set_xlabel(xlabel='');"
   ]
  },
  {
   "cell_type": "code",
   "execution_count": null,
   "metadata": {},
   "outputs": [],
   "source": [
    "#getting the participation rates for the 3 states in both years and exams\n",
    "Alabama_sat = final.loc[0,'participation_sat17']\n",
    "Alabama_act = final.loc[0,'participation_act17']\n",
    "Florida_sat = final.loc[9,'participation_sat17']\n",
    "Florida_act = final.loc[9,'participation_act17']\n",
    "Maine_sat = final.loc[19,'participation_sat17']\n",
    "Maine_act = final.loc[19,'participation_act17']\n",
    "\n",
    "print(\"Alabama Participation rate for SAT is\", Alabama_sat, \"and ACT is\", Alabama_act)\n",
    "print(\"Florida Participation rate for SAT is\", Florida_sat, \"and ACT is\", Florida_act)\n",
    "print(\"Maine Participation rate for SAT is\", Maine_sat, \"and ACT is\", Maine_act)"
   ]
  },
  {
   "cell_type": "markdown",
   "metadata": {},
   "source": [
    "So we can see here that for Alabama and Maine, participation rates for the two exams are inversely poportional  \n",
    "and for Florida, we have relatively high participation rates for both, meaning that some students are taking both exams.  \n",
    "For Alabama, it is a requirement for High Schools to take ACT.  \n",
    "The same goes for Maine but for SAT.  \n",
    "For Florida however, they are required to achieve a specified score for either. Which makes sense for them to take both, as one could choose the exam results of the better one."
   ]
  },
  {
   "cell_type": "markdown",
   "metadata": {},
   "source": [
    "## Conclusions and Recommendations"
   ]
  },
  {
   "cell_type": "markdown",
   "metadata": {},
   "source": [
    "Based on your exploration of the data, what are you key takeaways and recommendations? Choose one state with a lower participation rate and provide a suggestion for how the College Board might increase participation amongst graduating seniors in this state. Are there additional data you desire that would better inform your investigations?"
   ]
  },
  {
   "cell_type": "markdown",
   "metadata": {},
   "source": [
    "Alabama, could do the same as Florida and provide a platform to take either exam, to boost SAT participation rates.  Subsidies and education geared towards SATs would boost participation rates of those states such as Alabama.\n",
    "Strictly speaking the only difference ACTs have against SATs is just a science component, otherwise they're very very similar in nature, such as duration and cost. Therefore this needs to be highlighted to the public.  \n",
    "The changes between the old and new SATs and its format need to be clarified as well.\n",
    "\n",
    "Additional data such as college admission rates and percentage of those with scholarships. Also grades of college students who took ACTs than SATs in high school to see if the science component plays a big role in the admissions. \n",
    "Tuition costs and materials for each exam should be known as well.\n",
    "Such information would aid in this conditional investigation."
   ]
  },
  {
   "cell_type": "code",
   "execution_count": null,
   "metadata": {},
   "outputs": [],
   "source": []
  },
  {
   "cell_type": "markdown",
   "metadata": {},
   "source": [
    "### Citations and Resources\n",
    "\n",
    "Glum, J. (2016, June 2). Why The New SAT Format Could Mean The Famous College Exam Is Dying. Retrieved from https://www.ibtimes.com/why-new-sat-format-could-mean-famous-college-exam-dying-2376741\n",
    "\n",
    "\n",
    "Pittman, O. (2019, December 5). Do Colleges Prefer the ACT or SAT? - College Raptor. Retrieved from https://www.collegeraptor.com/getting-in/articles/act-sat/act-vs-sat-which-college-entrance-exam-is-more-popular/\n",
    "\n",
    "\n",
    "Hanson, B. (2016, March 2). I know that ACT is becoming more popular than SAT, but then why are SAT prep apps much more popular? - Quora. Retrieved from https://www.quora.com/I-know-that-ACT-is-becoming-more-popular-than-SAT-but-then-why-are-SAT-prep-apps-much-more-popular"
   ]
  }
 ],
 "metadata": {
  "anaconda-cloud": {},
  "kernelspec": {
   "display_name": "Python 3",
   "language": "python",
   "name": "python3"
  },
  "language_info": {
   "codemirror_mode": {
    "name": "ipython",
    "version": 3
   },
   "file_extension": ".py",
   "mimetype": "text/x-python",
   "name": "python",
   "nbconvert_exporter": "python",
   "pygments_lexer": "ipython3",
   "version": "3.7.6"
  },
  "varInspector": {
   "cols": {
    "lenName": 16,
    "lenType": 16,
    "lenVar": 40
   },
   "kernels_config": {
    "python": {
     "delete_cmd_postfix": "",
     "delete_cmd_prefix": "del ",
     "library": "var_list.py",
     "varRefreshCmd": "print(var_dic_list())"
    },
    "r": {
     "delete_cmd_postfix": ") ",
     "delete_cmd_prefix": "rm(",
     "library": "var_list.r",
     "varRefreshCmd": "cat(var_dic_list()) "
    }
   },
   "types_to_exclude": [
    "module",
    "function",
    "builtin_function_or_method",
    "instance",
    "_Feature"
   ],
   "window_display": false
  }
 },
 "nbformat": 4,
 "nbformat_minor": 2
}
