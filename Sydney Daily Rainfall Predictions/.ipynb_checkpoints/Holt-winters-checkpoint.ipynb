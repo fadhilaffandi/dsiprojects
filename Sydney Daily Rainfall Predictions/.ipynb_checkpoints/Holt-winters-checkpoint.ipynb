{
 "cells": [
  {
   "cell_type": "code",
   "execution_count": null,
   "metadata": {},
   "outputs": [],
   "source": [
    "## Holt-Winters\n",
    "\n",
    "Holt-Winters utilises exponential smoothing to encode values from the past and use them to predict “typical” values for the present and future. It requires value, trend and seasonality. Where the trend can either be multiplicative or additive. Multiplicative would be utilised when our data has an exponential trend whereas additive is used when its linear. For our case, our data trend seems to be linear and seasonality being weekly.\n",
    "\n",
    "Seasonal periods in the Holt-Winter's method is 7 for weekly cycles.\n",
    "\n",
    "(source:https://www.analyticsvidhya.com/blog/2018/02/time-series-forecasting-methods/)\n",
    "\n",
    "y_hat_avg = testd.copy()\n",
    "fit1 = ExponentialSmoothing(np.asarray(traind['Rainfall']) ,seasonal_periods=52 ,trend='add', seasonal='add',).fit()\n",
    "y_hat_avg['Holt_Winter'] = fit1.forecast(len(testd))\n",
    "plt.figure(figsize=(16,8))\n",
    "plt.plot(traind['Rainfall'], label='Train')\n",
    "plt.plot(testd['Rainfall'], label='Test')\n",
    "plt.plot(y_hat_avg['Holt_Winter'], label='Holt_Winter')\n",
    "plt.legend(loc='best')\n",
    "plt.show()\n",
    "\n",
    "mean_squared_error(testd['Rainfall'], y_hat_avg['Holt_Winter'])\n",
    "\n",
    "\n",
    "Holt-Winter's did do better than our SARIMA with a lower MSE score. However the oscilation in the predictions does not seem to accurately follow the actual observations."
   ]
  }
 ],
 "metadata": {
  "kernelspec": {
   "display_name": "Python 3",
   "language": "python",
   "name": "python3"
  },
  "language_info": {
   "codemirror_mode": {
    "name": "ipython",
    "version": 3
   },
   "file_extension": ".py",
   "mimetype": "text/x-python",
   "name": "python",
   "nbconvert_exporter": "python",
   "pygments_lexer": "ipython3",
   "version": "3.7.6"
  }
 },
 "nbformat": 4,
 "nbformat_minor": 4
}
